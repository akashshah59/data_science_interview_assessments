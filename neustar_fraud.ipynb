{
 "cells": [
  {
   "cell_type": "markdown",
   "id": "c98762d2-d037-4085-9a92-63be656f4b67",
   "metadata": {},
   "source": [
    "# Neustar Real-Time Fraud detection\n",
    "\n",
    "Detecting credit card fraud by user website activity (since credit limit is given as a feature). The goal is to detect fraudulent activity based on the the users location and browser activity. The data is such that a particular user can be performing fraudulent activity on one instance, and may not be performing fraudulent activity on another. \n",
    "From the data structure, the goal seems to be to identify the fraudulent activity real-time, based on the history of site_activity, and current site activity. "
   ]
  },
  {
   "cell_type": "code",
   "execution_count": 2,
   "id": "36432b46-9f76-460e-aac6-da1de5de66ec",
   "metadata": {},
   "outputs": [],
   "source": [
    "import pandas as pd\n",
    "import numpy as np\n",
    "import matplotlib.pyplot as plt \n",
    "from time import time"
   ]
  },
  {
   "cell_type": "code",
   "execution_count": 3,
   "id": "1e54f31b-c32a-430d-bf36-0ab485e18262",
   "metadata": {},
   "outputs": [],
   "source": [
    "df = pd.read_csv('neustar_ds_test_2022.csv')"
   ]
  },
  {
   "cell_type": "code",
   "execution_count": 4,
   "id": "0ffc0b26-0c83-466a-8dd9-b1e7a6d67e66",
   "metadata": {},
   "outputs": [
    {
     "data": {
      "text/plain": [
       "(1000000, 11)"
      ]
     },
     "execution_count": 4,
     "metadata": {},
     "output_type": "execute_result"
    }
   ],
   "source": [
    "df.shape"
   ]
  },
  {
   "cell_type": "code",
   "execution_count": 5,
   "id": "21b07992-2766-4017-836a-6e13995b5222",
   "metadata": {},
   "outputs": [
    {
     "data": {
      "text/html": [
       "<div>\n",
       "<style scoped>\n",
       "    .dataframe tbody tr th:only-of-type {\n",
       "        vertical-align: middle;\n",
       "    }\n",
       "\n",
       "    .dataframe tbody tr th {\n",
       "        vertical-align: top;\n",
       "    }\n",
       "\n",
       "    .dataframe thead th {\n",
       "        text-align: right;\n",
       "    }\n",
       "</style>\n",
       "<table border=\"1\" class=\"dataframe\">\n",
       "  <thead>\n",
       "    <tr style=\"text-align: right;\">\n",
       "      <th></th>\n",
       "      <th>name</th>\n",
       "      <th>email</th>\n",
       "      <th>state</th>\n",
       "      <th>timestamp</th>\n",
       "      <th>geo_distance</th>\n",
       "      <th>cookie_activity_days</th>\n",
       "      <th>site_visits_A</th>\n",
       "      <th>site_visits_B</th>\n",
       "      <th>site_visits_C</th>\n",
       "      <th>credit_limit</th>\n",
       "      <th>is_fraud</th>\n",
       "    </tr>\n",
       "  </thead>\n",
       "  <tbody>\n",
       "    <tr>\n",
       "      <th>0</th>\n",
       "      <td>John Anderson</td>\n",
       "      <td>robert26@graham.com</td>\n",
       "      <td>IN</td>\n",
       "      <td>2021-06-01 05:00:00.3401</td>\n",
       "      <td>338.071382</td>\n",
       "      <td>61.6</td>\n",
       "      <td>0</td>\n",
       "      <td>1</td>\n",
       "      <td>5</td>\n",
       "      <td>1400.0</td>\n",
       "      <td>0</td>\n",
       "    </tr>\n",
       "    <tr>\n",
       "      <th>1</th>\n",
       "      <td>John Evans</td>\n",
       "      <td>daniel90@gmail.com</td>\n",
       "      <td>MD</td>\n",
       "      <td>2021-06-01 05:00:00.4062</td>\n",
       "      <td>196.599333</td>\n",
       "      <td>66.8</td>\n",
       "      <td>1</td>\n",
       "      <td>1</td>\n",
       "      <td>4</td>\n",
       "      <td>1200.0</td>\n",
       "      <td>0</td>\n",
       "    </tr>\n",
       "    <tr>\n",
       "      <th>2</th>\n",
       "      <td>Anne Nelson</td>\n",
       "      <td>adrianfisher@gmail.com</td>\n",
       "      <td>NY</td>\n",
       "      <td>2021-06-01 05:00:07.8544</td>\n",
       "      <td>1009.703123</td>\n",
       "      <td>67.7</td>\n",
       "      <td>3</td>\n",
       "      <td>3</td>\n",
       "      <td>3</td>\n",
       "      <td>1700.0</td>\n",
       "      <td>1</td>\n",
       "    </tr>\n",
       "    <tr>\n",
       "      <th>3</th>\n",
       "      <td>Stephen Phillips</td>\n",
       "      <td>lisaesparza@holmes.com</td>\n",
       "      <td>AL</td>\n",
       "      <td>2021-06-01 05:00:10.6520</td>\n",
       "      <td>391.155132</td>\n",
       "      <td>61.5</td>\n",
       "      <td>1</td>\n",
       "      <td>1</td>\n",
       "      <td>5</td>\n",
       "      <td>5700.0</td>\n",
       "      <td>0</td>\n",
       "    </tr>\n",
       "    <tr>\n",
       "      <th>4</th>\n",
       "      <td>Michael Johnson</td>\n",
       "      <td>palmerkatelyn@yahoo.com</td>\n",
       "      <td>IA</td>\n",
       "      <td>2021-06-01 05:00:11.5604</td>\n",
       "      <td>778.355460</td>\n",
       "      <td>69.2</td>\n",
       "      <td>0</td>\n",
       "      <td>2</td>\n",
       "      <td>4</td>\n",
       "      <td>6900.0</td>\n",
       "      <td>0</td>\n",
       "    </tr>\n",
       "  </tbody>\n",
       "</table>\n",
       "</div>"
      ],
      "text/plain": [
       "               name                    email state                 timestamp  \\\n",
       "0     John Anderson      robert26@graham.com    IN  2021-06-01 05:00:00.3401   \n",
       "1        John Evans       daniel90@gmail.com    MD  2021-06-01 05:00:00.4062   \n",
       "2       Anne Nelson   adrianfisher@gmail.com    NY  2021-06-01 05:00:07.8544   \n",
       "3  Stephen Phillips   lisaesparza@holmes.com    AL  2021-06-01 05:00:10.6520   \n",
       "4   Michael Johnson  palmerkatelyn@yahoo.com    IA  2021-06-01 05:00:11.5604   \n",
       "\n",
       "   geo_distance  cookie_activity_days  site_visits_A  site_visits_B  \\\n",
       "0    338.071382                  61.6              0              1   \n",
       "1    196.599333                  66.8              1              1   \n",
       "2   1009.703123                  67.7              3              3   \n",
       "3    391.155132                  61.5              1              1   \n",
       "4    778.355460                  69.2              0              2   \n",
       "\n",
       "   site_visits_C  credit_limit  is_fraud  \n",
       "0              5        1400.0         0  \n",
       "1              4        1200.0         0  \n",
       "2              3        1700.0         1  \n",
       "3              5        5700.0         0  \n",
       "4              4        6900.0         0  "
      ]
     },
     "execution_count": 5,
     "metadata": {},
     "output_type": "execute_result"
    }
   ],
   "source": [
    "df.head()"
   ]
  },
  {
   "cell_type": "markdown",
   "id": "7c966e76-a9d8-4fbc-a6d4-018a3cb9132f",
   "metadata": {},
   "source": [
    "<b><i> How much fraud is in the dataset? </i> </b>"
   ]
  },
  {
   "cell_type": "code",
   "execution_count": 6,
   "id": "38d5091e-5a81-4c79-bcac-23a517633e58",
   "metadata": {},
   "outputs": [
    {
     "data": {
      "text/plain": [
       "0    0.969907\n",
       "1    0.030093\n",
       "Name: is_fraud, dtype: float64"
      ]
     },
     "execution_count": 6,
     "metadata": {},
     "output_type": "execute_result"
    }
   ],
   "source": [
    "df.is_fraud.value_counts() / df.is_fraud.value_counts().sum()"
   ]
  },
  {
   "cell_type": "markdown",
   "id": "e330fdec-f3aa-41d6-81d9-02876432a2d8",
   "metadata": {},
   "source": [
    "<u> Very high class imbalance </u> - There is a 3% fraud rate amongst a million fraudulent transactions "
   ]
  },
  {
   "cell_type": "markdown",
   "id": "5374c801-716a-4ba1-943c-a335c443f9e9",
   "metadata": {},
   "source": [
    "Observing some initial statistics about each feature"
   ]
  },
  {
   "cell_type": "code",
   "execution_count": 6,
   "id": "534ee125-36be-4a59-8100-5d16bd3ac741",
   "metadata": {},
   "outputs": [
    {
     "data": {
      "text/plain": [
       "330243"
      ]
     },
     "execution_count": 6,
     "metadata": {},
     "output_type": "execute_result"
    }
   ],
   "source": [
    "len(df.name.unique())"
   ]
  },
  {
   "cell_type": "code",
   "execution_count": 7,
   "id": "813e6163-e23b-454c-9180-8037974e1631",
   "metadata": {},
   "outputs": [
    {
     "data": {
      "text/plain": [
       "804105"
      ]
     },
     "execution_count": 7,
     "metadata": {},
     "output_type": "execute_result"
    }
   ],
   "source": [
    "len(df.email.unique())"
   ]
  },
  {
   "cell_type": "code",
   "execution_count": 8,
   "id": "c87f3f20-6e43-4b41-8a6b-49091d803d7a",
   "metadata": {},
   "outputs": [],
   "source": [
    "df['timestamp'] = pd.to_datetime(df.timestamp,errors  = 'ignore')"
   ]
  },
  {
   "cell_type": "code",
   "execution_count": 9,
   "id": "5578f6cf-2767-4e6c-a2f0-cce4ebadb8ef",
   "metadata": {},
   "outputs": [
    {
     "data": {
      "text/plain": [
       "'2021-06-01 05:00:00.3401'"
      ]
     },
     "execution_count": 9,
     "metadata": {},
     "output_type": "execute_result"
    }
   ],
   "source": [
    "df.timestamp.min()"
   ]
  },
  {
   "cell_type": "code",
   "execution_count": 10,
   "id": "933ef629-de06-4407-a75c-49401b73bd46",
   "metadata": {},
   "outputs": [
    {
     "data": {
      "text/plain": [
       "'2021-08-31 23:59:58.3474'"
      ]
     },
     "execution_count": 10,
     "metadata": {},
     "output_type": "execute_result"
    }
   ],
   "source": [
    "df.timestamp.max()"
   ]
  },
  {
   "cell_type": "markdown",
   "id": "cb4024ed-957c-43c5-b02d-050d153490de",
   "metadata": {},
   "source": [
    "All site visits are within 2 months. The grain of the timestamp is upto a second, we can probably change this based on the distribution of the data. "
   ]
  },
  {
   "cell_type": "markdown",
   "id": "5624d21a-84f5-4f18-937c-6ef773bdbcda",
   "metadata": {},
   "source": [
    "<b><i> How does the fraud rate vary in the dataset? </i> </b>"
   ]
  },
  {
   "cell_type": "code",
   "execution_count": 29,
   "id": "c6c22fb5-8723-4595-ae1b-4e32c1cefe90",
   "metadata": {},
   "outputs": [
    {
     "data": {
      "image/png": "[encoded data removed]",
      "text/plain": [
       "<Figure size 1080x432 with 1 Axes>"
      ]
     },
     "metadata": {
      "needs_background": "light"
     },
     "output_type": "display_data"
    }
   ],
   "source": [
    "plt.figure(figsize = (15,6))\n",
    "plt.plot(range(df.shape[0]),\n",
    "         df.sort_values('timestamp',ascending = True).set_index('timestamp')['is_fraud'].cumsum() / range(df.shape[0]))\n",
    "plt.title('Fraud rate over time')\n",
    "plt.show()"
   ]
  },
  {
   "cell_type": "markdown",
   "id": "4143cb39-80e7-4d3f-8b76-6087b9fc5265",
   "metadata": {},
   "source": [
    "One way to see how fraud varies in the dataset is by seeing how fraud varies over time. The sudden spike is at day 2 , and can be ignored. It looks like Fraud percentage was typically higher initially and have lowered, this might need to be accounted for in the model using some temporal features."
   ]
  },
  {
   "cell_type": "markdown",
   "id": "03622947-8acd-4011-a199-d59c4f1b3f97",
   "metadata": {},
   "source": [
    "### Null value analysis"
   ]
  },
  {
   "cell_type": "code",
   "execution_count": 11,
   "id": "df07eb25-2202-4d31-9c7e-4b347c423ae2",
   "metadata": {},
   "outputs": [
    {
     "data": {
      "text/plain": [
       "name                        0\n",
       "email                   15689\n",
       "state                   18332\n",
       "timestamp                   0\n",
       "geo_distance             8318\n",
       "cookie_activity_days     6125\n",
       "site_visits_A               0\n",
       "site_visits_B               0\n",
       "site_visits_C               0\n",
       "credit_limit                0\n",
       "is_fraud                    0\n",
       "dtype: int64"
      ]
     },
     "execution_count": 11,
     "metadata": {},
     "output_type": "execute_result"
    }
   ],
   "source": [
    "df.isna().sum()"
   ]
  },
  {
   "cell_type": "code",
   "execution_count": 12,
   "id": "efa8ce84-a735-42fe-b9cb-fd125ad5c88b",
   "metadata": {},
   "outputs": [
    {
     "data": {
      "text/plain": [
       "name                      0\n",
       "email                   460\n",
       "state                   535\n",
       "timestamp                 0\n",
       "geo_distance            267\n",
       "cookie_activity_days    181\n",
       "site_visits_A             0\n",
       "site_visits_B             0\n",
       "site_visits_C             0\n",
       "credit_limit              0\n",
       "is_fraud                  0\n",
       "dtype: int64"
      ]
     },
     "execution_count": 12,
     "metadata": {},
     "output_type": "execute_result"
    }
   ],
   "source": [
    "df[df.is_fraud == 1].isna().sum()"
   ]
  },
  {
   "cell_type": "code",
   "execution_count": 13,
   "id": "309dc175-f9ce-404a-89fd-e128298b5d73",
   "metadata": {},
   "outputs": [
    {
     "data": {
      "text/plain": [
       "30093"
      ]
     },
     "execution_count": 13,
     "metadata": {},
     "output_type": "execute_result"
    }
   ],
   "source": [
    "df[df.is_fraud == 1].shape[0]"
   ]
  },
  {
   "cell_type": "code",
   "execution_count": 14,
   "id": "825c70ea-be41-4466-bbfe-218dd09a7759",
   "metadata": {},
   "outputs": [
    {
     "data": {
      "text/plain": [
       "0.015285946897949688"
      ]
     },
     "execution_count": 14,
     "metadata": {},
     "output_type": "execute_result"
    }
   ],
   "source": [
    "460 / 30093"
   ]
  },
  {
   "cell_type": "code",
   "execution_count": 15,
   "id": "201eea4b-e10c-4362-85a4-ffb654a8828b",
   "metadata": {},
   "outputs": [
    {
     "data": {
      "text/plain": [
       "0.04795135081248131"
      ]
     },
     "execution_count": 15,
     "metadata": {},
     "output_type": "execute_result"
    }
   ],
   "source": [
    "df[df.is_fraud == 1].isna().sum().sum() / 30093"
   ]
  },
  {
   "cell_type": "markdown",
   "id": "e0b1e2fb-f937-4790-a625-7e80f04dac32",
   "metadata": {},
   "source": [
    "There are na values to fill for email, state , cookie_activity_days, and geo_distance.\n",
    "The initial thought was to remove these rows, however, we lose around 1.5% of the fraudulent transactions if we remove rows where email is null. \n",
    "Further if we start removing null values for state, cookie activity days and geo_distance we might end up removing about 4.7% of the fraudulent data.\n",
    "While this might not seem a lot, in case of such heavy class imbalance, we might want to keep as many fraudulent transactions as possible.\n",
    "\n",
    "There can be situations where it was hard to gather the data for fraudulent transactions, and thus we have the null values. In that case, such null values in themselves could prove quite informative. Thus, we choose to fill in the null values with informative statistical techniques, and in some cases, choose to count it as another category."
   ]
  },
  {
   "cell_type": "markdown",
   "id": "ba3a30f4-2fa5-4507-bbea-1697555c3a4b",
   "metadata": {},
   "source": [
    "### How well are the variables distributed?"
   ]
  },
  {
   "cell_type": "code",
   "execution_count": 16,
   "id": "b65ea4ec-ff3e-486b-9e47-cd06eaee7050",
   "metadata": {},
   "outputs": [],
   "source": [
    "tab = pd.crosstab(df.email, df.is_fraud,margins = True,margins_name ='total')"
   ]
  },
  {
   "cell_type": "code",
   "execution_count": 17,
   "id": "4b43f7d3-526a-4f77-a692-375a5adfe5df",
   "metadata": {},
   "outputs": [
    {
     "data": {
      "text/html": [
       "<div>\n",
       "<style scoped>\n",
       "    .dataframe tbody tr th:only-of-type {\n",
       "        vertical-align: middle;\n",
       "    }\n",
       "\n",
       "    .dataframe tbody tr th {\n",
       "        vertical-align: top;\n",
       "    }\n",
       "\n",
       "    .dataframe thead th {\n",
       "        text-align: right;\n",
       "    }\n",
       "</style>\n",
       "<table border=\"1\" class=\"dataframe\">\n",
       "  <thead>\n",
       "    <tr style=\"text-align: right;\">\n",
       "      <th>is_fraud</th>\n",
       "      <th>0</th>\n",
       "      <th>1</th>\n",
       "      <th>total</th>\n",
       "    </tr>\n",
       "    <tr>\n",
       "      <th>email</th>\n",
       "      <th></th>\n",
       "      <th></th>\n",
       "      <th></th>\n",
       "    </tr>\n",
       "  </thead>\n",
       "  <tbody>\n",
       "    <tr>\n",
       "      <th>total</th>\n",
       "      <td>954678</td>\n",
       "      <td>29633</td>\n",
       "      <td>984311</td>\n",
       "    </tr>\n",
       "    <tr>\n",
       "      <th>lsmith@gmail.com</th>\n",
       "      <td>30</td>\n",
       "      <td>8</td>\n",
       "      <td>38</td>\n",
       "    </tr>\n",
       "    <tr>\n",
       "      <th>vsmith@gmail.com</th>\n",
       "      <td>30</td>\n",
       "      <td>6</td>\n",
       "      <td>36</td>\n",
       "    </tr>\n",
       "    <tr>\n",
       "      <th>ysmith@gmail.com</th>\n",
       "      <td>35</td>\n",
       "      <td>6</td>\n",
       "      <td>41</td>\n",
       "    </tr>\n",
       "    <tr>\n",
       "      <th>mlee@gmail.com</th>\n",
       "      <td>8</td>\n",
       "      <td>5</td>\n",
       "      <td>13</td>\n",
       "    </tr>\n",
       "    <tr>\n",
       "      <th>...</th>\n",
       "      <td>...</td>\n",
       "      <td>...</td>\n",
       "      <td>...</td>\n",
       "    </tr>\n",
       "    <tr>\n",
       "      <th>harriseric@gmail.com</th>\n",
       "      <td>2</td>\n",
       "      <td>0</td>\n",
       "      <td>2</td>\n",
       "    </tr>\n",
       "    <tr>\n",
       "      <th>harriseric@goodwin.com</th>\n",
       "      <td>1</td>\n",
       "      <td>0</td>\n",
       "      <td>1</td>\n",
       "    </tr>\n",
       "    <tr>\n",
       "      <th>harriseric@grant.com</th>\n",
       "      <td>1</td>\n",
       "      <td>0</td>\n",
       "      <td>1</td>\n",
       "    </tr>\n",
       "    <tr>\n",
       "      <th>harriseric@hernandez.com</th>\n",
       "      <td>1</td>\n",
       "      <td>0</td>\n",
       "      <td>1</td>\n",
       "    </tr>\n",
       "    <tr>\n",
       "      <th>kevincopeland@hotmail.com</th>\n",
       "      <td>1</td>\n",
       "      <td>0</td>\n",
       "      <td>1</td>\n",
       "    </tr>\n",
       "  </tbody>\n",
       "</table>\n",
       "<p>804105 rows × 3 columns</p>\n",
       "</div>"
      ],
      "text/plain": [
       "is_fraud                        0      1   total\n",
       "email                                           \n",
       "total                      954678  29633  984311\n",
       "lsmith@gmail.com               30      8      38\n",
       "vsmith@gmail.com               30      6      36\n",
       "ysmith@gmail.com               35      6      41\n",
       "mlee@gmail.com                  8      5      13\n",
       "...                           ...    ...     ...\n",
       "harriseric@gmail.com            2      0       2\n",
       "harriseric@goodwin.com          1      0       1\n",
       "harriseric@grant.com            1      0       1\n",
       "harriseric@hernandez.com        1      0       1\n",
       "kevincopeland@hotmail.com       1      0       1\n",
       "\n",
       "[804105 rows x 3 columns]"
      ]
     },
     "execution_count": 17,
     "metadata": {},
     "output_type": "execute_result"
    }
   ],
   "source": [
    "tab.sort_values(by = [1],ascending = False)"
   ]
  },
  {
   "cell_type": "code",
   "execution_count": 18,
   "id": "3df6983a-af7e-4e80-8fb0-0000a8c71807",
   "metadata": {},
   "outputs": [],
   "source": [
    "tab = pd.crosstab(df.email, df.is_fraud)\n",
    "tab = tab.sort_values(by = [1],ascending = False)"
   ]
  },
  {
   "cell_type": "code",
   "execution_count": 19,
   "id": "4ee3d9c1-54e8-4f01-8c1f-67bf32dbeecc",
   "metadata": {},
   "outputs": [
    {
     "data": {
      "text/plain": [
       "array([8, 6, 6, 5, 5, 5, 5, 5, 4, 4, 4, 4, 4, 4, 4, 4, 4, 4, 4, 4])"
      ]
     },
     "execution_count": 19,
     "metadata": {},
     "output_type": "execute_result"
    }
   ],
   "source": [
    "tab[[1]][:20][1].values"
   ]
  },
  {
   "cell_type": "code",
   "execution_count": 20,
   "id": "eaceed4d-125f-4d14-81ae-edbf916d3034",
   "metadata": {},
   "outputs": [
    {
     "data": {
      "image/png": "[encoded data removed]",
      "text/plain": [
       "<Figure size 1080x576 with 1 Axes>"
      ]
     },
     "metadata": {
      "needs_background": "light"
     },
     "output_type": "display_data"
    }
   ],
   "source": [
    "plt.figure(figsize = (15,8))\n",
    "plt.bar(tab[[1]][:30].index,tab[[1]][:30][1].values)\n",
    "plt.title('Highest number of fraudulent transactions',fontsize = 15)\n",
    "plt.xticks(tab[[1]][:30].index,rotation = 90)\n",
    "plt.show()"
   ]
  },
  {
   "cell_type": "code",
   "execution_count": 21,
   "id": "ab686313-f233-403c-9ccb-3e2f28844856",
   "metadata": {},
   "outputs": [
    {
     "data": {
      "image/png": "[encoded data removed]",
      "text/plain": [
       "<Figure size 1080x576 with 1 Axes>"
      ]
     },
     "metadata": {
      "needs_background": "light"
     },
     "output_type": "display_data"
    }
   ],
   "source": [
    "tab = pd.crosstab(df.email, df.is_fraud,normalize = 'index')\n",
    "tab = tab.sort_values(by = [1],ascending = False)\n",
    "\n",
    "plt.figure(figsize = (15,8))\n",
    "plt.bar(tab[[1]][:30].index,tab[[1]][:30][1].values)\n",
    "plt.title('Highest % of fraudulent transactions of the users transaction',fontsize = 15)\n",
    "plt.xticks(tab[[1]][:30].index,rotation = 90)\n",
    "plt.show()"
   ]
  },
  {
   "cell_type": "markdown",
   "id": "83fa8ecd-65cf-4dd9-9301-408ac0360520",
   "metadata": {},
   "source": [
    "We can see that this plot is dominated by one-time frauds. It would be interesting to see, out of the higher fraudulent transactions, who has the highest percentage of fraud of all their transactions. \n",
    "A frequency encoding scheme for this feature would give weightage to the emails that hold the most frequent fraudulent value. It can be beneficial to get a weighted score that is able to encode both new transactions as well as the most frequent. "
   ]
  },
  {
   "cell_type": "code",
   "execution_count": 22,
   "id": "90eee044-22ba-44ba-94af-373aec5ac8d3",
   "metadata": {},
   "outputs": [
    {
     "data": {
      "image/png": "[encoded data removed]",
      "text/plain": [
       "<Figure size 1080x576 with 1 Axes>"
      ]
     },
     "metadata": {
      "needs_background": "light"
     },
     "output_type": "display_data"
    }
   ],
   "source": [
    "tab = pd.crosstab(df.name, df.is_fraud)\n",
    "tab = tab.sort_values(by = [1],ascending = False)\n",
    "\n",
    "plt.figure(figsize = (15,8))\n",
    "plt.bar(tab[[1]][:30].index,tab[[1]][:30][1].values)\n",
    "plt.title('Highest % of fraudulent transactions of the users transaction',fontsize = 15)\n",
    "plt.xticks(tab[[1]][:30].index,rotation = 90)\n",
    "plt.show()"
   ]
  },
  {
   "cell_type": "markdown",
   "id": "a1f6c306-b3d7-4892-89dd-d97856bdff26",
   "metadata": {},
   "source": [
    "Top frequent last names include smith, it could be possible that the fraudster has a bias to entering Smith as a surname, but we must check the distributions to confirm"
   ]
  },
  {
   "cell_type": "code",
   "execution_count": 23,
   "id": "74685791-2bcc-4912-acde-8cdb91f59c83",
   "metadata": {},
   "outputs": [],
   "source": [
    "df['first_name'] = df.name.apply(lambda x: x.split(' ')[0])\n",
    "df['last_name'] = df.name.apply(lambda x: x.split(' ')[1])"
   ]
  },
  {
   "cell_type": "code",
   "execution_count": 24,
   "id": "fb74810d-5f19-4ec9-9ffe-3322a3860410",
   "metadata": {},
   "outputs": [
    {
     "data": {
      "text/plain": [
       "1583"
      ]
     },
     "execution_count": 24,
     "metadata": {},
     "output_type": "execute_result"
    }
   ],
   "source": [
    "len(df.last_name.unique())"
   ]
  },
  {
   "cell_type": "code",
   "execution_count": 25,
   "id": "64097946-4bd4-411c-a4a5-8a9a0f637cf3",
   "metadata": {},
   "outputs": [
    {
     "data": {
      "text/plain": [
       "695"
      ]
     },
     "execution_count": 25,
     "metadata": {},
     "output_type": "execute_result"
    }
   ],
   "source": [
    "len(df.first_name.unique())"
   ]
  },
  {
   "cell_type": "code",
   "execution_count": 26,
   "id": "c20b4ef5-0ab0-430d-8da9-f62beaf88887",
   "metadata": {},
   "outputs": [
    {
     "data": {
      "text/plain": [
       "Smith       21423\n",
       "Johnson     16668\n",
       "Williams    13571\n",
       "Brown       12301\n",
       "Jones       12295\n",
       "            ...  \n",
       "Selena          1\n",
       "Jade            1\n",
       "Jasmin          1\n",
       "Fred            1\n",
       "Leroy           1\n",
       "Name: last_name, Length: 1583, dtype: int64"
      ]
     },
     "execution_count": 26,
     "metadata": {},
     "output_type": "execute_result"
    }
   ],
   "source": [
    "df.last_name.value_counts()"
   ]
  },
  {
   "cell_type": "markdown",
   "id": "0e7573c3-3944-4032-ab0d-40bb781282bc",
   "metadata": {},
   "source": [
    "Smith is the most widely used surname, and thus the most fraudulent transactions have Smith in them. \n",
    "It's hard to establish any direct relation between the 2. "
   ]
  },
  {
   "cell_type": "code",
   "execution_count": 27,
   "id": "b316aadd-a5ee-41b3-b417-40d223863be5",
   "metadata": {},
   "outputs": [
    {
     "data": {
      "text/plain": [
       "Smith       635\n",
       "Johnson     514\n",
       "Williams    405\n",
       "Jones       382\n",
       "Brown       361\n",
       "           ... \n",
       "Troy          1\n",
       "Dylan         1\n",
       "Shelby        1\n",
       "Glenda        1\n",
       "Adam          1\n",
       "Name: last_name, Length: 1227, dtype: int64"
      ]
     },
     "execution_count": 27,
     "metadata": {},
     "output_type": "execute_result"
    }
   ],
   "source": [
    "df[df.is_fraud == 1].last_name.value_counts()"
   ]
  },
  {
   "cell_type": "code",
   "execution_count": 28,
   "id": "9224c06e-efd9-4d22-97f5-479217a15964",
   "metadata": {},
   "outputs": [
    {
     "data": {
      "text/plain": [
       "Michael     22212\n",
       "David       15241\n",
       "James       14485\n",
       "Jennifer    14382\n",
       "John        13852\n",
       "            ...  \n",
       "Neil          109\n",
       "Gregg         102\n",
       "Terrance       99\n",
       "Darin          97\n",
       "Terrence       93\n",
       "Name: first_name, Length: 695, dtype: int64"
      ]
     },
     "execution_count": 28,
     "metadata": {},
     "output_type": "execute_result"
    }
   ],
   "source": [
    "df.first_name.value_counts()"
   ]
  },
  {
   "cell_type": "code",
   "execution_count": 29,
   "id": "7e159d3e-17e0-45bc-bbb7-b9fa156471be",
   "metadata": {},
   "outputs": [
    {
     "data": {
      "text/plain": [
       "Michael        669\n",
       "David          448\n",
       "James          429\n",
       "Christopher    428\n",
       "John           406\n",
       "              ... \n",
       "Marisa           1\n",
       "Dan              1\n",
       "Dave             1\n",
       "Summer           1\n",
       "Kirsten          1\n",
       "Name: first_name, Length: 694, dtype: int64"
      ]
     },
     "execution_count": 29,
     "metadata": {},
     "output_type": "execute_result"
    }
   ],
   "source": [
    "df[df.is_fraud == 1].first_name.value_counts()"
   ]
  },
  {
   "cell_type": "code",
   "execution_count": 30,
   "id": "759e8098-81f1-4e03-b19a-befd63325b20",
   "metadata": {},
   "outputs": [
    {
     "data": {
      "text/plain": [
       "WY    10492\n",
       "MO     6854\n",
       "NY     4472\n",
       "GA      192\n",
       "RI      190\n",
       "WI      189\n",
       "NM      182\n",
       "TX      181\n",
       "VT      181\n",
       "AL      180\n",
       "Name: state, dtype: int64"
      ]
     },
     "execution_count": 30,
     "metadata": {},
     "output_type": "execute_result"
    }
   ],
   "source": [
    "df[df.is_fraud == 1].state.value_counts()[:10] "
   ]
  },
  {
   "cell_type": "markdown",
   "id": "9ee7d3a3-bb4e-41b7-ab04-2370bf3ac0e0",
   "metadata": {},
   "source": [
    "It's interesting to see that WY, MO and NY dominate the fraudulent transactions. \n",
    "NY might just be in the list because of sheer volume of transactions."
   ]
  },
  {
   "cell_type": "code",
   "execution_count": 31,
   "id": "4ef1315a-9b7b-4293-bd77-a19f7900663b",
   "metadata": {},
   "outputs": [
    {
     "data": {
      "text/plain": [
       "WY    0.359069\n",
       "MO    0.268795\n",
       "NY    0.192900\n",
       "GA    0.010205\n",
       "RI    0.010131\n",
       "WI    0.010074\n",
       "NM    0.009655\n",
       "VT    0.009645\n",
       "AL    0.009573\n",
       "TX    0.009564\n",
       "Name: state, dtype: float64"
      ]
     },
     "execution_count": 31,
     "metadata": {},
     "output_type": "execute_result"
    }
   ],
   "source": [
    "(df[df.is_fraud == 1].state.value_counts() / df.state.value_counts()).sort_values(ascending = False)[:10]"
   ]
  },
  {
   "cell_type": "markdown",
   "id": "5dfe05dc-caf2-47f1-a9ff-cb733051113b",
   "metadata": {},
   "source": [
    "<u> Wyoming definitely has a higher rate of fraud </u>"
   ]
  },
  {
   "cell_type": "code",
   "execution_count": 32,
   "id": "e0a7d981-a4df-4495-b299-4bc9a763f642",
   "metadata": {},
   "outputs": [
    {
     "data": {
      "image/png": "[encoded data removed]",
      "text/plain": [
       "<Figure size 432x288 with 1 Axes>"
      ]
     },
     "metadata": {
      "needs_background": "light"
     },
     "output_type": "display_data"
    }
   ],
   "source": [
    "x = df[df.is_fraud == 1].geo_distance\n",
    "y = df[df.is_fraud == 0].geo_distance\n",
    "\n",
    "plt.hist(x,bins = 100,  alpha=1, label='fraud')\n",
    "plt.hist(y, bins = 100, alpha=0.5, label='non_fraud')\n",
    "plt.legend(loc='best')\n",
    "plt.show()"
   ]
  },
  {
   "cell_type": "code",
   "execution_count": 33,
   "id": "f6625bd6-5829-4bc4-9425-fc358e3ccf47",
   "metadata": {},
   "outputs": [
    {
     "data": {
      "text/plain": [
       "<AxesSubplot:>"
      ]
     },
     "execution_count": 33,
     "metadata": {},
     "output_type": "execute_result"
    },
    {
     "data": {
      "image/png": "[encoded data removed]",
      "text/plain": [
       "<Figure size 432x288 with 1 Axes>"
      ]
     },
     "metadata": {
      "needs_background": "light"
     },
     "output_type": "display_data"
    }
   ],
   "source": [
    "df[df.is_fraud == 1].geo_distance.hist(bins = 100)"
   ]
  },
  {
   "cell_type": "markdown",
   "id": "6a1a0a5a-437b-46f0-a4b7-7e75d99122df",
   "metadata": {},
   "source": [
    "Geo Distance seems like it's pretty even;y distributed across geoDistance values"
   ]
  },
  {
   "cell_type": "code",
   "execution_count": 34,
   "id": "e8722446-28bf-48b9-a750-92494a0db92d",
   "metadata": {},
   "outputs": [
    {
     "data": {
      "image/png": "[encoded data removed]",
      "text/plain": [
       "<Figure size 432x288 with 1 Axes>"
      ]
     },
     "metadata": {
      "needs_background": "light"
     },
     "output_type": "display_data"
    }
   ],
   "source": [
    "x = df[df.is_fraud == 1].cookie_activity_days\n",
    "y = df[df.is_fraud == 0].cookie_activity_days\n",
    "\n",
    "plt.hist(x,bins = 100,  alpha=1, label='fraud')\n",
    "plt.hist(y, bins = 100, alpha=0.5, label='non_fraud')\n",
    "plt.title('Cookie Activity days')\n",
    "plt.legend(loc='best')\n",
    "plt.show()"
   ]
  },
  {
   "cell_type": "markdown",
   "id": "0f8f336c-0586-4722-b3e2-e1878d77596e",
   "metadata": {},
   "source": [
    "Assuming a normal distributon for cookie_activity, It is clearly visible that the mean of the cookie activity is higher in case of fraudulent transactions ~ 70 days, \n",
    "while for non fraudulent the mean is around 65-67. "
   ]
  },
  {
   "cell_type": "code",
   "execution_count": 35,
   "id": "c64bee4f-fb46-4eed-b2b7-9a4031224704",
   "metadata": {},
   "outputs": [
    {
     "data": {
      "image/png": "[encoded data removed]",
      "text/plain": [
       "<Figure size 432x288 with 1 Axes>"
      ]
     },
     "metadata": {
      "needs_background": "light"
     },
     "output_type": "display_data"
    }
   ],
   "source": [
    "x = df[df.is_fraud == 1].credit_limit\n",
    "y = df[df.is_fraud == 0].credit_limit\n",
    "\n",
    "plt.hist(x, bins = 100,  alpha=1, label='fraud')\n",
    "plt.hist(y, bins = 100, alpha=0.5, label='non_fraud')\n",
    "plt.title('credit_limit days')\n",
    "plt.legend(loc='best')\n",
    "plt.show()"
   ]
  },
  {
   "cell_type": "markdown",
   "id": "1491da2a-167e-495c-b397-5c76b352e617",
   "metadata": {},
   "source": [
    "It looks like a lot users have a lower credit limit"
   ]
  },
  {
   "cell_type": "code",
   "execution_count": 36,
   "id": "c2e19f4d-26ed-40d2-85fb-cc44e711cdbf",
   "metadata": {},
   "outputs": [
    {
     "data": {
      "image/png": "[encoded data removed]",
      "text/plain": [
       "<Figure size 432x288 with 1 Axes>"
      ]
     },
     "metadata": {
      "needs_background": "light"
     },
     "output_type": "display_data"
    }
   ],
   "source": [
    "df[df.is_fraud == 1].credit_limit.hist(bins= 100)\n",
    "plt.title('Credit limit - Fraudulent')\n",
    "plt.show()"
   ]
  },
  {
   "cell_type": "code",
   "execution_count": 37,
   "id": "2dba4f3f-4d5b-4cf6-9587-1e08eee47be9",
   "metadata": {},
   "outputs": [
    {
     "data": {
      "image/png": "[encoded data removed]",
      "text/plain": [
       "<Figure size 432x288 with 1 Axes>"
      ]
     },
     "metadata": {
      "needs_background": "light"
     },
     "output_type": "display_data"
    }
   ],
   "source": [
    "df[df.is_fraud == 0].credit_limit.hist(bins= 100)\n",
    "plt.title('Credit limit - NonFraudulent')\n",
    "plt.show()"
   ]
  },
  {
   "cell_type": "markdown",
   "id": "e85cf29e-b24e-4127-b37e-d4397f2ae3f3",
   "metadata": {},
   "source": [
    "It is also visible that <b> higher </b> credit limits are less likely to be fraudulent"
   ]
  },
  {
   "cell_type": "markdown",
   "id": "6c7f4128-a760-4ff7-9135-55019f269e80",
   "metadata": {},
   "source": [
    "#### Site visit analysis and their combinations"
   ]
  },
  {
   "cell_type": "code",
   "execution_count": 38,
   "id": "b19cdece-5055-428c-bd49-861ac925fb1e",
   "metadata": {},
   "outputs": [
    {
     "data": {
      "image/png": "[encoded data removed]",
      "text/plain": [
       "<Figure size 1440x360 with 3 Axes>"
      ]
     },
     "metadata": {
      "needs_background": "light"
     },
     "output_type": "display_data"
    }
   ],
   "source": [
    "fig, (ax1, ax2,ax3) = plt.subplots(1, 3)\n",
    "fig.set_size_inches((20,5))\n",
    "fig.suptitle('Site visit distribution',fontsize = 20)\n",
    "site_visits = ['site_visits_A','site_visits_B','site_visits_C']\n",
    "\n",
    "count = 0\n",
    "for ax in (ax1,ax2,ax3):\n",
    "    ax.hist(df[df.is_fraud == 1][site_visits[count]], bins = 100,  alpha=1, label='fraud')\n",
    "    ax.hist(df[df.is_fraud == 0][site_visits[count]], bins = 100, alpha=0.5, label='non_fraud')\n",
    "    ax.set_xlabel(site_visits[count]) \n",
    "    ax.legend(loc = 'best')\n",
    "    count += 1\n",
    "\n",
    "plt.show()"
   ]
  },
  {
   "cell_type": "markdown",
   "id": "48e58288-6a0e-4693-af86-b3043266fa31",
   "metadata": {},
   "source": [
    "In general the mean of these distributions is around 1 or 2 for fraudulent as well as non-fraudulent. We might have to be smarter in identifying the relation of this feature to fraud, maybe testing some combinations of when they occur together. This is a good candidate for generating Polynomial features, or using SVMs with polymial kernels / Neural Networks and thus our column transformation steps would include transforms for all these features."
   ]
  },
  {
   "cell_type": "markdown",
   "id": "48b14dd4-a6f7-402d-aa85-70bb2e0eb5d8",
   "metadata": {},
   "source": [
    "### How do we identify history of users? What does a unique user mean? "
   ]
  },
  {
   "cell_type": "code",
   "execution_count": 39,
   "id": "5afa1a7c-fd2c-46a9-9af4-df460f74afa9",
   "metadata": {},
   "outputs": [],
   "source": [
    "df = df.sort_values(by = 'timestamp', ascending = True)"
   ]
  },
  {
   "cell_type": "code",
   "execution_count": 40,
   "id": "b02d1aa2-6499-4a29-82e9-d04866934888",
   "metadata": {},
   "outputs": [
    {
     "data": {
      "text/plain": [
       "name          email               state\n",
       "Thomas Hogan  rwheeler@gmail.com  OH       2\n",
       "Name: is_fraud, dtype: int64"
      ]
     },
     "execution_count": 40,
     "metadata": {},
     "output_type": "execute_result"
    }
   ],
   "source": [
    "df.groupby(['name','email','state']).count()['is_fraud'][df.groupby(['name','email','state']).count()['is_fraud'] > 1]"
   ]
  },
  {
   "cell_type": "markdown",
   "id": "34e6869a-9654-4154-8b08-b2f0d03d829f",
   "metadata": {},
   "source": [
    "Thus, there is not much scope of time series, moving average kind of feature generation given that a particular user in a particular state \n",
    "with a particular email ID does not create a time series.\n",
    "\n",
    "Thus entity (user) identification, needs to be given a thought. We neede  a sense of what is the unique identifier. \n",
    "Name can be duplicated, so is email ID, we need more information from the busines / database programmers as to what can be regarded as the unique identifiers, on which transactions can be viewed as a time series."
   ]
  },
  {
   "cell_type": "markdown",
   "id": "ad67f3a0-1bed-4665-a689-d5c398add2bd",
   "metadata": {},
   "source": [
    "If we assume that a particular user can be identified using name and email what are the time series counts like? "
   ]
  },
  {
   "cell_type": "code",
   "execution_count": 41,
   "id": "d1fe943b-92f9-4536-a1b4-abb17482eb90",
   "metadata": {},
   "outputs": [
    {
     "data": {
      "text/plain": [
       "name           email                  \n",
       "Brian James    adrianyoung@hotmail.com    2\n",
       "Brian Smith    qwilson@hotmail.com        2\n",
       "John Foster    bsmith@gmail.com           2\n",
       "John Garcia    jamestaylor@hotmail.com    2\n",
       "Michael Brown  gbrown@hotmail.com         2\n",
       "Thomas Hogan   rwheeler@gmail.com         2\n",
       "Name: is_fraud, dtype: int64"
      ]
     },
     "execution_count": 41,
     "metadata": {},
     "output_type": "execute_result"
    }
   ],
   "source": [
    "df.groupby(['name','email']).count()['is_fraud'][df.groupby(['name','email']).count()['is_fraud'] > 1]"
   ]
  },
  {
   "cell_type": "markdown",
   "id": "c37a1d22-07ee-4ff4-b839-3ed8004ff751",
   "metadata": {},
   "source": [
    "Thus , we have only 7 of such time series, which might not add value as features. We can probably create a time series based on a users name or email, but it could be useful to do that knowing which ID is unique/reliable."
   ]
  },
  {
   "cell_type": "markdown",
   "id": "7ce6eb7b-cdf7-459a-990a-c7207e0b0ceb",
   "metadata": {},
   "source": [
    "### Feature engineering and elimination"
   ]
  },
  {
   "cell_type": "code",
   "execution_count": 42,
   "id": "cb190ccf-fa0d-4abd-900f-afbccb65122e",
   "metadata": {},
   "outputs": [],
   "source": [
    "df['site_visits_all'] = df['site_visits_A'] + df['site_visits_B'] + df['site_visits_C']"
   ]
  },
  {
   "cell_type": "code",
   "execution_count": 43,
   "id": "74641b7e-d2d9-469f-a0ab-5c12a34a2c55",
   "metadata": {},
   "outputs": [],
   "source": [
    "df.drop(['name'],inplace = True,axis = 1)"
   ]
  },
  {
   "cell_type": "code",
   "execution_count": 44,
   "id": "da8176ef-0e0b-4d07-ae5f-77e281988664",
   "metadata": {},
   "outputs": [],
   "source": [
    "df['timestamp'] = pd.to_datetime(df.timestamp,errors = 'coerce')"
   ]
  },
  {
   "cell_type": "code",
   "execution_count": 45,
   "id": "57ab60df-cda8-472a-ab8e-9f5b4fc23d12",
   "metadata": {},
   "outputs": [
    {
     "data": {
      "text/plain": [
       "802326    0\n",
       "Name: is_fraud, dtype: int64"
      ]
     },
     "execution_count": 45,
     "metadata": {},
     "output_type": "execute_result"
    }
   ],
   "source": [
    "df[df.timestamp.isna()]['is_fraud']"
   ]
  },
  {
   "cell_type": "markdown",
   "id": "0f7d9e1c-68b8-4bdb-98af-584f9acc92da",
   "metadata": {},
   "source": [
    "We can safely remove this fraudulent transaction, if this were fraudulent we could have built business rules on how this could be removed."
   ]
  },
  {
   "cell_type": "markdown",
   "id": "2c41b05b-e697-4a10-8a87-5b6e6ed178c2",
   "metadata": {},
   "source": [
    "### Data imputation strategy \n",
    "\n",
    "1. <u>Email</u> - Treat as new value\n",
    "2. <u>State</u> - Randomly sample from existing multinomial distribution\n",
    "3. <u>Timestamp</u> - Remove row. \n",
    "4. <u>GeoDistance</u> - Randomly Sample from assuming normal distribution\n",
    "5. <u>CookieActivity</u> - Randomly Sample from existing CDF distribution"
   ]
  },
  {
   "cell_type": "code",
   "execution_count": 46,
   "id": "6b22ad28-081f-44d0-a43b-1dbae91826dd",
   "metadata": {},
   "outputs": [],
   "source": [
    "df = df[df.timestamp.notna()]"
   ]
  },
  {
   "cell_type": "code",
   "execution_count": 47,
   "id": "db2cbd4d-e615-4fbe-b93a-2450ec749b47",
   "metadata": {},
   "outputs": [],
   "source": [
    "cumdist_state = (df.state.value_counts() / df.shape[0]).cumsum()"
   ]
  },
  {
   "cell_type": "code",
   "execution_count": 48,
   "id": "98772337-f932-4c78-a9b9-a4bc6b9e19e5",
   "metadata": {},
   "outputs": [
    {
     "data": {
      "image/png": "[encoded data removed]",
      "text/plain": [
       "<Figure size 864x432 with 1 Axes>"
      ]
     },
     "metadata": {
      "needs_background": "light"
     },
     "output_type": "display_data"
    }
   ],
   "source": [
    "plt.figure(figsize = (12,6))\n",
    "plt.title('Cumulative Distribution for State')\n",
    "plt.bar(cumdist_state.index,cumdist_state.values)\n",
    "plt.xticks(cumdist_state.index,rotation = 90)\n",
    "plt.show()"
   ]
  },
  {
   "cell_type": "markdown",
   "id": "52ea602b-80d2-468b-a741-d68d8b52bccb",
   "metadata": {},
   "source": [
    "Sampling from cumulative distribution will not work for this function, since this variable follows a multinomial distribution."
   ]
  },
  {
   "cell_type": "code",
   "execution_count": 49,
   "id": "b681bdd3-ba70-4d43-be8e-fbf844f2a338",
   "metadata": {},
   "outputs": [],
   "source": [
    "cumdist_cookie = (df.cookie_activity_days.value_counts() / df.shape[0]).sort_index(ascending = True).cumsum()"
   ]
  },
  {
   "cell_type": "code",
   "execution_count": 50,
   "id": "fb4cf892-6057-4be4-9ed0-36600b66ab83",
   "metadata": {},
   "outputs": [
    {
     "data": {
      "image/png": "[encoded data removed]",
      "text/plain": [
       "<Figure size 432x288 with 1 Axes>"
      ]
     },
     "metadata": {
      "needs_background": "light"
     },
     "output_type": "display_data"
    }
   ],
   "source": [
    "plt.plot(cumdist_cookie)\n",
    "plt.title('Cumulative Distribution for Cookie Activity')\n",
    "plt.show()"
   ]
  },
  {
   "cell_type": "code",
   "execution_count": 51,
   "id": "159428a6-c0c5-4344-a41f-71cda5182399",
   "metadata": {},
   "outputs": [],
   "source": [
    "from scipy.interpolate import interp1d\n",
    "\n",
    "func = interp1d(cumdist_cookie.values,cumdist_cookie.index,kind = 'cubic')"
   ]
  },
  {
   "cell_type": "code",
   "execution_count": 100,
   "id": "bc6c7443-21d1-49d3-b68d-2455af0cfb8b",
   "metadata": {},
   "outputs": [
    {
     "data": {
      "text/plain": [
       "70.13641334919463"
      ]
     },
     "execution_count": 100,
     "metadata": {},
     "output_type": "execute_result"
    }
   ],
   "source": [
    "func(np.random.uniform()).tolist()"
   ]
  },
  {
   "cell_type": "code",
   "execution_count": 52,
   "id": "6189d847-ab63-4f14-8c82-124e8a320f61",
   "metadata": {},
   "outputs": [
    {
     "data": {
      "image/png": "[encoded data removed]",
      "text/plain": [
       "<Figure size 432x288 with 1 Axes>"
      ]
     },
     "metadata": {
      "needs_background": "light"
     },
     "output_type": "display_data"
    }
   ],
   "source": [
    "xnew = cumdist_cookie.values\n",
    "ynew = func(xnew)   # use interpolation function returned by `interp1d`\n",
    "plt.title('Interpolated cookie activity distribution function - Inverse')\n",
    "plt.plot(cumdist_cookie.values, cumdist_cookie.index, 'o', xnew, ynew, '-')\n",
    "plt.show()"
   ]
  },
  {
   "cell_type": "code",
   "execution_count": 53,
   "id": "87d19940-e67f-405c-810e-28539af99de1",
   "metadata": {},
   "outputs": [],
   "source": [
    "mu = df.geo_distance.mean()\n",
    "sigma = df.geo_distance.std()"
   ]
  },
  {
   "cell_type": "code",
   "execution_count": 103,
   "id": "04ced0d4-62aa-4c50-baee-c216f2b15cc2",
   "metadata": {},
   "outputs": [],
   "source": [
    "def sample_geo():\n",
    "    '''\n",
    "    Normally distributed imputation for geodistance\n",
    "    '''\n",
    "    return np.random.normal(loc = mu,scale = sigma)\n",
    "\n",
    "def sample_cookie():\n",
    "    '''\n",
    "    Sampling from cumulative distribution\n",
    "    '''\n",
    "    u = np.random.uniform(low = 0.05,high = 0.95)\n",
    "    return func(u).tolist()\n",
    "\n",
    "def sample_state():\n",
    "    '''\n",
    "    Sample state according to the distribution\n",
    "    '''\n",
    "    chosen = np.argwhere(np.random.multinomial(1,(df.state.value_counts() / df.shape[0])) == 1)[0][0]\n",
    "    return cumdist_state.index[chosen]"
   ]
  },
  {
   "cell_type": "code",
   "execution_count": 55,
   "id": "6561622b-7520-4a5e-84ad-5bed0105427f",
   "metadata": {},
   "outputs": [],
   "source": [
    "import dask.dataframe as dd\n",
    "\n",
    "ddf = dd.from_pandas(df,npartitions = 128)"
   ]
  },
  {
   "cell_type": "code",
   "execution_count": 124,
   "id": "f7cb0368-5230-435d-8da2-4ffa0c51d6e1",
   "metadata": {},
   "outputs": [
    {
     "name": "stderr",
     "output_type": "stream",
     "text": [
      "/home/akash/.pyenv/versions/3.9.10/lib/python3.9/site-packages/dask/dataframe/core.py:3858: UserWarning: \n",
      "You did not provide metadata, so Dask is running your function on a small dataset to guess output types. It is possible that Dask will guess incorrectly.\n",
      "To provide an explicit output types or to silence this message, please provide the `meta=` keyword, as described in the map or apply function that you are using.\n",
      "  Before: .apply(func)\n",
      "  After:  .apply(func, meta=('email', 'object'))\n",
      "\n",
      "  warnings.warn(meta_warning(meta))\n",
      "/home/akash/.pyenv/versions/3.9.10/lib/python3.9/site-packages/dask/dataframe/core.py:3858: UserWarning: \n",
      "You did not provide metadata, so Dask is running your function on a small dataset to guess output types. It is possible that Dask will guess incorrectly.\n",
      "To provide an explicit output types or to silence this message, please provide the `meta=` keyword, as described in the map or apply function that you are using.\n",
      "  Before: .apply(func)\n",
      "  After:  .apply(func, meta=('state', 'object'))\n",
      "\n",
      "  warnings.warn(meta_warning(meta))\n"
     ]
    },
    {
     "name": "stdout",
     "output_type": "stream",
     "text": [
      "Email imputation initiated\n",
      "State imputation initiated\n",
      "Cookie activity days initiated\n",
      "Geo Distance initiated\n"
     ]
    },
    {
     "name": "stderr",
     "output_type": "stream",
     "text": [
      "/home/akash/.pyenv/versions/3.9.10/lib/python3.9/site-packages/dask/dataframe/core.py:3858: UserWarning: \n",
      "You did not provide metadata, so Dask is running your function on a small dataset to guess output types. It is possible that Dask will guess incorrectly.\n",
      "To provide an explicit output types or to silence this message, please provide the `meta=` keyword, as described in the map or apply function that you are using.\n",
      "  Before: .apply(func)\n",
      "  After:  .apply(func, meta=('geo_distance', 'float64'))\n",
      "\n",
      "  warnings.warn(meta_warning(meta))\n"
     ]
    }
   ],
   "source": [
    "ddf['email'] = ddf.email.apply(lambda x: 'NA' if x is np.nan else x)\n",
    "print('Email imputation initiated')\n",
    "ddf['state'] = ddf.state.apply(lambda x: sample_state() if x is np.nan else x)\n",
    "print('State imputation initiated')\n",
    "ddf['cookie_activity_days'] = df.cookie_activity_days.apply(lambda x: sample_cookie() if (x is np.nan or np.isnan(x)) else x)\n",
    "print('Cookie activity days initiated')\n",
    "ddf['geo_distance'] = ddf.geo_distance.apply(lambda x: sample_geo() if (x is np.nan or np.isnan(x)) else x)\n",
    "print('Geo Distance initiated')"
   ]
  },
  {
   "cell_type": "code",
   "execution_count": 125,
   "id": "37f39a12-05b3-4649-8afe-72194fafc20f",
   "metadata": {},
   "outputs": [],
   "source": [
    "df = ddf.compute()"
   ]
  },
  {
   "cell_type": "code",
   "execution_count": 126,
   "id": "6a17f397-b866-4269-90ec-d8542386beb7",
   "metadata": {},
   "outputs": [
    {
     "data": {
      "text/plain": [
       "email                   0\n",
       "state                   0\n",
       "timestamp               0\n",
       "geo_distance            0\n",
       "cookie_activity_days    0\n",
       "site_visits_A           0\n",
       "site_visits_B           0\n",
       "site_visits_C           0\n",
       "credit_limit            0\n",
       "is_fraud                0\n",
       "first_name              0\n",
       "last_name               0\n",
       "site_visits_all         0\n",
       "dtype: int64"
      ]
     },
     "execution_count": 126,
     "metadata": {},
     "output_type": "execute_result"
    }
   ],
   "source": [
    "df.isna().sum()"
   ]
  },
  {
   "cell_type": "code",
   "execution_count": 130,
   "id": "6481e983-d1da-4107-ba52-b600a07e09ba",
   "metadata": {},
   "outputs": [],
   "source": [
    "df['month'] = df.timestamp.apply(lambda x: x.month)\n",
    "df['day'] = df.timestamp.apply(lambda x: x.day)\n",
    "df['hour'] = df.timestamp.apply(lambda x: x.hour)"
   ]
  },
  {
   "cell_type": "markdown",
   "id": "c814800b-ea19-4231-aa19-de3ebcf9d00e",
   "metadata": {},
   "source": [
    "### Here, we assume that fraudulent transactions wouldn't have any cycles by minute."
   ]
  },
  {
   "cell_type": "code",
   "execution_count": 132,
   "id": "8442f55f-0cc1-4970-9489-591a5f879f17",
   "metadata": {},
   "outputs": [],
   "source": [
    "df.drop('timestamp',axis = 1,inplace = True)"
   ]
  },
  {
   "cell_type": "code",
   "execution_count": 161,
   "id": "9946fc76-e42c-4940-a14b-a35d489cc84d",
   "metadata": {},
   "outputs": [],
   "source": [
    "def transform_email(x):\n",
    "    e = x.split('@')\n",
    "    try:\n",
    "        return e[1]\n",
    "    except:\n",
    "        return ''\n",
    "    \n",
    "def transform_email_server(x):\n",
    "    e = x.split('@')\n",
    "    try:\n",
    "        return e[0]\n",
    "    except:\n",
    "        return ''\n",
    "\n",
    "def transform_domain(x):\n",
    "    e = x.split('.')\n",
    "    try:\n",
    "        return e[1]\n",
    "    except:\n",
    "        return ''\n",
    "    \n",
    "emails = df.email.apply(lambda x: transform_email(x))"
   ]
  },
  {
   "cell_type": "code",
   "execution_count": 150,
   "id": "74580e0d-1828-4c4e-a711-1ffc93ee332a",
   "metadata": {},
   "outputs": [
    {
     "data": {
      "text/plain": [
       "141153"
      ]
     },
     "execution_count": 150,
     "metadata": {},
     "output_type": "execute_result"
    }
   ],
   "source": [
    "len(emails.unique())"
   ]
  },
  {
   "cell_type": "markdown",
   "id": "b7ed19e7-1fcc-44b8-8ae3-629042755fc1",
   "metadata": {},
   "source": [
    "### 141153 unique servers!"
   ]
  },
  {
   "cell_type": "code",
   "execution_count": 152,
   "id": "e3dc4117-51fd-4f7e-9a4a-3443ae633235",
   "metadata": {},
   "outputs": [],
   "source": [
    "domains = emails.apply(lambda x: transform_domain(x))"
   ]
  },
  {
   "cell_type": "code",
   "execution_count": 153,
   "id": "3e88ff96-6bc0-4ab6-852d-9de823cfd81a",
   "metadata": {},
   "outputs": [],
   "source": [
    "tab = pd.crosstab(emails,df.is_fraud)\n",
    "tab = tab.sort_values(1,ascending = False)"
   ]
  },
  {
   "cell_type": "code",
   "execution_count": 156,
   "id": "93c97770-11c6-4de1-90b0-e6a430282667",
   "metadata": {},
   "outputs": [
    {
     "data": {
      "text/html": [
       "<div>\n",
       "<style scoped>\n",
       "    .dataframe tbody tr th:only-of-type {\n",
       "        vertical-align: middle;\n",
       "    }\n",
       "\n",
       "    .dataframe tbody tr th {\n",
       "        vertical-align: top;\n",
       "    }\n",
       "\n",
       "    .dataframe thead th {\n",
       "        text-align: right;\n",
       "    }\n",
       "</style>\n",
       "<table border=\"1\" class=\"dataframe\">\n",
       "  <thead>\n",
       "    <tr style=\"text-align: right;\">\n",
       "      <th>is_fraud</th>\n",
       "      <th>0</th>\n",
       "      <th>1</th>\n",
       "    </tr>\n",
       "    <tr>\n",
       "      <th>email</th>\n",
       "      <th></th>\n",
       "      <th></th>\n",
       "    </tr>\n",
       "  </thead>\n",
       "  <tbody>\n",
       "    <tr>\n",
       "      <th>steele-faulkner.com</th>\n",
       "      <td>0.0</td>\n",
       "      <td>1.0</td>\n",
       "    </tr>\n",
       "    <tr>\n",
       "      <th>mitchell-chavez.net</th>\n",
       "      <td>0.0</td>\n",
       "      <td>1.0</td>\n",
       "    </tr>\n",
       "    <tr>\n",
       "      <th>brown-jones.biz</th>\n",
       "      <td>0.0</td>\n",
       "      <td>1.0</td>\n",
       "    </tr>\n",
       "    <tr>\n",
       "      <th>parker-swanson.org</th>\n",
       "      <td>0.0</td>\n",
       "      <td>1.0</td>\n",
       "    </tr>\n",
       "    <tr>\n",
       "      <th>silva-bond.com</th>\n",
       "      <td>0.0</td>\n",
       "      <td>1.0</td>\n",
       "    </tr>\n",
       "    <tr>\n",
       "      <th>...</th>\n",
       "      <td>...</td>\n",
       "      <td>...</td>\n",
       "    </tr>\n",
       "    <tr>\n",
       "      <th>gutierrez-russo.com</th>\n",
       "      <td>1.0</td>\n",
       "      <td>0.0</td>\n",
       "    </tr>\n",
       "    <tr>\n",
       "      <th>gutierrez-rojas.com</th>\n",
       "      <td>1.0</td>\n",
       "      <td>0.0</td>\n",
       "    </tr>\n",
       "    <tr>\n",
       "      <th>gutierrez-rogers.org</th>\n",
       "      <td>1.0</td>\n",
       "      <td>0.0</td>\n",
       "    </tr>\n",
       "    <tr>\n",
       "      <th>gutierrez-rogers.info</th>\n",
       "      <td>1.0</td>\n",
       "      <td>0.0</td>\n",
       "    </tr>\n",
       "    <tr>\n",
       "      <th>zuniga.org</th>\n",
       "      <td>1.0</td>\n",
       "      <td>0.0</td>\n",
       "    </tr>\n",
       "  </tbody>\n",
       "</table>\n",
       "<p>141153 rows × 2 columns</p>\n",
       "</div>"
      ],
      "text/plain": [
       "is_fraud                 0    1\n",
       "email                          \n",
       "steele-faulkner.com    0.0  1.0\n",
       "mitchell-chavez.net    0.0  1.0\n",
       "brown-jones.biz        0.0  1.0\n",
       "parker-swanson.org     0.0  1.0\n",
       "silva-bond.com         0.0  1.0\n",
       "...                    ...  ...\n",
       "gutierrez-russo.com    1.0  0.0\n",
       "gutierrez-rojas.com    1.0  0.0\n",
       "gutierrez-rogers.org   1.0  0.0\n",
       "gutierrez-rogers.info  1.0  0.0\n",
       "zuniga.org             1.0  0.0\n",
       "\n",
       "[141153 rows x 2 columns]"
      ]
     },
     "execution_count": 156,
     "metadata": {},
     "output_type": "execute_result"
    }
   ],
   "source": [
    "tab = pd.crosstab(emails,df.is_fraud,normalize = 'index')\n",
    "tab = tab.sort_values(1,ascending = False)\n",
    "tab"
   ]
  },
  {
   "cell_type": "code",
   "execution_count": 157,
   "id": "49270baf-352e-4636-a9de-dd5b84bbe7cd",
   "metadata": {},
   "outputs": [
    {
     "data": {
      "text/plain": [
       "com     789871\n",
       "org      48865\n",
       "net      48566\n",
       "info     48505\n",
       "biz      48503\n",
       "         15689\n",
       "Name: email, dtype: int64"
      ]
     },
     "execution_count": 157,
     "metadata": {},
     "output_type": "execute_result"
    }
   ],
   "source": [
    "domains.value_counts()"
   ]
  },
  {
   "cell_type": "code",
   "execution_count": 159,
   "id": "0ca4e7cd-7350-4d4b-9f9e-8907223da3aa",
   "metadata": {},
   "outputs": [
    {
     "data": {
      "text/plain": [
       "com     25791\n",
       "net       986\n",
       "org       982\n",
       "info      967\n",
       "biz       907\n",
       "          460\n",
       "Name: email, dtype: int64"
      ]
     },
     "execution_count": 159,
     "metadata": {},
     "output_type": "execute_result"
    }
   ],
   "source": [
    "domains[df.is_fraud == 1].value_counts()"
   ]
  },
  {
   "cell_type": "markdown",
   "id": "90216e5b-55ec-45b0-888b-797aabbab38b",
   "metadata": {},
   "source": [
    "#### Thus, the above distributions show that there is no specific pattern in email id's that fraudulent people follow, and this may not be one of our most important features."
   ]
  },
  {
   "cell_type": "code",
   "execution_count": 160,
   "id": "d094c7ff-7f3b-4589-831e-ccf64be27977",
   "metadata": {},
   "outputs": [],
   "source": [
    "df['domain'] = domains"
   ]
  },
  {
   "cell_type": "code",
   "execution_count": 162,
   "id": "a856dad2-845d-4b3d-8b12-ede989876c02",
   "metadata": {},
   "outputs": [],
   "source": [
    "df['email_server'] = df.email.apply(lambda x: transform_email_server(x))"
   ]
  },
  {
   "cell_type": "code",
   "execution_count": 164,
   "id": "3e879e47-5255-4a77-9854-8476806cea7e",
   "metadata": {},
   "outputs": [
    {
     "data": {
      "text/plain": [
       "email                   0\n",
       "state                   0\n",
       "geo_distance            0\n",
       "cookie_activity_days    0\n",
       "site_visits_A           0\n",
       "site_visits_B           0\n",
       "site_visits_C           0\n",
       "credit_limit            0\n",
       "is_fraud                0\n",
       "first_name              0\n",
       "last_name               0\n",
       "site_visits_all         0\n",
       "month                   0\n",
       "day                     0\n",
       "hour                    0\n",
       "domain                  0\n",
       "email_server            0\n",
       "dtype: int64"
      ]
     },
     "execution_count": 164,
     "metadata": {},
     "output_type": "execute_result"
    }
   ],
   "source": [
    "# Name present in email"
   ]
  },
  {
   "cell_type": "code",
   "execution_count": 174,
   "id": "5bf34a1f-7608-48cf-8720-1ac0a2ee8a44",
   "metadata": {},
   "outputs": [],
   "source": [
    "def name_email(x):\n",
    "    if x['first_name'].lower() in x['email'] or x['last_name'].lower() in x['email']:\n",
    "        return True\n",
    "    else:\n",
    "        return False\n",
    "    \n",
    "def name_plus_email(x):\n",
    "    if x['first_name'].lower() in x['email'] and x['last_name'].lower() in x['email']:\n",
    "        return True\n",
    "    else:\n",
    "        return False\n",
    "\n",
    "df['either_name_in_email'] = df.apply(name_email,axis = 1)\n",
    "df['both_name_in_email'] = df.apply(name_plus_email,axis = 1)"
   ]
  },
  {
   "cell_type": "code",
   "execution_count": 173,
   "id": "ac9cabd9-59c4-4a8d-baf5-91278a9797ae",
   "metadata": {},
   "outputs": [
    {
     "data": {
      "text/plain": [
       "False    989216\n",
       "True      10783\n",
       "Name: name_in_email, dtype: int64"
      ]
     },
     "execution_count": 173,
     "metadata": {},
     "output_type": "execute_result"
    }
   ],
   "source": [
    "df.name_in_email.value_counts()"
   ]
  },
  {
   "cell_type": "code",
   "execution_count": 175,
   "id": "792542a5-4705-49f2-837b-d71751d74edf",
   "metadata": {},
   "outputs": [
    {
     "data": {
      "text/plain": [
       "False    999957\n",
       "True         42\n",
       "Name: both_name_in_email, dtype: int64"
      ]
     },
     "execution_count": 175,
     "metadata": {},
     "output_type": "execute_result"
    }
   ],
   "source": [
    "df.both_name_in_email.value_counts()"
   ]
  },
  {
   "cell_type": "code",
   "execution_count": 178,
   "id": "3073f5b2-193d-44f4-b6eb-495906053190",
   "metadata": {},
   "outputs": [],
   "source": [
    "import re\n",
    "\n",
    "df['email_has_number'] = df.email.apply(lambda x: bool(re.search(r'\\d', x)))"
   ]
  },
  {
   "cell_type": "code",
   "execution_count": 180,
   "id": "06e58e57-43b9-4379-a2b5-cbeac368868d",
   "metadata": {},
   "outputs": [
    {
     "data": {
      "text/plain": [
       "False    753402\n",
       "True     246597\n",
       "Name: email_has_number, dtype: int64"
      ]
     },
     "execution_count": 180,
     "metadata": {},
     "output_type": "execute_result"
    }
   ],
   "source": [
    "df['email_has_number'].value_counts()"
   ]
  },
  {
   "cell_type": "code",
   "execution_count": 182,
   "id": "00d60d4a-a9ec-472b-8501-35974684abd6",
   "metadata": {},
   "outputs": [],
   "source": [
    "df.drop('email',inplace = True,axis = 1)"
   ]
  },
  {
   "cell_type": "code",
   "execution_count": 183,
   "id": "dd18fe38-1c16-4cef-8f50-f01149fa59fa",
   "metadata": {},
   "outputs": [
    {
     "data": {
      "text/plain": [
       "Index(['state', 'geo_distance', 'cookie_activity_days', 'site_visits_A',\n",
       "       'site_visits_B', 'site_visits_C', 'credit_limit', 'is_fraud',\n",
       "       'first_name', 'last_name', 'site_visits_all', 'month', 'day', 'hour',\n",
       "       'domain', 'email_server', 'name_in_email', 'either_name_in_email',\n",
       "       'both_name_in_email', 'email_has_number'],\n",
       "      dtype='object')"
      ]
     },
     "execution_count": 183,
     "metadata": {},
     "output_type": "execute_result"
    }
   ],
   "source": [
    "df.columns"
   ]
  },
  {
   "cell_type": "code",
   "execution_count": 263,
   "id": "1d29b0c0-be86-4013-8f11-03581686287d",
   "metadata": {},
   "outputs": [],
   "source": [
    "from sklearn.compose import ColumnTransformer\n",
    "from sklearn.preprocessing import StandardScaler,PolynomialFeatures\n",
    "\n",
    "from category_encoders import OneHotEncoder, TargetEncoder, CatBoostEncoder\n",
    "\n",
    "\n",
    "ct = ColumnTransformer(\n",
    "    [('state_encoder',TargetEncoder(),['state']),\n",
    "     ('first_name',CatBoostEncoder(),['first_name']),\n",
    "     ('last_name',CatBoostEncoder(),['last_name']),\n",
    "     ('mail_server',TargetEncoder(),['email_server']),\n",
    "     ('domain',CatBoostEncoder(),['domain']),\n",
    "     ('site_visits',PolynomialFeatures(degree = 2),['site_visits_A','site_visits_B','site_visits_C']),\n",
    "     ('scaling',StandardScaler(),['geo_distance','credit_limit','cookie_activity_days'])\n",
    "    ],remainder = 'passthrough'\n",
    ")"
   ]
  },
  {
   "cell_type": "code",
   "execution_count": 264,
   "id": "756e640f-95ae-414d-b3bc-8444285952b0",
   "metadata": {},
   "outputs": [],
   "source": [
    "X = ct.fit_transform(df.drop('is_fraud',axis = 1),df['is_fraud'])\n",
    "Y = df['is_fraud']"
   ]
  },
  {
   "cell_type": "code",
   "execution_count": 265,
   "id": "933f2051-1678-4f70-8247-484234294a6a",
   "metadata": {},
   "outputs": [],
   "source": [
    "from sklearn.model_selection import train_test_split\n",
    "\n",
    "train_x,test_x,train_y,test_y = train_test_split(X,Y,stratify = Y,random_state=42)"
   ]
  },
  {
   "cell_type": "code",
   "execution_count": 308,
   "id": "22e637af-bf09-4253-9d9e-b0c5f19adc5d",
   "metadata": {},
   "outputs": [],
   "source": [
    "from imblearn.pipeline import Pipeline\n",
    "from imblearn.under_sampling import RandomUnderSampler\n",
    "\n",
    "from sklearn.ensemble import RandomForestClassifier\n",
    "from sklearn.ensemble import GradientBoostingClassifier\n",
    "from sklearn.linear_model import LogisticRegression\n",
    "from sklearn.neighbors import KNeighborsClassifier"
   ]
  },
  {
   "cell_type": "markdown",
   "id": "e33088d1-7231-4922-8c73-a79e03c66074",
   "metadata": {},
   "source": [
    "### Sampling Strategy\n",
    "The sampling strategy we choose is such that data is undersampled from the majority class only, leaving all minority classes as is. We choose sampling_strategy 0.4 to keep some imbalance so that we're not suprised by Out Of Bag Evaluation. "
   ]
  },
  {
   "cell_type": "code",
   "execution_count": 267,
   "id": "9696b114-48e0-4fd2-9895-a5fda00a5e90",
   "metadata": {},
   "outputs": [],
   "source": [
    "pip = Pipeline([('rus', RandomUnderSampler(sampling_strategy=0.4,random_state=42)),\n",
    "          ('model',RandomForestClassifier())\n",
    "         ])"
   ]
  },
  {
   "cell_type": "code",
   "execution_count": 268,
   "id": "e985733b-e92b-4378-9f8c-3ff4acd37e3c",
   "metadata": {},
   "outputs": [
    {
     "data": {
      "text/plain": [
       "Pipeline(steps=[('rus',\n",
       "                 RandomUnderSampler(random_state=42, sampling_strategy=0.4)),\n",
       "                ('model', RandomForestClassifier())])"
      ]
     },
     "execution_count": 268,
     "metadata": {},
     "output_type": "execute_result"
    }
   ],
   "source": [
    "pip.fit(train_x,train_y)"
   ]
  },
  {
   "cell_type": "code",
   "execution_count": 269,
   "id": "d053fa25-e165-4517-9a36-0c0a6edda4ca",
   "metadata": {},
   "outputs": [
    {
     "data": {
      "text/plain": [
       "0.96148"
      ]
     },
     "execution_count": 269,
     "metadata": {},
     "output_type": "execute_result"
    }
   ],
   "source": [
    "pip[1].score(test_x,test_y)"
   ]
  },
  {
   "cell_type": "code",
   "execution_count": 270,
   "id": "932fdad9-0478-446c-b6cc-3515648d8f08",
   "metadata": {},
   "outputs": [
    {
     "data": {
      "text/plain": [
       "0.9118776027164642"
      ]
     },
     "execution_count": 270,
     "metadata": {},
     "output_type": "execute_result"
    }
   ],
   "source": [
    "from sklearn.metrics import roc_auc_score,roc_curve\n",
    "\n",
    "roc_auc_score(test_y,pip[1].predict(test_x))"
   ]
  },
  {
   "cell_type": "code",
   "execution_count": 271,
   "id": "047f0d87-32b0-4f59-99a7-d2cacf866b02",
   "metadata": {},
   "outputs": [],
   "source": [
    "curve = roc_curve(test_y,pip[1].predict(test_x),drop_intermediate = False)"
   ]
  },
  {
   "cell_type": "code",
   "execution_count": 272,
   "id": "8d91412f-9f78-4a01-8097-16358a51af30",
   "metadata": {},
   "outputs": [
    {
     "data": {
      "text/plain": [
       "[<matplotlib.lines.Line2D at 0x7fa6c1fa4c10>]"
      ]
     },
     "execution_count": 272,
     "metadata": {},
     "output_type": "execute_result"
    },
    {
     "data": {
      "image/png": "[encoded data removed]",
      "text/plain": [
       "<Figure size 432x288 with 1 Axes>"
      ]
     },
     "metadata": {
      "needs_background": "light"
     },
     "output_type": "display_data"
    }
   ],
   "source": [
    "plt.plot(curve[0],curve[1])"
   ]
  },
  {
   "cell_type": "markdown",
   "id": "3568706d-7d8c-4b5e-a8b3-af4ecff394cc",
   "metadata": {},
   "source": [
    "#### Building our own 10 point ROC curve"
   ]
  },
  {
   "cell_type": "code",
   "execution_count": 253,
   "id": "36d8db8a-2094-44b2-b4c8-b9180f59c837",
   "metadata": {},
   "outputs": [
    {
     "data": {
      "image/png": "[encoded data removed]",
      "text/plain": [
       "<Figure size 432x288 with 1 Axes>"
      ]
     },
     "metadata": {
      "needs_background": "light"
     },
     "output_type": "display_data"
    }
   ],
   "source": [
    "def fetch_roc(pip):\n",
    "    thresholds = np.linspace(0,1,10)\n",
    "    tprs = []\n",
    "    tnrs = []\n",
    "\n",
    "    for t in thresholds:\n",
    "        preds = (pip.predict_proba(test_x)[:,1] > t)\n",
    "\n",
    "        tp = ((preds == test_y) & (test_y == 1)).sum()\n",
    "        fp = ((preds != test_y) & (test_y == 0)).sum()\n",
    "        tn = ((preds == test_y) & (test_y == 0)).sum()\n",
    "        fn = ((preds != test_y) & (test_y == 1)).sum()\n",
    "\n",
    "        tprs.append(tp / (tp + fn)) # True positive Rate\n",
    "        tnrs.append(fp / (tn + fp)) # False positive Rate\n",
    "        \n",
    "    return tnrs,tprs,thresholds\n",
    "\n",
    "tnrs,tprs,thresholds = fetch_roc(pip)\n",
    "plt.plot(tnrs,tprs)\n",
    "plt.title('ROC curve , for our initial RandomForest evaluation')\n",
    "plt.show()"
   ]
  },
  {
   "cell_type": "markdown",
   "id": "aa98a25c-24e9-4b37-ad1e-498b1d7f9a7c",
   "metadata": {},
   "source": [
    "Initial feature importance graphs."
   ]
  },
  {
   "cell_type": "code",
   "execution_count": 286,
   "id": "ca367074-f483-4ce2-b737-7f22bc11064d",
   "metadata": {},
   "outputs": [],
   "source": [
    "features = list()\n",
    "\n",
    "for c in ct.transformers_[:-2]:\n",
    "    features += c[1].get_feature_names()"
   ]
  },
  {
   "cell_type": "code",
   "execution_count": 298,
   "id": "37f2b010-e4c6-4a01-9711-58dab2027b55",
   "metadata": {},
   "outputs": [],
   "source": [
    "features += list(ct.transformers_[-2][1].get_feature_names_out())"
   ]
  },
  {
   "cell_type": "code",
   "execution_count": null,
   "id": "f8deac70-6a3a-40ad-a8c3-827aec7955a2",
   "metadata": {},
   "outputs": [],
   "source": [
    "for c in ct.transformers_[-1][2]:\n",
    "    features += [df.columns[c]]"
   ]
  },
  {
   "cell_type": "code",
   "execution_count": 307,
   "id": "2b2b8ac9-f60f-4e92-a768-5be61e211d65",
   "metadata": {},
   "outputs": [
    {
     "data": {
      "image/png": "[encoded data removed]",
      "text/plain": [
       "<Figure size 1080x432 with 1 Axes>"
      ]
     },
     "metadata": {
      "needs_background": "light"
     },
     "output_type": "display_data"
    }
   ],
   "source": [
    "plt.figure(figsize= (15,6))\n",
    "plt.bar(features,pip[1].feature_importances_)\n",
    "plt.xticks(features,rotation = 90)\n",
    "plt.title('Feature importances - RandomForests')\n",
    "plt.show()"
   ]
  },
  {
   "cell_type": "markdown",
   "id": "0e048c9f-b36e-4736-b4e8-db7cd760ec91",
   "metadata": {},
   "source": [
    "As suspected in the EDA, state turns out to be the most important feature according to entropy calculations by RandomForests, and proves to be the strongest predictor, along with the email ID server. "
   ]
  },
  {
   "cell_type": "markdown",
   "id": "73462656-7395-4eab-988e-b549ffe98a68",
   "metadata": {},
   "source": [
    "Checking if any model outperforms the other in terms of AUC, on different subsets of train and test."
   ]
  },
  {
   "cell_type": "code",
   "execution_count": 317,
   "id": "57e41e4f-2321-41b8-a08b-1c814ede2344",
   "metadata": {
    "tags": []
   },
   "outputs": [
    {
     "name": "stdout",
     "output_type": "stream",
     "text": [
      "0.70\n",
      "0.90\n"
     ]
    },
    {
     "name": "stderr",
     "output_type": "stream",
     "text": [
      "/home/akash/.pyenv/versions/3.9.10/lib/python3.9/site-packages/sklearn/linear_model/_logistic.py:814: ConvergenceWarning: lbfgs failed to converge (status=1):\n",
      "STOP: TOTAL NO. of ITERATIONS REACHED LIMIT.\n",
      "\n",
      "Increase the number of iterations (max_iter) or scale the data as shown in:\n",
      "    https://scikit-learn.org/stable/modules/preprocessing.html\n",
      "Please also refer to the documentation for alternative solver options:\n",
      "    https://scikit-learn.org/stable/modules/linear_model.html#logistic-regression\n",
      "  n_iter_i = _check_optimize_result(\n",
      "/home/akash/.pyenv/versions/3.9.10/lib/python3.9/site-packages/sklearn/linear_model/_logistic.py:814: ConvergenceWarning: lbfgs failed to converge (status=1):\n",
      "STOP: TOTAL NO. of ITERATIONS REACHED LIMIT.\n",
      "\n",
      "Increase the number of iterations (max_iter) or scale the data as shown in:\n",
      "    https://scikit-learn.org/stable/modules/preprocessing.html\n",
      "Please also refer to the documentation for alternative solver options:\n",
      "    https://scikit-learn.org/stable/modules/linear_model.html#logistic-regression\n",
      "  n_iter_i = _check_optimize_result(\n",
      "/home/akash/.pyenv/versions/3.9.10/lib/python3.9/site-packages/sklearn/linear_model/_logistic.py:814: ConvergenceWarning: lbfgs failed to converge (status=1):\n",
      "STOP: TOTAL NO. of ITERATIONS REACHED LIMIT.\n",
      "\n",
      "Increase the number of iterations (max_iter) or scale the data as shown in:\n",
      "    https://scikit-learn.org/stable/modules/preprocessing.html\n",
      "Please also refer to the documentation for alternative solver options:\n",
      "    https://scikit-learn.org/stable/modules/linear_model.html#logistic-regression\n",
      "  n_iter_i = _check_optimize_result(\n",
      "/home/akash/.pyenv/versions/3.9.10/lib/python3.9/site-packages/sklearn/linear_model/_logistic.py:814: ConvergenceWarning: lbfgs failed to converge (status=1):\n",
      "STOP: TOTAL NO. of ITERATIONS REACHED LIMIT.\n",
      "\n",
      "Increase the number of iterations (max_iter) or scale the data as shown in:\n",
      "    https://scikit-learn.org/stable/modules/preprocessing.html\n",
      "Please also refer to the documentation for alternative solver options:\n",
      "    https://scikit-learn.org/stable/modules/linear_model.html#logistic-regression\n",
      "  n_iter_i = _check_optimize_result(\n"
     ]
    },
    {
     "name": "stdout",
     "output_type": "stream",
     "text": [
      "0.95\n",
      "0.91\n"
     ]
    }
   ],
   "source": [
    "from sklearn.model_selection import cross_val_score\n",
    "\n",
    "x,y = RandomUnderSampler(sampling_strategy=0.4,random_state=42).fit_resample(X,Y)\n",
    "\n",
    "for classifier in [KNeighborsClassifier(),GradientBoostingClassifier(),LogisticRegression(), RandomForestClassifier()]:\n",
    "    print('%.2f' % np.mean(cross_val_score(classifier, x, y, # Number of folds in the dataset.\n",
    "                                 scoring = 'roc_auc',cv=4))\n",
    "         )"
   ]
  },
  {
   "cell_type": "markdown",
   "id": "81ca3dbc-faa3-42f0-9460-012adae6e83f",
   "metadata": {},
   "source": [
    "#### It looks like Logisitic Regression has a really good average ROC_AUC! "
   ]
  },
  {
   "cell_type": "markdown",
   "id": "f0db6efc-4da7-4d8b-aa9b-fa11a1bfc581",
   "metadata": {},
   "source": [
    "Thus, in order to keep model explaination simple, we select <b> LOGISTIC REGRESSION </b> as our final model. "
   ]
  },
  {
   "cell_type": "markdown",
   "id": "8df32d81-acdc-496d-b1db-bc9b3ff56619",
   "metadata": {},
   "source": [
    "Moving on to hyperparameter tuning."
   ]
  },
  {
   "cell_type": "code",
   "execution_count": 319,
   "id": "b3ddb9db-52d9-4ece-94d6-40e082858b04",
   "metadata": {
    "collapsed": true,
    "jupyter": {
     "outputs_hidden": true
    },
    "tags": []
   },
   "outputs": [
    {
     "name": "stderr",
     "output_type": "stream",
     "text": [
      "/home/akash/.pyenv/versions/3.9.10/lib/python3.9/site-packages/sklearn/model_selection/_search.py:292: UserWarning: The total space of parameters 9 is smaller than n_iter=10. Running 9 iterations. For exhaustive searches, use GridSearchCV.\n",
      "  warnings.warn(\n",
      "/home/akash/.pyenv/versions/3.9.10/lib/python3.9/site-packages/sklearn/linear_model/_logistic.py:814: ConvergenceWarning: lbfgs failed to converge (status=1):\n",
      "STOP: TOTAL NO. of ITERATIONS REACHED LIMIT.\n",
      "\n",
      "Increase the number of iterations (max_iter) or scale the data as shown in:\n",
      "    https://scikit-learn.org/stable/modules/preprocessing.html\n",
      "Please also refer to the documentation for alternative solver options:\n",
      "    https://scikit-learn.org/stable/modules/linear_model.html#logistic-regression\n",
      "  n_iter_i = _check_optimize_result(\n",
      "/home/akash/.pyenv/versions/3.9.10/lib/python3.9/site-packages/sklearn/linear_model/_logistic.py:814: ConvergenceWarning: lbfgs failed to converge (status=1):\n",
      "STOP: TOTAL NO. of ITERATIONS REACHED LIMIT.\n",
      "\n",
      "Increase the number of iterations (max_iter) or scale the data as shown in:\n",
      "    https://scikit-learn.org/stable/modules/preprocessing.html\n",
      "Please also refer to the documentation for alternative solver options:\n",
      "    https://scikit-learn.org/stable/modules/linear_model.html#logistic-regression\n",
      "  n_iter_i = _check_optimize_result(\n",
      "/home/akash/.pyenv/versions/3.9.10/lib/python3.9/site-packages/sklearn/linear_model/_logistic.py:814: ConvergenceWarning: lbfgs failed to converge (status=1):\n",
      "STOP: TOTAL NO. of ITERATIONS REACHED LIMIT.\n",
      "\n",
      "Increase the number of iterations (max_iter) or scale the data as shown in:\n",
      "    https://scikit-learn.org/stable/modules/preprocessing.html\n",
      "Please also refer to the documentation for alternative solver options:\n",
      "    https://scikit-learn.org/stable/modules/linear_model.html#logistic-regression\n",
      "  n_iter_i = _check_optimize_result(\n",
      "/home/akash/.pyenv/versions/3.9.10/lib/python3.9/site-packages/sklearn/linear_model/_logistic.py:814: ConvergenceWarning: lbfgs failed to converge (status=1):\n",
      "STOP: TOTAL NO. of ITERATIONS REACHED LIMIT.\n",
      "\n",
      "Increase the number of iterations (max_iter) or scale the data as shown in:\n",
      "    https://scikit-learn.org/stable/modules/preprocessing.html\n",
      "Please also refer to the documentation for alternative solver options:\n",
      "    https://scikit-learn.org/stable/modules/linear_model.html#logistic-regression\n",
      "  n_iter_i = _check_optimize_result(\n",
      "/home/akash/.pyenv/versions/3.9.10/lib/python3.9/site-packages/sklearn/linear_model/_logistic.py:814: ConvergenceWarning: lbfgs failed to converge (status=1):\n",
      "STOP: TOTAL NO. of ITERATIONS REACHED LIMIT.\n",
      "\n",
      "Increase the number of iterations (max_iter) or scale the data as shown in:\n",
      "    https://scikit-learn.org/stable/modules/preprocessing.html\n",
      "Please also refer to the documentation for alternative solver options:\n",
      "    https://scikit-learn.org/stable/modules/linear_model.html#logistic-regression\n",
      "  n_iter_i = _check_optimize_result(\n",
      "/home/akash/.pyenv/versions/3.9.10/lib/python3.9/site-packages/sklearn/linear_model/_logistic.py:814: ConvergenceWarning: lbfgs failed to converge (status=1):\n",
      "STOP: TOTAL NO. of ITERATIONS REACHED LIMIT.\n",
      "\n",
      "Increase the number of iterations (max_iter) or scale the data as shown in:\n",
      "    https://scikit-learn.org/stable/modules/preprocessing.html\n",
      "Please also refer to the documentation for alternative solver options:\n",
      "    https://scikit-learn.org/stable/modules/linear_model.html#logistic-regression\n",
      "  n_iter_i = _check_optimize_result(\n",
      "/home/akash/.pyenv/versions/3.9.10/lib/python3.9/site-packages/sklearn/linear_model/_logistic.py:814: ConvergenceWarning: lbfgs failed to converge (status=1):\n",
      "STOP: TOTAL NO. of ITERATIONS REACHED LIMIT.\n",
      "\n",
      "Increase the number of iterations (max_iter) or scale the data as shown in:\n",
      "    https://scikit-learn.org/stable/modules/preprocessing.html\n",
      "Please also refer to the documentation for alternative solver options:\n",
      "    https://scikit-learn.org/stable/modules/linear_model.html#logistic-regression\n",
      "  n_iter_i = _check_optimize_result(\n",
      "/home/akash/.pyenv/versions/3.9.10/lib/python3.9/site-packages/sklearn/linear_model/_logistic.py:814: ConvergenceWarning: lbfgs failed to converge (status=1):\n",
      "STOP: TOTAL NO. of ITERATIONS REACHED LIMIT.\n",
      "\n",
      "Increase the number of iterations (max_iter) or scale the data as shown in:\n",
      "    https://scikit-learn.org/stable/modules/preprocessing.html\n",
      "Please also refer to the documentation for alternative solver options:\n",
      "    https://scikit-learn.org/stable/modules/linear_model.html#logistic-regression\n",
      "  n_iter_i = _check_optimize_result(\n",
      "/home/akash/.pyenv/versions/3.9.10/lib/python3.9/site-packages/sklearn/linear_model/_logistic.py:814: ConvergenceWarning: lbfgs failed to converge (status=1):\n",
      "STOP: TOTAL NO. of ITERATIONS REACHED LIMIT.\n",
      "\n",
      "Increase the number of iterations (max_iter) or scale the data as shown in:\n",
      "    https://scikit-learn.org/stable/modules/preprocessing.html\n",
      "Please also refer to the documentation for alternative solver options:\n",
      "    https://scikit-learn.org/stable/modules/linear_model.html#logistic-regression\n",
      "  n_iter_i = _check_optimize_result(\n",
      "/home/akash/.pyenv/versions/3.9.10/lib/python3.9/site-packages/sklearn/linear_model/_logistic.py:814: ConvergenceWarning: lbfgs failed to converge (status=1):\n",
      "STOP: TOTAL NO. of ITERATIONS REACHED LIMIT.\n",
      "\n",
      "Increase the number of iterations (max_iter) or scale the data as shown in:\n",
      "    https://scikit-learn.org/stable/modules/preprocessing.html\n",
      "Please also refer to the documentation for alternative solver options:\n",
      "    https://scikit-learn.org/stable/modules/linear_model.html#logistic-regression\n",
      "  n_iter_i = _check_optimize_result(\n",
      "/home/akash/.pyenv/versions/3.9.10/lib/python3.9/site-packages/sklearn/linear_model/_logistic.py:814: ConvergenceWarning: lbfgs failed to converge (status=1):\n",
      "STOP: TOTAL NO. of ITERATIONS REACHED LIMIT.\n",
      "\n",
      "Increase the number of iterations (max_iter) or scale the data as shown in:\n",
      "    https://scikit-learn.org/stable/modules/preprocessing.html\n",
      "Please also refer to the documentation for alternative solver options:\n",
      "    https://scikit-learn.org/stable/modules/linear_model.html#logistic-regression\n",
      "  n_iter_i = _check_optimize_result(\n",
      "/home/akash/.pyenv/versions/3.9.10/lib/python3.9/site-packages/sklearn/linear_model/_logistic.py:814: ConvergenceWarning: lbfgs failed to converge (status=1):\n",
      "STOP: TOTAL NO. of ITERATIONS REACHED LIMIT.\n",
      "\n",
      "Increase the number of iterations (max_iter) or scale the data as shown in:\n",
      "    https://scikit-learn.org/stable/modules/preprocessing.html\n",
      "Please also refer to the documentation for alternative solver options:\n",
      "    https://scikit-learn.org/stable/modules/linear_model.html#logistic-regression\n",
      "  n_iter_i = _check_optimize_result(\n",
      "/home/akash/.pyenv/versions/3.9.10/lib/python3.9/site-packages/sklearn/linear_model/_logistic.py:814: ConvergenceWarning: lbfgs failed to converge (status=1):\n",
      "STOP: TOTAL NO. of ITERATIONS REACHED LIMIT.\n",
      "\n",
      "Increase the number of iterations (max_iter) or scale the data as shown in:\n",
      "    https://scikit-learn.org/stable/modules/preprocessing.html\n",
      "Please also refer to the documentation for alternative solver options:\n",
      "    https://scikit-learn.org/stable/modules/linear_model.html#logistic-regression\n",
      "  n_iter_i = _check_optimize_result(\n",
      "/home/akash/.pyenv/versions/3.9.10/lib/python3.9/site-packages/sklearn/linear_model/_logistic.py:814: ConvergenceWarning: lbfgs failed to converge (status=1):\n",
      "STOP: TOTAL NO. of ITERATIONS REACHED LIMIT.\n",
      "\n",
      "Increase the number of iterations (max_iter) or scale the data as shown in:\n",
      "    https://scikit-learn.org/stable/modules/preprocessing.html\n",
      "Please also refer to the documentation for alternative solver options:\n",
      "    https://scikit-learn.org/stable/modules/linear_model.html#logistic-regression\n",
      "  n_iter_i = _check_optimize_result(\n",
      "/home/akash/.pyenv/versions/3.9.10/lib/python3.9/site-packages/sklearn/linear_model/_logistic.py:814: ConvergenceWarning: lbfgs failed to converge (status=1):\n",
      "STOP: TOTAL NO. of ITERATIONS REACHED LIMIT.\n",
      "\n",
      "Increase the number of iterations (max_iter) or scale the data as shown in:\n",
      "    https://scikit-learn.org/stable/modules/preprocessing.html\n",
      "Please also refer to the documentation for alternative solver options:\n",
      "    https://scikit-learn.org/stable/modules/linear_model.html#logistic-regression\n",
      "  n_iter_i = _check_optimize_result(\n",
      "/home/akash/.pyenv/versions/3.9.10/lib/python3.9/site-packages/sklearn/model_selection/_validation.py:372: FitFailedWarning: \n",
      "30 fits failed out of a total of 45.\n",
      "The score on these train-test partitions for these parameters will be set to nan.\n",
      "If these failures are not expected, you can try to debug them by setting error_score='raise'.\n",
      "\n",
      "Below are more details about the failures:\n",
      "--------------------------------------------------------------------------------\n",
      "15 fits failed with the following error:\n",
      "Traceback (most recent call last):\n",
      "  File \"/home/akash/.pyenv/versions/3.9.10/lib/python3.9/site-packages/sklearn/model_selection/_validation.py\", line 680, in _fit_and_score\n",
      "    estimator.fit(X_train, y_train, **fit_params)\n",
      "  File \"/home/akash/.pyenv/versions/3.9.10/lib/python3.9/site-packages/sklearn/linear_model/_logistic.py\", line 1461, in fit\n",
      "    solver = _check_solver(self.solver, self.penalty, self.dual)\n",
      "  File \"/home/akash/.pyenv/versions/3.9.10/lib/python3.9/site-packages/sklearn/linear_model/_logistic.py\", line 447, in _check_solver\n",
      "    raise ValueError(\n",
      "ValueError: Solver lbfgs supports only 'l2' or 'none' penalties, got l1 penalty.\n",
      "\n",
      "--------------------------------------------------------------------------------\n",
      "15 fits failed with the following error:\n",
      "Traceback (most recent call last):\n",
      "  File \"/home/akash/.pyenv/versions/3.9.10/lib/python3.9/site-packages/sklearn/model_selection/_validation.py\", line 680, in _fit_and_score\n",
      "    estimator.fit(X_train, y_train, **fit_params)\n",
      "  File \"/home/akash/.pyenv/versions/3.9.10/lib/python3.9/site-packages/sklearn/linear_model/_logistic.py\", line 1461, in fit\n",
      "    solver = _check_solver(self.solver, self.penalty, self.dual)\n",
      "  File \"/home/akash/.pyenv/versions/3.9.10/lib/python3.9/site-packages/sklearn/linear_model/_logistic.py\", line 441, in _check_solver\n",
      "    raise ValueError(\n",
      "ValueError: Logistic Regression supports only penalties in ['l1', 'l2', 'elasticnet', 'none'], got elastic.\n",
      "\n",
      "  warnings.warn(some_fits_failed_message, FitFailedWarning)\n",
      "/home/akash/.pyenv/versions/3.9.10/lib/python3.9/site-packages/sklearn/model_selection/_search.py:969: UserWarning: One or more of the test scores are non-finite: [       nan 0.96285945        nan        nan 0.96313886        nan\n",
      "        nan 0.96306006        nan]\n",
      "  warnings.warn(\n",
      "/home/akash/.pyenv/versions/3.9.10/lib/python3.9/site-packages/sklearn/linear_model/_logistic.py:814: ConvergenceWarning: lbfgs failed to converge (status=1):\n",
      "STOP: TOTAL NO. of ITERATIONS REACHED LIMIT.\n",
      "\n",
      "Increase the number of iterations (max_iter) or scale the data as shown in:\n",
      "    https://scikit-learn.org/stable/modules/preprocessing.html\n",
      "Please also refer to the documentation for alternative solver options:\n",
      "    https://scikit-learn.org/stable/modules/linear_model.html#logistic-regression\n",
      "  n_iter_i = _check_optimize_result(\n"
     ]
    },
    {
     "data": {
      "text/plain": [
       "RandomizedSearchCV(estimator=LogisticRegression(),\n",
       "                   param_distributions={'C': [0.1, 0.5, 1],\n",
       "                                        'penalty': ['l1', 'l2', 'elastic']},\n",
       "                   scoring='roc_auc')"
      ]
     },
     "execution_count": 319,
     "metadata": {},
     "output_type": "execute_result"
    }
   ],
   "source": [
    "from sklearn.model_selection import RandomizedSearchCV\n",
    "\n",
    "lr = LogisticRegression()\n",
    "search = RandomizedSearchCV(lr,{'penalty':['l1','l2','elastic'],\n",
    "                        'C':[0.1,0.5,1]}, scoring = 'roc_auc')\n",
    "search.fit(train_x,train_y)"
   ]
  },
  {
   "cell_type": "code",
   "execution_count": 320,
   "id": "55d99b8c-030a-4ca2-a382-574dd734c426",
   "metadata": {},
   "outputs": [],
   "source": [
    "final_model = search.best_estimator_"
   ]
  },
  {
   "cell_type": "code",
   "execution_count": 332,
   "id": "2b627446-53c7-4806-a4e5-481a796c01ff",
   "metadata": {},
   "outputs": [
    {
     "data": {
      "image/png": "[encoded data removed]",
      "text/plain": [
       "<Figure size 1080x432 with 1 Axes>"
      ]
     },
     "metadata": {
      "needs_background": "light"
     },
     "output_type": "display_data"
    }
   ],
   "source": [
    "plt.figure(figsize = (15,6))\n",
    "plt.bar(features,final_model.coef_[0])\n",
    "plt.title('Logistic Regression feature evaluation')\n",
    "plt.xticks(features,rotation = 90)\n",
    "plt.show()"
   ]
  },
  {
   "cell_type": "markdown",
   "id": "6fbcd187-452d-46b8-b385-a4263f8cdf01",
   "metadata": {
    "tags": []
   },
   "source": [
    "#### Thus, there is consensus between the most important feature in the dataset being state and the email server. We also gather that there are features that we could definitely drop, such as some of the polymial features, and also there is scope to analyze the email feature as it originally was. "
   ]
  },
  {
   "cell_type": "code",
   "execution_count": 350,
   "id": "b9586cb1-d79a-43ef-8d51-6d4bdbdf3e3c",
   "metadata": {},
   "outputs": [
    {
     "name": "stdout",
     "output_type": "stream",
     "text": [
      "Final Classifier scores: \n"
     ]
    },
    {
     "name": "stderr",
     "output_type": "stream",
     "text": [
      "/home/akash/.pyenv/versions/3.9.10/lib/python3.9/site-packages/imblearn/utils/_validation.py:586: FutureWarning: Pass sampling_strategy=0.4 as keyword args. From version 0.9 passing these as positional arguments will result in an error\n",
      "  warnings.warn(\n",
      "/home/akash/.pyenv/versions/3.9.10/lib/python3.9/site-packages/sklearn/linear_model/_logistic.py:814: ConvergenceWarning: lbfgs failed to converge (status=1):\n",
      "STOP: TOTAL NO. of ITERATIONS REACHED LIMIT.\n",
      "\n",
      "Increase the number of iterations (max_iter) or scale the data as shown in:\n",
      "    https://scikit-learn.org/stable/modules/preprocessing.html\n",
      "Please also refer to the documentation for alternative solver options:\n",
      "    https://scikit-learn.org/stable/modules/linear_model.html#logistic-regression\n",
      "  n_iter_i = _check_optimize_result(\n"
     ]
    },
    {
     "name": "stdout",
     "output_type": "stream",
     "text": [
      " \n",
      "Accuracy 0.96\n",
      "Precision 0.39\n",
      "Recall 0.80\n",
      "F1-score 0.52\n",
      "ROC AUC 0.88\n",
      "\n"
     ]
    }
   ],
   "source": [
    "from sklearn.metrics import accuracy_score,recall_score,precision_score,f1_score,roc_auc_score\n",
    "from imblearn.pipeline import make_pipeline\n",
    "\n",
    "print('Final Classifier scores: ') \n",
    "\n",
    "lr = make_pipeline(RandomUnderSampler(0.4),LogisticRegression())\n",
    "lr.fit(train_x,train_y) # Not undersampled that's why.\n",
    "preds = lr.predict(test_x)\n",
    "\n",
    "print(\n",
    "''' \n",
    "Accuracy %.2f\n",
    "Precision %.2f\n",
    "Recall %.2f\n",
    "F1-score %.2f\n",
    "ROC AUC %.2f\n",
    "''' % (accuracy_score(test_y,preds),\n",
    "       precision_score(test_y,preds),\n",
    "       recall_score(test_y,preds),\n",
    "       f1_score(test_y,preds),\n",
    "       roc_auc_score(test_y,preds),\n",
    "      ))"
   ]
  },
  {
   "cell_type": "markdown",
   "id": "a791ad0e-e92a-4a06-9114-0ee98c2b96a6",
   "metadata": {},
   "source": [
    "Thus, our final model has a very high recall, meaning that we're calling of frauds 80% of the times, however, the precision is really low.\n",
    "Further feature elimination and better sampling techniques could be thought of to get that score balanced. However this is always going to be a tradeoff and we must choose wisely in a production environment, based on experiments"
   ]
  },
  {
   "cell_type": "code",
   "execution_count": null,
   "id": "e832904a-a628-42ee-bab4-5c212c71d988",
   "metadata": {},
   "outputs": [],
   "source": []
  }
 ],
 "metadata": {
  "kernelspec": {
   "display_name": "Python 3 (ipykernel)",
   "language": "python",
   "name": "python3"
  },
  "language_info": {
   "codemirror_mode": {
    "name": "ipython",
    "version": 3
   },
   "file_extension": ".py",
   "mimetype": "text/x-python",
   "name": "python",
   "nbconvert_exporter": "python",
   "pygments_lexer": "ipython3",
   "version": "3.9.10"
  }
 },
 "nbformat": 4,
 "nbformat_minor": 5
}
