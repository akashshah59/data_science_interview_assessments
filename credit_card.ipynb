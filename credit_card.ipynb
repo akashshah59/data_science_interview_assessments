{
 "cells": [
  {
   "cell_type": "markdown",
   "id": "d946d376-44f7-484a-a37f-50b1f4b8fcf4",
   "metadata": {},
   "source": [
    "# <B> CREDIT CARD FRAUD DETECTION AT CAPITAL ONE </B>"
   ]
  },
  {
   "cell_type": "code",
   "execution_count": 15,
   "id": "2c3530b3-f92a-4ca3-9bc1-8dad9f9f83fb",
   "metadata": {},
   "outputs": [],
   "source": [
    "import json\n",
    "from datetime import timedelta\n",
    "import re\n",
    "import wget\n",
    "from time import time\n",
    "import pandas as pd\n",
    "import numpy as np\n",
    "import matplotlib.pyplot as plt\n",
    "\n",
    "from category_encoders import OneHotEncoder,CountEncoder,TargetEncoder\n",
    "\n",
    "from imblearn.pipeline import Pipeline\n",
    "from imblearn.under_sampling import RandomUnderSampler\n",
    "from imblearn.over_sampling import RandomOverSampler\n",
    "\n",
    "from sklearn.preprocessing import StandardScaler\n",
    "from sklearn.compose import ColumnTransformer\n",
    "from sklearn.ensemble import RandomForestClassifier,GradientBoostingClassifier\n",
    "from sklearn.model_selection import cross_val_score,RepeatedStratifiedKFold\n",
    "from sklearn.neighbors import KNeighborsClassifier\n",
    "from sklearn.svm import SVC"
   ]
  },
  {
   "cell_type": "markdown",
   "id": "c019fe43-bd01-4d7e-aeb8-438203f9bf7b",
   "metadata": {},
   "source": [
    "# Q.1 - Load"
   ]
  },
  {
   "cell_type": "code",
   "execution_count": 16,
   "id": "7f37364e-0d5b-43b0-9e55-8937c3223b59",
   "metadata": {},
   "outputs": [
    {
     "name": "stdout",
     "output_type": "stream",
     "text": [
      "100% [....................................................] 30522086 / 30522086"
     ]
    }
   ],
   "source": [
    "url = 'https://github.com/CapitalOneRecruiting/DS/raw/master/transactions.zip'\n",
    "filename = wget.download(url)"
   ]
  },
  {
   "cell_type": "code",
   "execution_count": 4,
   "id": "7c353477-fe82-4b93-bed1-427ccdb37d88",
   "metadata": {},
   "outputs": [
    {
     "name": "stdout",
     "output_type": "stream",
     "text": [
      "Archive:  transactions.zip\n",
      "replace transactions.txt? [y]es, [n]o, [A]ll, [N]one, [r]ename: ^C\n"
     ]
    }
   ],
   "source": [
    "!unzip transactions.zip"
   ]
  },
  {
   "cell_type": "code",
   "execution_count": 17,
   "id": "f186e710-f8e3-4cb3-b41a-78a3480c1a09",
   "metadata": {},
   "outputs": [],
   "source": [
    "f = open('transactions.txt','r')\n",
    "\n",
    "transactions = list()\n",
    "\n",
    "for line in f:\n",
    "    transactions.append(json.loads(line))"
   ]
  },
  {
   "cell_type": "code",
   "execution_count": 18,
   "id": "eae3eebe-4d64-40b8-be0e-995fd0038a5f",
   "metadata": {},
   "outputs": [],
   "source": [
    "transactions = pd.DataFrame(transactions)"
   ]
  },
  {
   "cell_type": "markdown",
   "id": "a1e28805-e459-4279-863f-62692aac6aae",
   "metadata": {},
   "source": [
    "Data structure - 29 columns and ~786k rows"
   ]
  },
  {
   "cell_type": "code",
   "execution_count": 19,
   "id": "bd7c38f3-365c-424a-844b-9a18812b8bfc",
   "metadata": {},
   "outputs": [
    {
     "data": {
      "text/plain": [
       "(786363, 29)"
      ]
     },
     "execution_count": 19,
     "metadata": {},
     "output_type": "execute_result"
    }
   ],
   "source": [
    "transactions.shape"
   ]
  },
  {
   "cell_type": "code",
   "execution_count": 20,
   "id": "1e57dccb-7b59-4bbb-a709-c09f19c4609c",
   "metadata": {},
   "outputs": [
    {
     "data": {
      "text/html": [
       "<div>\n",
       "<style scoped>\n",
       "    .dataframe tbody tr th:only-of-type {\n",
       "        vertical-align: middle;\n",
       "    }\n",
       "\n",
       "    .dataframe tbody tr th {\n",
       "        vertical-align: top;\n",
       "    }\n",
       "\n",
       "    .dataframe thead th {\n",
       "        text-align: right;\n",
       "    }\n",
       "</style>\n",
       "<table border=\"1\" class=\"dataframe\">\n",
       "  <thead>\n",
       "    <tr style=\"text-align: right;\">\n",
       "      <th></th>\n",
       "      <th>accountNumber</th>\n",
       "      <th>customerId</th>\n",
       "      <th>creditLimit</th>\n",
       "      <th>availableMoney</th>\n",
       "      <th>transactionDateTime</th>\n",
       "      <th>transactionAmount</th>\n",
       "      <th>merchantName</th>\n",
       "      <th>acqCountry</th>\n",
       "      <th>merchantCountryCode</th>\n",
       "      <th>posEntryMode</th>\n",
       "      <th>...</th>\n",
       "      <th>echoBuffer</th>\n",
       "      <th>currentBalance</th>\n",
       "      <th>merchantCity</th>\n",
       "      <th>merchantState</th>\n",
       "      <th>merchantZip</th>\n",
       "      <th>cardPresent</th>\n",
       "      <th>posOnPremises</th>\n",
       "      <th>recurringAuthInd</th>\n",
       "      <th>expirationDateKeyInMatch</th>\n",
       "      <th>isFraud</th>\n",
       "    </tr>\n",
       "  </thead>\n",
       "  <tbody>\n",
       "    <tr>\n",
       "      <th>0</th>\n",
       "      <td>737265056</td>\n",
       "      <td>737265056</td>\n",
       "      <td>5000.0</td>\n",
       "      <td>5000.0</td>\n",
       "      <td>2016-08-13T14:27:32</td>\n",
       "      <td>98.55</td>\n",
       "      <td>Uber</td>\n",
       "      <td>US</td>\n",
       "      <td>US</td>\n",
       "      <td>02</td>\n",
       "      <td>...</td>\n",
       "      <td></td>\n",
       "      <td>0.0</td>\n",
       "      <td></td>\n",
       "      <td></td>\n",
       "      <td></td>\n",
       "      <td>False</td>\n",
       "      <td></td>\n",
       "      <td></td>\n",
       "      <td>False</td>\n",
       "      <td>False</td>\n",
       "    </tr>\n",
       "    <tr>\n",
       "      <th>1</th>\n",
       "      <td>737265056</td>\n",
       "      <td>737265056</td>\n",
       "      <td>5000.0</td>\n",
       "      <td>5000.0</td>\n",
       "      <td>2016-10-11T05:05:54</td>\n",
       "      <td>74.51</td>\n",
       "      <td>AMC #191138</td>\n",
       "      <td>US</td>\n",
       "      <td>US</td>\n",
       "      <td>09</td>\n",
       "      <td>...</td>\n",
       "      <td></td>\n",
       "      <td>0.0</td>\n",
       "      <td></td>\n",
       "      <td></td>\n",
       "      <td></td>\n",
       "      <td>True</td>\n",
       "      <td></td>\n",
       "      <td></td>\n",
       "      <td>False</td>\n",
       "      <td>False</td>\n",
       "    </tr>\n",
       "    <tr>\n",
       "      <th>2</th>\n",
       "      <td>737265056</td>\n",
       "      <td>737265056</td>\n",
       "      <td>5000.0</td>\n",
       "      <td>5000.0</td>\n",
       "      <td>2016-11-08T09:18:39</td>\n",
       "      <td>7.47</td>\n",
       "      <td>Play Store</td>\n",
       "      <td>US</td>\n",
       "      <td>US</td>\n",
       "      <td>09</td>\n",
       "      <td>...</td>\n",
       "      <td></td>\n",
       "      <td>0.0</td>\n",
       "      <td></td>\n",
       "      <td></td>\n",
       "      <td></td>\n",
       "      <td>False</td>\n",
       "      <td></td>\n",
       "      <td></td>\n",
       "      <td>False</td>\n",
       "      <td>False</td>\n",
       "    </tr>\n",
       "    <tr>\n",
       "      <th>3</th>\n",
       "      <td>737265056</td>\n",
       "      <td>737265056</td>\n",
       "      <td>5000.0</td>\n",
       "      <td>5000.0</td>\n",
       "      <td>2016-12-10T02:14:50</td>\n",
       "      <td>7.47</td>\n",
       "      <td>Play Store</td>\n",
       "      <td>US</td>\n",
       "      <td>US</td>\n",
       "      <td>09</td>\n",
       "      <td>...</td>\n",
       "      <td></td>\n",
       "      <td>0.0</td>\n",
       "      <td></td>\n",
       "      <td></td>\n",
       "      <td></td>\n",
       "      <td>False</td>\n",
       "      <td></td>\n",
       "      <td></td>\n",
       "      <td>False</td>\n",
       "      <td>False</td>\n",
       "    </tr>\n",
       "    <tr>\n",
       "      <th>4</th>\n",
       "      <td>830329091</td>\n",
       "      <td>830329091</td>\n",
       "      <td>5000.0</td>\n",
       "      <td>5000.0</td>\n",
       "      <td>2016-03-24T21:04:46</td>\n",
       "      <td>71.18</td>\n",
       "      <td>Tim Hortons #947751</td>\n",
       "      <td>US</td>\n",
       "      <td>US</td>\n",
       "      <td>02</td>\n",
       "      <td>...</td>\n",
       "      <td></td>\n",
       "      <td>0.0</td>\n",
       "      <td></td>\n",
       "      <td></td>\n",
       "      <td></td>\n",
       "      <td>True</td>\n",
       "      <td></td>\n",
       "      <td></td>\n",
       "      <td>False</td>\n",
       "      <td>False</td>\n",
       "    </tr>\n",
       "  </tbody>\n",
       "</table>\n",
       "<p>5 rows × 29 columns</p>\n",
       "</div>"
      ],
      "text/plain": [
       "  accountNumber customerId  creditLimit  availableMoney  transactionDateTime  \\\n",
       "0     737265056  737265056       5000.0          5000.0  2016-08-13T14:27:32   \n",
       "1     737265056  737265056       5000.0          5000.0  2016-10-11T05:05:54   \n",
       "2     737265056  737265056       5000.0          5000.0  2016-11-08T09:18:39   \n",
       "3     737265056  737265056       5000.0          5000.0  2016-12-10T02:14:50   \n",
       "4     830329091  830329091       5000.0          5000.0  2016-03-24T21:04:46   \n",
       "\n",
       "   transactionAmount         merchantName acqCountry merchantCountryCode  \\\n",
       "0              98.55                 Uber         US                  US   \n",
       "1              74.51          AMC #191138         US                  US   \n",
       "2               7.47           Play Store         US                  US   \n",
       "3               7.47           Play Store         US                  US   \n",
       "4              71.18  Tim Hortons #947751         US                  US   \n",
       "\n",
       "  posEntryMode  ... echoBuffer currentBalance merchantCity merchantState  \\\n",
       "0           02  ...                       0.0                              \n",
       "1           09  ...                       0.0                              \n",
       "2           09  ...                       0.0                              \n",
       "3           09  ...                       0.0                              \n",
       "4           02  ...                       0.0                              \n",
       "\n",
       "  merchantZip cardPresent posOnPremises recurringAuthInd  \\\n",
       "0                   False                                  \n",
       "1                    True                                  \n",
       "2                   False                                  \n",
       "3                   False                                  \n",
       "4                    True                                  \n",
       "\n",
       "  expirationDateKeyInMatch isFraud  \n",
       "0                    False   False  \n",
       "1                    False   False  \n",
       "2                    False   False  \n",
       "3                    False   False  \n",
       "4                    False   False  \n",
       "\n",
       "[5 rows x 29 columns]"
      ]
     },
     "execution_count": 20,
     "metadata": {},
     "output_type": "execute_result"
    }
   ],
   "source": [
    "transactions.head()"
   ]
  },
  {
   "cell_type": "markdown",
   "id": "2c65fdd2-e97e-4ae7-ba27-56c1dbcf770e",
   "metadata": {},
   "source": [
    "The data is highly imbalanced, with 98.4% of the transactions non-fraudulent."
   ]
  },
  {
   "cell_type": "code",
   "execution_count": 21,
   "id": "0c5b2ab5-b4ed-42da-ad6f-b4f04e3d5cbf",
   "metadata": {},
   "outputs": [
    {
     "data": {
      "text/plain": [
       "False    0.98421\n",
       "True     0.01579\n",
       "Name: isFraud, dtype: float64"
      ]
     },
     "execution_count": 21,
     "metadata": {},
     "output_type": "execute_result"
    }
   ],
   "source": [
    "transactions.isFraud.value_counts() / transactions.isFraud.value_counts().sum()"
   ]
  },
  {
   "cell_type": "code",
   "execution_count": 22,
   "id": "8784e0c6-8844-40ff-91d6-fccdc5aeaf47",
   "metadata": {},
   "outputs": [
    {
     "data": {
      "text/html": [
       "<div>\n",
       "<style scoped>\n",
       "    .dataframe tbody tr th:only-of-type {\n",
       "        vertical-align: middle;\n",
       "    }\n",
       "\n",
       "    .dataframe tbody tr th {\n",
       "        vertical-align: top;\n",
       "    }\n",
       "\n",
       "    .dataframe thead th {\n",
       "        text-align: right;\n",
       "    }\n",
       "</style>\n",
       "<table border=\"1\" class=\"dataframe\">\n",
       "  <thead>\n",
       "    <tr style=\"text-align: right;\">\n",
       "      <th></th>\n",
       "      <th>creditLimit</th>\n",
       "      <th>availableMoney</th>\n",
       "      <th>transactionAmount</th>\n",
       "      <th>currentBalance</th>\n",
       "    </tr>\n",
       "  </thead>\n",
       "  <tbody>\n",
       "    <tr>\n",
       "      <th>count</th>\n",
       "      <td>786363.000000</td>\n",
       "      <td>786363.000000</td>\n",
       "      <td>786363.000000</td>\n",
       "      <td>786363.000000</td>\n",
       "    </tr>\n",
       "    <tr>\n",
       "      <th>mean</th>\n",
       "      <td>10759.464459</td>\n",
       "      <td>6250.725369</td>\n",
       "      <td>136.985791</td>\n",
       "      <td>4508.739089</td>\n",
       "    </tr>\n",
       "    <tr>\n",
       "      <th>std</th>\n",
       "      <td>11636.174890</td>\n",
       "      <td>8880.783989</td>\n",
       "      <td>147.725569</td>\n",
       "      <td>6457.442068</td>\n",
       "    </tr>\n",
       "    <tr>\n",
       "      <th>min</th>\n",
       "      <td>250.000000</td>\n",
       "      <td>-1005.630000</td>\n",
       "      <td>0.000000</td>\n",
       "      <td>0.000000</td>\n",
       "    </tr>\n",
       "    <tr>\n",
       "      <th>25%</th>\n",
       "      <td>5000.000000</td>\n",
       "      <td>1077.420000</td>\n",
       "      <td>33.650000</td>\n",
       "      <td>689.910000</td>\n",
       "    </tr>\n",
       "    <tr>\n",
       "      <th>50%</th>\n",
       "      <td>7500.000000</td>\n",
       "      <td>3184.860000</td>\n",
       "      <td>87.900000</td>\n",
       "      <td>2451.760000</td>\n",
       "    </tr>\n",
       "    <tr>\n",
       "      <th>75%</th>\n",
       "      <td>15000.000000</td>\n",
       "      <td>7500.000000</td>\n",
       "      <td>191.480000</td>\n",
       "      <td>5291.095000</td>\n",
       "    </tr>\n",
       "    <tr>\n",
       "      <th>max</th>\n",
       "      <td>50000.000000</td>\n",
       "      <td>50000.000000</td>\n",
       "      <td>2011.540000</td>\n",
       "      <td>47498.810000</td>\n",
       "    </tr>\n",
       "  </tbody>\n",
       "</table>\n",
       "</div>"
      ],
      "text/plain": [
       "         creditLimit  availableMoney  transactionAmount  currentBalance\n",
       "count  786363.000000   786363.000000      786363.000000   786363.000000\n",
       "mean    10759.464459     6250.725369         136.985791     4508.739089\n",
       "std     11636.174890     8880.783989         147.725569     6457.442068\n",
       "min       250.000000    -1005.630000           0.000000        0.000000\n",
       "25%      5000.000000     1077.420000          33.650000      689.910000\n",
       "50%      7500.000000     3184.860000          87.900000     2451.760000\n",
       "75%     15000.000000     7500.000000         191.480000     5291.095000\n",
       "max     50000.000000    50000.000000        2011.540000    47498.810000"
      ]
     },
     "execution_count": 22,
     "metadata": {},
     "output_type": "execute_result"
    }
   ],
   "source": [
    "transactions.describe()"
   ]
  },
  {
   "cell_type": "markdown",
   "id": "4d6999e6-8c6a-4e0e-b45e-f33107eec8f9",
   "metadata": {},
   "source": [
    "It is interesting to see how there are definite outliers in each of the numeric features. Outlier removal could be part of our sampling strategy, \n",
    "given that the target doesn't depend on them. "
   ]
  },
  {
   "cell_type": "code",
   "execution_count": 23,
   "id": "3b8502fc-d24d-4bfd-b82b-28b6fd7b774e",
   "metadata": {},
   "outputs": [
    {
     "data": {
      "text/plain": [
       "accountNumber                object\n",
       "customerId                   object\n",
       "creditLimit                 float64\n",
       "availableMoney              float64\n",
       "transactionDateTime          object\n",
       "transactionAmount           float64\n",
       "merchantName                 object\n",
       "acqCountry                   object\n",
       "merchantCountryCode          object\n",
       "posEntryMode                 object\n",
       "posConditionCode             object\n",
       "merchantCategoryCode         object\n",
       "currentExpDate               object\n",
       "accountOpenDate              object\n",
       "dateOfLastAddressChange      object\n",
       "cardCVV                      object\n",
       "enteredCVV                   object\n",
       "cardLast4Digits              object\n",
       "transactionType              object\n",
       "echoBuffer                   object\n",
       "currentBalance              float64\n",
       "merchantCity                 object\n",
       "merchantState                object\n",
       "merchantZip                  object\n",
       "cardPresent                    bool\n",
       "posOnPremises                object\n",
       "recurringAuthInd             object\n",
       "expirationDateKeyInMatch       bool\n",
       "isFraud                        bool\n",
       "dtype: object"
      ]
     },
     "execution_count": 23,
     "metadata": {},
     "output_type": "execute_result"
    }
   ],
   "source": [
    "transactions.dtypes"
   ]
  },
  {
   "cell_type": "code",
   "execution_count": 24,
   "id": "45d521f6-3473-4310-aa36-f9a5f60e6bc6",
   "metadata": {},
   "outputs": [
    {
     "data": {
      "text/html": [
       "<div>\n",
       "<style scoped>\n",
       "    .dataframe tbody tr th:only-of-type {\n",
       "        vertical-align: middle;\n",
       "    }\n",
       "\n",
       "    .dataframe tbody tr th {\n",
       "        vertical-align: top;\n",
       "    }\n",
       "\n",
       "    .dataframe thead th {\n",
       "        text-align: right;\n",
       "    }\n",
       "</style>\n",
       "<table border=\"1\" class=\"dataframe\">\n",
       "  <thead>\n",
       "    <tr style=\"text-align: right;\">\n",
       "      <th></th>\n",
       "      <th>accountNumber</th>\n",
       "      <th>customerId</th>\n",
       "      <th>transactionDateTime</th>\n",
       "      <th>merchantName</th>\n",
       "      <th>acqCountry</th>\n",
       "      <th>merchantCountryCode</th>\n",
       "      <th>posEntryMode</th>\n",
       "      <th>posConditionCode</th>\n",
       "      <th>merchantCategoryCode</th>\n",
       "      <th>currentExpDate</th>\n",
       "      <th>...</th>\n",
       "      <th>cardCVV</th>\n",
       "      <th>enteredCVV</th>\n",
       "      <th>cardLast4Digits</th>\n",
       "      <th>transactionType</th>\n",
       "      <th>echoBuffer</th>\n",
       "      <th>merchantCity</th>\n",
       "      <th>merchantState</th>\n",
       "      <th>merchantZip</th>\n",
       "      <th>posOnPremises</th>\n",
       "      <th>recurringAuthInd</th>\n",
       "    </tr>\n",
       "  </thead>\n",
       "  <tbody>\n",
       "    <tr>\n",
       "      <th>count</th>\n",
       "      <td>786363</td>\n",
       "      <td>786363</td>\n",
       "      <td>786363</td>\n",
       "      <td>786363</td>\n",
       "      <td>786363</td>\n",
       "      <td>786363</td>\n",
       "      <td>786363</td>\n",
       "      <td>786363</td>\n",
       "      <td>786363</td>\n",
       "      <td>786363</td>\n",
       "      <td>...</td>\n",
       "      <td>786363</td>\n",
       "      <td>786363</td>\n",
       "      <td>786363</td>\n",
       "      <td>786363</td>\n",
       "      <td>786363</td>\n",
       "      <td>786363</td>\n",
       "      <td>786363</td>\n",
       "      <td>786363</td>\n",
       "      <td>786363</td>\n",
       "      <td>786363</td>\n",
       "    </tr>\n",
       "    <tr>\n",
       "      <th>unique</th>\n",
       "      <td>5000</td>\n",
       "      <td>5000</td>\n",
       "      <td>776637</td>\n",
       "      <td>2490</td>\n",
       "      <td>5</td>\n",
       "      <td>5</td>\n",
       "      <td>6</td>\n",
       "      <td>4</td>\n",
       "      <td>19</td>\n",
       "      <td>165</td>\n",
       "      <td>...</td>\n",
       "      <td>899</td>\n",
       "      <td>976</td>\n",
       "      <td>5246</td>\n",
       "      <td>4</td>\n",
       "      <td>1</td>\n",
       "      <td>1</td>\n",
       "      <td>1</td>\n",
       "      <td>1</td>\n",
       "      <td>1</td>\n",
       "      <td>1</td>\n",
       "    </tr>\n",
       "    <tr>\n",
       "      <th>top</th>\n",
       "      <td>380680241</td>\n",
       "      <td>380680241</td>\n",
       "      <td>2016-12-25T14:04:15</td>\n",
       "      <td>Uber</td>\n",
       "      <td>US</td>\n",
       "      <td>US</td>\n",
       "      <td>05</td>\n",
       "      <td>01</td>\n",
       "      <td>online_retail</td>\n",
       "      <td>03/2029</td>\n",
       "      <td>...</td>\n",
       "      <td>869</td>\n",
       "      <td>869</td>\n",
       "      <td>593</td>\n",
       "      <td>PURCHASE</td>\n",
       "      <td></td>\n",
       "      <td></td>\n",
       "      <td></td>\n",
       "      <td></td>\n",
       "      <td></td>\n",
       "      <td></td>\n",
       "    </tr>\n",
       "    <tr>\n",
       "      <th>freq</th>\n",
       "      <td>32850</td>\n",
       "      <td>32850</td>\n",
       "      <td>4</td>\n",
       "      <td>25613</td>\n",
       "      <td>774709</td>\n",
       "      <td>778511</td>\n",
       "      <td>315035</td>\n",
       "      <td>628787</td>\n",
       "      <td>202156</td>\n",
       "      <td>5103</td>\n",
       "      <td>...</td>\n",
       "      <td>33749</td>\n",
       "      <td>33424</td>\n",
       "      <td>32946</td>\n",
       "      <td>745193</td>\n",
       "      <td>786363</td>\n",
       "      <td>786363</td>\n",
       "      <td>786363</td>\n",
       "      <td>786363</td>\n",
       "      <td>786363</td>\n",
       "      <td>786363</td>\n",
       "    </tr>\n",
       "  </tbody>\n",
       "</table>\n",
       "<p>4 rows × 22 columns</p>\n",
       "</div>"
      ],
      "text/plain": [
       "       accountNumber customerId  transactionDateTime merchantName acqCountry  \\\n",
       "count         786363     786363               786363       786363     786363   \n",
       "unique          5000       5000               776637         2490          5   \n",
       "top        380680241  380680241  2016-12-25T14:04:15         Uber         US   \n",
       "freq           32850      32850                    4        25613     774709   \n",
       "\n",
       "       merchantCountryCode posEntryMode posConditionCode merchantCategoryCode  \\\n",
       "count               786363       786363           786363               786363   \n",
       "unique                   5            6                4                   19   \n",
       "top                     US           05               01        online_retail   \n",
       "freq                778511       315035           628787               202156   \n",
       "\n",
       "       currentExpDate  ... cardCVV enteredCVV cardLast4Digits transactionType  \\\n",
       "count          786363  ...  786363     786363          786363          786363   \n",
       "unique            165  ...     899        976            5246               4   \n",
       "top           03/2029  ...     869        869             593        PURCHASE   \n",
       "freq             5103  ...   33749      33424           32946          745193   \n",
       "\n",
       "       echoBuffer merchantCity merchantState merchantZip posOnPremises  \\\n",
       "count      786363       786363        786363      786363        786363   \n",
       "unique          1            1             1           1             1   \n",
       "top                                                                      \n",
       "freq       786363       786363        786363      786363        786363   \n",
       "\n",
       "       recurringAuthInd  \n",
       "count            786363  \n",
       "unique                1  \n",
       "top                      \n",
       "freq             786363  \n",
       "\n",
       "[4 rows x 22 columns]"
      ]
     },
     "execution_count": 24,
     "metadata": {},
     "output_type": "execute_result"
    }
   ],
   "source": [
    "transactions.describe(include = ['O'])"
   ]
  },
  {
   "cell_type": "markdown",
   "id": "b5273e87-479d-4f53-86dd-9f0895d6b056",
   "metadata": {},
   "source": [
    "This basic description helps us to see how the 700k data points are spread amongst just 5000 accounts, It is also interesting to see the Top merchant as well as merchant category that is prevelant. As expected most of the transactions are of type PURCHASE."
   ]
  },
  {
   "cell_type": "markdown",
   "id": "f8229435-ac29-4a42-af36-b0e74c86e0d1",
   "metadata": {},
   "source": [
    "# Q.2 Plot"
   ]
  },
  {
   "cell_type": "code",
   "execution_count": 25,
   "id": "11ed46dd-2d3d-4875-b6ef-a6590a6bc33d",
   "metadata": {},
   "outputs": [
    {
     "data": {
      "image/png": "[encoded data removed]",
      "text/plain": [
       "<Figure size 432x288 with 1 Axes>"
      ]
     },
     "metadata": {
      "needs_background": "light"
     },
     "output_type": "display_data"
    }
   ],
   "source": [
    "bins = 100\n",
    "plt.hist(transactions[transactions.isFraud == False].transactionAmount, bins, alpha=0.5, label='Non-Fraudulent')\n",
    "plt.hist(transactions[transactions.isFraud == True].transactionAmount,bins, alpha=1, label='Fraudulent')\n",
    "plt.legend(loc='upper right')\n",
    "plt.show()"
   ]
  },
  {
   "cell_type": "markdown",
   "id": "036125de-0d98-4ad3-8da1-3489a2e52407",
   "metadata": {},
   "source": [
    "The class imbalance makes it very difficult to say anythin with conviction about the distribution of fraudulent data, except that extremely high values are not as frequent as they are in the no-fraudulent case."
   ]
  },
  {
   "cell_type": "markdown",
   "id": "b8b3a145-32fe-4bdd-b9a3-5ca006b37f23",
   "metadata": {},
   "source": [
    "Additional plots and interesting Hypotheses on each feature can be found in section 4, before modeling, as we investigate into the usefulness of each feature."
   ]
  },
  {
   "cell_type": "markdown",
   "id": "5d624eaf-c8c0-4052-b9e3-1a8f066bcaeb",
   "metadata": {},
   "source": [
    "<u> Code to clean features that do not add value </u>"
   ]
  },
  {
   "cell_type": "code",
   "execution_count": 26,
   "id": "dfb32266-0ac8-481f-b490-a3a86aa8a4b2",
   "metadata": {},
   "outputs": [],
   "source": [
    "columns_with_cardinality = list()\n",
    "for c in transactions.columns:\n",
    "    if len(transactions[c].unique()) == 1:\n",
    "        columns_with_cardinality.append(c)\n",
    "        \n",
    "transactions.drop(columns_with_cardinality,inplace = True,axis = 1)"
   ]
  },
  {
   "cell_type": "code",
   "execution_count": 27,
   "id": "19b9fe64-aec5-4801-be41-f1a18b5afc2c",
   "metadata": {},
   "outputs": [
    {
     "data": {
      "text/html": [
       "<div>\n",
       "<style scoped>\n",
       "    .dataframe tbody tr th:only-of-type {\n",
       "        vertical-align: middle;\n",
       "    }\n",
       "\n",
       "    .dataframe tbody tr th {\n",
       "        vertical-align: top;\n",
       "    }\n",
       "\n",
       "    .dataframe thead th {\n",
       "        text-align: right;\n",
       "    }\n",
       "</style>\n",
       "<table border=\"1\" class=\"dataframe\">\n",
       "  <thead>\n",
       "    <tr style=\"text-align: right;\">\n",
       "      <th></th>\n",
       "      <th>accountNumber</th>\n",
       "      <th>customerId</th>\n",
       "      <th>creditLimit</th>\n",
       "      <th>availableMoney</th>\n",
       "      <th>transactionDateTime</th>\n",
       "      <th>transactionAmount</th>\n",
       "      <th>merchantName</th>\n",
       "      <th>acqCountry</th>\n",
       "      <th>merchantCountryCode</th>\n",
       "      <th>posEntryMode</th>\n",
       "      <th>...</th>\n",
       "      <th>accountOpenDate</th>\n",
       "      <th>dateOfLastAddressChange</th>\n",
       "      <th>cardCVV</th>\n",
       "      <th>enteredCVV</th>\n",
       "      <th>cardLast4Digits</th>\n",
       "      <th>transactionType</th>\n",
       "      <th>currentBalance</th>\n",
       "      <th>cardPresent</th>\n",
       "      <th>expirationDateKeyInMatch</th>\n",
       "      <th>isFraud</th>\n",
       "    </tr>\n",
       "  </thead>\n",
       "  <tbody>\n",
       "    <tr>\n",
       "      <th>0</th>\n",
       "      <td>737265056</td>\n",
       "      <td>737265056</td>\n",
       "      <td>5000.0</td>\n",
       "      <td>5000.0</td>\n",
       "      <td>2016-08-13T14:27:32</td>\n",
       "      <td>98.55</td>\n",
       "      <td>Uber</td>\n",
       "      <td>US</td>\n",
       "      <td>US</td>\n",
       "      <td>02</td>\n",
       "      <td>...</td>\n",
       "      <td>2015-03-14</td>\n",
       "      <td>2015-03-14</td>\n",
       "      <td>414</td>\n",
       "      <td>414</td>\n",
       "      <td>1803</td>\n",
       "      <td>PURCHASE</td>\n",
       "      <td>0.0</td>\n",
       "      <td>False</td>\n",
       "      <td>False</td>\n",
       "      <td>False</td>\n",
       "    </tr>\n",
       "    <tr>\n",
       "      <th>1</th>\n",
       "      <td>737265056</td>\n",
       "      <td>737265056</td>\n",
       "      <td>5000.0</td>\n",
       "      <td>5000.0</td>\n",
       "      <td>2016-10-11T05:05:54</td>\n",
       "      <td>74.51</td>\n",
       "      <td>AMC #191138</td>\n",
       "      <td>US</td>\n",
       "      <td>US</td>\n",
       "      <td>09</td>\n",
       "      <td>...</td>\n",
       "      <td>2015-03-14</td>\n",
       "      <td>2015-03-14</td>\n",
       "      <td>486</td>\n",
       "      <td>486</td>\n",
       "      <td>767</td>\n",
       "      <td>PURCHASE</td>\n",
       "      <td>0.0</td>\n",
       "      <td>True</td>\n",
       "      <td>False</td>\n",
       "      <td>False</td>\n",
       "    </tr>\n",
       "    <tr>\n",
       "      <th>2</th>\n",
       "      <td>737265056</td>\n",
       "      <td>737265056</td>\n",
       "      <td>5000.0</td>\n",
       "      <td>5000.0</td>\n",
       "      <td>2016-11-08T09:18:39</td>\n",
       "      <td>7.47</td>\n",
       "      <td>Play Store</td>\n",
       "      <td>US</td>\n",
       "      <td>US</td>\n",
       "      <td>09</td>\n",
       "      <td>...</td>\n",
       "      <td>2015-03-14</td>\n",
       "      <td>2015-03-14</td>\n",
       "      <td>486</td>\n",
       "      <td>486</td>\n",
       "      <td>767</td>\n",
       "      <td>PURCHASE</td>\n",
       "      <td>0.0</td>\n",
       "      <td>False</td>\n",
       "      <td>False</td>\n",
       "      <td>False</td>\n",
       "    </tr>\n",
       "    <tr>\n",
       "      <th>3</th>\n",
       "      <td>737265056</td>\n",
       "      <td>737265056</td>\n",
       "      <td>5000.0</td>\n",
       "      <td>5000.0</td>\n",
       "      <td>2016-12-10T02:14:50</td>\n",
       "      <td>7.47</td>\n",
       "      <td>Play Store</td>\n",
       "      <td>US</td>\n",
       "      <td>US</td>\n",
       "      <td>09</td>\n",
       "      <td>...</td>\n",
       "      <td>2015-03-14</td>\n",
       "      <td>2015-03-14</td>\n",
       "      <td>486</td>\n",
       "      <td>486</td>\n",
       "      <td>767</td>\n",
       "      <td>PURCHASE</td>\n",
       "      <td>0.0</td>\n",
       "      <td>False</td>\n",
       "      <td>False</td>\n",
       "      <td>False</td>\n",
       "    </tr>\n",
       "    <tr>\n",
       "      <th>4</th>\n",
       "      <td>830329091</td>\n",
       "      <td>830329091</td>\n",
       "      <td>5000.0</td>\n",
       "      <td>5000.0</td>\n",
       "      <td>2016-03-24T21:04:46</td>\n",
       "      <td>71.18</td>\n",
       "      <td>Tim Hortons #947751</td>\n",
       "      <td>US</td>\n",
       "      <td>US</td>\n",
       "      <td>02</td>\n",
       "      <td>...</td>\n",
       "      <td>2015-08-06</td>\n",
       "      <td>2015-08-06</td>\n",
       "      <td>885</td>\n",
       "      <td>885</td>\n",
       "      <td>3143</td>\n",
       "      <td>PURCHASE</td>\n",
       "      <td>0.0</td>\n",
       "      <td>True</td>\n",
       "      <td>False</td>\n",
       "      <td>False</td>\n",
       "    </tr>\n",
       "  </tbody>\n",
       "</table>\n",
       "<p>5 rows × 23 columns</p>\n",
       "</div>"
      ],
      "text/plain": [
       "  accountNumber customerId  creditLimit  availableMoney  transactionDateTime  \\\n",
       "0     737265056  737265056       5000.0          5000.0  2016-08-13T14:27:32   \n",
       "1     737265056  737265056       5000.0          5000.0  2016-10-11T05:05:54   \n",
       "2     737265056  737265056       5000.0          5000.0  2016-11-08T09:18:39   \n",
       "3     737265056  737265056       5000.0          5000.0  2016-12-10T02:14:50   \n",
       "4     830329091  830329091       5000.0          5000.0  2016-03-24T21:04:46   \n",
       "\n",
       "   transactionAmount         merchantName acqCountry merchantCountryCode  \\\n",
       "0              98.55                 Uber         US                  US   \n",
       "1              74.51          AMC #191138         US                  US   \n",
       "2               7.47           Play Store         US                  US   \n",
       "3               7.47           Play Store         US                  US   \n",
       "4              71.18  Tim Hortons #947751         US                  US   \n",
       "\n",
       "  posEntryMode  ... accountOpenDate dateOfLastAddressChange cardCVV  \\\n",
       "0           02  ...      2015-03-14              2015-03-14     414   \n",
       "1           09  ...      2015-03-14              2015-03-14     486   \n",
       "2           09  ...      2015-03-14              2015-03-14     486   \n",
       "3           09  ...      2015-03-14              2015-03-14     486   \n",
       "4           02  ...      2015-08-06              2015-08-06     885   \n",
       "\n",
       "  enteredCVV cardLast4Digits transactionType currentBalance cardPresent  \\\n",
       "0        414            1803        PURCHASE            0.0       False   \n",
       "1        486             767        PURCHASE            0.0        True   \n",
       "2        486             767        PURCHASE            0.0       False   \n",
       "3        486             767        PURCHASE            0.0       False   \n",
       "4        885            3143        PURCHASE            0.0        True   \n",
       "\n",
       "  expirationDateKeyInMatch  isFraud  \n",
       "0                    False    False  \n",
       "1                    False    False  \n",
       "2                    False    False  \n",
       "3                    False    False  \n",
       "4                    False    False  \n",
       "\n",
       "[5 rows x 23 columns]"
      ]
     },
     "execution_count": 27,
     "metadata": {},
     "output_type": "execute_result"
    }
   ],
   "source": [
    "transactions.head()"
   ]
  },
  {
   "cell_type": "markdown",
   "id": "a0760400-84ee-44d7-8eb8-b7d3f9b0c1eb",
   "metadata": {},
   "source": [
    "<p> The cells below some initial data exploration, like re-checking some of the unique values, and gaining some insight from just the values of a few features. </p>"
   ]
  },
  {
   "cell_type": "code",
   "execution_count": 28,
   "id": "a082b5a9-321f-41d0-916f-c63f07fa7098",
   "metadata": {},
   "outputs": [
    {
     "data": {
      "text/plain": [
       "5000"
      ]
     },
     "execution_count": 28,
     "metadata": {},
     "output_type": "execute_result"
    }
   ],
   "source": [
    "len(transactions.accountNumber.unique())"
   ]
  },
  {
   "cell_type": "code",
   "execution_count": 29,
   "id": "90410121-7e78-4964-93cb-800b5149511d",
   "metadata": {},
   "outputs": [
    {
     "data": {
      "text/plain": [
       "5000"
      ]
     },
     "execution_count": 29,
     "metadata": {},
     "output_type": "execute_result"
    }
   ],
   "source": [
    "len(transactions.customerId.unique())"
   ]
  },
  {
   "cell_type": "markdown",
   "id": "b84a9517-65eb-434c-a2cf-ff53f1942490",
   "metadata": {},
   "source": [
    "Test to see if each customer is mapped to one account"
   ]
  },
  {
   "cell_type": "code",
   "execution_count": 30,
   "id": "ece2d615-91cd-4f4c-ae1e-eeed8b328ead",
   "metadata": {},
   "outputs": [
    {
     "data": {
      "text/plain": [
       "0"
      ]
     },
     "execution_count": 30,
     "metadata": {},
     "output_type": "execute_result"
    }
   ],
   "source": [
    "(transactions.customerId != transactions.accountNumber).sum()"
   ]
  },
  {
   "cell_type": "code",
   "execution_count": 31,
   "id": "051586aa-3aa8-49a4-84bb-84087dc7e88e",
   "metadata": {},
   "outputs": [
    {
     "data": {
      "text/plain": [
       "US     0.990015\n",
       "MEX    0.003997\n",
       "CAN    0.003085\n",
       "PR     0.001983\n",
       "       0.000921\n",
       "Name: merchantCountryCode, dtype: float64"
      ]
     },
     "execution_count": 31,
     "metadata": {},
     "output_type": "execute_result"
    }
   ],
   "source": [
    "transactions.merchantCountryCode.value_counts() / transactions.merchantCountryCode.value_counts().sum()"
   ]
  },
  {
   "cell_type": "markdown",
   "id": "0ffbb0cc-b656-4baf-bc5c-68694db91b31",
   "metadata": {},
   "source": [
    "Most of the merchant's are from the US, it'll be interesting to see how the fraudulent transactions are distributed amongst these countries."
   ]
  },
  {
   "cell_type": "code",
   "execution_count": 34,
   "id": "001c228b-bc18-42c4-98f6-fa1318d0c97f",
   "metadata": {},
   "outputs": [
    {
     "data": {
      "text/plain": [
       "0.0006790756940496946"
      ]
     },
     "execution_count": 34,
     "metadata": {},
     "output_type": "execute_result"
    }
   ],
   "source": [
    "((transactions.currentBalance + transactions.availableMoney) < transactions.creditLimit).sum() / transactions.shape[0]"
   ]
  },
  {
   "cell_type": "code",
   "execution_count": 35,
   "id": "e67fb369-dffa-4972-a0e3-9b3bc0621abe",
   "metadata": {},
   "outputs": [
    {
     "data": {
      "text/plain": [
       "0.0006549138247857541"
      ]
     },
     "execution_count": 35,
     "metadata": {},
     "output_type": "execute_result"
    }
   ],
   "source": [
    "((transactions.currentBalance + transactions.availableMoney) > transactions.creditLimit).sum() / transactions.shape[0]"
   ]
  },
  {
   "cell_type": "code",
   "execution_count": 30,
   "id": "867cac93-f635-48b7-97cf-2b0642dbaeba",
   "metadata": {},
   "outputs": [],
   "source": [
    "transactions.drop('customerId',inplace = True,axis = 1)"
   ]
  },
  {
   "cell_type": "code",
   "execution_count": 31,
   "id": "094fc435-81a1-4c22-930d-9f90e61a16c5",
   "metadata": {},
   "outputs": [
    {
     "data": {
      "text/plain": [
       "array(['02', '09', '05', '80', '90', ''], dtype=object)"
      ]
     },
     "execution_count": 31,
     "metadata": {},
     "output_type": "execute_result"
    }
   ],
   "source": [
    "transactions.posEntryMode.unique()"
   ]
  },
  {
   "cell_type": "code",
   "execution_count": 32,
   "id": "77420ae4-1ed9-43e7-a9ce-c84be928ff82",
   "metadata": {},
   "outputs": [
    {
     "data": {
      "text/plain": [
       "array(['01', '08', '99', ''], dtype=object)"
      ]
     },
     "execution_count": 32,
     "metadata": {},
     "output_type": "execute_result"
    }
   ],
   "source": [
    "transactions.posConditionCode.unique()"
   ]
  },
  {
   "cell_type": "code",
   "execution_count": 33,
   "id": "401602e2-90ed-4563-8d5c-1ed3bb384044",
   "metadata": {},
   "outputs": [
    {
     "data": {
      "text/plain": [
       "(2490,)"
      ]
     },
     "execution_count": 33,
     "metadata": {},
     "output_type": "execute_result"
    }
   ],
   "source": [
    "transactions.merchantName.unique().shape"
   ]
  },
  {
   "cell_type": "code",
   "execution_count": 34,
   "id": "6c6896df-88ff-4907-bcff-39ee0e8d9c1e",
   "metadata": {},
   "outputs": [
    {
     "data": {
      "text/plain": [
       "(2490,)"
      ]
     },
     "execution_count": 34,
     "metadata": {},
     "output_type": "execute_result"
    }
   ],
   "source": [
    "transactions.merchantName.unique().shape"
   ]
  },
  {
   "cell_type": "code",
   "execution_count": 35,
   "id": "abf140fe-d056-45ac-af24-4be368e126ed",
   "metadata": {},
   "outputs": [
    {
     "data": {
      "text/plain": [
       "0"
      ]
     },
     "execution_count": 35,
     "metadata": {},
     "output_type": "execute_result"
    }
   ],
   "source": [
    "transactions.isna().sum().sum()"
   ]
  },
  {
   "cell_type": "code",
   "execution_count": 36,
   "id": "d2d30d8c-c5ef-44dc-8aa9-e1ef1c4b78c3",
   "metadata": {},
   "outputs": [
    {
     "data": {
      "text/plain": [
       "array(['PURCHASE', 'ADDRESS_VERIFICATION', 'REVERSAL', ''], dtype=object)"
      ]
     },
     "execution_count": 36,
     "metadata": {},
     "output_type": "execute_result"
    }
   ],
   "source": [
    "transactions.transactionType.unique()"
   ]
  },
  {
   "cell_type": "markdown",
   "id": "ac27d4c7-1e87-48f7-974b-3c1614e97741",
   "metadata": {},
   "source": [
    "As part of data cleaning, we try to answer the question - can address verification/transaction reversals be Fraudulent? The answer is yes, and we should make sure that our sampling technique in the future involves all transaction Types"
   ]
  },
  {
   "cell_type": "code",
   "execution_count": 37,
   "id": "cb1641cd-eccd-4d6b-9a78-3d84b1b0d65d",
   "metadata": {},
   "outputs": [
    {
     "data": {
      "text/plain": [
       "116"
      ]
     },
     "execution_count": 37,
     "metadata": {},
     "output_type": "execute_result"
    }
   ],
   "source": [
    "(transactions[transactions.transactionType == 'ADDRESS_VERIFICATION'].isFraud).sum()"
   ]
  },
  {
   "cell_type": "code",
   "execution_count": 38,
   "id": "c8bb47a3-54fa-4e5e-8e03-b59f780c484a",
   "metadata": {},
   "outputs": [
    {
     "data": {
      "image/png": "[encoded data removed]",
      "text/plain": [
       "<Figure size 432x288 with 1 Axes>"
      ]
     },
     "metadata": {
      "needs_background": "light"
     },
     "output_type": "display_data"
    }
   ],
   "source": [
    "transactions[transactions.isFraud == True].transactionType.hist()\n",
    "plt.title('Distribution of fraudulent transaction types')\n",
    "plt.show()"
   ]
  },
  {
   "cell_type": "markdown",
   "id": "fbc4033f-bf78-4b10-b3f1-f69f33f6db9d",
   "metadata": {},
   "source": [
    "<p> As expected fraudulent transactions are generally purchase ones . Initially we would think that transaction reversals that are marked as fraudulent should probably be cleaned, however we need more business knowledge about what these fraudulent cases mean. For the purpose of the exercise we choose to believe that reversals and address verification can be fraudulent.</p>"
   ]
  },
  {
   "cell_type": "code",
   "execution_count": 39,
   "id": "838c0459-8891-4c91-8822-2f0396b804cc",
   "metadata": {},
   "outputs": [
    {
     "data": {
      "text/html": [
       "<div>\n",
       "<style scoped>\n",
       "    .dataframe tbody tr th:only-of-type {\n",
       "        vertical-align: middle;\n",
       "    }\n",
       "\n",
       "    .dataframe tbody tr th {\n",
       "        vertical-align: top;\n",
       "    }\n",
       "\n",
       "    .dataframe thead th {\n",
       "        text-align: right;\n",
       "    }\n",
       "</style>\n",
       "<table border=\"1\" class=\"dataframe\">\n",
       "  <thead>\n",
       "    <tr style=\"text-align: right;\">\n",
       "      <th></th>\n",
       "      <th>accountNumber</th>\n",
       "      <th>creditLimit</th>\n",
       "      <th>availableMoney</th>\n",
       "      <th>transactionDateTime</th>\n",
       "      <th>transactionAmount</th>\n",
       "      <th>merchantName</th>\n",
       "      <th>acqCountry</th>\n",
       "      <th>merchantCountryCode</th>\n",
       "      <th>posEntryMode</th>\n",
       "      <th>posConditionCode</th>\n",
       "      <th>...</th>\n",
       "      <th>accountOpenDate</th>\n",
       "      <th>dateOfLastAddressChange</th>\n",
       "      <th>cardCVV</th>\n",
       "      <th>enteredCVV</th>\n",
       "      <th>cardLast4Digits</th>\n",
       "      <th>transactionType</th>\n",
       "      <th>currentBalance</th>\n",
       "      <th>cardPresent</th>\n",
       "      <th>expirationDateKeyInMatch</th>\n",
       "      <th>isFraud</th>\n",
       "    </tr>\n",
       "  </thead>\n",
       "  <tbody>\n",
       "    <tr>\n",
       "      <th>2031</th>\n",
       "      <td>863358589</td>\n",
       "      <td>2500.0</td>\n",
       "      <td>498.33</td>\n",
       "      <td>2016-09-27T13:31:51</td>\n",
       "      <td>0.0</td>\n",
       "      <td>West End Beauty #469474</td>\n",
       "      <td>US</td>\n",
       "      <td>US</td>\n",
       "      <td>05</td>\n",
       "      <td>01</td>\n",
       "      <td>...</td>\n",
       "      <td>2014-02-15</td>\n",
       "      <td>2016-06-23</td>\n",
       "      <td>240</td>\n",
       "      <td>240</td>\n",
       "      <td>6614</td>\n",
       "      <td>ADDRESS_VERIFICATION</td>\n",
       "      <td>2001.67</td>\n",
       "      <td>False</td>\n",
       "      <td>False</td>\n",
       "      <td>True</td>\n",
       "    </tr>\n",
       "    <tr>\n",
       "      <th>2108</th>\n",
       "      <td>863358589</td>\n",
       "      <td>2500.0</td>\n",
       "      <td>1056.83</td>\n",
       "      <td>2016-11-24T21:37:19</td>\n",
       "      <td>0.0</td>\n",
       "      <td>West End Beauty #72256</td>\n",
       "      <td>US</td>\n",
       "      <td>US</td>\n",
       "      <td>05</td>\n",
       "      <td>01</td>\n",
       "      <td>...</td>\n",
       "      <td>2014-02-15</td>\n",
       "      <td>2016-06-23</td>\n",
       "      <td>240</td>\n",
       "      <td>240</td>\n",
       "      <td>6614</td>\n",
       "      <td>ADDRESS_VERIFICATION</td>\n",
       "      <td>1443.17</td>\n",
       "      <td>False</td>\n",
       "      <td>False</td>\n",
       "      <td>True</td>\n",
       "    </tr>\n",
       "    <tr>\n",
       "      <th>8650</th>\n",
       "      <td>934061435</td>\n",
       "      <td>5000.0</td>\n",
       "      <td>4054.43</td>\n",
       "      <td>2016-01-04T13:16:48</td>\n",
       "      <td>0.0</td>\n",
       "      <td>Dunkin' Donuts #48174</td>\n",
       "      <td>US</td>\n",
       "      <td>US</td>\n",
       "      <td>02</td>\n",
       "      <td>01</td>\n",
       "      <td>...</td>\n",
       "      <td>2014-12-31</td>\n",
       "      <td>2014-12-31</td>\n",
       "      <td>210</td>\n",
       "      <td>217</td>\n",
       "      <td>111</td>\n",
       "      <td>ADDRESS_VERIFICATION</td>\n",
       "      <td>945.57</td>\n",
       "      <td>False</td>\n",
       "      <td>False</td>\n",
       "      <td>True</td>\n",
       "    </tr>\n",
       "    <tr>\n",
       "      <th>19731</th>\n",
       "      <td>128258324</td>\n",
       "      <td>2500.0</td>\n",
       "      <td>2417.38</td>\n",
       "      <td>2016-04-03T05:43:45</td>\n",
       "      <td>0.0</td>\n",
       "      <td>Boston Fries</td>\n",
       "      <td>US</td>\n",
       "      <td>US</td>\n",
       "      <td>05</td>\n",
       "      <td>01</td>\n",
       "      <td>...</td>\n",
       "      <td>2013-11-22</td>\n",
       "      <td>2016-02-18</td>\n",
       "      <td>657</td>\n",
       "      <td>657</td>\n",
       "      <td>1718</td>\n",
       "      <td>ADDRESS_VERIFICATION</td>\n",
       "      <td>82.62</td>\n",
       "      <td>False</td>\n",
       "      <td>False</td>\n",
       "      <td>True</td>\n",
       "    </tr>\n",
       "    <tr>\n",
       "      <th>23465</th>\n",
       "      <td>561697834</td>\n",
       "      <td>5000.0</td>\n",
       "      <td>3610.36</td>\n",
       "      <td>2016-01-07T18:46:11</td>\n",
       "      <td>0.0</td>\n",
       "      <td>Uber</td>\n",
       "      <td>US</td>\n",
       "      <td>US</td>\n",
       "      <td>05</td>\n",
       "      <td>01</td>\n",
       "      <td>...</td>\n",
       "      <td>2014-07-05</td>\n",
       "      <td>2014-07-05</td>\n",
       "      <td>218</td>\n",
       "      <td>218</td>\n",
       "      <td>7292</td>\n",
       "      <td>ADDRESS_VERIFICATION</td>\n",
       "      <td>1389.64</td>\n",
       "      <td>False</td>\n",
       "      <td>False</td>\n",
       "      <td>True</td>\n",
       "    </tr>\n",
       "  </tbody>\n",
       "</table>\n",
       "<p>5 rows × 22 columns</p>\n",
       "</div>"
      ],
      "text/plain": [
       "      accountNumber  creditLimit  availableMoney  transactionDateTime  \\\n",
       "2031      863358589       2500.0          498.33  2016-09-27T13:31:51   \n",
       "2108      863358589       2500.0         1056.83  2016-11-24T21:37:19   \n",
       "8650      934061435       5000.0         4054.43  2016-01-04T13:16:48   \n",
       "19731     128258324       2500.0         2417.38  2016-04-03T05:43:45   \n",
       "23465     561697834       5000.0         3610.36  2016-01-07T18:46:11   \n",
       "\n",
       "       transactionAmount             merchantName acqCountry  \\\n",
       "2031                 0.0  West End Beauty #469474         US   \n",
       "2108                 0.0   West End Beauty #72256         US   \n",
       "8650                 0.0    Dunkin' Donuts #48174         US   \n",
       "19731                0.0             Boston Fries         US   \n",
       "23465                0.0                     Uber         US   \n",
       "\n",
       "      merchantCountryCode posEntryMode posConditionCode  ... accountOpenDate  \\\n",
       "2031                   US           05               01  ...      2014-02-15   \n",
       "2108                   US           05               01  ...      2014-02-15   \n",
       "8650                   US           02               01  ...      2014-12-31   \n",
       "19731                  US           05               01  ...      2013-11-22   \n",
       "23465                  US           05               01  ...      2014-07-05   \n",
       "\n",
       "      dateOfLastAddressChange cardCVV enteredCVV cardLast4Digits  \\\n",
       "2031               2016-06-23     240        240            6614   \n",
       "2108               2016-06-23     240        240            6614   \n",
       "8650               2014-12-31     210        217             111   \n",
       "19731              2016-02-18     657        657            1718   \n",
       "23465              2014-07-05     218        218            7292   \n",
       "\n",
       "            transactionType currentBalance cardPresent  \\\n",
       "2031   ADDRESS_VERIFICATION        2001.67       False   \n",
       "2108   ADDRESS_VERIFICATION        1443.17       False   \n",
       "8650   ADDRESS_VERIFICATION         945.57       False   \n",
       "19731  ADDRESS_VERIFICATION          82.62       False   \n",
       "23465  ADDRESS_VERIFICATION        1389.64       False   \n",
       "\n",
       "       expirationDateKeyInMatch  isFraud  \n",
       "2031                      False     True  \n",
       "2108                      False     True  \n",
       "8650                      False     True  \n",
       "19731                     False     True  \n",
       "23465                     False     True  \n",
       "\n",
       "[5 rows x 22 columns]"
      ]
     },
     "execution_count": 39,
     "metadata": {},
     "output_type": "execute_result"
    }
   ],
   "source": [
    "transactions[(transactions.isFraud == True) & (transactions.transactionType == 'ADDRESS_VERIFICATION')].head()"
   ]
  },
  {
   "cell_type": "code",
   "execution_count": 37,
   "id": "14e222c7-59ed-4bc9-a85e-15a50f33da64",
   "metadata": {},
   "outputs": [
    {
     "data": {
      "text/html": [
       "<div>\n",
       "<style scoped>\n",
       "    .dataframe tbody tr th:only-of-type {\n",
       "        vertical-align: middle;\n",
       "    }\n",
       "\n",
       "    .dataframe tbody tr th {\n",
       "        vertical-align: top;\n",
       "    }\n",
       "\n",
       "    .dataframe thead th {\n",
       "        text-align: right;\n",
       "    }\n",
       "</style>\n",
       "<table border=\"1\" class=\"dataframe\">\n",
       "  <thead>\n",
       "    <tr style=\"text-align: right;\">\n",
       "      <th></th>\n",
       "      <th>accountNumber</th>\n",
       "      <th>customerId</th>\n",
       "      <th>transactionDateTime</th>\n",
       "      <th>merchantName</th>\n",
       "      <th>acqCountry</th>\n",
       "      <th>merchantCountryCode</th>\n",
       "      <th>posEntryMode</th>\n",
       "      <th>posConditionCode</th>\n",
       "      <th>merchantCategoryCode</th>\n",
       "      <th>currentExpDate</th>\n",
       "      <th>accountOpenDate</th>\n",
       "      <th>dateOfLastAddressChange</th>\n",
       "      <th>cardCVV</th>\n",
       "      <th>enteredCVV</th>\n",
       "      <th>cardLast4Digits</th>\n",
       "      <th>transactionType</th>\n",
       "    </tr>\n",
       "  </thead>\n",
       "  <tbody>\n",
       "    <tr>\n",
       "      <th>count</th>\n",
       "      <td>116</td>\n",
       "      <td>116</td>\n",
       "      <td>116</td>\n",
       "      <td>116</td>\n",
       "      <td>116</td>\n",
       "      <td>116</td>\n",
       "      <td>116</td>\n",
       "      <td>116</td>\n",
       "      <td>116</td>\n",
       "      <td>116</td>\n",
       "      <td>116</td>\n",
       "      <td>116</td>\n",
       "      <td>116</td>\n",
       "      <td>116</td>\n",
       "      <td>116</td>\n",
       "      <td>116</td>\n",
       "    </tr>\n",
       "    <tr>\n",
       "      <th>unique</th>\n",
       "      <td>66</td>\n",
       "      <td>66</td>\n",
       "      <td>116</td>\n",
       "      <td>64</td>\n",
       "      <td>1</td>\n",
       "      <td>1</td>\n",
       "      <td>6</td>\n",
       "      <td>3</td>\n",
       "      <td>12</td>\n",
       "      <td>85</td>\n",
       "      <td>61</td>\n",
       "      <td>78</td>\n",
       "      <td>68</td>\n",
       "      <td>68</td>\n",
       "      <td>73</td>\n",
       "      <td>1</td>\n",
       "    </tr>\n",
       "    <tr>\n",
       "      <th>top</th>\n",
       "      <td>782081187</td>\n",
       "      <td>782081187</td>\n",
       "      <td>2016-09-27T13:31:51</td>\n",
       "      <td>ebay.com</td>\n",
       "      <td>US</td>\n",
       "      <td>US</td>\n",
       "      <td>05</td>\n",
       "      <td>01</td>\n",
       "      <td>online_retail</td>\n",
       "      <td>04/2025</td>\n",
       "      <td>2014-01-15</td>\n",
       "      <td>2016-03-15</td>\n",
       "      <td>363</td>\n",
       "      <td>363</td>\n",
       "      <td>7256</td>\n",
       "      <td>ADDRESS_VERIFICATION</td>\n",
       "    </tr>\n",
       "    <tr>\n",
       "      <th>freq</th>\n",
       "      <td>14</td>\n",
       "      <td>14</td>\n",
       "      <td>1</td>\n",
       "      <td>9</td>\n",
       "      <td>116</td>\n",
       "      <td>116</td>\n",
       "      <td>42</td>\n",
       "      <td>94</td>\n",
       "      <td>27</td>\n",
       "      <td>4</td>\n",
       "      <td>14</td>\n",
       "      <td>5</td>\n",
       "      <td>10</td>\n",
       "      <td>10</td>\n",
       "      <td>10</td>\n",
       "      <td>116</td>\n",
       "    </tr>\n",
       "  </tbody>\n",
       "</table>\n",
       "</div>"
      ],
      "text/plain": [
       "       accountNumber customerId  transactionDateTime merchantName acqCountry  \\\n",
       "count            116        116                  116          116        116   \n",
       "unique            66         66                  116           64          1   \n",
       "top        782081187  782081187  2016-09-27T13:31:51     ebay.com         US   \n",
       "freq              14         14                    1            9        116   \n",
       "\n",
       "       merchantCountryCode posEntryMode posConditionCode merchantCategoryCode  \\\n",
       "count                  116          116              116                  116   \n",
       "unique                   1            6                3                   12   \n",
       "top                     US           05               01        online_retail   \n",
       "freq                   116           42               94                   27   \n",
       "\n",
       "       currentExpDate accountOpenDate dateOfLastAddressChange cardCVV  \\\n",
       "count             116             116                     116     116   \n",
       "unique             85              61                      78      68   \n",
       "top           04/2025      2014-01-15              2016-03-15     363   \n",
       "freq                4              14                       5      10   \n",
       "\n",
       "       enteredCVV cardLast4Digits       transactionType  \n",
       "count         116             116                   116  \n",
       "unique         68              73                     1  \n",
       "top           363            7256  ADDRESS_VERIFICATION  \n",
       "freq           10              10                   116  "
      ]
     },
     "execution_count": 37,
     "metadata": {},
     "output_type": "execute_result"
    }
   ],
   "source": [
    "transactions[(transactions.isFraud == True) & (transactions.transactionType == 'ADDRESS_VERIFICATION')].describe(include = ['O'])"
   ]
  },
  {
   "cell_type": "markdown",
   "id": "d7972367-7c20-499e-9b1d-0907a290f1d0",
   "metadata": {},
   "source": [
    "Investigating address verification frauds show that most of these frauds happen online, and particularly on ebay. "
   ]
  },
  {
   "cell_type": "code",
   "execution_count": 39,
   "id": "f1c3d7f7-8667-4096-90ec-f770bc0b2f2e",
   "metadata": {},
   "outputs": [],
   "source": [
    "transactions['transactionDateTime'] = pd.to_datetime(transactions.transactionDateTime)\n",
    "transactions['currentExpDate'] = pd.to_datetime(transactions.currentExpDate)\n",
    "transactions['accountOpenDate'] = pd.to_datetime(transactions.accountOpenDate)\n",
    "transactions['dateOfLastAddressChange'] = pd.to_datetime(transactions.dateOfLastAddressChange)"
   ]
  },
  {
   "cell_type": "code",
   "execution_count": 40,
   "id": "cd2120a5-d7bc-4b0a-b4d6-0e05d166fa5e",
   "metadata": {},
   "outputs": [
    {
     "data": {
      "text/plain": [
       "accountNumber                       object\n",
       "customerId                          object\n",
       "creditLimit                        float64\n",
       "availableMoney                     float64\n",
       "transactionDateTime         datetime64[ns]\n",
       "transactionAmount                  float64\n",
       "merchantName                        object\n",
       "acqCountry                          object\n",
       "merchantCountryCode                 object\n",
       "posEntryMode                        object\n",
       "posConditionCode                    object\n",
       "merchantCategoryCode                object\n",
       "currentExpDate              datetime64[ns]\n",
       "accountOpenDate             datetime64[ns]\n",
       "dateOfLastAddressChange     datetime64[ns]\n",
       "cardCVV                             object\n",
       "enteredCVV                          object\n",
       "cardLast4Digits                     object\n",
       "transactionType                     object\n",
       "currentBalance                     float64\n",
       "cardPresent                           bool\n",
       "expirationDateKeyInMatch              bool\n",
       "isFraud                               bool\n",
       "dtype: object"
      ]
     },
     "execution_count": 40,
     "metadata": {},
     "output_type": "execute_result"
    }
   ],
   "source": [
    "transactions.dtypes"
   ]
  },
  {
   "cell_type": "markdown",
   "id": "01ee36a0-4072-4857-86aa-63e4fa2e75ca",
   "metadata": {},
   "source": [
    "How many times is the acqCountry the same as merchantCountryCode? - We assume that acqCountry means where the credit card was acquired/ or the billing address, but more knownledge from the business could help in feature selection."
   ]
  },
  {
   "cell_type": "code",
   "execution_count": 41,
   "id": "7ab55e4b-c6f2-495d-bfc1-a6f9db544c4b",
   "metadata": {},
   "outputs": [
    {
     "data": {
      "text/plain": [
       "0.004973530036382688"
      ]
     },
     "execution_count": 41,
     "metadata": {},
     "output_type": "execute_result"
    }
   ],
   "source": [
    "(transactions.acqCountry != transactions.merchantCountryCode).sum() / transactions.shape[0]"
   ]
  },
  {
   "cell_type": "markdown",
   "id": "91324ac7-beb1-495c-812e-a1af95515e92",
   "metadata": {},
   "source": [
    "transactions[(transactions.acqCountry != transactions.merchantCountryCode)].isFraud.value_counts() "
   ]
  },
  {
   "cell_type": "code",
   "execution_count": 44,
   "id": "87e3d58a-7242-45b6-934f-466a0bfa5c02",
   "metadata": {},
   "outputs": [
    {
     "data": {
      "text/plain": [
       "7015"
      ]
     },
     "execution_count": 44,
     "metadata": {},
     "output_type": "execute_result"
    }
   ],
   "source": [
    "(transactions.cardCVV != transactions.enteredCVV).sum()"
   ]
  },
  {
   "cell_type": "code",
   "execution_count": 46,
   "id": "2465c984-3985-4565-bd03-fdffe4ed3f88",
   "metadata": {},
   "outputs": [
    {
     "data": {
      "text/plain": [
       "False    6812\n",
       "True      203\n",
       "Name: isFraud, dtype: int64"
      ]
     },
     "execution_count": 46,
     "metadata": {},
     "output_type": "execute_result"
    }
   ],
   "source": [
    "transactions[(transactions.cardCVV != transactions.enteredCVV)].isFraud.value_counts() "
   ]
  },
  {
   "cell_type": "markdown",
   "id": "eba3c656-be88-4441-bdb9-67a2ad24ce6e",
   "metadata": {},
   "source": [
    "Both of these can lead to informative features, since from a business perspective fraudsters are likely to enter CVV's that don't match, and also falsify they're address."
   ]
  },
  {
   "cell_type": "markdown",
   "id": "978347cb-da37-401b-8e8f-de03f7ec49bc",
   "metadata": {},
   "source": [
    "Which is the account with the highest number of transactions and how what is the distribution of fraudulent transactions?"
   ]
  },
  {
   "cell_type": "code",
   "execution_count": 53,
   "id": "dae3ec72-cb0a-431e-8207-c04d3486cd91",
   "metadata": {},
   "outputs": [
    {
     "data": {
      "text/plain": [
       "accountNumber\n",
       "380680241    32850\n",
       "Name: transactionAmount, dtype: int64"
      ]
     },
     "execution_count": 53,
     "metadata": {},
     "output_type": "execute_result"
    }
   ],
   "source": [
    "transactions.groupby('accountNumber').count()['transactionAmount'][transactions.groupby('accountNumber').count()['transactionAmount'].max() ==  transactions.groupby('accountNumber').count()['transactionAmount']]"
   ]
  },
  {
   "cell_type": "code",
   "execution_count": 56,
   "id": "245fdc2b-3ffb-4dbf-b7b5-7083cb74f4e8",
   "metadata": {},
   "outputs": [
    {
     "data": {
      "text/plain": [
       "False    0.976164\n",
       "True     0.023836\n",
       "Name: isFraud, dtype: float64"
      ]
     },
     "execution_count": 56,
     "metadata": {},
     "output_type": "execute_result"
    }
   ],
   "source": [
    "transactions[transactions.accountNumber == '380680241'].isFraud.value_counts() / transactions[transactions.accountNumber == '380680241'].isFraud.value_counts().sum()"
   ]
  },
  {
   "cell_type": "markdown",
   "id": "7e26d22b-dd9a-4283-9e6c-afba629264c9",
   "metadata": {},
   "source": [
    "# Q.3 Data Wrangling - Identifying reversals and multi-swipe transactions \n",
    "\n",
    "Reversals and multi swipe vary in time, however the things they have in common are accountNumber, transactionAmount and merchantName. Here merchantName has not been preprocessed, since we want to find duplicates of transactions at each physical retail store / instance of a particular merchant.\n",
    "\n",
    "The algorithm used to compute duplicates: \n",
    "1. Pre Sort transactions according to the transactionDateTime\n",
    "2. REVERSALS:\n",
    "    for each in unique(accountNumber,transactionAmount and MerchantName):\n",
    "        if LAG(transactionType) == 'PURCHASE' and transactionType == 'REVERSAL':\n",
    "            print('Reversal Identified')\n",
    "3. MULTISWIPE: Multi-swipes are slightly complicated because we need to decide a time frame between consecutive transactions   that occur to be classified as multi-swipe. Thus for the algorithm, we decide a threshold for eg. 2 mins (UPPER LIMIT) between each of the transactions to be classified as multi-swipe. We also assume that the type of the transaction has to be similar in each of the cases.\n",
    "    for each in unique(accountNumber,transactionAmount,MerchantName,transactionType):\n",
    "        if LAG(transactionDateTime) - transactionDateTime <= time_threshold:\n",
    "            print('Duplicate Identified')\n",
    "\n",
    "Note: This method works since the first transaction is considered normal as described in the question. We also assume that transactionAmount has to be the same for a transaction to be called duplicate. "
   ]
  },
  {
   "cell_type": "code",
   "execution_count": 60,
   "id": "5ce693c5-9784-4edc-a5ba-60000a9053ae",
   "metadata": {},
   "outputs": [],
   "source": [
    "transactions = transactions.sort_values(by = 'transactionDateTime',ascending = True)"
   ]
  },
  {
   "cell_type": "code",
   "execution_count": 61,
   "id": "5fb5afe5-5892-4820-9fc9-c603d36d4f0b",
   "metadata": {},
   "outputs": [],
   "source": [
    "duplicated = transactions.groupby(['accountNumber','transactionAmount','merchantName']).count()\n",
    "to_inspect = duplicated[duplicated['creditLimit'] > 1].index"
   ]
  },
  {
   "cell_type": "code",
   "execution_count": 62,
   "id": "3f5b80b4-7403-411f-8d05-e2240b043bdb",
   "metadata": {},
   "outputs": [],
   "source": [
    "indexed_transactions = transactions.set_index(['accountNumber','transactionAmount','merchantName'])"
   ]
  },
  {
   "cell_type": "code",
   "execution_count": 63,
   "id": "427cd87d-f63d-4c2f-a1a6-ce5c29743e15",
   "metadata": {},
   "outputs": [
    {
     "data": {
      "text/plain": [
       "4517"
      ]
     },
     "execution_count": 63,
     "metadata": {},
     "output_type": "execute_result"
    }
   ],
   "source": [
    "len(to_inspect.to_frame()['accountNumber'].unique())"
   ]
  },
  {
   "cell_type": "markdown",
   "id": "1f59ba38-29f8-4a48-bafc-0b9fb063b24a",
   "metadata": {},
   "source": [
    "<p> 4517 out of 5000 accounts have some kind of duplicate transactions! </p>"
   ]
  },
  {
   "cell_type": "markdown",
   "id": "ff28a208-97ed-4727-bc39-62f61e9f11e3",
   "metadata": {},
   "source": [
    "## Below we estimate reversed and multi-swipe transaction amounts and numbers"
   ]
  },
  {
   "cell_type": "markdown",
   "id": "b63ac22c-8327-4457-9cb0-0bc8bb2a68aa",
   "metadata": {
    "jp-MarkdownHeadingCollapsed": true,
    "tags": []
   },
   "source": [
    "#### In case of multi-swipe the time of the transactions should be really close. Let's analyze the distribution of time differences between these transactions."
   ]
  },
  {
   "cell_type": "markdown",
   "id": "6237dddb-70e2-417a-ac53-4395731c170b",
   "metadata": {
    "tags": []
   },
   "source": [
    "#### <u> Scenarios: </u>\n",
    "1. A credit card transaction could be reversed.\n",
    "2. A transaction could be multi swiped.\n",
    "3. A transaction could be reversed and further multi-swiped. \n",
    "4. A transaction could be multi-swiped followed by reversal.\n",
    "\n",
    "The algorithm should work for all these cases.\n",
    "\n",
    "#### <u> Questions raised during this exercise: </u>\n",
    "\n",
    "- Do we want to remove any of these data points from the dataset to introduce more balance? \n",
    "- How do creditLimit, availableMoney and currentBalance work together in case of these duplicated transactions? Does might affect our data quality going into the model , and we must take care of data cleaning if necessary."
   ]
  },
  {
   "cell_type": "markdown",
   "id": "1af3f793-2e88-4f78-897d-58c7e15e19f7",
   "metadata": {},
   "source": [
    "## REVERSALS"
   ]
  },
  {
   "cell_type": "code",
   "execution_count": 64,
   "id": "9e1ef50f-277e-44c2-93b8-f90d8fa6aa61",
   "metadata": {},
   "outputs": [
    {
     "data": {
      "text/html": [
       "<div>\n",
       "<style scoped>\n",
       "    .dataframe tbody tr th:only-of-type {\n",
       "        vertical-align: middle;\n",
       "    }\n",
       "\n",
       "    .dataframe tbody tr th {\n",
       "        vertical-align: top;\n",
       "    }\n",
       "\n",
       "    .dataframe thead th {\n",
       "        text-align: right;\n",
       "    }\n",
       "</style>\n",
       "<table border=\"1\" class=\"dataframe\">\n",
       "  <thead>\n",
       "    <tr style=\"text-align: right;\">\n",
       "      <th></th>\n",
       "      <th></th>\n",
       "      <th></th>\n",
       "      <th>customerId</th>\n",
       "      <th>creditLimit</th>\n",
       "      <th>availableMoney</th>\n",
       "      <th>transactionDateTime</th>\n",
       "      <th>acqCountry</th>\n",
       "      <th>merchantCountryCode</th>\n",
       "      <th>posEntryMode</th>\n",
       "      <th>posConditionCode</th>\n",
       "      <th>merchantCategoryCode</th>\n",
       "      <th>currentExpDate</th>\n",
       "      <th>accountOpenDate</th>\n",
       "      <th>dateOfLastAddressChange</th>\n",
       "      <th>cardCVV</th>\n",
       "      <th>enteredCVV</th>\n",
       "      <th>cardLast4Digits</th>\n",
       "      <th>transactionType</th>\n",
       "      <th>currentBalance</th>\n",
       "      <th>cardPresent</th>\n",
       "      <th>expirationDateKeyInMatch</th>\n",
       "      <th>isFraud</th>\n",
       "    </tr>\n",
       "    <tr>\n",
       "      <th>accountNumber</th>\n",
       "      <th>transactionAmount</th>\n",
       "      <th>merchantName</th>\n",
       "      <th></th>\n",
       "      <th></th>\n",
       "      <th></th>\n",
       "      <th></th>\n",
       "      <th></th>\n",
       "      <th></th>\n",
       "      <th></th>\n",
       "      <th></th>\n",
       "      <th></th>\n",
       "      <th></th>\n",
       "      <th></th>\n",
       "      <th></th>\n",
       "      <th></th>\n",
       "      <th></th>\n",
       "      <th></th>\n",
       "      <th></th>\n",
       "      <th></th>\n",
       "      <th></th>\n",
       "      <th></th>\n",
       "      <th></th>\n",
       "    </tr>\n",
       "  </thead>\n",
       "  <tbody>\n",
       "    <tr>\n",
       "      <th>100088067</th>\n",
       "      <th>22.32</th>\n",
       "      <th>AMC #79863</th>\n",
       "      <td>100088067</td>\n",
       "      <td>50000.0</td>\n",
       "      <td>49811.88</td>\n",
       "      <td>2016-11-20 08:00:04</td>\n",
       "      <td>US</td>\n",
       "      <td>US</td>\n",
       "      <td>09</td>\n",
       "      <td>01</td>\n",
       "      <td>entertainment</td>\n",
       "      <td>2020-06-01</td>\n",
       "      <td>2014-01-09</td>\n",
       "      <td>2014-01-09</td>\n",
       "      <td>546</td>\n",
       "      <td>546</td>\n",
       "      <td>4615</td>\n",
       "      <td>REVERSAL</td>\n",
       "      <td>188.12</td>\n",
       "      <td>True</td>\n",
       "      <td>False</td>\n",
       "      <td>False</td>\n",
       "    </tr>\n",
       "    <tr>\n",
       "      <th rowspan=\"2\" valign=\"top\">100328049</th>\n",
       "      <th>43.74</th>\n",
       "      <th>Lyft</th>\n",
       "      <td>100328049</td>\n",
       "      <td>5000.0</td>\n",
       "      <td>4605.10</td>\n",
       "      <td>2016-01-15 20:36:18</td>\n",
       "      <td>US</td>\n",
       "      <td>US</td>\n",
       "      <td>09</td>\n",
       "      <td>08</td>\n",
       "      <td>rideshare</td>\n",
       "      <td>2027-05-01</td>\n",
       "      <td>2014-01-07</td>\n",
       "      <td>2014-01-07</td>\n",
       "      <td>206</td>\n",
       "      <td>206</td>\n",
       "      <td>2941</td>\n",
       "      <td>REVERSAL</td>\n",
       "      <td>394.90</td>\n",
       "      <td>False</td>\n",
       "      <td>False</td>\n",
       "      <td>False</td>\n",
       "    </tr>\n",
       "    <tr>\n",
       "      <th>284.97</th>\n",
       "      <th>McDonalds #423357</th>\n",
       "      <td>100328049</td>\n",
       "      <td>5000.0</td>\n",
       "      <td>3792.09</td>\n",
       "      <td>2016-03-26 17:35:09</td>\n",
       "      <td>US</td>\n",
       "      <td>US</td>\n",
       "      <td>02</td>\n",
       "      <td>08</td>\n",
       "      <td>fastfood</td>\n",
       "      <td>2027-10-01</td>\n",
       "      <td>2014-01-07</td>\n",
       "      <td>2014-01-07</td>\n",
       "      <td>206</td>\n",
       "      <td>206</td>\n",
       "      <td>2941</td>\n",
       "      <td>REVERSAL</td>\n",
       "      <td>1207.91</td>\n",
       "      <td>True</td>\n",
       "      <td>False</td>\n",
       "      <td>False</td>\n",
       "    </tr>\n",
       "    <tr>\n",
       "      <th rowspan=\"2\" valign=\"top\">100737756</th>\n",
       "      <th>93.67</th>\n",
       "      <th>34th BBQ #436606</th>\n",
       "      <td>100737756</td>\n",
       "      <td>250.0</td>\n",
       "      <td>119.51</td>\n",
       "      <td>2016-06-06 22:56:52</td>\n",
       "      <td>US</td>\n",
       "      <td>US</td>\n",
       "      <td>05</td>\n",
       "      <td>01</td>\n",
       "      <td>food</td>\n",
       "      <td>2026-05-01</td>\n",
       "      <td>2015-06-21</td>\n",
       "      <td>2015-06-21</td>\n",
       "      <td>463</td>\n",
       "      <td>463</td>\n",
       "      <td>4317</td>\n",
       "      <td>REVERSAL</td>\n",
       "      <td>130.49</td>\n",
       "      <td>True</td>\n",
       "      <td>False</td>\n",
       "      <td>False</td>\n",
       "    </tr>\n",
       "    <tr>\n",
       "      <th>501.29</th>\n",
       "      <th>Best Bistro #262998</th>\n",
       "      <td>100737756</td>\n",
       "      <td>250.0</td>\n",
       "      <td>144.52</td>\n",
       "      <td>2016-08-24 20:21:19</td>\n",
       "      <td>US</td>\n",
       "      <td>US</td>\n",
       "      <td>05</td>\n",
       "      <td>01</td>\n",
       "      <td>food</td>\n",
       "      <td>2021-07-01</td>\n",
       "      <td>2015-06-21</td>\n",
       "      <td>2015-06-21</td>\n",
       "      <td>463</td>\n",
       "      <td>463</td>\n",
       "      <td>4317</td>\n",
       "      <td>REVERSAL</td>\n",
       "      <td>105.48</td>\n",
       "      <td>True</td>\n",
       "      <td>False</td>\n",
       "      <td>False</td>\n",
       "    </tr>\n",
       "    <tr>\n",
       "      <th>...</th>\n",
       "      <th>...</th>\n",
       "      <th>...</th>\n",
       "      <td>...</td>\n",
       "      <td>...</td>\n",
       "      <td>...</td>\n",
       "      <td>...</td>\n",
       "      <td>...</td>\n",
       "      <td>...</td>\n",
       "      <td>...</td>\n",
       "      <td>...</td>\n",
       "      <td>...</td>\n",
       "      <td>...</td>\n",
       "      <td>...</td>\n",
       "      <td>...</td>\n",
       "      <td>...</td>\n",
       "      <td>...</td>\n",
       "      <td>...</td>\n",
       "      <td>...</td>\n",
       "      <td>...</td>\n",
       "      <td>...</td>\n",
       "      <td>...</td>\n",
       "      <td>...</td>\n",
       "    </tr>\n",
       "    <tr>\n",
       "      <th>999258704</th>\n",
       "      <th>367.13</th>\n",
       "      <th>Uber</th>\n",
       "      <td>999258704</td>\n",
       "      <td>5000.0</td>\n",
       "      <td>4246.82</td>\n",
       "      <td>2016-03-16 07:14:17</td>\n",
       "      <td>US</td>\n",
       "      <td>US</td>\n",
       "      <td>09</td>\n",
       "      <td>01</td>\n",
       "      <td>rideshare</td>\n",
       "      <td>2020-03-01</td>\n",
       "      <td>2015-12-22</td>\n",
       "      <td>2015-12-22</td>\n",
       "      <td>708</td>\n",
       "      <td>708</td>\n",
       "      <td>3757</td>\n",
       "      <td>REVERSAL</td>\n",
       "      <td>753.18</td>\n",
       "      <td>False</td>\n",
       "      <td>False</td>\n",
       "      <td>False</td>\n",
       "    </tr>\n",
       "    <tr>\n",
       "      <th rowspan=\"4\" valign=\"top\">999283629</th>\n",
       "      <th>96.56</th>\n",
       "      <th>Lyft</th>\n",
       "      <td>999283629</td>\n",
       "      <td>2500.0</td>\n",
       "      <td>2403.44</td>\n",
       "      <td>2016-06-07 18:32:39</td>\n",
       "      <td>US</td>\n",
       "      <td>US</td>\n",
       "      <td>05</td>\n",
       "      <td>08</td>\n",
       "      <td>rideshare</td>\n",
       "      <td>2029-06-01</td>\n",
       "      <td>2015-11-08</td>\n",
       "      <td>2016-03-09</td>\n",
       "      <td>489</td>\n",
       "      <td>489</td>\n",
       "      <td>3016</td>\n",
       "      <td>REVERSAL</td>\n",
       "      <td>96.56</td>\n",
       "      <td>False</td>\n",
       "      <td>False</td>\n",
       "      <td>False</td>\n",
       "    </tr>\n",
       "    <tr>\n",
       "      <th>150.58</th>\n",
       "      <th>Franks Sandwitch Bar</th>\n",
       "      <td>999283629</td>\n",
       "      <td>2500.0</td>\n",
       "      <td>2034.10</td>\n",
       "      <td>2016-11-19 18:48:08</td>\n",
       "      <td>US</td>\n",
       "      <td>US</td>\n",
       "      <td>09</td>\n",
       "      <td>01</td>\n",
       "      <td>food</td>\n",
       "      <td>2030-03-01</td>\n",
       "      <td>2015-11-08</td>\n",
       "      <td>2016-03-09</td>\n",
       "      <td>489</td>\n",
       "      <td>489</td>\n",
       "      <td>3016</td>\n",
       "      <td>REVERSAL</td>\n",
       "      <td>465.90</td>\n",
       "      <td>True</td>\n",
       "      <td>False</td>\n",
       "      <td>False</td>\n",
       "    </tr>\n",
       "    <tr>\n",
       "      <th>247.40</th>\n",
       "      <th>Delta Airlines</th>\n",
       "      <td>999283629</td>\n",
       "      <td>2500.0</td>\n",
       "      <td>2500.00</td>\n",
       "      <td>2016-05-01 05:42:19</td>\n",
       "      <td>US</td>\n",
       "      <td>US</td>\n",
       "      <td>05</td>\n",
       "      <td>01</td>\n",
       "      <td>airline</td>\n",
       "      <td>2021-08-01</td>\n",
       "      <td>2015-11-08</td>\n",
       "      <td>2016-03-09</td>\n",
       "      <td>919</td>\n",
       "      <td>919</td>\n",
       "      <td>4157</td>\n",
       "      <td>REVERSAL</td>\n",
       "      <td>0.00</td>\n",
       "      <td>False</td>\n",
       "      <td>False</td>\n",
       "      <td>False</td>\n",
       "    </tr>\n",
       "    <tr>\n",
       "      <th>407.23</th>\n",
       "      <th>apple.com</th>\n",
       "      <td>999283629</td>\n",
       "      <td>2500.0</td>\n",
       "      <td>2500.00</td>\n",
       "      <td>2016-10-03 11:08:21</td>\n",
       "      <td>US</td>\n",
       "      <td>US</td>\n",
       "      <td>05</td>\n",
       "      <td>01</td>\n",
       "      <td>online_retail</td>\n",
       "      <td>2030-06-01</td>\n",
       "      <td>2015-11-08</td>\n",
       "      <td>2016-03-09</td>\n",
       "      <td>489</td>\n",
       "      <td>487</td>\n",
       "      <td>3016</td>\n",
       "      <td>REVERSAL</td>\n",
       "      <td>0.00</td>\n",
       "      <td>False</td>\n",
       "      <td>False</td>\n",
       "      <td>False</td>\n",
       "    </tr>\n",
       "  </tbody>\n",
       "</table>\n",
       "<p>18363 rows × 20 columns</p>\n",
       "</div>"
      ],
      "text/plain": [
       "                                                     customerId  creditLimit  \\\n",
       "accountNumber transactionAmount merchantName                                   \n",
       "100088067     22.32             AMC #79863            100088067      50000.0   \n",
       "100328049     43.74             Lyft                  100328049       5000.0   \n",
       "              284.97            McDonalds #423357     100328049       5000.0   \n",
       "100737756     93.67             34th BBQ #436606      100737756        250.0   \n",
       "              501.29            Best Bistro #262998   100737756        250.0   \n",
       "...                                                         ...          ...   \n",
       "999258704     367.13            Uber                  999258704       5000.0   \n",
       "999283629     96.56             Lyft                  999283629       2500.0   \n",
       "              150.58            Franks Sandwitch Bar  999283629       2500.0   \n",
       "              247.40            Delta Airlines        999283629       2500.0   \n",
       "              407.23            apple.com             999283629       2500.0   \n",
       "\n",
       "                                                      availableMoney  \\\n",
       "accountNumber transactionAmount merchantName                           \n",
       "100088067     22.32             AMC #79863                  49811.88   \n",
       "100328049     43.74             Lyft                         4605.10   \n",
       "              284.97            McDonalds #423357            3792.09   \n",
       "100737756     93.67             34th BBQ #436606              119.51   \n",
       "              501.29            Best Bistro #262998           144.52   \n",
       "...                                                              ...   \n",
       "999258704     367.13            Uber                         4246.82   \n",
       "999283629     96.56             Lyft                         2403.44   \n",
       "              150.58            Franks Sandwitch Bar         2034.10   \n",
       "              247.40            Delta Airlines               2500.00   \n",
       "              407.23            apple.com                    2500.00   \n",
       "\n",
       "                                                     transactionDateTime  \\\n",
       "accountNumber transactionAmount merchantName                               \n",
       "100088067     22.32             AMC #79863           2016-11-20 08:00:04   \n",
       "100328049     43.74             Lyft                 2016-01-15 20:36:18   \n",
       "              284.97            McDonalds #423357    2016-03-26 17:35:09   \n",
       "100737756     93.67             34th BBQ #436606     2016-06-06 22:56:52   \n",
       "              501.29            Best Bistro #262998  2016-08-24 20:21:19   \n",
       "...                                                                  ...   \n",
       "999258704     367.13            Uber                 2016-03-16 07:14:17   \n",
       "999283629     96.56             Lyft                 2016-06-07 18:32:39   \n",
       "              150.58            Franks Sandwitch Bar 2016-11-19 18:48:08   \n",
       "              247.40            Delta Airlines       2016-05-01 05:42:19   \n",
       "              407.23            apple.com            2016-10-03 11:08:21   \n",
       "\n",
       "                                                     acqCountry  \\\n",
       "accountNumber transactionAmount merchantName                      \n",
       "100088067     22.32             AMC #79863                   US   \n",
       "100328049     43.74             Lyft                         US   \n",
       "              284.97            McDonalds #423357            US   \n",
       "100737756     93.67             34th BBQ #436606             US   \n",
       "              501.29            Best Bistro #262998          US   \n",
       "...                                                         ...   \n",
       "999258704     367.13            Uber                         US   \n",
       "999283629     96.56             Lyft                         US   \n",
       "              150.58            Franks Sandwitch Bar         US   \n",
       "              247.40            Delta Airlines               US   \n",
       "              407.23            apple.com                    US   \n",
       "\n",
       "                                                     merchantCountryCode  \\\n",
       "accountNumber transactionAmount merchantName                               \n",
       "100088067     22.32             AMC #79863                            US   \n",
       "100328049     43.74             Lyft                                  US   \n",
       "              284.97            McDonalds #423357                     US   \n",
       "100737756     93.67             34th BBQ #436606                      US   \n",
       "              501.29            Best Bistro #262998                   US   \n",
       "...                                                                  ...   \n",
       "999258704     367.13            Uber                                  US   \n",
       "999283629     96.56             Lyft                                  US   \n",
       "              150.58            Franks Sandwitch Bar                  US   \n",
       "              247.40            Delta Airlines                        US   \n",
       "              407.23            apple.com                             US   \n",
       "\n",
       "                                                     posEntryMode  \\\n",
       "accountNumber transactionAmount merchantName                        \n",
       "100088067     22.32             AMC #79863                     09   \n",
       "100328049     43.74             Lyft                           09   \n",
       "              284.97            McDonalds #423357              02   \n",
       "100737756     93.67             34th BBQ #436606               05   \n",
       "              501.29            Best Bistro #262998            05   \n",
       "...                                                           ...   \n",
       "999258704     367.13            Uber                           09   \n",
       "999283629     96.56             Lyft                           05   \n",
       "              150.58            Franks Sandwitch Bar           09   \n",
       "              247.40            Delta Airlines                 05   \n",
       "              407.23            apple.com                      05   \n",
       "\n",
       "                                                     posConditionCode  \\\n",
       "accountNumber transactionAmount merchantName                            \n",
       "100088067     22.32             AMC #79863                         01   \n",
       "100328049     43.74             Lyft                               08   \n",
       "              284.97            McDonalds #423357                  08   \n",
       "100737756     93.67             34th BBQ #436606                   01   \n",
       "              501.29            Best Bistro #262998                01   \n",
       "...                                                               ...   \n",
       "999258704     367.13            Uber                               01   \n",
       "999283629     96.56             Lyft                               08   \n",
       "              150.58            Franks Sandwitch Bar               01   \n",
       "              247.40            Delta Airlines                     01   \n",
       "              407.23            apple.com                          01   \n",
       "\n",
       "                                                     merchantCategoryCode  \\\n",
       "accountNumber transactionAmount merchantName                                \n",
       "100088067     22.32             AMC #79863                  entertainment   \n",
       "100328049     43.74             Lyft                            rideshare   \n",
       "              284.97            McDonalds #423357                fastfood   \n",
       "100737756     93.67             34th BBQ #436606                     food   \n",
       "              501.29            Best Bistro #262998                  food   \n",
       "...                                                                   ...   \n",
       "999258704     367.13            Uber                            rideshare   \n",
       "999283629     96.56             Lyft                            rideshare   \n",
       "              150.58            Franks Sandwitch Bar                 food   \n",
       "              247.40            Delta Airlines                    airline   \n",
       "              407.23            apple.com                   online_retail   \n",
       "\n",
       "                                                     currentExpDate  \\\n",
       "accountNumber transactionAmount merchantName                          \n",
       "100088067     22.32             AMC #79863               2020-06-01   \n",
       "100328049     43.74             Lyft                     2027-05-01   \n",
       "              284.97            McDonalds #423357        2027-10-01   \n",
       "100737756     93.67             34th BBQ #436606         2026-05-01   \n",
       "              501.29            Best Bistro #262998      2021-07-01   \n",
       "...                                                             ...   \n",
       "999258704     367.13            Uber                     2020-03-01   \n",
       "999283629     96.56             Lyft                     2029-06-01   \n",
       "              150.58            Franks Sandwitch Bar     2030-03-01   \n",
       "              247.40            Delta Airlines           2021-08-01   \n",
       "              407.23            apple.com                2030-06-01   \n",
       "\n",
       "                                                     accountOpenDate  \\\n",
       "accountNumber transactionAmount merchantName                           \n",
       "100088067     22.32             AMC #79863                2014-01-09   \n",
       "100328049     43.74             Lyft                      2014-01-07   \n",
       "              284.97            McDonalds #423357         2014-01-07   \n",
       "100737756     93.67             34th BBQ #436606          2015-06-21   \n",
       "              501.29            Best Bistro #262998       2015-06-21   \n",
       "...                                                              ...   \n",
       "999258704     367.13            Uber                      2015-12-22   \n",
       "999283629     96.56             Lyft                      2015-11-08   \n",
       "              150.58            Franks Sandwitch Bar      2015-11-08   \n",
       "              247.40            Delta Airlines            2015-11-08   \n",
       "              407.23            apple.com                 2015-11-08   \n",
       "\n",
       "                                                     dateOfLastAddressChange  \\\n",
       "accountNumber transactionAmount merchantName                                   \n",
       "100088067     22.32             AMC #79863                        2014-01-09   \n",
       "100328049     43.74             Lyft                              2014-01-07   \n",
       "              284.97            McDonalds #423357                 2014-01-07   \n",
       "100737756     93.67             34th BBQ #436606                  2015-06-21   \n",
       "              501.29            Best Bistro #262998               2015-06-21   \n",
       "...                                                                      ...   \n",
       "999258704     367.13            Uber                              2015-12-22   \n",
       "999283629     96.56             Lyft                              2016-03-09   \n",
       "              150.58            Franks Sandwitch Bar              2016-03-09   \n",
       "              247.40            Delta Airlines                    2016-03-09   \n",
       "              407.23            apple.com                         2016-03-09   \n",
       "\n",
       "                                                     cardCVV enteredCVV  \\\n",
       "accountNumber transactionAmount merchantName                              \n",
       "100088067     22.32             AMC #79863               546        546   \n",
       "100328049     43.74             Lyft                     206        206   \n",
       "              284.97            McDonalds #423357        206        206   \n",
       "100737756     93.67             34th BBQ #436606         463        463   \n",
       "              501.29            Best Bistro #262998      463        463   \n",
       "...                                                      ...        ...   \n",
       "999258704     367.13            Uber                     708        708   \n",
       "999283629     96.56             Lyft                     489        489   \n",
       "              150.58            Franks Sandwitch Bar     489        489   \n",
       "              247.40            Delta Airlines           919        919   \n",
       "              407.23            apple.com                489        487   \n",
       "\n",
       "                                                     cardLast4Digits  \\\n",
       "accountNumber transactionAmount merchantName                           \n",
       "100088067     22.32             AMC #79863                      4615   \n",
       "100328049     43.74             Lyft                            2941   \n",
       "              284.97            McDonalds #423357               2941   \n",
       "100737756     93.67             34th BBQ #436606                4317   \n",
       "              501.29            Best Bistro #262998             4317   \n",
       "...                                                              ...   \n",
       "999258704     367.13            Uber                            3757   \n",
       "999283629     96.56             Lyft                            3016   \n",
       "              150.58            Franks Sandwitch Bar            3016   \n",
       "              247.40            Delta Airlines                  4157   \n",
       "              407.23            apple.com                       3016   \n",
       "\n",
       "                                                     transactionType  \\\n",
       "accountNumber transactionAmount merchantName                           \n",
       "100088067     22.32             AMC #79863                  REVERSAL   \n",
       "100328049     43.74             Lyft                        REVERSAL   \n",
       "              284.97            McDonalds #423357           REVERSAL   \n",
       "100737756     93.67             34th BBQ #436606            REVERSAL   \n",
       "              501.29            Best Bistro #262998         REVERSAL   \n",
       "...                                                              ...   \n",
       "999258704     367.13            Uber                        REVERSAL   \n",
       "999283629     96.56             Lyft                        REVERSAL   \n",
       "              150.58            Franks Sandwitch Bar        REVERSAL   \n",
       "              247.40            Delta Airlines              REVERSAL   \n",
       "              407.23            apple.com                   REVERSAL   \n",
       "\n",
       "                                                      currentBalance  \\\n",
       "accountNumber transactionAmount merchantName                           \n",
       "100088067     22.32             AMC #79863                    188.12   \n",
       "100328049     43.74             Lyft                          394.90   \n",
       "              284.97            McDonalds #423357            1207.91   \n",
       "100737756     93.67             34th BBQ #436606              130.49   \n",
       "              501.29            Best Bistro #262998           105.48   \n",
       "...                                                              ...   \n",
       "999258704     367.13            Uber                          753.18   \n",
       "999283629     96.56             Lyft                           96.56   \n",
       "              150.58            Franks Sandwitch Bar          465.90   \n",
       "              247.40            Delta Airlines                  0.00   \n",
       "              407.23            apple.com                       0.00   \n",
       "\n",
       "                                                      cardPresent  \\\n",
       "accountNumber transactionAmount merchantName                        \n",
       "100088067     22.32             AMC #79863                   True   \n",
       "100328049     43.74             Lyft                        False   \n",
       "              284.97            McDonalds #423357            True   \n",
       "100737756     93.67             34th BBQ #436606             True   \n",
       "              501.29            Best Bistro #262998          True   \n",
       "...                                                           ...   \n",
       "999258704     367.13            Uber                        False   \n",
       "999283629     96.56             Lyft                        False   \n",
       "              150.58            Franks Sandwitch Bar         True   \n",
       "              247.40            Delta Airlines              False   \n",
       "              407.23            apple.com                   False   \n",
       "\n",
       "                                                      expirationDateKeyInMatch  \\\n",
       "accountNumber transactionAmount merchantName                                     \n",
       "100088067     22.32             AMC #79863                               False   \n",
       "100328049     43.74             Lyft                                     False   \n",
       "              284.97            McDonalds #423357                        False   \n",
       "100737756     93.67             34th BBQ #436606                         False   \n",
       "              501.29            Best Bistro #262998                      False   \n",
       "...                                                                        ...   \n",
       "999258704     367.13            Uber                                     False   \n",
       "999283629     96.56             Lyft                                     False   \n",
       "              150.58            Franks Sandwitch Bar                     False   \n",
       "              247.40            Delta Airlines                           False   \n",
       "              407.23            apple.com                                False   \n",
       "\n",
       "                                                      isFraud  \n",
       "accountNumber transactionAmount merchantName                   \n",
       "100088067     22.32             AMC #79863              False  \n",
       "100328049     43.74             Lyft                    False  \n",
       "              284.97            McDonalds #423357       False  \n",
       "100737756     93.67             34th BBQ #436606        False  \n",
       "              501.29            Best Bistro #262998     False  \n",
       "...                                                       ...  \n",
       "999258704     367.13            Uber                    False  \n",
       "999283629     96.56             Lyft                    False  \n",
       "              150.58            Franks Sandwitch Bar    False  \n",
       "              247.40            Delta Airlines          False  \n",
       "              407.23            apple.com               False  \n",
       "\n",
       "[18363 rows x 20 columns]"
      ]
     },
     "execution_count": 64,
     "metadata": {},
     "output_type": "execute_result"
    }
   ],
   "source": [
    "indexed_transactions.loc[to_inspect][indexed_transactions.loc[to_inspect]['transactionType'] == 'REVERSAL']"
   ]
  },
  {
   "cell_type": "code",
   "execution_count": 65,
   "id": "b6f7c13c-b9c5-4eb2-848e-75ff0d9dfa69",
   "metadata": {},
   "outputs": [],
   "source": [
    "duplicate = indexed_transactions.loc[to_inspect]"
   ]
  },
  {
   "cell_type": "code",
   "execution_count": 66,
   "id": "e2bfccc6-9f1f-484f-9fa4-a9012e4bdc3c",
   "metadata": {},
   "outputs": [],
   "source": [
    "duplicate_grouped = duplicate.groupby(level = [0,1,2])"
   ]
  },
  {
   "cell_type": "code",
   "execution_count": 67,
   "id": "969aa336-b99a-4ef0-9ff7-edddfcc5f544",
   "metadata": {},
   "outputs": [],
   "source": [
    "reversed_transactions = duplicate[(duplicate['transactionType'] != duplicate_grouped['transactionType'].shift(1)) \n",
    "          & (duplicate_grouped['transactionType'].shift(1).notna()) \n",
    "          & (duplicate['transactionType'] == 'REVERSAL')\n",
    "         ]"
   ]
  },
  {
   "cell_type": "code",
   "execution_count": 68,
   "id": "1d7294e3-5285-4be4-b525-a72b5bcfe22b",
   "metadata": {},
   "outputs": [
    {
     "data": {
      "text/plain": [
       "2669343.17"
      ]
     },
     "execution_count": 68,
     "metadata": {},
     "output_type": "execute_result"
    }
   ],
   "source": [
    "reversed_transactions.reset_index().transactionAmount.sum()"
   ]
  },
  {
   "cell_type": "code",
   "execution_count": 69,
   "id": "5edca79a-6967-4269-bed0-646c82bf7c36",
   "metadata": {},
   "outputs": [
    {
     "data": {
      "text/plain": [
       "18347"
      ]
     },
     "execution_count": 69,
     "metadata": {},
     "output_type": "execute_result"
    }
   ],
   "source": [
    "reversed_transactions.reset_index().transactionAmount.count()"
   ]
  },
  {
   "cell_type": "markdown",
   "id": "47498f0b-c514-4976-bf35-8a3fa446d130",
   "metadata": {},
   "source": [
    "### REVERSALS - The estimated transaction amount of reversals is 2.669 million dollars and estimated number of reversed transactions that were preceded by purchases: 18347 "
   ]
  },
  {
   "cell_type": "markdown",
   "id": "4da20313-9562-4790-97fa-b071074aa20c",
   "metadata": {},
   "source": [
    "Below we have analysis on what percentage of total reversals are caught by our algorithm "
   ]
  },
  {
   "cell_type": "code",
   "execution_count": 71,
   "id": "cdcade26-5445-4e24-ab09-12c6230d848b",
   "metadata": {},
   "outputs": [],
   "source": [
    "total_reversals = transactions[transactions.transactionType == 'REVERSAL']\n",
    "total_reversals.set_index(['accountNumber','transactionAmount','merchantName'],inplace = True)"
   ]
  },
  {
   "cell_type": "code",
   "execution_count": 72,
   "id": "7d2f1bfa-af42-4640-8537-cbb9f20b7d81",
   "metadata": {},
   "outputs": [
    {
     "data": {
      "text/plain": [
       "(20303, 20)"
      ]
     },
     "execution_count": 72,
     "metadata": {},
     "output_type": "execute_result"
    }
   ],
   "source": [
    "total_reversals.shape"
   ]
  },
  {
   "cell_type": "code",
   "execution_count": 73,
   "id": "b5afbac8-f605-4261-8d56-ca0165bbed97",
   "metadata": {},
   "outputs": [
    {
     "data": {
      "text/plain": [
       "(18347, 20)"
      ]
     },
     "execution_count": 73,
     "metadata": {},
     "output_type": "execute_result"
    }
   ],
   "source": [
    "reversed_transactions.shape"
   ]
  },
  {
   "cell_type": "code",
   "execution_count": 74,
   "id": "2aebf472-8165-4ac0-b8b6-7cbf7b4cbf8a",
   "metadata": {},
   "outputs": [
    {
     "data": {
      "text/plain": [
       "27"
      ]
     },
     "execution_count": 74,
     "metadata": {},
     "output_type": "execute_result"
    }
   ],
   "source": [
    "pd.concat([total_reversals,reversed_transactions]).drop_duplicates(keep=False).isFraud.sum()"
   ]
  },
  {
   "cell_type": "code",
   "execution_count": 75,
   "id": "b4e52dfc-a31c-4ca6-8268-aba1a045b5ea",
   "metadata": {},
   "outputs": [
    {
     "data": {
      "text/plain": [
       "337"
      ]
     },
     "execution_count": 75,
     "metadata": {},
     "output_type": "execute_result"
    }
   ],
   "source": [
    "total_reversals.isFraud.sum()"
   ]
  },
  {
   "cell_type": "code",
   "execution_count": 76,
   "id": "409cce9f-b027-40dc-a3f5-8f0b5dcec827",
   "metadata": {},
   "outputs": [
    {
     "data": {
      "text/plain": [
       "310"
      ]
     },
     "execution_count": 76,
     "metadata": {},
     "output_type": "execute_result"
    }
   ],
   "source": [
    "reversed_transactions.isFraud.sum()"
   ]
  },
  {
   "cell_type": "code",
   "execution_count": 78,
   "id": "07ed1bbd-f837-485e-958c-7802960bf5b3",
   "metadata": {},
   "outputs": [
    {
     "data": {
      "text/html": [
       "<div>\n",
       "<style scoped>\n",
       "    .dataframe tbody tr th:only-of-type {\n",
       "        vertical-align: middle;\n",
       "    }\n",
       "\n",
       "    .dataframe tbody tr th {\n",
       "        vertical-align: top;\n",
       "    }\n",
       "\n",
       "    .dataframe thead th {\n",
       "        text-align: right;\n",
       "    }\n",
       "</style>\n",
       "<table border=\"1\" class=\"dataframe\">\n",
       "  <thead>\n",
       "    <tr style=\"text-align: right;\">\n",
       "      <th></th>\n",
       "      <th></th>\n",
       "      <th></th>\n",
       "      <th>customerId</th>\n",
       "      <th>creditLimit</th>\n",
       "      <th>availableMoney</th>\n",
       "      <th>transactionDateTime</th>\n",
       "      <th>acqCountry</th>\n",
       "      <th>merchantCountryCode</th>\n",
       "      <th>posEntryMode</th>\n",
       "      <th>posConditionCode</th>\n",
       "      <th>merchantCategoryCode</th>\n",
       "      <th>currentExpDate</th>\n",
       "      <th>accountOpenDate</th>\n",
       "      <th>dateOfLastAddressChange</th>\n",
       "      <th>cardCVV</th>\n",
       "      <th>enteredCVV</th>\n",
       "      <th>cardLast4Digits</th>\n",
       "      <th>transactionType</th>\n",
       "      <th>currentBalance</th>\n",
       "      <th>cardPresent</th>\n",
       "      <th>expirationDateKeyInMatch</th>\n",
       "      <th>isFraud</th>\n",
       "    </tr>\n",
       "    <tr>\n",
       "      <th>accountNumber</th>\n",
       "      <th>transactionAmount</th>\n",
       "      <th>merchantName</th>\n",
       "      <th></th>\n",
       "      <th></th>\n",
       "      <th></th>\n",
       "      <th></th>\n",
       "      <th></th>\n",
       "      <th></th>\n",
       "      <th></th>\n",
       "      <th></th>\n",
       "      <th></th>\n",
       "      <th></th>\n",
       "      <th></th>\n",
       "      <th></th>\n",
       "      <th></th>\n",
       "      <th></th>\n",
       "      <th></th>\n",
       "      <th></th>\n",
       "      <th></th>\n",
       "      <th></th>\n",
       "      <th></th>\n",
       "      <th></th>\n",
       "    </tr>\n",
       "  </thead>\n",
       "  <tbody>\n",
       "    <tr>\n",
       "      <th>208319653</th>\n",
       "      <th>44.15</th>\n",
       "      <th>ebay.com</th>\n",
       "      <td>208319653</td>\n",
       "      <td>15000.0</td>\n",
       "      <td>14934.57</td>\n",
       "      <td>2016-01-01 03:12:54</td>\n",
       "      <td>US</td>\n",
       "      <td>US</td>\n",
       "      <td>02</td>\n",
       "      <td>01</td>\n",
       "      <td>online_retail</td>\n",
       "      <td>2021-05-01</td>\n",
       "      <td>2015-03-17</td>\n",
       "      <td>2015-03-17</td>\n",
       "      <td>548</td>\n",
       "      <td>548</td>\n",
       "      <td>7629</td>\n",
       "      <td>REVERSAL</td>\n",
       "      <td>65.43</td>\n",
       "      <td>False</td>\n",
       "      <td>False</td>\n",
       "      <td>False</td>\n",
       "    </tr>\n",
       "    <tr>\n",
       "      <th>652669001</th>\n",
       "      <th>8.91</th>\n",
       "      <th>walmart.com</th>\n",
       "      <td>652669001</td>\n",
       "      <td>2500.0</td>\n",
       "      <td>2488.67</td>\n",
       "      <td>2016-01-01 12:12:01</td>\n",
       "      <td>US</td>\n",
       "      <td>US</td>\n",
       "      <td>02</td>\n",
       "      <td>01</td>\n",
       "      <td>online_retail</td>\n",
       "      <td>2023-08-01</td>\n",
       "      <td>2015-12-30</td>\n",
       "      <td>2015-12-30</td>\n",
       "      <td>442</td>\n",
       "      <td>442</td>\n",
       "      <td>3306</td>\n",
       "      <td>REVERSAL</td>\n",
       "      <td>11.33</td>\n",
       "      <td>False</td>\n",
       "      <td>False</td>\n",
       "      <td>False</td>\n",
       "    </tr>\n",
       "    <tr>\n",
       "      <th>246251253</th>\n",
       "      <th>59.52</th>\n",
       "      <th>oldnavy.com</th>\n",
       "      <td>246251253</td>\n",
       "      <td>5000.0</td>\n",
       "      <td>2582.15</td>\n",
       "      <td>2016-01-02 18:41:17</td>\n",
       "      <td>US</td>\n",
       "      <td>US</td>\n",
       "      <td>09</td>\n",
       "      <td>01</td>\n",
       "      <td>online_retail</td>\n",
       "      <td>2026-05-01</td>\n",
       "      <td>2014-10-02</td>\n",
       "      <td>2014-10-02</td>\n",
       "      <td>455</td>\n",
       "      <td>455</td>\n",
       "      <td>6002</td>\n",
       "      <td>REVERSAL</td>\n",
       "      <td>2417.85</td>\n",
       "      <td>False</td>\n",
       "      <td>False</td>\n",
       "      <td>False</td>\n",
       "    </tr>\n",
       "    <tr>\n",
       "      <th>429052604</th>\n",
       "      <th>84.79</th>\n",
       "      <th>EZ Putt Putt #551896</th>\n",
       "      <td>429052604</td>\n",
       "      <td>500.0</td>\n",
       "      <td>202.39</td>\n",
       "      <td>2016-01-03 16:14:23</td>\n",
       "      <td>US</td>\n",
       "      <td>US</td>\n",
       "      <td>05</td>\n",
       "      <td>01</td>\n",
       "      <td>entertainment</td>\n",
       "      <td>2027-12-01</td>\n",
       "      <td>2015-08-03</td>\n",
       "      <td>2015-08-03</td>\n",
       "      <td>663</td>\n",
       "      <td>663</td>\n",
       "      <td>4554</td>\n",
       "      <td>REVERSAL</td>\n",
       "      <td>297.61</td>\n",
       "      <td>True</td>\n",
       "      <td>False</td>\n",
       "      <td>False</td>\n",
       "    </tr>\n",
       "    <tr>\n",
       "      <th>466941547</th>\n",
       "      <th>61.79</th>\n",
       "      <th>sears.com</th>\n",
       "      <td>466941547</td>\n",
       "      <td>15000.0</td>\n",
       "      <td>14828.75</td>\n",
       "      <td>2016-01-03 23:20:26</td>\n",
       "      <td>US</td>\n",
       "      <td>US</td>\n",
       "      <td>05</td>\n",
       "      <td>08</td>\n",
       "      <td>online_retail</td>\n",
       "      <td>2030-02-01</td>\n",
       "      <td>2015-06-29</td>\n",
       "      <td>2015-06-29</td>\n",
       "      <td>374</td>\n",
       "      <td>374</td>\n",
       "      <td>1637</td>\n",
       "      <td>REVERSAL</td>\n",
       "      <td>171.25</td>\n",
       "      <td>False</td>\n",
       "      <td>False</td>\n",
       "      <td>False</td>\n",
       "    </tr>\n",
       "  </tbody>\n",
       "</table>\n",
       "</div>"
      ],
      "text/plain": [
       "                                                     customerId  creditLimit  \\\n",
       "accountNumber transactionAmount merchantName                                   \n",
       "208319653     44.15             ebay.com              208319653      15000.0   \n",
       "652669001     8.91              walmart.com           652669001       2500.0   \n",
       "246251253     59.52             oldnavy.com           246251253       5000.0   \n",
       "429052604     84.79             EZ Putt Putt #551896  429052604        500.0   \n",
       "466941547     61.79             sears.com             466941547      15000.0   \n",
       "\n",
       "                                                      availableMoney  \\\n",
       "accountNumber transactionAmount merchantName                           \n",
       "208319653     44.15             ebay.com                    14934.57   \n",
       "652669001     8.91              walmart.com                  2488.67   \n",
       "246251253     59.52             oldnavy.com                  2582.15   \n",
       "429052604     84.79             EZ Putt Putt #551896          202.39   \n",
       "466941547     61.79             sears.com                   14828.75   \n",
       "\n",
       "                                                     transactionDateTime  \\\n",
       "accountNumber transactionAmount merchantName                               \n",
       "208319653     44.15             ebay.com             2016-01-01 03:12:54   \n",
       "652669001     8.91              walmart.com          2016-01-01 12:12:01   \n",
       "246251253     59.52             oldnavy.com          2016-01-02 18:41:17   \n",
       "429052604     84.79             EZ Putt Putt #551896 2016-01-03 16:14:23   \n",
       "466941547     61.79             sears.com            2016-01-03 23:20:26   \n",
       "\n",
       "                                                     acqCountry  \\\n",
       "accountNumber transactionAmount merchantName                      \n",
       "208319653     44.15             ebay.com                     US   \n",
       "652669001     8.91              walmart.com                  US   \n",
       "246251253     59.52             oldnavy.com                  US   \n",
       "429052604     84.79             EZ Putt Putt #551896         US   \n",
       "466941547     61.79             sears.com                    US   \n",
       "\n",
       "                                                     merchantCountryCode  \\\n",
       "accountNumber transactionAmount merchantName                               \n",
       "208319653     44.15             ebay.com                              US   \n",
       "652669001     8.91              walmart.com                           US   \n",
       "246251253     59.52             oldnavy.com                           US   \n",
       "429052604     84.79             EZ Putt Putt #551896                  US   \n",
       "466941547     61.79             sears.com                             US   \n",
       "\n",
       "                                                     posEntryMode  \\\n",
       "accountNumber transactionAmount merchantName                        \n",
       "208319653     44.15             ebay.com                       02   \n",
       "652669001     8.91              walmart.com                    02   \n",
       "246251253     59.52             oldnavy.com                    09   \n",
       "429052604     84.79             EZ Putt Putt #551896           05   \n",
       "466941547     61.79             sears.com                      05   \n",
       "\n",
       "                                                     posConditionCode  \\\n",
       "accountNumber transactionAmount merchantName                            \n",
       "208319653     44.15             ebay.com                           01   \n",
       "652669001     8.91              walmart.com                        01   \n",
       "246251253     59.52             oldnavy.com                        01   \n",
       "429052604     84.79             EZ Putt Putt #551896               01   \n",
       "466941547     61.79             sears.com                          08   \n",
       "\n",
       "                                                     merchantCategoryCode  \\\n",
       "accountNumber transactionAmount merchantName                                \n",
       "208319653     44.15             ebay.com                    online_retail   \n",
       "652669001     8.91              walmart.com                 online_retail   \n",
       "246251253     59.52             oldnavy.com                 online_retail   \n",
       "429052604     84.79             EZ Putt Putt #551896        entertainment   \n",
       "466941547     61.79             sears.com                   online_retail   \n",
       "\n",
       "                                                     currentExpDate  \\\n",
       "accountNumber transactionAmount merchantName                          \n",
       "208319653     44.15             ebay.com                 2021-05-01   \n",
       "652669001     8.91              walmart.com              2023-08-01   \n",
       "246251253     59.52             oldnavy.com              2026-05-01   \n",
       "429052604     84.79             EZ Putt Putt #551896     2027-12-01   \n",
       "466941547     61.79             sears.com                2030-02-01   \n",
       "\n",
       "                                                     accountOpenDate  \\\n",
       "accountNumber transactionAmount merchantName                           \n",
       "208319653     44.15             ebay.com                  2015-03-17   \n",
       "652669001     8.91              walmart.com               2015-12-30   \n",
       "246251253     59.52             oldnavy.com               2014-10-02   \n",
       "429052604     84.79             EZ Putt Putt #551896      2015-08-03   \n",
       "466941547     61.79             sears.com                 2015-06-29   \n",
       "\n",
       "                                                     dateOfLastAddressChange  \\\n",
       "accountNumber transactionAmount merchantName                                   \n",
       "208319653     44.15             ebay.com                          2015-03-17   \n",
       "652669001     8.91              walmart.com                       2015-12-30   \n",
       "246251253     59.52             oldnavy.com                       2014-10-02   \n",
       "429052604     84.79             EZ Putt Putt #551896              2015-08-03   \n",
       "466941547     61.79             sears.com                         2015-06-29   \n",
       "\n",
       "                                                     cardCVV enteredCVV  \\\n",
       "accountNumber transactionAmount merchantName                              \n",
       "208319653     44.15             ebay.com                 548        548   \n",
       "652669001     8.91              walmart.com              442        442   \n",
       "246251253     59.52             oldnavy.com              455        455   \n",
       "429052604     84.79             EZ Putt Putt #551896     663        663   \n",
       "466941547     61.79             sears.com                374        374   \n",
       "\n",
       "                                                     cardLast4Digits  \\\n",
       "accountNumber transactionAmount merchantName                           \n",
       "208319653     44.15             ebay.com                        7629   \n",
       "652669001     8.91              walmart.com                     3306   \n",
       "246251253     59.52             oldnavy.com                     6002   \n",
       "429052604     84.79             EZ Putt Putt #551896            4554   \n",
       "466941547     61.79             sears.com                       1637   \n",
       "\n",
       "                                                     transactionType  \\\n",
       "accountNumber transactionAmount merchantName                           \n",
       "208319653     44.15             ebay.com                    REVERSAL   \n",
       "652669001     8.91              walmart.com                 REVERSAL   \n",
       "246251253     59.52             oldnavy.com                 REVERSAL   \n",
       "429052604     84.79             EZ Putt Putt #551896        REVERSAL   \n",
       "466941547     61.79             sears.com                   REVERSAL   \n",
       "\n",
       "                                                      currentBalance  \\\n",
       "accountNumber transactionAmount merchantName                           \n",
       "208319653     44.15             ebay.com                       65.43   \n",
       "652669001     8.91              walmart.com                    11.33   \n",
       "246251253     59.52             oldnavy.com                  2417.85   \n",
       "429052604     84.79             EZ Putt Putt #551896          297.61   \n",
       "466941547     61.79             sears.com                     171.25   \n",
       "\n",
       "                                                      cardPresent  \\\n",
       "accountNumber transactionAmount merchantName                        \n",
       "208319653     44.15             ebay.com                    False   \n",
       "652669001     8.91              walmart.com                 False   \n",
       "246251253     59.52             oldnavy.com                 False   \n",
       "429052604     84.79             EZ Putt Putt #551896         True   \n",
       "466941547     61.79             sears.com                   False   \n",
       "\n",
       "                                                      expirationDateKeyInMatch  \\\n",
       "accountNumber transactionAmount merchantName                                     \n",
       "208319653     44.15             ebay.com                                 False   \n",
       "652669001     8.91              walmart.com                              False   \n",
       "246251253     59.52             oldnavy.com                              False   \n",
       "429052604     84.79             EZ Putt Putt #551896                     False   \n",
       "466941547     61.79             sears.com                                False   \n",
       "\n",
       "                                                      isFraud  \n",
       "accountNumber transactionAmount merchantName                   \n",
       "208319653     44.15             ebay.com                False  \n",
       "652669001     8.91              walmart.com             False  \n",
       "246251253     59.52             oldnavy.com             False  \n",
       "429052604     84.79             EZ Putt Putt #551896    False  \n",
       "466941547     61.79             sears.com               False  "
      ]
     },
     "execution_count": 78,
     "metadata": {},
     "output_type": "execute_result"
    }
   ],
   "source": [
    "pd.concat([total_reversals,reversed_transactions]).drop_duplicates(keep=False).head()"
   ]
  },
  {
   "cell_type": "markdown",
   "id": "2d01a507-5186-4754-a2fb-49012deae9da",
   "metadata": {},
   "source": [
    "<p> So what are these reversals that are not captured by our algorithm? Are they solo-reversals that were not preceded by any purchases (Which does not make sense and could probably be cleaned if they are not fraudulent.) </p>"
   ]
  },
  {
   "cell_type": "code",
   "execution_count": 79,
   "id": "f7f3967d-6c2f-451f-b0a0-32bfffd8316c",
   "metadata": {},
   "outputs": [
    {
     "name": "stderr",
     "output_type": "stream",
     "text": [
      "/tmp/ipykernel_22852/2477448769.py:2: PerformanceWarning: indexing past lexsort depth may impact performance.\n",
      "  temp.loc['428856030','Hilton Hotels #863711']\n"
     ]
    },
    {
     "data": {
      "text/html": [
       "<div>\n",
       "<style scoped>\n",
       "    .dataframe tbody tr th:only-of-type {\n",
       "        vertical-align: middle;\n",
       "    }\n",
       "\n",
       "    .dataframe tbody tr th {\n",
       "        vertical-align: top;\n",
       "    }\n",
       "\n",
       "    .dataframe thead th {\n",
       "        text-align: right;\n",
       "    }\n",
       "</style>\n",
       "<table border=\"1\" class=\"dataframe\">\n",
       "  <thead>\n",
       "    <tr style=\"text-align: right;\">\n",
       "      <th></th>\n",
       "      <th></th>\n",
       "      <th>customerId</th>\n",
       "      <th>creditLimit</th>\n",
       "      <th>availableMoney</th>\n",
       "      <th>transactionDateTime</th>\n",
       "      <th>transactionAmount</th>\n",
       "      <th>acqCountry</th>\n",
       "      <th>merchantCountryCode</th>\n",
       "      <th>posEntryMode</th>\n",
       "      <th>posConditionCode</th>\n",
       "      <th>merchantCategoryCode</th>\n",
       "      <th>...</th>\n",
       "      <th>accountOpenDate</th>\n",
       "      <th>dateOfLastAddressChange</th>\n",
       "      <th>cardCVV</th>\n",
       "      <th>enteredCVV</th>\n",
       "      <th>cardLast4Digits</th>\n",
       "      <th>transactionType</th>\n",
       "      <th>currentBalance</th>\n",
       "      <th>cardPresent</th>\n",
       "      <th>expirationDateKeyInMatch</th>\n",
       "      <th>isFraud</th>\n",
       "    </tr>\n",
       "    <tr>\n",
       "      <th>accountNumber</th>\n",
       "      <th>merchantName</th>\n",
       "      <th></th>\n",
       "      <th></th>\n",
       "      <th></th>\n",
       "      <th></th>\n",
       "      <th></th>\n",
       "      <th></th>\n",
       "      <th></th>\n",
       "      <th></th>\n",
       "      <th></th>\n",
       "      <th></th>\n",
       "      <th></th>\n",
       "      <th></th>\n",
       "      <th></th>\n",
       "      <th></th>\n",
       "      <th></th>\n",
       "      <th></th>\n",
       "      <th></th>\n",
       "      <th></th>\n",
       "      <th></th>\n",
       "      <th></th>\n",
       "      <th></th>\n",
       "    </tr>\n",
       "  </thead>\n",
       "  <tbody>\n",
       "    <tr>\n",
       "      <th rowspan=\"2\" valign=\"top\">428856030</th>\n",
       "      <th>Hilton Hotels #863711</th>\n",
       "      <td>428856030</td>\n",
       "      <td>250.0</td>\n",
       "      <td>171.99</td>\n",
       "      <td>2016-03-10 04:01:26</td>\n",
       "      <td>61.44</td>\n",
       "      <td>US</td>\n",
       "      <td>US</td>\n",
       "      <td>09</td>\n",
       "      <td>01</td>\n",
       "      <td>hotels</td>\n",
       "      <td>...</td>\n",
       "      <td>2009-08-17</td>\n",
       "      <td>2009-08-17</td>\n",
       "      <td>990</td>\n",
       "      <td>990</td>\n",
       "      <td>7660</td>\n",
       "      <td>PURCHASE</td>\n",
       "      <td>78.01</td>\n",
       "      <td>True</td>\n",
       "      <td>False</td>\n",
       "      <td>False</td>\n",
       "    </tr>\n",
       "    <tr>\n",
       "      <th>Hilton Hotels #863711</th>\n",
       "      <td>428856030</td>\n",
       "      <td>250.0</td>\n",
       "      <td>113.29</td>\n",
       "      <td>2016-03-26 02:12:47</td>\n",
       "      <td>47.22</td>\n",
       "      <td>US</td>\n",
       "      <td>US</td>\n",
       "      <td>09</td>\n",
       "      <td>01</td>\n",
       "      <td>hotels</td>\n",
       "      <td>...</td>\n",
       "      <td>2009-08-17</td>\n",
       "      <td>2009-08-17</td>\n",
       "      <td>990</td>\n",
       "      <td>990</td>\n",
       "      <td>7660</td>\n",
       "      <td>REVERSAL</td>\n",
       "      <td>136.71</td>\n",
       "      <td>True</td>\n",
       "      <td>False</td>\n",
       "      <td>False</td>\n",
       "    </tr>\n",
       "  </tbody>\n",
       "</table>\n",
       "<p>2 rows × 21 columns</p>\n",
       "</div>"
      ],
      "text/plain": [
       "                                    customerId  creditLimit  availableMoney  \\\n",
       "accountNumber merchantName                                                    \n",
       "428856030     Hilton Hotels #863711  428856030        250.0          171.99   \n",
       "              Hilton Hotels #863711  428856030        250.0          113.29   \n",
       "\n",
       "                                    transactionDateTime  transactionAmount  \\\n",
       "accountNumber merchantName                                                   \n",
       "428856030     Hilton Hotels #863711 2016-03-10 04:01:26              61.44   \n",
       "              Hilton Hotels #863711 2016-03-26 02:12:47              47.22   \n",
       "\n",
       "                                    acqCountry merchantCountryCode  \\\n",
       "accountNumber merchantName                                           \n",
       "428856030     Hilton Hotels #863711         US                  US   \n",
       "              Hilton Hotels #863711         US                  US   \n",
       "\n",
       "                                    posEntryMode posConditionCode  \\\n",
       "accountNumber merchantName                                          \n",
       "428856030     Hilton Hotels #863711           09               01   \n",
       "              Hilton Hotels #863711           09               01   \n",
       "\n",
       "                                    merchantCategoryCode  ... accountOpenDate  \\\n",
       "accountNumber merchantName                                ...                   \n",
       "428856030     Hilton Hotels #863711               hotels  ...      2009-08-17   \n",
       "              Hilton Hotels #863711               hotels  ...      2009-08-17   \n",
       "\n",
       "                                    dateOfLastAddressChange cardCVV  \\\n",
       "accountNumber merchantName                                            \n",
       "428856030     Hilton Hotels #863711              2009-08-17     990   \n",
       "              Hilton Hotels #863711              2009-08-17     990   \n",
       "\n",
       "                                    enteredCVV cardLast4Digits  \\\n",
       "accountNumber merchantName                                       \n",
       "428856030     Hilton Hotels #863711        990            7660   \n",
       "              Hilton Hotels #863711        990            7660   \n",
       "\n",
       "                                    transactionType currentBalance  \\\n",
       "accountNumber merchantName                                           \n",
       "428856030     Hilton Hotels #863711        PURCHASE          78.01   \n",
       "              Hilton Hotels #863711        REVERSAL         136.71   \n",
       "\n",
       "                                     cardPresent  expirationDateKeyInMatch  \\\n",
       "accountNumber merchantName                                                   \n",
       "428856030     Hilton Hotels #863711         True                     False   \n",
       "              Hilton Hotels #863711         True                     False   \n",
       "\n",
       "                                     isFraud  \n",
       "accountNumber merchantName                    \n",
       "428856030     Hilton Hotels #863711    False  \n",
       "              Hilton Hotels #863711    False  \n",
       "\n",
       "[2 rows x 21 columns]"
      ]
     },
     "execution_count": 79,
     "metadata": {},
     "output_type": "execute_result"
    }
   ],
   "source": [
    "temp = transactions.set_index(['accountNumber','merchantName'])\n",
    "temp.loc['428856030','Hilton Hotels #863711']"
   ]
  },
  {
   "cell_type": "code",
   "execution_count": 80,
   "id": "60220795-ac64-4ded-8284-239dd34b8043",
   "metadata": {},
   "outputs": [
    {
     "name": "stderr",
     "output_type": "stream",
     "text": [
      "/tmp/ipykernel_22852/43638568.py:1: PerformanceWarning: indexing past lexsort depth may impact performance.\n",
      "  temp.loc['205026043','Arbys #384282']\n"
     ]
    },
    {
     "data": {
      "text/html": [
       "<div>\n",
       "<style scoped>\n",
       "    .dataframe tbody tr th:only-of-type {\n",
       "        vertical-align: middle;\n",
       "    }\n",
       "\n",
       "    .dataframe tbody tr th {\n",
       "        vertical-align: top;\n",
       "    }\n",
       "\n",
       "    .dataframe thead th {\n",
       "        text-align: right;\n",
       "    }\n",
       "</style>\n",
       "<table border=\"1\" class=\"dataframe\">\n",
       "  <thead>\n",
       "    <tr style=\"text-align: right;\">\n",
       "      <th></th>\n",
       "      <th></th>\n",
       "      <th>customerId</th>\n",
       "      <th>creditLimit</th>\n",
       "      <th>availableMoney</th>\n",
       "      <th>transactionDateTime</th>\n",
       "      <th>transactionAmount</th>\n",
       "      <th>acqCountry</th>\n",
       "      <th>merchantCountryCode</th>\n",
       "      <th>posEntryMode</th>\n",
       "      <th>posConditionCode</th>\n",
       "      <th>merchantCategoryCode</th>\n",
       "      <th>...</th>\n",
       "      <th>accountOpenDate</th>\n",
       "      <th>dateOfLastAddressChange</th>\n",
       "      <th>cardCVV</th>\n",
       "      <th>enteredCVV</th>\n",
       "      <th>cardLast4Digits</th>\n",
       "      <th>transactionType</th>\n",
       "      <th>currentBalance</th>\n",
       "      <th>cardPresent</th>\n",
       "      <th>expirationDateKeyInMatch</th>\n",
       "      <th>isFraud</th>\n",
       "    </tr>\n",
       "    <tr>\n",
       "      <th>accountNumber</th>\n",
       "      <th>merchantName</th>\n",
       "      <th></th>\n",
       "      <th></th>\n",
       "      <th></th>\n",
       "      <th></th>\n",
       "      <th></th>\n",
       "      <th></th>\n",
       "      <th></th>\n",
       "      <th></th>\n",
       "      <th></th>\n",
       "      <th></th>\n",
       "      <th></th>\n",
       "      <th></th>\n",
       "      <th></th>\n",
       "      <th></th>\n",
       "      <th></th>\n",
       "      <th></th>\n",
       "      <th></th>\n",
       "      <th></th>\n",
       "      <th></th>\n",
       "      <th></th>\n",
       "      <th></th>\n",
       "    </tr>\n",
       "  </thead>\n",
       "  <tbody>\n",
       "    <tr>\n",
       "      <th rowspan=\"2\" valign=\"top\">205026043</th>\n",
       "      <th>Arbys #384282</th>\n",
       "      <td>205026043</td>\n",
       "      <td>5000.0</td>\n",
       "      <td>851.38</td>\n",
       "      <td>2016-11-02 22:43:57</td>\n",
       "      <td>158.70</td>\n",
       "      <td>US</td>\n",
       "      <td>US</td>\n",
       "      <td>09</td>\n",
       "      <td>01</td>\n",
       "      <td>fastfood</td>\n",
       "      <td>...</td>\n",
       "      <td>2008-04-15</td>\n",
       "      <td>2008-04-15</td>\n",
       "      <td>198</td>\n",
       "      <td>198</td>\n",
       "      <td>3931</td>\n",
       "      <td>PURCHASE</td>\n",
       "      <td>4148.62</td>\n",
       "      <td>True</td>\n",
       "      <td>False</td>\n",
       "      <td>False</td>\n",
       "    </tr>\n",
       "    <tr>\n",
       "      <th>Arbys #384282</th>\n",
       "      <td>205026043</td>\n",
       "      <td>5000.0</td>\n",
       "      <td>692.68</td>\n",
       "      <td>2016-11-02 22:44:38</td>\n",
       "      <td>67.48</td>\n",
       "      <td>US</td>\n",
       "      <td>US</td>\n",
       "      <td>09</td>\n",
       "      <td>01</td>\n",
       "      <td>fastfood</td>\n",
       "      <td>...</td>\n",
       "      <td>2008-04-15</td>\n",
       "      <td>2008-04-15</td>\n",
       "      <td>198</td>\n",
       "      <td>198</td>\n",
       "      <td>3931</td>\n",
       "      <td>REVERSAL</td>\n",
       "      <td>4307.32</td>\n",
       "      <td>True</td>\n",
       "      <td>False</td>\n",
       "      <td>False</td>\n",
       "    </tr>\n",
       "  </tbody>\n",
       "</table>\n",
       "<p>2 rows × 21 columns</p>\n",
       "</div>"
      ],
      "text/plain": [
       "                            customerId  creditLimit  availableMoney  \\\n",
       "accountNumber merchantName                                            \n",
       "205026043     Arbys #384282  205026043       5000.0          851.38   \n",
       "              Arbys #384282  205026043       5000.0          692.68   \n",
       "\n",
       "                            transactionDateTime  transactionAmount acqCountry  \\\n",
       "accountNumber merchantName                                                      \n",
       "205026043     Arbys #384282 2016-11-02 22:43:57             158.70         US   \n",
       "              Arbys #384282 2016-11-02 22:44:38              67.48         US   \n",
       "\n",
       "                            merchantCountryCode posEntryMode posConditionCode  \\\n",
       "accountNumber merchantName                                                      \n",
       "205026043     Arbys #384282                  US           09               01   \n",
       "              Arbys #384282                  US           09               01   \n",
       "\n",
       "                            merchantCategoryCode  ... accountOpenDate  \\\n",
       "accountNumber merchantName                        ...                   \n",
       "205026043     Arbys #384282             fastfood  ...      2008-04-15   \n",
       "              Arbys #384282             fastfood  ...      2008-04-15   \n",
       "\n",
       "                            dateOfLastAddressChange cardCVV enteredCVV  \\\n",
       "accountNumber merchantName                                               \n",
       "205026043     Arbys #384282              2008-04-15     198        198   \n",
       "              Arbys #384282              2008-04-15     198        198   \n",
       "\n",
       "                            cardLast4Digits transactionType currentBalance  \\\n",
       "accountNumber merchantName                                                   \n",
       "205026043     Arbys #384282            3931        PURCHASE        4148.62   \n",
       "              Arbys #384282            3931        REVERSAL        4307.32   \n",
       "\n",
       "                             cardPresent  expirationDateKeyInMatch  isFraud  \n",
       "accountNumber merchantName                                                   \n",
       "205026043     Arbys #384282         True                     False    False  \n",
       "              Arbys #384282         True                     False    False  \n",
       "\n",
       "[2 rows x 21 columns]"
      ]
     },
     "execution_count": 80,
     "metadata": {},
     "output_type": "execute_result"
    }
   ],
   "source": [
    "temp.loc['205026043','Arbys #384282']"
   ]
  },
  {
   "cell_type": "markdown",
   "id": "c79bc21d-9ad1-49f7-9792-a6b4e15e3dfe",
   "metadata": {},
   "source": [
    "<p> After inspecting some of these transactions, we find that there are some reversals that are not made by the same amount, but greater or lesser than the purchase amount! This raises a fundamental question - Should we be flagging this transaction as duplicate? The assumed answer is no. We do not need to flag transactions with different values as duplicate. </p>"
   ]
  },
  {
   "cell_type": "markdown",
   "id": "8110ff0f-0d7f-408f-b089-6aa55ee68779",
   "metadata": {},
   "source": [
    "<p> Analyzing what these it means in relation to the actual dataset. </p>"
   ]
  },
  {
   "cell_type": "code",
   "execution_count": 84,
   "id": "cceac850-adc2-4002-8063-977464fddbfa",
   "metadata": {},
   "outputs": [
    {
     "name": "stdout",
     "output_type": "stream",
     "text": [
      "2.48 of the total transactionAmounts values are reversals, which seems to be a fair percentage based on the real world.\n"
     ]
    }
   ],
   "source": [
    "percent = 2669343.17 / transactions.transactionAmount.sum() * 100\n",
    "print('%.2f of the total transactionAmounts values are reversals, which seems to be a fair percentage based on the real world.'%percent)"
   ]
  },
  {
   "cell_type": "markdown",
   "id": "3d4d48a0-19b5-473f-8bae-139ca3010f64",
   "metadata": {
    "tags": []
   },
   "source": [
    "### How do these duplicate transactions affect transactions our model? -> For multi-swipe we make sure that we eliminate such that we have only one transaction. While this might not make much of a difference to the model, it's still worth a shot.  "
   ]
  },
  {
   "cell_type": "markdown",
   "id": "e452e67d-70f3-400f-8351-b694cd066cca",
   "metadata": {},
   "source": [
    "## MULTI-SWIPE"
   ]
  },
  {
   "cell_type": "code",
   "execution_count": 85,
   "id": "ed74c566-9e95-474c-a9ea-d19abe4a2aa4",
   "metadata": {},
   "outputs": [],
   "source": [
    "# Additional transactionType that was not present in the reversals algorithm \n",
    "\n",
    "duplicated = transactions.groupby(['accountNumber','transactionAmount','merchantName','transactionType']).count()\n",
    "to_inspect = duplicated[duplicated['creditLimit'] > 1].index\n",
    "\n",
    "indexed_transactions = transactions.set_index(['accountNumber','transactionAmount','merchantName','transactionType'])\n",
    "duplicate = indexed_transactions.loc[to_inspect]\n",
    "duplicate_grouped = duplicate.groupby(level = [0,1,2])"
   ]
  },
  {
   "cell_type": "code",
   "execution_count": 86,
   "id": "9833ae07-bb54-45d2-b6b6-4b56379a7f72",
   "metadata": {},
   "outputs": [],
   "source": [
    "from datetime import timedelta\n",
    "\n",
    "time_threshold = 5\n",
    "multi_swiped = duplicate[duplicate_grouped['transactionDateTime'].diff(1) <= timedelta(minutes = 5)]"
   ]
  },
  {
   "cell_type": "markdown",
   "id": "8e6fe8c8-7df4-4750-9e54-1c029cc7dcc0",
   "metadata": {},
   "source": [
    "<p> Thus for a 5 minute threshold there are 7705 transactions that are identified as multi-swipes </p>"
   ]
  },
  {
   "cell_type": "code",
   "execution_count": 87,
   "id": "e11982fb-6697-4bbf-9f37-247496c9f5e7",
   "metadata": {},
   "outputs": [
    {
     "data": {
      "text/plain": [
       "(7705, 19)"
      ]
     },
     "execution_count": 87,
     "metadata": {},
     "output_type": "execute_result"
    }
   ],
   "source": [
    "multi_swiped.shape"
   ]
  },
  {
   "cell_type": "code",
   "execution_count": null,
   "id": "ec5c010c-9c11-419b-bec6-624b49a02ed4",
   "metadata": {},
   "outputs": [],
   "source": [
    "There are 713"
   ]
  },
  {
   "cell_type": "code",
   "execution_count": 88,
   "id": "cf4a0c3a-16b3-4ad0-aa77-1f6e5c41c7a6",
   "metadata": {},
   "outputs": [
    {
     "data": {
      "text/plain": [
       "713"
      ]
     },
     "execution_count": 88,
     "metadata": {},
     "output_type": "execute_result"
    }
   ],
   "source": [
    "(multi_swiped.groupby(level = [0,1,2,3]).count()['creditLimit'] > 1).sum()"
   ]
  },
  {
   "cell_type": "markdown",
   "id": "0bbcd0fe-8cce-4397-bd54-474abaade721",
   "metadata": {},
   "source": [
    "Calculating the maximum number of multiswipes in one sequence that a customer has made. Here 4 actually means that 5 transactions were made in a sequence. "
   ]
  },
  {
   "cell_type": "code",
   "execution_count": 63,
   "id": "e02ac716-b7f8-4998-9f5c-e2023e43d991",
   "metadata": {},
   "outputs": [
    {
     "data": {
      "text/plain": [
       "4"
      ]
     },
     "execution_count": 63,
     "metadata": {},
     "output_type": "execute_result"
    }
   ],
   "source": [
    "multi_swiped.groupby(level = [0,1,2,3]).count()['creditLimit'].max()"
   ]
  },
  {
   "cell_type": "markdown",
   "id": "b14153af-1f0d-4ddc-b0f7-676d5c30b0f4",
   "metadata": {},
   "source": [
    "Thus in order to give an estimate of the number of transactions and the transactionAmount , we must choose an optimal threshold to define multi-swipe. Below are some graphs that help us analyze what a good time threshold could be. "
   ]
  },
  {
   "cell_type": "code",
   "execution_count": 90,
   "id": "53726cf5-5413-49f6-aa84-077079fad3c6",
   "metadata": {},
   "outputs": [],
   "source": [
    "nr = list()\n",
    "max_chain = list()\n",
    "# What happens when there are 2 consecutive transactions and a 3rd transaction after some time? \n",
    "\n",
    "for time_threshold in [1,2,5,10,15,20,25,30]:\n",
    "    multi_swiped = duplicate[duplicate_grouped['transactionDateTime'].diff(1) <= timedelta(minutes = time_threshold)]\n",
    "    nr.append(multi_swiped.shape[0])\n",
    "    max_chain.append(multi_swiped.groupby(level = [0,1,2,3]).count()['creditLimit'].max())"
   ]
  },
  {
   "cell_type": "code",
   "execution_count": 93,
   "id": "aaf02b58-1e83-4e8f-9b80-1d7a1d2c2602",
   "metadata": {},
   "outputs": [
    {
     "data": {
      "image/png": "[encoded data removed]",
      "text/plain": [
       "<Figure size 432x288 with 1 Axes>"
      ]
     },
     "metadata": {
      "needs_background": "light"
     },
     "output_type": "display_data"
    }
   ],
   "source": [
    "plt.title('Total Number of multiswipe situations')\n",
    "plt.xlabel('Time threshold(minutes)')\n",
    "plt.ylabel('Number of multiswipe situations')\n",
    "plt.plot([1,2,5,10,15,20,25,30],nr)\n",
    "plt.show()"
   ]
  },
  {
   "cell_type": "code",
   "execution_count": 94,
   "id": "7225eaf9-631d-4c07-bc97-ce2b144f9c60",
   "metadata": {},
   "outputs": [
    {
     "data": {
      "image/png": "[encoded data removed]",
      "text/plain": [
       "<Figure size 432x288 with 1 Axes>"
      ]
     },
     "metadata": {
      "needs_background": "light"
     },
     "output_type": "display_data"
    }
   ],
   "source": [
    "plt.title('Maximum number of consecutive multiswipes')\n",
    "plt.plot([1,2,5,10,15,20,25,30],max_chain)\n",
    "plt.xlabel('Time threshold (minutes)')\n",
    "plt.ylabel('Number of multiswipe instances')\n",
    "plt.show()"
   ]
  },
  {
   "cell_type": "markdown",
   "id": "dfd08d26-29a5-4e98-8db9-cde9536a5367",
   "metadata": {},
   "source": [
    "We can see in the first line plot, that the number of multi-swipe situations are capped within 5 minutes, where a customer does not make too many transactions within minutes after that. Thus we choose 5 minutes as our threshold, And provide our estimate of that. (Although in an online situation a customer could be trying to make a purchase until 30 minutes as well, but we leave that out of our estimates for now.)"
   ]
  },
  {
   "cell_type": "code",
   "execution_count": 111,
   "id": "a99811ae-bf7a-42bb-ae97-933a404b2f8b",
   "metadata": {},
   "outputs": [
    {
     "name": "stdout",
     "output_type": "stream",
     "text": [
      "Number of multi-swiped transactions: 7705\n",
      "Total multi-swiped transaction amounts: 1104075.960000\n"
     ]
    }
   ],
   "source": [
    "time_threshold = 5\n",
    "multi_swiped = duplicate[duplicate_grouped['transactionDateTime'].diff(1) <= timedelta(minutes = 5)]\n",
    "\n",
    "print('Number of multi-swiped transactions: %d'%multi_swiped.index.shape[0])\n",
    "print('Total multi-swiped transaction amounts: %f'%multi_swiped.index.to_frame().transactionAmount.sum())"
   ]
  },
  {
   "cell_type": "markdown",
   "id": "e987d8ad-a40f-4ae8-8c66-c9c245c18711",
   "metadata": {},
   "source": [
    "### MULTI-SWIPES - The estimated transaction amount of reversals is 1.104 million dollars and estimated number of reversed transactions that were preceded by purchases: 7705 "
   ]
  },
  {
   "cell_type": "markdown",
   "id": "3302adab-73ef-44e9-8245-15c68c0ee0df",
   "metadata": {},
   "source": [
    "What percentage of multi-swiped / reversed transactions are fraudulent?"
   ]
  },
  {
   "cell_type": "code",
   "execution_count": 115,
   "id": "161df7f3-702c-45df-a547-359b8e805147",
   "metadata": {},
   "outputs": [
    {
     "data": {
      "text/plain": [
       "False    25611\n",
       "True       441\n",
       "Name: isFraud, dtype: int64"
      ]
     },
     "execution_count": 115,
     "metadata": {},
     "output_type": "execute_result"
    }
   ],
   "source": [
    "reversed_transactions.isFraud.value_counts() + multi_swiped.isFraud.value_counts()"
   ]
  },
  {
   "cell_type": "markdown",
   "id": "cebe5bc6-b3c5-4b80-a795-62b77b8d3ca2",
   "metadata": {},
   "source": [
    "### How do these vary with Fraud, Does it make sense to remove these duplicates? \n",
    "\n",
    "These multi-swiped / reversals transactions can be fraudulent and thus it's hard to remove these from the dataset, since each fraudulent case is important, thus this should not be excluded from our dataset."
   ]
  },
  {
   "cell_type": "markdown",
   "id": "c4bb674e-e8bb-4724-b2b6-6b0b33049894",
   "metadata": {},
   "source": [
    "# Q.4 Modeling "
   ]
  },
  {
   "cell_type": "markdown",
   "id": "4a89a51d-c1fc-4424-919e-46996518d5c2",
   "metadata": {},
   "source": [
    "#### Before we get into modeling, we derive the correlation of every feature to the target in the current dataset, that will potentially help our Feature Engineering and selection. By this we aim to get a sense of how much each feature contributes to the target on it's own."
   ]
  },
  {
   "cell_type": "code",
   "execution_count": 117,
   "id": "d226d716-c7c7-44d4-b69c-89e7b6aa258c",
   "metadata": {},
   "outputs": [
    {
     "data": {
      "text/plain": [
       "Index(['accountNumber', 'customerId', 'creditLimit', 'availableMoney',\n",
       "       'transactionDateTime', 'transactionAmount', 'merchantName',\n",
       "       'acqCountry', 'merchantCountryCode', 'posEntryMode', 'posConditionCode',\n",
       "       'merchantCategoryCode', 'currentExpDate', 'accountOpenDate',\n",
       "       'dateOfLastAddressChange', 'cardCVV', 'enteredCVV', 'cardLast4Digits',\n",
       "       'transactionType', 'currentBalance', 'cardPresent',\n",
       "       'expirationDateKeyInMatch', 'isFraud'],\n",
       "      dtype='object')"
      ]
     },
     "execution_count": 117,
     "metadata": {},
     "output_type": "execute_result"
    }
   ],
   "source": [
    "transactions.columns"
   ]
  },
  {
   "cell_type": "code",
   "execution_count": 118,
   "id": "c9c0d217-69d3-4e1e-bc84-d185ed5e5341",
   "metadata": {},
   "outputs": [],
   "source": [
    "accountNumber = pd.crosstab(transactions.accountNumber,transactions.isFraud,margins = True,margins_name = 'total',normalize = True)"
   ]
  },
  {
   "cell_type": "code",
   "execution_count": 119,
   "id": "d4ebe9d3-dfb8-43ac-b6b7-876dfdb947e5",
   "metadata": {},
   "outputs": [
    {
     "data": {
      "text/html": [
       "<div>\n",
       "<style scoped>\n",
       "    .dataframe tbody tr th:only-of-type {\n",
       "        vertical-align: middle;\n",
       "    }\n",
       "\n",
       "    .dataframe tbody tr th {\n",
       "        vertical-align: top;\n",
       "    }\n",
       "\n",
       "    .dataframe thead th {\n",
       "        text-align: right;\n",
       "    }\n",
       "</style>\n",
       "<table border=\"1\" class=\"dataframe\">\n",
       "  <thead>\n",
       "    <tr style=\"text-align: right;\">\n",
       "      <th>isFraud</th>\n",
       "      <th>False</th>\n",
       "      <th>True</th>\n",
       "      <th>total</th>\n",
       "    </tr>\n",
       "    <tr>\n",
       "      <th>accountNumber</th>\n",
       "      <th></th>\n",
       "      <th></th>\n",
       "      <th></th>\n",
       "    </tr>\n",
       "  </thead>\n",
       "  <tbody>\n",
       "    <tr>\n",
       "      <th>total</th>\n",
       "      <td>0.984210</td>\n",
       "      <td>0.015790</td>\n",
       "      <td>1.000000</td>\n",
       "    </tr>\n",
       "    <tr>\n",
       "      <th>380680241</th>\n",
       "      <td>0.040779</td>\n",
       "      <td>0.000996</td>\n",
       "      <td>0.041775</td>\n",
       "    </tr>\n",
       "    <tr>\n",
       "      <th>782081187</th>\n",
       "      <td>0.002706</td>\n",
       "      <td>0.000390</td>\n",
       "      <td>0.003097</td>\n",
       "    </tr>\n",
       "    <tr>\n",
       "      <th>246251253</th>\n",
       "      <td>0.012582</td>\n",
       "      <td>0.000354</td>\n",
       "      <td>0.012936</td>\n",
       "    </tr>\n",
       "    <tr>\n",
       "      <th>700725639</th>\n",
       "      <td>0.003867</td>\n",
       "      <td>0.000346</td>\n",
       "      <td>0.004213</td>\n",
       "    </tr>\n",
       "    <tr>\n",
       "      <th>472288969</th>\n",
       "      <td>0.001938</td>\n",
       "      <td>0.000338</td>\n",
       "      <td>0.002276</td>\n",
       "    </tr>\n",
       "    <tr>\n",
       "      <th>208319653</th>\n",
       "      <td>0.006389</td>\n",
       "      <td>0.000268</td>\n",
       "      <td>0.006657</td>\n",
       "    </tr>\n",
       "    <tr>\n",
       "      <th>419709514</th>\n",
       "      <td>0.007278</td>\n",
       "      <td>0.000263</td>\n",
       "      <td>0.007541</td>\n",
       "    </tr>\n",
       "    <tr>\n",
       "      <th>369308035</th>\n",
       "      <td>0.009020</td>\n",
       "      <td>0.000173</td>\n",
       "      <td>0.009193</td>\n",
       "    </tr>\n",
       "    <tr>\n",
       "      <th>794398270</th>\n",
       "      <td>0.002130</td>\n",
       "      <td>0.000172</td>\n",
       "      <td>0.002302</td>\n",
       "    </tr>\n",
       "    <tr>\n",
       "      <th>132629755</th>\n",
       "      <td>0.004247</td>\n",
       "      <td>0.000148</td>\n",
       "      <td>0.004395</td>\n",
       "    </tr>\n",
       "    <tr>\n",
       "      <th>269616174</th>\n",
       "      <td>0.004490</td>\n",
       "      <td>0.000142</td>\n",
       "      <td>0.004633</td>\n",
       "    </tr>\n",
       "    <tr>\n",
       "      <th>374358603</th>\n",
       "      <td>0.000487</td>\n",
       "      <td>0.000132</td>\n",
       "      <td>0.000619</td>\n",
       "    </tr>\n",
       "    <tr>\n",
       "      <th>882815134</th>\n",
       "      <td>0.016649</td>\n",
       "      <td>0.000123</td>\n",
       "      <td>0.016772</td>\n",
       "    </tr>\n",
       "    <tr>\n",
       "      <th>307632490</th>\n",
       "      <td>0.003235</td>\n",
       "      <td>0.000118</td>\n",
       "      <td>0.003353</td>\n",
       "    </tr>\n",
       "    <tr>\n",
       "      <th>654507597</th>\n",
       "      <td>0.002831</td>\n",
       "      <td>0.000118</td>\n",
       "      <td>0.002949</td>\n",
       "    </tr>\n",
       "    <tr>\n",
       "      <th>832842201</th>\n",
       "      <td>0.007344</td>\n",
       "      <td>0.000095</td>\n",
       "      <td>0.007439</td>\n",
       "    </tr>\n",
       "    <tr>\n",
       "      <th>148207119</th>\n",
       "      <td>0.000532</td>\n",
       "      <td>0.000090</td>\n",
       "      <td>0.000622</td>\n",
       "    </tr>\n",
       "    <tr>\n",
       "      <th>937269523</th>\n",
       "      <td>0.003478</td>\n",
       "      <td>0.000088</td>\n",
       "      <td>0.003566</td>\n",
       "    </tr>\n",
       "    <tr>\n",
       "      <th>955678177</th>\n",
       "      <td>0.000684</td>\n",
       "      <td>0.000088</td>\n",
       "      <td>0.000772</td>\n",
       "    </tr>\n",
       "  </tbody>\n",
       "</table>\n",
       "</div>"
      ],
      "text/plain": [
       "isFraud           False      True     total\n",
       "accountNumber                              \n",
       "total          0.984210  0.015790  1.000000\n",
       "380680241      0.040779  0.000996  0.041775\n",
       "782081187      0.002706  0.000390  0.003097\n",
       "246251253      0.012582  0.000354  0.012936\n",
       "700725639      0.003867  0.000346  0.004213\n",
       "472288969      0.001938  0.000338  0.002276\n",
       "208319653      0.006389  0.000268  0.006657\n",
       "419709514      0.007278  0.000263  0.007541\n",
       "369308035      0.009020  0.000173  0.009193\n",
       "794398270      0.002130  0.000172  0.002302\n",
       "132629755      0.004247  0.000148  0.004395\n",
       "269616174      0.004490  0.000142  0.004633\n",
       "374358603      0.000487  0.000132  0.000619\n",
       "882815134      0.016649  0.000123  0.016772\n",
       "307632490      0.003235  0.000118  0.003353\n",
       "654507597      0.002831  0.000118  0.002949\n",
       "832842201      0.007344  0.000095  0.007439\n",
       "148207119      0.000532  0.000090  0.000622\n",
       "937269523      0.003478  0.000088  0.003566\n",
       "955678177      0.000684  0.000088  0.000772"
      ]
     },
     "execution_count": 119,
     "metadata": {},
     "output_type": "execute_result"
    }
   ],
   "source": [
    "accountNumber.sort_values(by = True,axis = 0, ascending = False).head(20)"
   ]
  },
  {
   "cell_type": "markdown",
   "id": "e2aa2f43-bf0f-4eb9-ac07-8d82df03f7e6",
   "metadata": {},
   "source": [
    "It is worthy to note that accountNumber 380680241 has the highest number of Fraudulent transactions. \n",
    "It is hard to say that it is the most important in predicting fraud, since this account also comprises of 4% of the entire transaction population. A more informative feature would be percentage of fraud to the actual number of transactions that have been done by the customer, weighted by the number of card transactions he actually does. If target/mean encoding is used, there is a high chance that the model learns a rule where if the accountNumber is the above, there is a high probabality of Fraud, thus not weighing in other factors. Hence we must explore some variant of of mean / frequency encoding could be good for this feature."
   ]
  },
  {
   "cell_type": "code",
   "execution_count": 120,
   "id": "7cf61a17-e23a-43be-bbd8-73be1a38fcc8",
   "metadata": {},
   "outputs": [
    {
     "data": {
      "image/png": "[encoded data removed]",
      "text/plain": [
       "<Figure size 1080x576 with 1 Axes>"
      ]
     },
     "metadata": {
      "needs_background": "light"
     },
     "output_type": "display_data"
    }
   ],
   "source": [
    "fig, ax = plt.subplots()\n",
    "fig.set_size_inches((15,8))\n",
    "data = {'Fraud':transactions.creditLimit[transactions.isFraud == True], 'NotFraud':transactions.creditLimit[transactions.isFraud == False]}\n",
    "ax.boxplot(data.values())\n",
    "ax.set_xticklabels(data.keys())\n",
    "plt.title('Tranaction Amount Distribution')\n",
    "plt.show()"
   ]
  },
  {
   "cell_type": "code",
   "execution_count": 122,
   "id": "7d1d9a3c-a935-4ad3-b587-3a64ecc89f73",
   "metadata": {},
   "outputs": [
    {
     "data": {
      "image/png": "[encoded data removed]",
      "text/plain": [
       "<Figure size 432x288 with 1 Axes>"
      ]
     },
     "metadata": {
      "needs_background": "light"
     },
     "output_type": "display_data"
    }
   ],
   "source": [
    "transactions.creditLimit[transactions.isFraud == True].hist(bins = 100)\n",
    "plt.title('Distribution of credit Limit values - Fraudulent')\n",
    "plt.show()"
   ]
  },
  {
   "cell_type": "code",
   "execution_count": 123,
   "id": "1c3f2b70-9562-4fda-93cf-cb05ebc7aa57",
   "metadata": {},
   "outputs": [
    {
     "data": {
      "image/png": "[encoded data removed]",
      "text/plain": [
       "<Figure size 432x288 with 1 Axes>"
      ]
     },
     "metadata": {
      "needs_background": "light"
     },
     "output_type": "display_data"
    }
   ],
   "source": [
    "transactions.creditLimit[transactions.isFraud == False].hist(bins = 100)\n",
    "plt.title('Distribution of credit Limit values - Non-Fraudulent')\n",
    "plt.show()"
   ]
  },
  {
   "cell_type": "markdown",
   "id": "48355848-6a99-412e-b0c7-60579ddc9293",
   "metadata": {},
   "source": [
    "<p> Hard to say anything about creditLimit, since both are pretty evenly distributed, this might not be the most informative feature on it's own. However, percentage of creditLimit with transactionAmount could prove to be a useful feature, may smaller transactions are more likely to be fraudulent, or vice versa, so this is a good candidate for feature elimination / engineering. It could be a useful feature when used along with non-linear models. </p>"
   ]
  },
  {
   "cell_type": "code",
   "execution_count": 124,
   "id": "35f960ee-0e37-43fc-9641-44813cf504d6",
   "metadata": {},
   "outputs": [
    {
     "data": {
      "image/png": "[encoded data removed]",
      "text/plain": [
       "<Figure size 1080x720 with 1 Axes>"
      ]
     },
     "metadata": {
      "needs_background": "light"
     },
     "output_type": "display_data"
    }
   ],
   "source": [
    "fig, ax = plt.subplots()\n",
    "fig.set_size_inches((15,10))\n",
    "data = {'Fraud':transactions.availableMoney[transactions.isFraud == True], 'NotFraud':transactions.availableMoney[transactions.isFraud == False]}\n",
    "ax.boxplot(data.values())\n",
    "ax.set_xticklabels(data.keys())\n",
    "plt.title('Distribution of Available Money')\n",
    "plt.show()"
   ]
  },
  {
   "cell_type": "markdown",
   "id": "6a510eed-338a-4162-9f28-96f586dbdf9d",
   "metadata": {},
   "source": [
    "### Similar thought with availableMoney, let's see if a availableMoney as a function of transactionAmount is a better method."
   ]
  },
  {
   "cell_type": "markdown",
   "id": "9d3bc85b-6e4d-426e-8847-c9a5a0579cf0",
   "metadata": {},
   "source": [
    "All transactions were made in 2016"
   ]
  },
  {
   "cell_type": "code",
   "execution_count": 125,
   "id": "2474238d-7c4e-461b-a60e-cf335a29d954",
   "metadata": {},
   "outputs": [
    {
     "data": {
      "text/plain": [
       "array([2016])"
      ]
     },
     "execution_count": 125,
     "metadata": {},
     "output_type": "execute_result"
    }
   ],
   "source": [
    "transactions.transactionDateTime.apply(lambda x: x.year).unique()"
   ]
  },
  {
   "cell_type": "code",
   "execution_count": 126,
   "id": "006171a0-89c3-4288-bc33-4b77b83cdfb0",
   "metadata": {},
   "outputs": [
    {
     "data": {
      "text/plain": [
       "<AxesSubplot:>"
      ]
     },
     "execution_count": 126,
     "metadata": {},
     "output_type": "execute_result"
    },
    {
     "data": {
      "image/png": "[encoded data removed]",
      "text/plain": [
       "<Figure size 432x288 with 1 Axes>"
      ]
     },
     "metadata": {
      "needs_background": "light"
     },
     "output_type": "display_data"
    }
   ],
   "source": [
    "transactions.transactionDateTime.apply(lambda x: x.month).hist(bins = 100)"
   ]
  },
  {
   "cell_type": "code",
   "execution_count": 127,
   "id": "a4c481b6-ed60-4e86-913b-a306b52ec5b1",
   "metadata": {},
   "outputs": [
    {
     "data": {
      "text/plain": [
       "<AxesSubplot:>"
      ]
     },
     "execution_count": 127,
     "metadata": {},
     "output_type": "execute_result"
    },
    {
     "data": {
      "image/png": "[encoded data removed]",
      "text/plain": [
       "<Figure size 432x288 with 1 Axes>"
      ]
     },
     "metadata": {
      "needs_background": "light"
     },
     "output_type": "display_data"
    }
   ],
   "source": [
    "transactions[transactions.isFraud == True].transactionDateTime.apply(lambda x: x.hour).hist(bins = 100)"
   ]
  },
  {
   "cell_type": "markdown",
   "id": "31ae8bf8-f2df-483d-a608-5bc6e8ad172f",
   "metadata": {},
   "source": [
    "<p> While there is not much difference in the transactionTiming (which is something we would have expected), it is clear that the hour of the transaction varies more in the Fraudelent cases. We would expect fraudulent cases to be towards the night, but it looks like frauds take place in the day at around 1pm. </p>"
   ]
  },
  {
   "cell_type": "code",
   "execution_count": 128,
   "id": "10f363fe-cdf6-4453-a5c3-ab5ca0e1a4cf",
   "metadata": {},
   "outputs": [
    {
     "data": {
      "text/plain": [
       "<AxesSubplot:>"
      ]
     },
     "execution_count": 128,
     "metadata": {},
     "output_type": "execute_result"
    },
    {
     "data": {
      "image/png": "[encoded data removed]",
      "text/plain": [
       "<Figure size 432x288 with 1 Axes>"
      ]
     },
     "metadata": {
      "needs_background": "light"
     },
     "output_type": "display_data"
    }
   ],
   "source": [
    "transactions[transactions.isFraud == False].transactionDateTime.apply(lambda x: x.hour).hist(bins = 100)"
   ]
  },
  {
   "cell_type": "code",
   "execution_count": 129,
   "id": "6ba69803-8a4b-408b-b279-5a342edefc0d",
   "metadata": {},
   "outputs": [
    {
     "data": {
      "image/png": "[encoded data removed]",
      "text/plain": [
       "<Figure size 432x288 with 1 Axes>"
      ]
     },
     "metadata": {
      "needs_background": "light"
     },
     "output_type": "display_data"
    }
   ],
   "source": [
    "bins = 100\n",
    "plt.hist(transactions[transactions.isFraud == False].transactionAmount, bins, alpha=0.5, label='Non-Fraudulent')\n",
    "plt.hist(transactions[transactions.isFraud == True].transactionAmount,bins, alpha=1, label='Fraudulent')\n",
    "plt.legend(loc='upper right')\n",
    "plt.show()"
   ]
  },
  {
   "cell_type": "code",
   "execution_count": 130,
   "id": "2199107c-7cb1-460b-afe7-d08aa07f645b",
   "metadata": {},
   "outputs": [
    {
     "data": {
      "text/plain": [
       "1608.35"
      ]
     },
     "execution_count": 130,
     "metadata": {},
     "output_type": "execute_result"
    }
   ],
   "source": [
    "transactions[transactions.isFraud == True].transactionAmount.max()"
   ]
  },
  {
   "cell_type": "code",
   "execution_count": 131,
   "id": "e3ac93d1-7db9-4c97-a258-020c8de04109",
   "metadata": {},
   "outputs": [
    {
     "data": {
      "text/plain": [
       "2011.54"
      ]
     },
     "execution_count": 131,
     "metadata": {},
     "output_type": "execute_result"
    }
   ],
   "source": [
    "transactions[transactions.isFraud == False].transactionAmount.max()"
   ]
  },
  {
   "cell_type": "code",
   "execution_count": 133,
   "id": "ba588f94-5dc8-44e5-80dd-42130907dd4f",
   "metadata": {},
   "outputs": [
    {
     "data": {
      "image/png": "[encoded data removed]",
      "text/plain": [
       "<Figure size 1080x576 with 1 Axes>"
      ]
     },
     "metadata": {
      "needs_background": "light"
     },
     "output_type": "display_data"
    }
   ],
   "source": [
    "fig, ax = plt.subplots()\n",
    "fig.set_size_inches((15,8))\n",
    "data = {'Fraud':transactions.transactionAmount[transactions.isFraud == True], 'NotFraud':transactions.transactionAmount[transactions.isFraud == False]}\n",
    "ax.boxplot(data.values())\n",
    "ax.set_xticklabels(data.keys())\n",
    "plt.title('Transaction Amounts')\n",
    "plt.show()"
   ]
  },
  {
   "cell_type": "markdown",
   "id": "cd69ca74-4575-4cad-98ac-247e6167d304",
   "metadata": {},
   "source": [
    "<p> Thus it is important to not that removing outliers in our transaction dataset based on amounts might help us build a robust model, if at all transactionAmount turns out to be an important feature.\n",
    "This could be part of our sampling strategy where we sample from the dataset transaction amounts are less than a certain amount </p>"
   ]
  },
  {
   "cell_type": "code",
   "execution_count": 134,
   "id": "24586c04-2636-4778-86bb-26ee0e63bb01",
   "metadata": {},
   "outputs": [
    {
     "data": {
      "text/html": [
       "<div>\n",
       "<style scoped>\n",
       "    .dataframe tbody tr th:only-of-type {\n",
       "        vertical-align: middle;\n",
       "    }\n",
       "\n",
       "    .dataframe tbody tr th {\n",
       "        vertical-align: top;\n",
       "    }\n",
       "\n",
       "    .dataframe thead th {\n",
       "        text-align: right;\n",
       "    }\n",
       "</style>\n",
       "<table border=\"1\" class=\"dataframe\">\n",
       "  <thead>\n",
       "    <tr style=\"text-align: right;\">\n",
       "      <th>isFraud</th>\n",
       "      <th>False</th>\n",
       "      <th>True</th>\n",
       "      <th>Total</th>\n",
       "    </tr>\n",
       "    <tr>\n",
       "      <th>acqCountry</th>\n",
       "      <th></th>\n",
       "      <th></th>\n",
       "      <th></th>\n",
       "    </tr>\n",
       "  </thead>\n",
       "  <tbody>\n",
       "    <tr>\n",
       "      <th></th>\n",
       "      <td>0.005612</td>\n",
       "      <td>0.000189</td>\n",
       "      <td>0.005801</td>\n",
       "    </tr>\n",
       "    <tr>\n",
       "      <th>CAN</th>\n",
       "      <td>0.003013</td>\n",
       "      <td>0.000070</td>\n",
       "      <td>0.003083</td>\n",
       "    </tr>\n",
       "    <tr>\n",
       "      <th>MEX</th>\n",
       "      <td>0.003899</td>\n",
       "      <td>0.000081</td>\n",
       "      <td>0.003980</td>\n",
       "    </tr>\n",
       "    <tr>\n",
       "      <th>PR</th>\n",
       "      <td>0.001922</td>\n",
       "      <td>0.000034</td>\n",
       "      <td>0.001956</td>\n",
       "    </tr>\n",
       "    <tr>\n",
       "      <th>US</th>\n",
       "      <td>0.969765</td>\n",
       "      <td>0.015415</td>\n",
       "      <td>0.985180</td>\n",
       "    </tr>\n",
       "    <tr>\n",
       "      <th>Total</th>\n",
       "      <td>0.984210</td>\n",
       "      <td>0.015790</td>\n",
       "      <td>1.000000</td>\n",
       "    </tr>\n",
       "  </tbody>\n",
       "</table>\n",
       "</div>"
      ],
      "text/plain": [
       "isFraud        False      True     Total\n",
       "acqCountry                              \n",
       "            0.005612  0.000189  0.005801\n",
       "CAN         0.003013  0.000070  0.003083\n",
       "MEX         0.003899  0.000081  0.003980\n",
       "PR          0.001922  0.000034  0.001956\n",
       "US          0.969765  0.015415  0.985180\n",
       "Total       0.984210  0.015790  1.000000"
      ]
     },
     "execution_count": 134,
     "metadata": {},
     "output_type": "execute_result"
    }
   ],
   "source": [
    "pd.crosstab(transactions.acqCountry,transactions.isFraud,normalize = True,margins = True,margins_name = 'Total')"
   ]
  },
  {
   "cell_type": "code",
   "execution_count": 135,
   "id": "95df24d9-d987-4750-8bc5-98d0b9e96025",
   "metadata": {},
   "outputs": [
    {
     "data": {
      "text/html": [
       "<div>\n",
       "<style scoped>\n",
       "    .dataframe tbody tr th:only-of-type {\n",
       "        vertical-align: middle;\n",
       "    }\n",
       "\n",
       "    .dataframe tbody tr th {\n",
       "        vertical-align: top;\n",
       "    }\n",
       "\n",
       "    .dataframe thead th {\n",
       "        text-align: right;\n",
       "    }\n",
       "</style>\n",
       "<table border=\"1\" class=\"dataframe\">\n",
       "  <thead>\n",
       "    <tr style=\"text-align: right;\">\n",
       "      <th>isFraud</th>\n",
       "      <th>False</th>\n",
       "      <th>True</th>\n",
       "      <th>Total</th>\n",
       "    </tr>\n",
       "    <tr>\n",
       "      <th>acqCountry</th>\n",
       "      <th></th>\n",
       "      <th></th>\n",
       "      <th></th>\n",
       "    </tr>\n",
       "  </thead>\n",
       "  <tbody>\n",
       "    <tr>\n",
       "      <th></th>\n",
       "      <td>0.005702</td>\n",
       "      <td>0.012000</td>\n",
       "      <td>0.005801</td>\n",
       "    </tr>\n",
       "    <tr>\n",
       "      <th>CAN</th>\n",
       "      <td>0.003061</td>\n",
       "      <td>0.004429</td>\n",
       "      <td>0.003083</td>\n",
       "    </tr>\n",
       "    <tr>\n",
       "      <th>MEX</th>\n",
       "      <td>0.003962</td>\n",
       "      <td>0.005154</td>\n",
       "      <td>0.003980</td>\n",
       "    </tr>\n",
       "    <tr>\n",
       "      <th>PR</th>\n",
       "      <td>0.001952</td>\n",
       "      <td>0.002174</td>\n",
       "      <td>0.001956</td>\n",
       "    </tr>\n",
       "    <tr>\n",
       "      <th>US</th>\n",
       "      <td>0.985323</td>\n",
       "      <td>0.976242</td>\n",
       "      <td>0.985180</td>\n",
       "    </tr>\n",
       "  </tbody>\n",
       "</table>\n",
       "</div>"
      ],
      "text/plain": [
       "isFraud        False      True     Total\n",
       "acqCountry                              \n",
       "            0.005702  0.012000  0.005801\n",
       "CAN         0.003061  0.004429  0.003083\n",
       "MEX         0.003962  0.005154  0.003980\n",
       "PR          0.001952  0.002174  0.001956\n",
       "US          0.985323  0.976242  0.985180"
      ]
     },
     "execution_count": 135,
     "metadata": {},
     "output_type": "execute_result"
    }
   ],
   "source": [
    "pd.crosstab(transactions.acqCountry,transactions.isFraud,normalize = 'columns',margins = True,margins_name = 'Total')"
   ]
  },
  {
   "cell_type": "markdown",
   "id": "0e251e6e-48dc-4095-8df1-f615f0150380",
   "metadata": {},
   "source": [
    "<p> Most of the transactions i.e 98.5 % of them are from US, while 97.6% of the True transactions are also from US. This gives us the sense that the feature can be important in its original state and we keep it as it is, since the distribution persists. </p> "
   ]
  },
  {
   "cell_type": "code",
   "execution_count": 136,
   "id": "3ddb64a1-dcf0-4d27-97b2-144d57e9674c",
   "metadata": {},
   "outputs": [
    {
     "data": {
      "text/html": [
       "<div>\n",
       "<style scoped>\n",
       "    .dataframe tbody tr th:only-of-type {\n",
       "        vertical-align: middle;\n",
       "    }\n",
       "\n",
       "    .dataframe tbody tr th {\n",
       "        vertical-align: top;\n",
       "    }\n",
       "\n",
       "    .dataframe thead th {\n",
       "        text-align: right;\n",
       "    }\n",
       "</style>\n",
       "<table border=\"1\" class=\"dataframe\">\n",
       "  <thead>\n",
       "    <tr style=\"text-align: right;\">\n",
       "      <th>isFraud</th>\n",
       "      <th>False</th>\n",
       "      <th>True</th>\n",
       "    </tr>\n",
       "    <tr>\n",
       "      <th>acqCountry</th>\n",
       "      <th></th>\n",
       "      <th></th>\n",
       "    </tr>\n",
       "  </thead>\n",
       "  <tbody>\n",
       "    <tr>\n",
       "      <th></th>\n",
       "      <td>0.967339</td>\n",
       "      <td>0.032661</td>\n",
       "    </tr>\n",
       "    <tr>\n",
       "      <th>CAN</th>\n",
       "      <td>0.977310</td>\n",
       "      <td>0.022690</td>\n",
       "    </tr>\n",
       "    <tr>\n",
       "      <th>MEX</th>\n",
       "      <td>0.979553</td>\n",
       "      <td>0.020447</td>\n",
       "    </tr>\n",
       "    <tr>\n",
       "      <th>PR</th>\n",
       "      <td>0.982445</td>\n",
       "      <td>0.017555</td>\n",
       "    </tr>\n",
       "    <tr>\n",
       "      <th>US</th>\n",
       "      <td>0.984353</td>\n",
       "      <td>0.015647</td>\n",
       "    </tr>\n",
       "    <tr>\n",
       "      <th>total</th>\n",
       "      <td>0.984210</td>\n",
       "      <td>0.015790</td>\n",
       "    </tr>\n",
       "  </tbody>\n",
       "</table>\n",
       "</div>"
      ],
      "text/plain": [
       "isFraud        False      True\n",
       "acqCountry                    \n",
       "            0.967339  0.032661\n",
       "CAN         0.977310  0.022690\n",
       "MEX         0.979553  0.020447\n",
       "PR          0.982445  0.017555\n",
       "US          0.984353  0.015647\n",
       "total       0.984210  0.015790"
      ]
     },
     "execution_count": 136,
     "metadata": {},
     "output_type": "execute_result"
    }
   ],
   "source": [
    "pd.crosstab(transactions.acqCountry,transactions.isFraud,normalize = 'index',margins = True,margins_name = 'total')"
   ]
  },
  {
   "cell_type": "markdown",
   "id": "01af5c0a-20a7-4f90-9a9b-3ea3435a4ee8",
   "metadata": {},
   "source": [
    "<p> Note that the first row is actually a null value. Crosstab analysis helps us understand how when country is not specified, there is a 3.2 % chance that the transaction is Fraudulent, compared to the usual 1-2% in other countries. Keeping this feature is probably a good idea.\n",
    "</p>"
   ]
  },
  {
   "cell_type": "code",
   "execution_count": 137,
   "id": "0d75a32b-d21b-4a9e-b087-677ce2a62f85",
   "metadata": {},
   "outputs": [
    {
     "data": {
      "text/html": [
       "<div>\n",
       "<style scoped>\n",
       "    .dataframe tbody tr th:only-of-type {\n",
       "        vertical-align: middle;\n",
       "    }\n",
       "\n",
       "    .dataframe tbody tr th {\n",
       "        vertical-align: top;\n",
       "    }\n",
       "\n",
       "    .dataframe thead th {\n",
       "        text-align: right;\n",
       "    }\n",
       "</style>\n",
       "<table border=\"1\" class=\"dataframe\">\n",
       "  <thead>\n",
       "    <tr style=\"text-align: right;\">\n",
       "      <th>isFraud</th>\n",
       "      <th>False</th>\n",
       "      <th>True</th>\n",
       "    </tr>\n",
       "    <tr>\n",
       "      <th>merchantName</th>\n",
       "      <th></th>\n",
       "      <th></th>\n",
       "    </tr>\n",
       "  </thead>\n",
       "  <tbody>\n",
       "    <tr>\n",
       "      <th>In-N-Out #949129</th>\n",
       "      <td>0.887640</td>\n",
       "      <td>0.112360</td>\n",
       "    </tr>\n",
       "    <tr>\n",
       "      <th>American Airlines</th>\n",
       "      <td>0.906021</td>\n",
       "      <td>0.093979</td>\n",
       "    </tr>\n",
       "    <tr>\n",
       "      <th>In-N-Out #863086</th>\n",
       "      <td>0.906250</td>\n",
       "      <td>0.093750</td>\n",
       "    </tr>\n",
       "    <tr>\n",
       "      <th>In-N-Out #463194</th>\n",
       "      <td>0.916667</td>\n",
       "      <td>0.083333</td>\n",
       "    </tr>\n",
       "    <tr>\n",
       "      <th>In-N-Out #422833</th>\n",
       "      <td>0.918182</td>\n",
       "      <td>0.081818</td>\n",
       "    </tr>\n",
       "    <tr>\n",
       "      <th>In-N-Out #567597</th>\n",
       "      <td>0.921348</td>\n",
       "      <td>0.078652</td>\n",
       "    </tr>\n",
       "    <tr>\n",
       "      <th>Walgreens #475572</th>\n",
       "      <td>0.928571</td>\n",
       "      <td>0.071429</td>\n",
       "    </tr>\n",
       "    <tr>\n",
       "      <th>In-N-Out #17755</th>\n",
       "      <td>0.931373</td>\n",
       "      <td>0.068627</td>\n",
       "    </tr>\n",
       "    <tr>\n",
       "      <th>Fresh Flowers</th>\n",
       "      <td>0.933645</td>\n",
       "      <td>0.066355</td>\n",
       "    </tr>\n",
       "    <tr>\n",
       "      <th>In-N-Out #899468</th>\n",
       "      <td>0.933962</td>\n",
       "      <td>0.066038</td>\n",
       "    </tr>\n",
       "  </tbody>\n",
       "</table>\n",
       "</div>"
      ],
      "text/plain": [
       "isFraud               False      True\n",
       "merchantName                         \n",
       "In-N-Out #949129   0.887640  0.112360\n",
       "American Airlines  0.906021  0.093979\n",
       "In-N-Out #863086   0.906250  0.093750\n",
       "In-N-Out #463194   0.916667  0.083333\n",
       "In-N-Out #422833   0.918182  0.081818\n",
       "In-N-Out #567597   0.921348  0.078652\n",
       "Walgreens #475572  0.928571  0.071429\n",
       "In-N-Out #17755    0.931373  0.068627\n",
       "Fresh Flowers      0.933645  0.066355\n",
       "In-N-Out #899468   0.933962  0.066038"
      ]
     },
     "execution_count": 137,
     "metadata": {},
     "output_type": "execute_result"
    }
   ],
   "source": [
    "merchant_names = pd.crosstab(transactions.merchantName,transactions.isFraud,normalize = 'index')\n",
    "merchant_names.sort_values(by = True,axis = 0,ascending = False).head(10)"
   ]
  },
  {
   "cell_type": "markdown",
   "id": "37bee433-d54c-4d80-923a-15f977a85956",
   "metadata": {},
   "source": [
    "<p> From the data, it is very clearly visible that In-N-Out is a one of the top features where fraud takes place, in terms of percentage of it's own transactions. The number of retail locations a merchant has can also contribute to how fraudulent a transaction can be.\n",
    "</p>"
   ]
  },
  {
   "cell_type": "code",
   "execution_count": 138,
   "id": "5d3b5cf6-ce06-4cfb-a9f3-15b100e567f0",
   "metadata": {},
   "outputs": [
    {
     "data": {
      "text/html": [
       "<div>\n",
       "<style scoped>\n",
       "    .dataframe tbody tr th:only-of-type {\n",
       "        vertical-align: middle;\n",
       "    }\n",
       "\n",
       "    .dataframe tbody tr th {\n",
       "        vertical-align: top;\n",
       "    }\n",
       "\n",
       "    .dataframe thead th {\n",
       "        text-align: right;\n",
       "    }\n",
       "</style>\n",
       "<table border=\"1\" class=\"dataframe\">\n",
       "  <thead>\n",
       "    <tr style=\"text-align: right;\">\n",
       "      <th>isFraud</th>\n",
       "      <th>False</th>\n",
       "      <th>True</th>\n",
       "    </tr>\n",
       "    <tr>\n",
       "      <th>merchantName</th>\n",
       "      <th></th>\n",
       "      <th></th>\n",
       "    </tr>\n",
       "  </thead>\n",
       "  <tbody>\n",
       "    <tr>\n",
       "      <th>Lyft</th>\n",
       "      <td>0.031491</td>\n",
       "      <td>0.000966</td>\n",
       "    </tr>\n",
       "    <tr>\n",
       "      <th>ebay.com</th>\n",
       "      <td>0.020605</td>\n",
       "      <td>0.000813</td>\n",
       "    </tr>\n",
       "    <tr>\n",
       "      <th>Fresh Flowers</th>\n",
       "      <td>0.009895</td>\n",
       "      <td>0.000703</td>\n",
       "    </tr>\n",
       "    <tr>\n",
       "      <th>Uber</th>\n",
       "      <td>0.031920</td>\n",
       "      <td>0.000651</td>\n",
       "    </tr>\n",
       "    <tr>\n",
       "      <th>walmart.com</th>\n",
       "      <td>0.020890</td>\n",
       "      <td>0.000567</td>\n",
       "    </tr>\n",
       "    <tr>\n",
       "      <th>cheapfast.com</th>\n",
       "      <td>0.020876</td>\n",
       "      <td>0.000562</td>\n",
       "    </tr>\n",
       "    <tr>\n",
       "      <th>sears.com</th>\n",
       "      <td>0.020770</td>\n",
       "      <td>0.000537</td>\n",
       "    </tr>\n",
       "    <tr>\n",
       "      <th>oldnavy.com</th>\n",
       "      <td>0.021098</td>\n",
       "      <td>0.000510</td>\n",
       "    </tr>\n",
       "    <tr>\n",
       "      <th>staples.com</th>\n",
       "      <td>0.021086</td>\n",
       "      <td>0.000507</td>\n",
       "    </tr>\n",
       "    <tr>\n",
       "      <th>alibaba.com</th>\n",
       "      <td>0.021079</td>\n",
       "      <td>0.000487</td>\n",
       "    </tr>\n",
       "    <tr>\n",
       "      <th>amazon.com</th>\n",
       "      <td>0.020866</td>\n",
       "      <td>0.000473</td>\n",
       "    </tr>\n",
       "    <tr>\n",
       "      <th>gap.com</th>\n",
       "      <td>0.020736</td>\n",
       "      <td>0.000469</td>\n",
       "    </tr>\n",
       "    <tr>\n",
       "      <th>target.com</th>\n",
       "      <td>0.020920</td>\n",
       "      <td>0.000460</td>\n",
       "    </tr>\n",
       "    <tr>\n",
       "      <th>apple.com</th>\n",
       "      <td>0.021035</td>\n",
       "      <td>0.000454</td>\n",
       "    </tr>\n",
       "    <tr>\n",
       "      <th>discount.com</th>\n",
       "      <td>0.020836</td>\n",
       "      <td>0.000440</td>\n",
       "    </tr>\n",
       "    <tr>\n",
       "      <th>American Airlines</th>\n",
       "      <td>0.003617</td>\n",
       "      <td>0.000375</td>\n",
       "    </tr>\n",
       "    <tr>\n",
       "      <th>Blue Mountain Online Services</th>\n",
       "      <td>0.010120</td>\n",
       "      <td>0.000276</td>\n",
       "    </tr>\n",
       "    <tr>\n",
       "      <th>Fresh eCards</th>\n",
       "      <td>0.010243</td>\n",
       "      <td>0.000272</td>\n",
       "    </tr>\n",
       "    <tr>\n",
       "      <th>Next Day Online Services</th>\n",
       "      <td>0.010304</td>\n",
       "      <td>0.000216</td>\n",
       "    </tr>\n",
       "    <tr>\n",
       "      <th>Blue Mountain eCards</th>\n",
       "      <td>0.010494</td>\n",
       "      <td>0.000153</td>\n",
       "    </tr>\n",
       "  </tbody>\n",
       "</table>\n",
       "</div>"
      ],
      "text/plain": [
       "isFraud                           False      True\n",
       "merchantName                                     \n",
       "Lyft                           0.031491  0.000966\n",
       "ebay.com                       0.020605  0.000813\n",
       "Fresh Flowers                  0.009895  0.000703\n",
       "Uber                           0.031920  0.000651\n",
       "walmart.com                    0.020890  0.000567\n",
       "cheapfast.com                  0.020876  0.000562\n",
       "sears.com                      0.020770  0.000537\n",
       "oldnavy.com                    0.021098  0.000510\n",
       "staples.com                    0.021086  0.000507\n",
       "alibaba.com                    0.021079  0.000487\n",
       "amazon.com                     0.020866  0.000473\n",
       "gap.com                        0.020736  0.000469\n",
       "target.com                     0.020920  0.000460\n",
       "apple.com                      0.021035  0.000454\n",
       "discount.com                   0.020836  0.000440\n",
       "American Airlines              0.003617  0.000375\n",
       "Blue Mountain Online Services  0.010120  0.000276\n",
       "Fresh eCards                   0.010243  0.000272\n",
       "Next Day Online Services       0.010304  0.000216\n",
       "Blue Mountain eCards           0.010494  0.000153"
      ]
     },
     "execution_count": 138,
     "metadata": {},
     "output_type": "execute_result"
    }
   ],
   "source": [
    "merchant_names = pd.crosstab(transactions.merchantName,transactions.isFraud,normalize = True)\n",
    "merchant_names.sort_values(by = True,axis = 0,ascending = False).head(20)"
   ]
  },
  {
   "cell_type": "markdown",
   "id": "7ba2eeba-e389-4d79-952f-447874ff3ebd",
   "metadata": {},
   "source": [
    "<p> Most of the credit card frauds take place at lyft. However, since there are multiple locations of each of the other retailers like InAndOut, we might need some text preprocessing to get a true idea of which merchant's are troublesome. </p>"
   ]
  },
  {
   "cell_type": "code",
   "execution_count": 139,
   "id": "6d7edb28-92ce-454a-9832-9d4cf050cb44",
   "metadata": {},
   "outputs": [
    {
     "data": {
      "text/plain": [
       "2490"
      ]
     },
     "execution_count": 139,
     "metadata": {},
     "output_type": "execute_result"
    }
   ],
   "source": [
    "len(transactions.merchantName.unique())"
   ]
  },
  {
   "cell_type": "markdown",
   "id": "37e89b01-e731-48f4-bdfd-8b12566973fd",
   "metadata": {},
   "source": [
    "<p> Thus by applying this transformation, our contingency tables will change. </p>"
   ]
  },
  {
   "cell_type": "code",
   "execution_count": 140,
   "id": "08234c56-dd5d-4989-8bb6-4039d60bd4eb",
   "metadata": {},
   "outputs": [],
   "source": [
    "transactions.merchantName = transactions.merchantName.apply(lambda x: re.sub('(#[0-9]+)','',x).strip())"
   ]
  },
  {
   "cell_type": "code",
   "execution_count": 141,
   "id": "2a526f31-ed8c-4841-81dc-28f895861bb2",
   "metadata": {},
   "outputs": [
    {
     "data": {
      "text/html": [
       "<div>\n",
       "<style scoped>\n",
       "    .dataframe tbody tr th:only-of-type {\n",
       "        vertical-align: middle;\n",
       "    }\n",
       "\n",
       "    .dataframe tbody tr th {\n",
       "        vertical-align: top;\n",
       "    }\n",
       "\n",
       "    .dataframe thead th {\n",
       "        text-align: right;\n",
       "    }\n",
       "</style>\n",
       "<table border=\"1\" class=\"dataframe\">\n",
       "  <thead>\n",
       "    <tr style=\"text-align: right;\">\n",
       "      <th>isFraud</th>\n",
       "      <th>False</th>\n",
       "      <th>True</th>\n",
       "    </tr>\n",
       "    <tr>\n",
       "      <th>merchantName</th>\n",
       "      <th></th>\n",
       "      <th></th>\n",
       "    </tr>\n",
       "  </thead>\n",
       "  <tbody>\n",
       "    <tr>\n",
       "      <th>American Airlines</th>\n",
       "      <td>0.906021</td>\n",
       "      <td>0.093979</td>\n",
       "    </tr>\n",
       "    <tr>\n",
       "      <th>Fresh Flowers</th>\n",
       "      <td>0.933645</td>\n",
       "      <td>0.066355</td>\n",
       "    </tr>\n",
       "    <tr>\n",
       "      <th>ethanallen.com</th>\n",
       "      <td>0.951020</td>\n",
       "      <td>0.048980</td>\n",
       "    </tr>\n",
       "    <tr>\n",
       "      <th>Convenient Auto Services</th>\n",
       "      <td>0.957467</td>\n",
       "      <td>0.042533</td>\n",
       "    </tr>\n",
       "    <tr>\n",
       "      <th>Rove Concepts</th>\n",
       "      <td>0.957627</td>\n",
       "      <td>0.042373</td>\n",
       "    </tr>\n",
       "    <tr>\n",
       "      <th>In-N-Out</th>\n",
       "      <td>0.957805</td>\n",
       "      <td>0.042195</td>\n",
       "    </tr>\n",
       "    <tr>\n",
       "      <th>Dinosaur Restaurant</th>\n",
       "      <td>0.959330</td>\n",
       "      <td>0.040670</td>\n",
       "    </tr>\n",
       "    <tr>\n",
       "      <th>ebay.com</th>\n",
       "      <td>0.962059</td>\n",
       "      <td>0.037941</td>\n",
       "    </tr>\n",
       "    <tr>\n",
       "      <th>Best Pub</th>\n",
       "      <td>0.965978</td>\n",
       "      <td>0.034022</td>\n",
       "    </tr>\n",
       "    <tr>\n",
       "      <th>NY BBQ</th>\n",
       "      <td>0.966408</td>\n",
       "      <td>0.033592</td>\n",
       "    </tr>\n",
       "  </tbody>\n",
       "</table>\n",
       "</div>"
      ],
      "text/plain": [
       "isFraud                      False      True\n",
       "merchantName                                \n",
       "American Airlines         0.906021  0.093979\n",
       "Fresh Flowers             0.933645  0.066355\n",
       "ethanallen.com            0.951020  0.048980\n",
       "Convenient Auto Services  0.957467  0.042533\n",
       "Rove Concepts             0.957627  0.042373\n",
       "In-N-Out                  0.957805  0.042195\n",
       "Dinosaur Restaurant       0.959330  0.040670\n",
       "ebay.com                  0.962059  0.037941\n",
       "Best Pub                  0.965978  0.034022\n",
       "NY BBQ                    0.966408  0.033592"
      ]
     },
     "execution_count": 141,
     "metadata": {},
     "output_type": "execute_result"
    }
   ],
   "source": [
    "merchant_names = pd.crosstab(transactions.merchantName,transactions.isFraud,normalize = 'index')\n",
    "merchant_names.sort_values(by = True,axis = 0,ascending = False).head(10)"
   ]
  },
  {
   "cell_type": "markdown",
   "id": "c379be85-a570-4c66-b45d-e661a52224b7",
   "metadata": {},
   "source": [
    "<p> It's interesting to see how American Airlines transactions are fraudulent at least 1 in 10 times! </p>"
   ]
  },
  {
   "cell_type": "code",
   "execution_count": 142,
   "id": "825820fb-9a38-436b-ab35-20f44697f857",
   "metadata": {},
   "outputs": [
    {
     "data": {
      "text/html": [
       "<div>\n",
       "<style scoped>\n",
       "    .dataframe tbody tr th:only-of-type {\n",
       "        vertical-align: middle;\n",
       "    }\n",
       "\n",
       "    .dataframe tbody tr th {\n",
       "        vertical-align: top;\n",
       "    }\n",
       "\n",
       "    .dataframe thead th {\n",
       "        text-align: right;\n",
       "    }\n",
       "</style>\n",
       "<table border=\"1\" class=\"dataframe\">\n",
       "  <thead>\n",
       "    <tr style=\"text-align: right;\">\n",
       "      <th>isFraud</th>\n",
       "      <th>False</th>\n",
       "      <th>True</th>\n",
       "    </tr>\n",
       "    <tr>\n",
       "      <th>merchantName</th>\n",
       "      <th></th>\n",
       "      <th></th>\n",
       "    </tr>\n",
       "  </thead>\n",
       "  <tbody>\n",
       "    <tr>\n",
       "      <th>Lyft</th>\n",
       "      <td>0.031491</td>\n",
       "      <td>0.000966</td>\n",
       "    </tr>\n",
       "    <tr>\n",
       "      <th>ebay.com</th>\n",
       "      <td>0.020605</td>\n",
       "      <td>0.000813</td>\n",
       "    </tr>\n",
       "    <tr>\n",
       "      <th>Fresh Flowers</th>\n",
       "      <td>0.009895</td>\n",
       "      <td>0.000703</td>\n",
       "    </tr>\n",
       "    <tr>\n",
       "      <th>Uber</th>\n",
       "      <td>0.031920</td>\n",
       "      <td>0.000651</td>\n",
       "    </tr>\n",
       "    <tr>\n",
       "      <th>EZ Putt Putt</th>\n",
       "      <td>0.038433</td>\n",
       "      <td>0.000623</td>\n",
       "    </tr>\n",
       "    <tr>\n",
       "      <th>walmart.com</th>\n",
       "      <td>0.020890</td>\n",
       "      <td>0.000567</td>\n",
       "    </tr>\n",
       "    <tr>\n",
       "      <th>cheapfast.com</th>\n",
       "      <td>0.020876</td>\n",
       "      <td>0.000562</td>\n",
       "    </tr>\n",
       "    <tr>\n",
       "      <th>sears.com</th>\n",
       "      <td>0.020770</td>\n",
       "      <td>0.000537</td>\n",
       "    </tr>\n",
       "    <tr>\n",
       "      <th>oldnavy.com</th>\n",
       "      <td>0.021098</td>\n",
       "      <td>0.000510</td>\n",
       "    </tr>\n",
       "    <tr>\n",
       "      <th>staples.com</th>\n",
       "      <td>0.021086</td>\n",
       "      <td>0.000507</td>\n",
       "    </tr>\n",
       "    <tr>\n",
       "      <th>alibaba.com</th>\n",
       "      <td>0.021079</td>\n",
       "      <td>0.000487</td>\n",
       "    </tr>\n",
       "    <tr>\n",
       "      <th>amazon.com</th>\n",
       "      <td>0.020866</td>\n",
       "      <td>0.000473</td>\n",
       "    </tr>\n",
       "    <tr>\n",
       "      <th>gap.com</th>\n",
       "      <td>0.020736</td>\n",
       "      <td>0.000469</td>\n",
       "    </tr>\n",
       "    <tr>\n",
       "      <th>target.com</th>\n",
       "      <td>0.020920</td>\n",
       "      <td>0.000460</td>\n",
       "    </tr>\n",
       "    <tr>\n",
       "      <th>apple.com</th>\n",
       "      <td>0.021035</td>\n",
       "      <td>0.000454</td>\n",
       "    </tr>\n",
       "    <tr>\n",
       "      <th>discount.com</th>\n",
       "      <td>0.020836</td>\n",
       "      <td>0.000440</td>\n",
       "    </tr>\n",
       "    <tr>\n",
       "      <th>American Airlines</th>\n",
       "      <td>0.003617</td>\n",
       "      <td>0.000375</td>\n",
       "    </tr>\n",
       "    <tr>\n",
       "      <th>In-N-Out</th>\n",
       "      <td>0.007390</td>\n",
       "      <td>0.000326</td>\n",
       "    </tr>\n",
       "    <tr>\n",
       "      <th>AMC</th>\n",
       "      <td>0.047930</td>\n",
       "      <td>0.000320</td>\n",
       "    </tr>\n",
       "    <tr>\n",
       "      <th>Regal Cinemas</th>\n",
       "      <td>0.014275</td>\n",
       "      <td>0.000278</td>\n",
       "    </tr>\n",
       "  </tbody>\n",
       "</table>\n",
       "</div>"
      ],
      "text/plain": [
       "isFraud               False      True\n",
       "merchantName                         \n",
       "Lyft               0.031491  0.000966\n",
       "ebay.com           0.020605  0.000813\n",
       "Fresh Flowers      0.009895  0.000703\n",
       "Uber               0.031920  0.000651\n",
       "EZ Putt Putt       0.038433  0.000623\n",
       "walmart.com        0.020890  0.000567\n",
       "cheapfast.com      0.020876  0.000562\n",
       "sears.com          0.020770  0.000537\n",
       "oldnavy.com        0.021098  0.000510\n",
       "staples.com        0.021086  0.000507\n",
       "alibaba.com        0.021079  0.000487\n",
       "amazon.com         0.020866  0.000473\n",
       "gap.com            0.020736  0.000469\n",
       "target.com         0.020920  0.000460\n",
       "apple.com          0.021035  0.000454\n",
       "discount.com       0.020836  0.000440\n",
       "American Airlines  0.003617  0.000375\n",
       "In-N-Out           0.007390  0.000326\n",
       "AMC                0.047930  0.000320\n",
       "Regal Cinemas      0.014275  0.000278"
      ]
     },
     "execution_count": 142,
     "metadata": {},
     "output_type": "execute_result"
    }
   ],
   "source": [
    "merchant_names = pd.crosstab(transactions.merchantName,transactions.isFraud,normalize = True)\n",
    "merchant_names.sort_values(by = True,axis = 0,ascending = False).head(20)"
   ]
  },
  {
   "cell_type": "markdown",
   "id": "4b74588b-0c5a-4760-bd88-a575d28d83ca",
   "metadata": {},
   "source": [
    "<p> The merchantCountry code and acqCountry code matches 99.5% of the time on the entire dataset, and similarly on the test dataset. Thus only for a very few transactions this feature may be adding value. This is another good candidate for feature removal/engineering </p>"
   ]
  },
  {
   "cell_type": "code",
   "execution_count": 145,
   "id": "e8acaefb-3e37-4302-85ae-ff5786f6a90d",
   "metadata": {},
   "outputs": [
    {
     "data": {
      "text/plain": [
       "0.9950264699636173"
      ]
     },
     "execution_count": 145,
     "metadata": {},
     "output_type": "execute_result"
    }
   ],
   "source": [
    "(transactions.acqCountry == transactions.merchantCountryCode).sum() / transactions.shape[0]"
   ]
  },
  {
   "cell_type": "code",
   "execution_count": 146,
   "id": "2049626b-3df3-492b-87ff-e68e6c7eb9f0",
   "metadata": {},
   "outputs": [
    {
     "data": {
      "text/plain": [
       "0.9946041717000886"
      ]
     },
     "execution_count": 146,
     "metadata": {},
     "output_type": "execute_result"
    }
   ],
   "source": [
    "(transactions[transactions.isFraud == True].acqCountry == transactions[transactions.isFraud == True].merchantCountryCode).sum() / transactions[transactions.isFraud == True].shape[0]"
   ]
  },
  {
   "cell_type": "code",
   "execution_count": 147,
   "id": "072ad43b-a303-4989-98c6-1bc7d769315e",
   "metadata": {},
   "outputs": [
    {
     "data": {
      "text/html": [
       "<div>\n",
       "<style scoped>\n",
       "    .dataframe tbody tr th:only-of-type {\n",
       "        vertical-align: middle;\n",
       "    }\n",
       "\n",
       "    .dataframe tbody tr th {\n",
       "        vertical-align: top;\n",
       "    }\n",
       "\n",
       "    .dataframe thead th {\n",
       "        text-align: right;\n",
       "    }\n",
       "</style>\n",
       "<table border=\"1\" class=\"dataframe\">\n",
       "  <thead>\n",
       "    <tr style=\"text-align: right;\">\n",
       "      <th>isFraud</th>\n",
       "      <th>False</th>\n",
       "      <th>True</th>\n",
       "    </tr>\n",
       "    <tr>\n",
       "      <th>merchantCategoryCode</th>\n",
       "      <th></th>\n",
       "      <th></th>\n",
       "    </tr>\n",
       "  </thead>\n",
       "  <tbody>\n",
       "    <tr>\n",
       "      <th>online_retail</th>\n",
       "      <td>0.250798</td>\n",
       "      <td>0.006280</td>\n",
       "    </tr>\n",
       "    <tr>\n",
       "      <th>online_gifts</th>\n",
       "      <td>0.082191</td>\n",
       "      <td>0.002042</td>\n",
       "    </tr>\n",
       "    <tr>\n",
       "      <th>rideshare</th>\n",
       "      <td>0.063411</td>\n",
       "      <td>0.001618</td>\n",
       "    </tr>\n",
       "    <tr>\n",
       "      <th>fastfood</th>\n",
       "      <td>0.141238</td>\n",
       "      <td>0.001366</td>\n",
       "    </tr>\n",
       "    <tr>\n",
       "      <th>food</th>\n",
       "      <td>0.094709</td>\n",
       "      <td>0.001289</td>\n",
       "    </tr>\n",
       "  </tbody>\n",
       "</table>\n",
       "</div>"
      ],
      "text/plain": [
       "isFraud                  False      True\n",
       "merchantCategoryCode                    \n",
       "online_retail         0.250798  0.006280\n",
       "online_gifts          0.082191  0.002042\n",
       "rideshare             0.063411  0.001618\n",
       "fastfood              0.141238  0.001366\n",
       "food                  0.094709  0.001289"
      ]
     },
     "execution_count": 147,
     "metadata": {},
     "output_type": "execute_result"
    }
   ],
   "source": [
    "merchant_codes = pd.crosstab(transactions.merchantCategoryCode,transactions.isFraud,normalize = True)\n",
    "merchant_codes.sort_values(by = True,axis = 0,ascending = False).head(5)"
   ]
  },
  {
   "cell_type": "code",
   "execution_count": 148,
   "id": "0fd56f60-b1d3-41c6-b8fc-ae93eb31172c",
   "metadata": {},
   "outputs": [
    {
     "data": {
      "text/html": [
       "<div>\n",
       "<style scoped>\n",
       "    .dataframe tbody tr th:only-of-type {\n",
       "        vertical-align: middle;\n",
       "    }\n",
       "\n",
       "    .dataframe tbody tr th {\n",
       "        vertical-align: top;\n",
       "    }\n",
       "\n",
       "    .dataframe thead th {\n",
       "        text-align: right;\n",
       "    }\n",
       "</style>\n",
       "<table border=\"1\" class=\"dataframe\">\n",
       "  <thead>\n",
       "    <tr style=\"text-align: right;\">\n",
       "      <th>isFraud</th>\n",
       "      <th>False</th>\n",
       "      <th>True</th>\n",
       "    </tr>\n",
       "    <tr>\n",
       "      <th>merchantCategoryCode</th>\n",
       "      <th></th>\n",
       "      <th></th>\n",
       "    </tr>\n",
       "  </thead>\n",
       "  <tbody>\n",
       "    <tr>\n",
       "      <th>airline</th>\n",
       "      <td>0.965352</td>\n",
       "      <td>0.034648</td>\n",
       "    </tr>\n",
       "    <tr>\n",
       "      <th>rideshare</th>\n",
       "      <td>0.975125</td>\n",
       "      <td>0.024875</td>\n",
       "    </tr>\n",
       "    <tr>\n",
       "      <th>online_retail</th>\n",
       "      <td>0.975573</td>\n",
       "      <td>0.024427</td>\n",
       "    </tr>\n",
       "    <tr>\n",
       "      <th>online_gifts</th>\n",
       "      <td>0.975754</td>\n",
       "      <td>0.024246</td>\n",
       "    </tr>\n",
       "    <tr>\n",
       "      <th>furniture</th>\n",
       "      <td>0.986141</td>\n",
       "      <td>0.013859</td>\n",
       "    </tr>\n",
       "  </tbody>\n",
       "</table>\n",
       "</div>"
      ],
      "text/plain": [
       "isFraud                  False      True\n",
       "merchantCategoryCode                    \n",
       "airline               0.965352  0.034648\n",
       "rideshare             0.975125  0.024875\n",
       "online_retail         0.975573  0.024427\n",
       "online_gifts          0.975754  0.024246\n",
       "furniture             0.986141  0.013859"
      ]
     },
     "execution_count": 148,
     "metadata": {},
     "output_type": "execute_result"
    }
   ],
   "source": [
    "merchant_codes = pd.crosstab(transactions.merchantCategoryCode,transactions.isFraud,normalize = 'index')\n",
    "merchant_codes.sort_values(by = True,axis = 0,ascending = False).head(5)"
   ]
  },
  {
   "cell_type": "markdown",
   "id": "790f250f-e372-4b93-a9da-b7a87ec485aa",
   "metadata": {},
   "source": [
    "<p> As we observed above, airline (American) do have a high rate of being fraud. Also, online retail holds the highest share of Fraudulent transactions</p>"
   ]
  },
  {
   "cell_type": "markdown",
   "id": "2a4214fe-5ff7-404a-9f6e-ea5b507ab2f9",
   "metadata": {},
   "source": [
    "<p> The values of card CVV in itself might not be contributing to fraud, It is strange to see that there are 899 CVV's across 5000 accounts, this is probably because CVV's can be duplicate but card numbers need not. Intuitively, this seems to be a good candidate for feature elimination, but enteredCVV might have stronger patterns. </p>"
   ]
  },
  {
   "cell_type": "code",
   "execution_count": 149,
   "id": "515f3d88-fabb-47ce-a2d9-135a443fda42",
   "metadata": {},
   "outputs": [
    {
     "data": {
      "text/plain": [
       "899"
      ]
     },
     "execution_count": 149,
     "metadata": {},
     "output_type": "execute_result"
    }
   ],
   "source": [
    "len(transactions.cardCVV.unique())"
   ]
  },
  {
   "cell_type": "code",
   "execution_count": 150,
   "id": "6b8a88c0-73a4-4afa-ac66-94b91dd20f53",
   "metadata": {},
   "outputs": [
    {
     "data": {
      "text/html": [
       "<div>\n",
       "<style scoped>\n",
       "    .dataframe tbody tr th:only-of-type {\n",
       "        vertical-align: middle;\n",
       "    }\n",
       "\n",
       "    .dataframe tbody tr th {\n",
       "        vertical-align: top;\n",
       "    }\n",
       "\n",
       "    .dataframe thead th {\n",
       "        text-align: right;\n",
       "    }\n",
       "</style>\n",
       "<table border=\"1\" class=\"dataframe\">\n",
       "  <thead>\n",
       "    <tr style=\"text-align: right;\">\n",
       "      <th>isFraud</th>\n",
       "      <th>False</th>\n",
       "      <th>True</th>\n",
       "    </tr>\n",
       "    <tr>\n",
       "      <th>row_0</th>\n",
       "      <th></th>\n",
       "      <th></th>\n",
       "    </tr>\n",
       "  </thead>\n",
       "  <tbody>\n",
       "    <tr>\n",
       "      <th>False</th>\n",
       "      <td>0.975547</td>\n",
       "      <td>0.015532</td>\n",
       "    </tr>\n",
       "    <tr>\n",
       "      <th>True</th>\n",
       "      <td>0.008663</td>\n",
       "      <td>0.000258</td>\n",
       "    </tr>\n",
       "  </tbody>\n",
       "</table>\n",
       "</div>"
      ],
      "text/plain": [
       "isFraud     False      True\n",
       "row_0                      \n",
       "False    0.975547  0.015532\n",
       "True     0.008663  0.000258"
      ]
     },
     "execution_count": 150,
     "metadata": {},
     "output_type": "execute_result"
    }
   ],
   "source": [
    "pd.crosstab((transactions.enteredCVV != transactions.cardCVV),transactions.isFraud,normalize = True)"
   ]
  },
  {
   "cell_type": "markdown",
   "id": "9c9eb704-ef70-4b79-9249-a70967c26425",
   "metadata": {},
   "source": [
    "<p>This shows that the difference in enteredCVV and cardCVV may not be as powerful a feature on it's own, given, that it points out isFraud only 0.2% of the times.However, it is possible that a particular fraudster has a pattern of putting in CVVs from different accounts, and we must rely on good non-linera models to extract information out of this feature. </p>"
   ]
  },
  {
   "cell_type": "code",
   "execution_count": 153,
   "id": "7b137cfa-32c7-4ace-9e34-a5da614a4b0c",
   "metadata": {},
   "outputs": [],
   "source": [
    "fraud_CVVs = pd.crosstab(transactions.enteredCVV ,transactions.isFraud,normalize = 'columns').sort_values(by = True,axis = 0,ascending = False)"
   ]
  },
  {
   "cell_type": "markdown",
   "id": "170cca63-0fa1-4345-b210-8e04c00a3bca",
   "metadata": {},
   "source": [
    "<p> Which accounts do the top entered CVV's for fraudulent transactions come from? </p>"
   ]
  },
  {
   "cell_type": "code",
   "execution_count": 154,
   "id": "eb359da8-2280-464a-879f-ce601995574c",
   "metadata": {},
   "outputs": [
    {
     "data": {
      "image/png": "[encoded data removed]",
      "text/plain": [
       "<Figure size 432x288 with 1 Axes>"
      ]
     },
     "metadata": {
      "needs_background": "light"
     },
     "output_type": "display_data"
    }
   ],
   "source": [
    "plt.plot(range(len(fraud_CVVs)), fraud_CVVs.cumsum().iloc[:,1])\n",
    "plt.title('Dominant entered CVVs vs. % fraud')\n",
    "plt.show()"
   ]
  },
  {
   "cell_type": "markdown",
   "id": "8c5927d1-1607-4551-9103-d6ea809f79a7",
   "metadata": {},
   "source": [
    "<p> This gives us a sense of whether the frauds are dominated by some particular CVV's. The initial 50-60% of the population does rely on some 20% of the most fraudulent enteredCVVs. A target encoding scheme could work pretty well with this feature. </p>"
   ]
  },
  {
   "cell_type": "code",
   "execution_count": 155,
   "id": "64c76abf-0769-4a04-a17b-89bd96aa2308",
   "metadata": {},
   "outputs": [
    {
     "data": {
      "text/html": [
       "<div>\n",
       "<style scoped>\n",
       "    .dataframe tbody tr th:only-of-type {\n",
       "        vertical-align: middle;\n",
       "    }\n",
       "\n",
       "    .dataframe tbody tr th {\n",
       "        vertical-align: top;\n",
       "    }\n",
       "\n",
       "    .dataframe thead th {\n",
       "        text-align: right;\n",
       "    }\n",
       "</style>\n",
       "<table border=\"1\" class=\"dataframe\">\n",
       "  <thead>\n",
       "    <tr style=\"text-align: right;\">\n",
       "      <th>isFraud</th>\n",
       "      <th>False</th>\n",
       "      <th>True</th>\n",
       "    </tr>\n",
       "    <tr>\n",
       "      <th>enteredCVV</th>\n",
       "      <th></th>\n",
       "      <th></th>\n",
       "    </tr>\n",
       "  </thead>\n",
       "  <tbody>\n",
       "    <tr>\n",
       "      <th>1</th>\n",
       "      <td>0.007957</td>\n",
       "      <td>0.000064</td>\n",
       "    </tr>\n",
       "    <tr>\n",
       "      <th>2</th>\n",
       "      <td>0.261540</td>\n",
       "      <td>0.004246</td>\n",
       "    </tr>\n",
       "    <tr>\n",
       "      <th>3</th>\n",
       "      <td>0.714713</td>\n",
       "      <td>0.011481</td>\n",
       "    </tr>\n",
       "  </tbody>\n",
       "</table>\n",
       "</div>"
      ],
      "text/plain": [
       "isFraud        False      True\n",
       "enteredCVV                    \n",
       "1           0.007957  0.000064\n",
       "2           0.261540  0.004246\n",
       "3           0.714713  0.011481"
      ]
     },
     "execution_count": 155,
     "metadata": {},
     "output_type": "execute_result"
    }
   ],
   "source": [
    "pd.crosstab(transactions.enteredCVV.apply(lambda x: len(set(str(x)))),transactions.isFraud,normalize = True)"
   ]
  },
  {
   "cell_type": "markdown",
   "id": "e4a81baf-32f6-4179-882b-1dc7d9eafe78",
   "metadata": {},
   "source": [
    "<p> This feature doesn't really tell anything </p>"
   ]
  },
  {
   "cell_type": "code",
   "execution_count": 156,
   "id": "c8a58e02-a635-4cf6-b1a7-96cc9803c982",
   "metadata": {},
   "outputs": [
    {
     "data": {
      "text/plain": [
       "5246"
      ]
     },
     "execution_count": 156,
     "metadata": {},
     "output_type": "execute_result"
    }
   ],
   "source": [
    "len(transactions.cardLast4Digits.unique())"
   ]
  },
  {
   "cell_type": "markdown",
   "id": "ed29b97c-a128-4f85-b960-345da3cab837",
   "metadata": {},
   "source": [
    "<p> Given that there are 5246 credit cards that are distributed amongst 5000 account holders, the individual credit card numbers in themselves probably do not hold much value. \n",
    "However, we can encode this information in a smarter way by encoding the number of credit cards an account holder as, and checking it's distribution </p>"
   ]
  },
  {
   "cell_type": "code",
   "execution_count": 157,
   "id": "f807b9bc-c547-4ffb-bdd4-1dbf9722d643",
   "metadata": {},
   "outputs": [
    {
     "data": {
      "text/plain": [
       "12417"
      ]
     },
     "execution_count": 157,
     "metadata": {},
     "output_type": "execute_result"
    }
   ],
   "source": [
    "transactions.isFraud.sum()"
   ]
  },
  {
   "cell_type": "code",
   "execution_count": 158,
   "id": "c56d5a4f-32ee-4b3e-9ae1-15cdeff8376c",
   "metadata": {},
   "outputs": [],
   "source": [
    "numberOfCards = transactions.groupby('accountNumber')['cardLast4Digits'].nunique().astype(str)"
   ]
  },
  {
   "cell_type": "code",
   "execution_count": 159,
   "id": "734c2527-3cf2-4c64-ac7a-fee35af9f88d",
   "metadata": {},
   "outputs": [],
   "source": [
    "numberOfCards.name = 'numberOfCards'"
   ]
  },
  {
   "cell_type": "code",
   "execution_count": 160,
   "id": "a2620325-5958-4626-a103-70657b60a707",
   "metadata": {},
   "outputs": [],
   "source": [
    "transactions = transactions.set_index('accountNumber').join(numberOfCards).reset_index()"
   ]
  },
  {
   "cell_type": "code",
   "execution_count": 161,
   "id": "0e6acf4a-f112-442e-9ac5-52ecf3b65354",
   "metadata": {},
   "outputs": [
    {
     "data": {
      "text/html": [
       "<div>\n",
       "<style scoped>\n",
       "    .dataframe tbody tr th:only-of-type {\n",
       "        vertical-align: middle;\n",
       "    }\n",
       "\n",
       "    .dataframe tbody tr th {\n",
       "        vertical-align: top;\n",
       "    }\n",
       "\n",
       "    .dataframe thead th {\n",
       "        text-align: right;\n",
       "    }\n",
       "</style>\n",
       "<table border=\"1\" class=\"dataframe\">\n",
       "  <thead>\n",
       "    <tr style=\"text-align: right;\">\n",
       "      <th>isFraud</th>\n",
       "      <th>False</th>\n",
       "      <th>True</th>\n",
       "    </tr>\n",
       "    <tr>\n",
       "      <th>numberOfCards</th>\n",
       "      <th></th>\n",
       "      <th></th>\n",
       "    </tr>\n",
       "  </thead>\n",
       "  <tbody>\n",
       "    <tr>\n",
       "      <th>1</th>\n",
       "      <td>0.608176</td>\n",
       "      <td>0.009604</td>\n",
       "    </tr>\n",
       "    <tr>\n",
       "      <th>2</th>\n",
       "      <td>0.296624</td>\n",
       "      <td>0.005138</td>\n",
       "    </tr>\n",
       "    <tr>\n",
       "      <th>3</th>\n",
       "      <td>0.069258</td>\n",
       "      <td>0.000916</td>\n",
       "    </tr>\n",
       "    <tr>\n",
       "      <th>4</th>\n",
       "      <td>0.009178</td>\n",
       "      <td>0.000113</td>\n",
       "    </tr>\n",
       "    <tr>\n",
       "      <th>5</th>\n",
       "      <td>0.000913</td>\n",
       "      <td>0.000020</td>\n",
       "    </tr>\n",
       "    <tr>\n",
       "      <th>6</th>\n",
       "      <td>0.000061</td>\n",
       "      <td>0.000000</td>\n",
       "    </tr>\n",
       "  </tbody>\n",
       "</table>\n",
       "</div>"
      ],
      "text/plain": [
       "isFraud           False      True\n",
       "numberOfCards                    \n",
       "1              0.608176  0.009604\n",
       "2              0.296624  0.005138\n",
       "3              0.069258  0.000916\n",
       "4              0.009178  0.000113\n",
       "5              0.000913  0.000020\n",
       "6              0.000061  0.000000"
      ]
     },
     "execution_count": 161,
     "metadata": {},
     "output_type": "execute_result"
    }
   ],
   "source": [
    "pd.crosstab(transactions.numberOfCards,transactions.isFraud,normalize = True)"
   ]
  },
  {
   "cell_type": "markdown",
   "id": "0d3020e8-5779-4cda-8616-0e67dd465d43",
   "metadata": {},
   "source": [
    "<p> This distribution of people with more number of cards are more likely to be fraudulent is probably wrong. The more cards people have the more likely it is that they are not fraudulent. But we still keep our hopes that the model will find patterns we can't comprehend, and keep this feature.</p>"
   ]
  },
  {
   "cell_type": "markdown",
   "id": "05438d34-f9dc-44b8-9215-e77131574413",
   "metadata": {},
   "source": [
    "<p> Time to expiry can say a lot about the time the card was prescribed to, older customers are less likely to commit fraud and newer customers are more likely</p>"
   ]
  },
  {
   "cell_type": "code",
   "execution_count": 162,
   "id": "557e160b-fb3b-4d7d-9ad5-d122769b2ceb",
   "metadata": {},
   "outputs": [
    {
     "data": {
      "text/plain": [
       "Timedelta('1065 days 08:21:19')"
      ]
     },
     "execution_count": 162,
     "metadata": {},
     "output_type": "execute_result"
    }
   ],
   "source": [
    "(transactions.currentExpDate - transactions.transactionDateTime).min()"
   ]
  },
  {
   "cell_type": "code",
   "execution_count": 163,
   "id": "a888c96a-1d15-45b2-91ec-eddbe0d8752f",
   "metadata": {},
   "outputs": [
    {
     "data": {
      "text/plain": [
       "Timedelta('6421 days 12:34:47')"
      ]
     },
     "execution_count": 163,
     "metadata": {},
     "output_type": "execute_result"
    }
   ],
   "source": [
    "(transactions.currentExpDate - transactions.transactionDateTime).max()"
   ]
  },
  {
   "cell_type": "code",
   "execution_count": 164,
   "id": "a1fda739-859e-4f96-a104-fae6c552627b",
   "metadata": {},
   "outputs": [],
   "source": [
    "days_to_expiry = (transactions.currentExpDate - transactions.transactionDateTime).apply(lambda x: x.days)"
   ]
  },
  {
   "cell_type": "markdown",
   "id": "c59a3d01-f0f8-4f94-b210-14bf6c8744a2",
   "metadata": {},
   "source": [
    "<p> An attempt to use logistic regression failed for this purpose, due to class imbalance. We could rather check the distribution </p>"
   ]
  },
  {
   "cell_type": "code",
   "execution_count": 165,
   "id": "ef0bc6cf-6ae7-4ee0-af20-124e9e4236cd",
   "metadata": {},
   "outputs": [
    {
     "data": {
      "image/png": "[encoded data removed]",
      "text/plain": [
       "<Figure size 432x288 with 1 Axes>"
      ]
     },
     "metadata": {
      "needs_background": "light"
     },
     "output_type": "display_data"
    }
   ],
   "source": [
    "bins = 100\n",
    "plt.hist(days_to_expiry[transactions.isFraud == False], bins, alpha=0.5, label='Non-Fraudulent')\n",
    "plt.hist(days_to_expiry[transactions.isFraud == True],bins, alpha=1, label='Fraudulent')\n",
    "plt.legend(loc='upper right')\n",
    "plt.show()"
   ]
  },
  {
   "cell_type": "markdown",
   "id": "72db885a-4b61-4b12-9efd-4a353f68691e",
   "metadata": {},
   "source": [
    "Again it has is difficult to conclude that this is likely to be one of the most important features, however, it is worth considering this feature from a business sense."
   ]
  },
  {
   "cell_type": "code",
   "execution_count": 166,
   "id": "5a573a2c-7adc-4f1b-aba5-addfb8cbcaba",
   "metadata": {},
   "outputs": [],
   "source": [
    "days_from_last_address = ( transactions.transactionDateTime - transactions.dateOfLastAddressChange).apply(lambda x: x.days)\n",
    "days_from_account_open = ( transactions.transactionDateTime - transactions.accountOpenDate).apply(lambda x: x.days)"
   ]
  },
  {
   "cell_type": "code",
   "execution_count": 167,
   "id": "c3f43bc5-6ed0-4bce-9cec-19ea13076af8",
   "metadata": {},
   "outputs": [
    {
     "data": {
      "image/png": "[encoded data removed]",
      "text/plain": [
       "<Figure size 432x288 with 1 Axes>"
      ]
     },
     "metadata": {
      "needs_background": "light"
     },
     "output_type": "display_data"
    }
   ],
   "source": [
    "bins = 100\n",
    "plt.hist(days_from_last_address[transactions.isFraud == False], bins, alpha=0.5, label='Non-Fraudulent')\n",
    "plt.hist(days_from_last_address[transactions.isFraud == True],bins, alpha=1, label='Fraudulent')\n",
    "plt.legend(loc='upper right')\n",
    "plt.show()"
   ]
  },
  {
   "cell_type": "markdown",
   "id": "d4d56180-3012-4176-8bf4-39e751e4e4ca",
   "metadata": {},
   "source": [
    "<p> It is evident that newer address changes are quite likely to be fraudulent </p>"
   ]
  },
  {
   "cell_type": "code",
   "execution_count": 168,
   "id": "8c831b55-0b52-46ea-aeb7-697025757899",
   "metadata": {},
   "outputs": [
    {
     "data": {
      "image/png": "[encoded data removed]",
      "text/plain": [
       "<Figure size 432x288 with 1 Axes>"
      ]
     },
     "metadata": {
      "needs_background": "light"
     },
     "output_type": "display_data"
    }
   ],
   "source": [
    "bins = 100\n",
    "plt.hist(days_from_account_open[transactions.isFraud == False], bins, alpha=0.5, label='Non-Fraudulent')\n",
    "plt.hist(days_from_account_open[transactions.isFraud == True],bins, alpha=1, label='Fraudulent')\n",
    "plt.legend(loc='upper right')\n",
    "plt.show()"
   ]
  },
  {
   "cell_type": "markdown",
   "id": "8357d5ac-c9fd-4a85-9c12-a2b69d0d2246",
   "metadata": {},
   "source": [
    "We see similar behaviour as compared to address change."
   ]
  },
  {
   "cell_type": "code",
   "execution_count": 169,
   "id": "09dbcec6-cd6a-4061-ac0f-003f99226e5c",
   "metadata": {},
   "outputs": [
    {
     "data": {
      "text/html": [
       "<div>\n",
       "<style scoped>\n",
       "    .dataframe tbody tr th:only-of-type {\n",
       "        vertical-align: middle;\n",
       "    }\n",
       "\n",
       "    .dataframe tbody tr th {\n",
       "        vertical-align: top;\n",
       "    }\n",
       "\n",
       "    .dataframe thead th {\n",
       "        text-align: right;\n",
       "    }\n",
       "</style>\n",
       "<table border=\"1\" class=\"dataframe\">\n",
       "  <thead>\n",
       "    <tr style=\"text-align: right;\">\n",
       "      <th>isFraud</th>\n",
       "      <th>False</th>\n",
       "      <th>True</th>\n",
       "    </tr>\n",
       "    <tr>\n",
       "      <th>posEntryMode</th>\n",
       "      <th></th>\n",
       "      <th></th>\n",
       "    </tr>\n",
       "  </thead>\n",
       "  <tbody>\n",
       "    <tr>\n",
       "      <th></th>\n",
       "      <td>3785</td>\n",
       "      <td>269</td>\n",
       "    </tr>\n",
       "    <tr>\n",
       "      <th>02</th>\n",
       "      <td>192513</td>\n",
       "      <td>3421</td>\n",
       "    </tr>\n",
       "    <tr>\n",
       "      <th>05</th>\n",
       "      <td>312579</td>\n",
       "      <td>2456</td>\n",
       "    </tr>\n",
       "    <tr>\n",
       "      <th>09</th>\n",
       "      <td>230822</td>\n",
       "      <td>5659</td>\n",
       "    </tr>\n",
       "    <tr>\n",
       "      <th>80</th>\n",
       "      <td>15043</td>\n",
       "      <td>240</td>\n",
       "    </tr>\n",
       "    <tr>\n",
       "      <th>90</th>\n",
       "      <td>19204</td>\n",
       "      <td>372</td>\n",
       "    </tr>\n",
       "  </tbody>\n",
       "</table>\n",
       "</div>"
      ],
      "text/plain": [
       "isFraud        False  True\n",
       "posEntryMode              \n",
       "                3785   269\n",
       "02            192513  3421\n",
       "05            312579  2456\n",
       "09            230822  5659\n",
       "80             15043   240\n",
       "90             19204   372"
      ]
     },
     "execution_count": 169,
     "metadata": {},
     "output_type": "execute_result"
    }
   ],
   "source": [
    "pd.crosstab(transactions.posEntryMode, transactions.isFraud)"
   ]
  },
  {
   "cell_type": "code",
   "execution_count": 170,
   "id": "c7ca6c3c-d794-4a1e-abd8-b7162dc007dc",
   "metadata": {},
   "outputs": [
    {
     "data": {
      "text/html": [
       "<div>\n",
       "<style scoped>\n",
       "    .dataframe tbody tr th:only-of-type {\n",
       "        vertical-align: middle;\n",
       "    }\n",
       "\n",
       "    .dataframe tbody tr th {\n",
       "        vertical-align: top;\n",
       "    }\n",
       "\n",
       "    .dataframe thead th {\n",
       "        text-align: right;\n",
       "    }\n",
       "</style>\n",
       "<table border=\"1\" class=\"dataframe\">\n",
       "  <thead>\n",
       "    <tr style=\"text-align: right;\">\n",
       "      <th>isFraud</th>\n",
       "      <th>False</th>\n",
       "      <th>True</th>\n",
       "    </tr>\n",
       "    <tr>\n",
       "      <th>posConditionCode</th>\n",
       "      <th></th>\n",
       "      <th></th>\n",
       "    </tr>\n",
       "  </thead>\n",
       "  <tbody>\n",
       "    <tr>\n",
       "      <th></th>\n",
       "      <td>387</td>\n",
       "      <td>22</td>\n",
       "    </tr>\n",
       "    <tr>\n",
       "      <th>01</th>\n",
       "      <td>618557</td>\n",
       "      <td>10230</td>\n",
       "    </tr>\n",
       "    <tr>\n",
       "      <th>08</th>\n",
       "      <td>147698</td>\n",
       "      <td>1936</td>\n",
       "    </tr>\n",
       "    <tr>\n",
       "      <th>99</th>\n",
       "      <td>7304</td>\n",
       "      <td>229</td>\n",
       "    </tr>\n",
       "  </tbody>\n",
       "</table>\n",
       "</div>"
      ],
      "text/plain": [
       "isFraud            False   True\n",
       "posConditionCode               \n",
       "                     387     22\n",
       "01                618557  10230\n",
       "08                147698   1936\n",
       "99                  7304    229"
      ]
     },
     "execution_count": 170,
     "metadata": {},
     "output_type": "execute_result"
    }
   ],
   "source": [
    "pd.crosstab(transactions.posConditionCode, transactions.isFraud)"
   ]
  },
  {
   "cell_type": "markdown",
   "id": "2f69a1bf-2a89-4b85-9b7d-e7da1f3a1337",
   "metadata": {},
   "source": [
    "<p> Both of these features are likely hold value in the modeling stage </p>"
   ]
  },
  {
   "cell_type": "code",
   "execution_count": 171,
   "id": "0b3eeeb2-6d77-4c60-b046-ba7d15e7d0bf",
   "metadata": {},
   "outputs": [
    {
     "data": {
      "text/plain": [
       "0"
      ]
     },
     "execution_count": 171,
     "metadata": {},
     "output_type": "execute_result"
    }
   ],
   "source": [
    "transactions.isna().sum().sum()"
   ]
  },
  {
   "cell_type": "markdown",
   "id": "bb639850-08ff-4e36-825f-1fbf2fd15ef6",
   "metadata": {},
   "source": [
    "### Feature Engineering and Selection"
   ]
  },
  {
   "cell_type": "code",
   "execution_count": 172,
   "id": "a4af0225-2950-4bfc-9302-0a5489bb2909",
   "metadata": {},
   "outputs": [
    {
     "data": {
      "text/plain": [
       "Index(['accountNumber', 'customerId', 'creditLimit', 'availableMoney',\n",
       "       'transactionDateTime', 'transactionAmount', 'merchantName',\n",
       "       'acqCountry', 'merchantCountryCode', 'posEntryMode', 'posConditionCode',\n",
       "       'merchantCategoryCode', 'currentExpDate', 'accountOpenDate',\n",
       "       'dateOfLastAddressChange', 'cardCVV', 'enteredCVV', 'cardLast4Digits',\n",
       "       'transactionType', 'currentBalance', 'cardPresent',\n",
       "       'expirationDateKeyInMatch', 'isFraud', 'numberOfCards'],\n",
       "      dtype='object')"
      ]
     },
     "execution_count": 172,
     "metadata": {},
     "output_type": "execute_result"
    }
   ],
   "source": [
    "transactions.columns"
   ]
  },
  {
   "cell_type": "code",
   "execution_count": 173,
   "id": "4bbefe26-b893-41e9-b919-fede174963fc",
   "metadata": {},
   "outputs": [],
   "source": [
    "transactions['correctCVV'] = (transactions.cardCVV == transactions.enteredCVV)"
   ]
  },
  {
   "cell_type": "code",
   "execution_count": 174,
   "id": "65316816-6b48-4e6b-be99-cfd2919a19c6",
   "metadata": {},
   "outputs": [],
   "source": [
    "transactions.drop('cardCVV',inplace = True,axis = 1)"
   ]
  },
  {
   "cell_type": "code",
   "execution_count": 175,
   "id": "388b3666-cfc6-4f7e-a4b3-7ceb79adf80b",
   "metadata": {},
   "outputs": [
    {
     "data": {
      "text/plain": [
       "0"
      ]
     },
     "execution_count": 175,
     "metadata": {},
     "output_type": "execute_result"
    }
   ],
   "source": [
    "transactions.isna().sum().sum()"
   ]
  },
  {
   "cell_type": "code",
   "execution_count": 176,
   "id": "4b35933c-d19f-4d39-a374-0e5f3e86d6a2",
   "metadata": {},
   "outputs": [],
   "source": [
    "transactions['withinCountry'] = transactions.merchantCountryCode == transactions.acqCountry\n",
    "transactions.drop('merchantCountryCode',inplace = True,axis = 1)"
   ]
  },
  {
   "cell_type": "markdown",
   "id": "5e2ea119-4cad-4bfd-a7d1-16ad162fb2b5",
   "metadata": {},
   "source": [
    "### Numeric features"
   ]
  },
  {
   "cell_type": "code",
   "execution_count": 177,
   "id": "762e10e6-c33e-4c92-b06b-1c8e04bd1f76",
   "metadata": {
    "tags": []
   },
   "outputs": [],
   "source": [
    "transactions['percent_transaction_credit'] = transactions.transactionAmount / transactions.creditLimit\n",
    "transactions['percent_available_credit'] = transactions.availableMoney / transactions.creditLimit\n",
    "# Somebody's bill can cause a credit card default. \n",
    "transactions['percent_balance_credit'] = transactions.currentBalance / transactions.creditLimit\n",
    "\n",
    "#transactions['percent_balance_transactions'] = transactions.transactionAmount / transactions.currentBalance -> Results in nan values\n",
    "\n",
    "#transactions.drop(['creditLimit'],inplace = True,axis = 1)\n",
    "# We do not drop availableMoney, since if hackers know money is available, there might be reason for fraud."
   ]
  },
  {
   "cell_type": "markdown",
   "id": "931a1c44-d469-4776-ad8d-caa0490895f0",
   "metadata": {},
   "source": [
    "### Temporal features"
   ]
  },
  {
   "cell_type": "code",
   "execution_count": 178,
   "id": "0f1d9a83-7d44-4818-870c-6f2d42a2e610",
   "metadata": {
    "tags": []
   },
   "outputs": [],
   "source": [
    "transactions['transaction_month'] = transactions.transactionDateTime.apply(lambda x:x.month)\n",
    "transactions['transaction_day'] = transactions.transactionDateTime.apply(lambda x:x.day)\n",
    "transactions['transaction_hour'] = transactions.transactionDateTime.apply(lambda x:x.hour)\n",
    "\n",
    "transactions['a_open_year'] = transactions.accountOpenDate.apply(lambda x:x.year)\n",
    "transactions['a_open_month'] = transactions.accountOpenDate.apply(lambda x:x.month)\n",
    "transactions['a_open_day'] = transactions.accountOpenDate.apply(lambda x:x.day)\n",
    "transactions['a_open_hour'] = transactions.accountOpenDate.apply(lambda x:x.hour)\n",
    "\n",
    "days_to_expiry = (transactions.currentExpDate - transactions.transactionDateTime).apply(lambda x: x.days)\n",
    "days_from_last_address = ( transactions.transactionDateTime - transactions.dateOfLastAddressChange).apply(lambda x: x.days)\n",
    "days_from_account_open = ( transactions.transactionDateTime - transactions.accountOpenDate).apply(lambda x: x.days)\n",
    "\n",
    "transactions.drop(['dateOfLastAddressChange','accountOpenDate','currentExpDate'],inplace = True,axis = 1)"
   ]
  },
  {
   "cell_type": "code",
   "execution_count": 179,
   "id": "40b566b3-e291-46ad-9e1e-876f707a60bb",
   "metadata": {},
   "outputs": [],
   "source": [
    "transactions.drop(['cardLast4Digits'],inplace = True,axis = 1)"
   ]
  },
  {
   "cell_type": "code",
   "execution_count": 180,
   "id": "917639f2-a477-4e22-80c3-3b3e9ccd8e77",
   "metadata": {},
   "outputs": [],
   "source": [
    "transactions.drop('transactionDateTime',axis = 1,inplace = True)"
   ]
  },
  {
   "cell_type": "markdown",
   "id": "05ee95af-8594-4d5f-b194-b21d9d024d74",
   "metadata": {},
   "source": [
    "#### Current Encoding techniques\n",
    "    accountNumber - Count Encoding\n",
    "    enteredCVV- Target Encoding\n",
    "    merchantName - targetEncoding\n",
    "    merchantCategoryCode - targetEncoding\n",
    "    acqCountry - OneHot\n",
    "    posEntryMode - OneHot\n",
    "    posConditionCode - OneHot\n",
    "    transactionType - OneHot"
   ]
  },
  {
   "cell_type": "code",
   "execution_count": 181,
   "id": "4dce0b21-d3f0-4657-944e-7c85f185150a",
   "metadata": {},
   "outputs": [],
   "source": [
    "transactions['numberOfCards'] = transactions.numberOfCards.astype('int')"
   ]
  },
  {
   "cell_type": "code",
   "execution_count": 182,
   "id": "eabed2ef-9968-4520-bb02-421280b84ada",
   "metadata": {},
   "outputs": [],
   "source": [
    "transactions['acqCountry'] = transactions.acqCountry.apply(lambda x: 'NA' if x == '' else x)\n",
    "transactions['posEntryMode'] = transactions.posEntryMode.apply(lambda x: 'NA' if x == '' else x)\n",
    "transactions['posConditionCode'] = transactions.posConditionCode.apply(lambda x: 'NA' if x == '' else x)\n",
    "transactions['transactionType'] = transactions.transactionType.apply(lambda x: 'NA' if x == '' else x)"
   ]
  },
  {
   "cell_type": "code",
   "execution_count": 184,
   "id": "abba4671-fe7a-4719-921a-d9c82a1bf0b1",
   "metadata": {},
   "outputs": [
    {
     "name": "stdout",
     "output_type": "stream",
     "text": [
      "[ColumnTransformer] ....... (1 of 4) Processing one_hot, total=   2.6s\n",
      "[ColumnTransformer] ......... (2 of 4) Processing count, total=   0.8s\n",
      "[ColumnTransformer] ........ (3 of 4) Processing target, total=   2.2s\n",
      "[ColumnTransformer] ..... (4 of 4) Processing remainder, total=   0.0s\n"
     ]
    }
   ],
   "source": [
    "Y = transactions['isFraud']\n",
    "X = transactions.drop('isFraud',axis = 1)\n",
    "\n",
    "encoding_transformer = ColumnTransformer([\n",
    "    ('one_hot',OneHotEncoder(),['acqCountry','posEntryMode','posConditionCode','transactionType']),\n",
    "    ('count',CountEncoder(),['accountNumber']), # Idea is to rank the accountNumbers\n",
    "    ('target',TargetEncoder(),['merchantCategoryCode','merchantName','enteredCVV'])\n",
    "],remainder = 'passthrough',verbose = True,verbose_feature_names_out = True)\n",
    "\n",
    "X = encoding_transformer.fit_transform(X,Y)"
   ]
  },
  {
   "cell_type": "markdown",
   "id": "52573af8-7389-49ae-8003-edd4fb4f10f0",
   "metadata": {},
   "source": [
    "## Sampling Strategy \n",
    "\n",
    "Our sampling strategy needs to be representative of the true population , and yet well distributed enough across multiple class labels. \n",
    "Ideally we could make sure to use unsupervised techniques to learn clusters of transactions and sample in a stratified manner from those clusters, but in interest of time we use a sampling technique \n",
    "that uses all the transactions that are fraudulent, and undersamples the non-fraudulent transactions. The most representative strategy would be randomized undersampling. We could use other undersampling techniques, like Edited Nearest neighbor, however that might take some more time to execute.\n",
    "\n",
    "Experiments were done where we also over sample using a randomOverSampling technique that increases the existence of true labels until it matches 0.05 of the non-fraudulent population. \n",
    "We attemped to use only undersampling (0.5), but thought that would be oversimplifying the problem by reducing the sample size too much, and to keep it realistic, we introduced the oversampling component and work with that. However, results showed an extremely good f1-score of 0.94 and the optimal classification threshold turned out to be close to 0.5, which was dubious (This is probably because the Random oversampling resampled similar kind's of instances way too many times.), but was also promising to see that strong classification boundary likely exists in the dataset."
   ]
  },
  {
   "cell_type": "markdown",
   "id": "77191ca1-0f32-4c37-bd8a-ebd430e6ae31",
   "metadata": {},
   "source": [
    " For the purpose of our fraud detection, recall is specifically important. From a business sense, having higher recall might be of more importance then that of higher precision."
   ]
  },
  {
   "cell_type": "code",
   "execution_count": 284,
   "id": "c311233a-4510-41a2-b357-1c47b835402f",
   "metadata": {
    "tags": []
   },
   "outputs": [
    {
     "name": "stderr",
     "output_type": "stream",
     "text": [
      "/home/akash/.pyenv/versions/3.9.10/lib/python3.9/site-packages/imblearn/utils/_validation.py:586: FutureWarning: Pass sampling_strategy=0.3 as keyword args. From version 0.9 passing these as positional arguments will result in an error\n",
      "  warnings.warn(\n"
     ]
    }
   ],
   "source": [
    "under = RandomUnderSampler(0.3) # Minority class constitutes what percent of population\n",
    "\n",
    "pipeline = Pipeline(steps=[('u', under)])\n",
    "\n",
    "x,y = pipeline.fit_resample(X,Y)"
   ]
  },
  {
   "cell_type": "code",
   "execution_count": 285,
   "id": "1a1db660-4813-4354-b59c-181f6c3d60c5",
   "metadata": {},
   "outputs": [
    {
     "name": "stdout",
     "output_type": "stream",
     "text": [
      "Model Accuracy 0.835787\n",
      "Model f1_score 0.558465\n",
      "Model precision_score 0.735650\n",
      "Model recall_score 0.450064\n",
      "Model roc auc score 0.793948\n"
     ]
    }
   ],
   "source": [
    "from sklearn.metrics import f1_score,recall_score,precision_score,roc_auc_score,roc_curve\n",
    "from sklearn.model_selection import train_test_split\n",
    "\n",
    "model_pipeline = Pipeline([('sc',StandardScaler()),\n",
    "                           ('rf',RandomForestClassifier(n_jobs = -1))])\n",
    "\n",
    "train_x,test_x, train_y,test_y = train_test_split(x,y,stratify = y,random_state = 42)\n",
    "\n",
    "model_pipeline.fit(train_x,train_y)\n",
    "\n",
    "print('Model Accuracy %f'%model_pipeline.score(test_x,test_y))\n",
    "print('Model f1_score %f'%f1_score(model_pipeline.predict(test_x),test_y))\n",
    "print('Model precision_score %f'%recall_score(model_pipeline.predict(test_x),test_y))\n",
    "print('Model recall_score %f'%precision_score(model_pipeline.predict(test_x),test_y))\n",
    "print('Model roc auc score %f'%roc_auc_score(model_pipeline.predict(test_x),test_y))"
   ]
  },
  {
   "cell_type": "markdown",
   "id": "e95ed30e-713f-4688-b611-8fa677b5d044",
   "metadata": {},
   "source": [
    "AUC score suggests decent predictive power"
   ]
  },
  {
   "cell_type": "code",
   "execution_count": 286,
   "id": "ad373a1a-a64e-4ea0-a941-7df65d258723",
   "metadata": {},
   "outputs": [],
   "source": [
    "def predict_threshold(data,threshold = 0.5):\n",
    "    # Data is expected to be probabilities.\n",
    "    return (data[:,1] >= threshold).astype(int)"
   ]
  },
  {
   "cell_type": "code",
   "execution_count": 287,
   "id": "cddd4b2b-a821-4f80-8228-99c914c2f7b7",
   "metadata": {},
   "outputs": [],
   "source": [
    "thresholds = np.linspace(0,1,99)\n",
    "fs = []\n",
    "recalls = []\n",
    "precisions = []\n",
    "\n",
    "for t in thresholds:\n",
    "    preds = predict_threshold(model_pipeline.predict_proba(test_x),t)\n",
    "    fs.append(f1_score(test_y,preds))\n",
    "    recalls.append(recall_score(test_y,preds))\n",
    "    precisions.append(precision_score(test_y,preds))"
   ]
  },
  {
   "cell_type": "code",
   "execution_count": 289,
   "id": "229d3c5c-5b99-402d-8469-3355b452ea20",
   "metadata": {},
   "outputs": [
    {
     "data": {
      "image/png": "[encoded data removed]",
      "text/plain": [
       "<Figure size 432x288 with 1 Axes>"
      ]
     },
     "metadata": {
      "needs_background": "light"
     },
     "output_type": "display_data"
    }
   ],
   "source": [
    "plt.title('Scores at probability thresholds')\n",
    "plt.plot(thresholds,fs,label = 'f1-scores')\n",
    "plt.plot(thresholds,recalls,label = 'recall')\n",
    "plt.plot(thresholds,precisions,label = 'precision')\n",
    "plt.xlabel('Thresholds')\n",
    "plt.legend(loc = 'best')\n",
    "plt.show()"
   ]
  },
  {
   "cell_type": "markdown",
   "id": "3210b8b6-6395-4d8e-b4cc-b81a9d01c28b",
   "metadata": {},
   "source": [
    "From this plot it is evident that a threshold of around 0.4 for decision making, makes best sense ,with a recall, precision and f1-score of around 0.6"
   ]
  },
  {
   "cell_type": "markdown",
   "id": "3b8640ce-9bc0-4d8a-b8d9-da71bcd820c6",
   "metadata": {},
   "source": [
    "Let's look at some feature importances"
   ]
  },
  {
   "cell_type": "code",
   "execution_count": 290,
   "id": "41087eb5-e47c-4215-be95-bf3f88bcd629",
   "metadata": {},
   "outputs": [],
   "source": [
    "model = model_pipeline[1]"
   ]
  },
  {
   "cell_type": "code",
   "execution_count": 291,
   "id": "25ae0ceb-94a5-4b8a-9cb1-a8482183e098",
   "metadata": {},
   "outputs": [
    {
     "name": "stderr",
     "output_type": "stream",
     "text": [
      "/home/akash/.pyenv/versions/3.9.10/lib/python3.9/site-packages/sklearn/utils/deprecation.py:87: FutureWarning: Function get_feature_names is deprecated; get_feature_names is deprecated in 1.0 and will be removed in 1.2. Please use get_feature_names_out instead.\n",
      "  warnings.warn(msg, category=FutureWarning)\n"
     ]
    },
    {
     "data": {
      "image/png": "[encoded data removed]",
      "text/plain": [
       "<Figure size 1080x432 with 1 Axes>"
      ]
     },
     "metadata": {
      "needs_background": "light"
     },
     "output_type": "display_data"
    }
   ],
   "source": [
    "indices = np.argsort(model.feature_importances_)[::-1]\n",
    "features = encoding_transformer.get_feature_names()\n",
    "features = [features[i] for i in indices]\n",
    "plt.figure(figsize = (15,6))\n",
    "plt.title('Feature importance measures - RandomForest')\n",
    "plt.bar(features,model.feature_importances_[indices])\n",
    "plt.xticks(features,rotation = 90,fontsize = 15)\n",
    "plt.show()"
   ]
  },
  {
   "cell_type": "markdown",
   "id": "1a6bcc0e-b06b-45f0-a234-3b9bc479f5ef",
   "metadata": {},
   "source": [
    "It is interesting to see  merchantName, enteredCVV, transactionAmount and accountNumber are all important features, which also makes business sense.The feature importance chart shows that enteredCVV is an important feature, meaning there are strong patterns present in the CVV entered by the fraudster. Now, this can also be a result of the target encoding scheme that we used, since target encoding assigns higher value to categories present the most number of times. Tests should be done so as to make sure this model generalizes well. \n",
    "It's also fascinating to see the percentage of transaction to creditLimit be one of the top features, implying that the % of transactionAmount / creditLimit has something to do with Fraud."
   ]
  },
  {
   "cell_type": "markdown",
   "id": "182d889a-9ac9-45cc-917c-a3810cf082a7",
   "metadata": {},
   "source": [
    "After the initial test with RandomForests, let's have a look at models that might fit non-linear patterns better, and report their f1_scores , and see if there's any considerable difference in any of them , if not, we can move to focussing on building an ensemble, hyperparameter tuning and building better features. "
   ]
  },
  {
   "cell_type": "code",
   "execution_count": 292,
   "id": "5730b8aa-01c3-4873-84dd-8c391d45d63b",
   "metadata": {},
   "outputs": [],
   "source": [
    "from sklearn.neural_network import MLPClassifier\n",
    "from sklearn.pipeline import make_pipeline\n",
    "\n",
    "other_classifiers = {'rf':RandomForestClassifier(n_jobs = -1),'knn':KNeighborsClassifier(),\n",
    "                     'gbm':GradientBoostingClassifier(),'nn':MLPClassifier(early_stopping = True)}\n",
    "fitted = {}\n",
    "\n",
    "for c in other_classifiers.keys():\n",
    "    classifier = other_classifiers[c]\n",
    "    pip = make_pipeline(StandardScaler(),classifier)\n",
    "    pip.fit(train_x,train_y)\n",
    "    fitted[c] = pip"
   ]
  },
  {
   "cell_type": "code",
   "execution_count": 293,
   "id": "156fe1a3-f4fd-4e89-8fe7-b89de39460c4",
   "metadata": {},
   "outputs": [
    {
     "data": {
      "text/plain": [
       "{'rf': Pipeline(steps=[('standardscaler', StandardScaler()),\n",
       "                 ('randomforestclassifier', RandomForestClassifier(n_jobs=-1))]),\n",
       " 'knn': Pipeline(steps=[('standardscaler', StandardScaler()),\n",
       "                 ('kneighborsclassifier', KNeighborsClassifier())]),\n",
       " 'gbm': Pipeline(steps=[('standardscaler', StandardScaler()),\n",
       "                 ('gradientboostingclassifier', GradientBoostingClassifier())]),\n",
       " 'nn': Pipeline(steps=[('standardscaler', StandardScaler()),\n",
       "                 ('mlpclassifier', MLPClassifier(early_stopping=True))])}"
      ]
     },
     "execution_count": 293,
     "metadata": {},
     "output_type": "execute_result"
    }
   ],
   "source": [
    "fitted"
   ]
  },
  {
   "cell_type": "code",
   "execution_count": 294,
   "id": "2a6563e5-12f5-4186-9782-9fcb7330cf2c",
   "metadata": {},
   "outputs": [
    {
     "data": {
      "image/png": "[encoded data removed]",
      "text/plain": [
       "<Figure size 432x288 with 1 Axes>"
      ]
     },
     "metadata": {
      "needs_background": "light"
     },
     "output_type": "display_data"
    }
   ],
   "source": [
    "aucs = {}\n",
    "\n",
    "plt.title('F-score comparisons')\n",
    "\n",
    "for pip in fitted.keys():\n",
    "    pipeline = fitted[pip]\n",
    "    fs = []\n",
    "    for t in np.linspace(0,1,60):\n",
    "        preds = predict_threshold(pipeline.predict_proba(test_x),t)\n",
    "        fs.append(f1_score(test_y,preds))\n",
    "    plt.plot(np.linspace(0,1,60),fs,label = pip)\n",
    "    aucs[pip] = roc_curve(test_y,pipeline.predict(test_x))\n",
    "plt.legend(loc = 'best')\n",
    "plt.show()"
   ]
  },
  {
   "cell_type": "markdown",
   "id": "863abdf5-2dfc-46e7-8568-b6f76b04d54f",
   "metadata": {},
   "source": [
    "The X-axis is the probability threshold and the Y-axis is the f-score."
   ]
  },
  {
   "cell_type": "markdown",
   "id": "97cde752-7393-4abb-a95b-411c1bd1034b",
   "metadata": {},
   "source": [
    "The graph shows that all 4 classifiers have similar behaviors on thresholds, and none of them trumps the other by a large margin, however Random Forests are clearly ahead in this one time experiment.\n",
    "\n",
    "In interest of time we leave it to one experiment, however it should ideally be an averaged score across multiple stratified datasets."
   ]
  },
  {
   "cell_type": "code",
   "execution_count": 295,
   "id": "3e53d0cd-a60f-40b4-b431-944a8fed596b",
   "metadata": {},
   "outputs": [
    {
     "data": {
      "image/png": "[encoded data removed]",
      "text/plain": [
       "<Figure size 432x288 with 1 Axes>"
      ]
     },
     "metadata": {
      "needs_background": "light"
     },
     "output_type": "display_data"
    }
   ],
   "source": [
    "plt.title('ROC metric')\n",
    "for each in aucs.keys():\n",
    "    plt.plot(aucs[each][0],aucs[each][1],label = each)\n",
    "plt.legend(loc = 'best')\n",
    "plt.show()"
   ]
  },
  {
   "cell_type": "markdown",
   "id": "1a4fa4e4-9843-41e1-90c5-5988764cf6b7",
   "metadata": {},
   "source": [
    "The model performance in itself is clearly poor, with a sudden decline in True positive rate, and there is need for better features and a stronger decision boundry, before we get into fine-tuning the model and building ensemble. An attempt at training ensembles with SVMs was made,however the training time was too long, considering the dimensionality and length of the dataset. Hence, we refrain from using SVM's since the training time needed for such datasets is vast, even though SVM classifiers are well suited for this classification task, since the interactions between features need to be captured well. "
   ]
  },
  {
   "cell_type": "markdown",
   "id": "0af5a757-aa1d-4f38-bd65-c353d6ffca88",
   "metadata": {},
   "source": [
    "### Oversampling + Undersampling, for better decision boundaries"
   ]
  },
  {
   "cell_type": "code",
   "execution_count": 296,
   "id": "3b4649d1-e5df-410a-b4d4-5a2e2740c29e",
   "metadata": {
    "tags": []
   },
   "outputs": [
    {
     "name": "stderr",
     "output_type": "stream",
     "text": [
      "/home/akash/.pyenv/versions/3.9.10/lib/python3.9/site-packages/imblearn/utils/_validation.py:586: FutureWarning: Pass sampling_strategy=0.05 as keyword args. From version 0.9 passing these as positional arguments will result in an error\n",
      "  warnings.warn(\n",
      "/home/akash/.pyenv/versions/3.9.10/lib/python3.9/site-packages/imblearn/utils/_validation.py:586: FutureWarning: Pass sampling_strategy=0.5 as keyword args. From version 0.9 passing these as positional arguments will result in an error\n",
      "  warnings.warn(\n"
     ]
    }
   ],
   "source": [
    "# First Oversample to amplify the importance of fraudulent instances in the dataset. \n",
    "# We refrain from using SMOTE since SMOTE creates artificial distributions with \n",
    "# EditedNearestNeighbor undersampler is extremely time consuming on 700k data points.\n",
    "\n",
    "over = RandomOverSampler(0.05) \n",
    "under = RandomUnderSampler(0.5)\n",
    "\n",
    "pipeline = Pipeline(steps=[('o',over),('u', under)])\n",
    "\n",
    "x,y = pipeline.fit_resample(X,Y)"
   ]
  },
  {
   "cell_type": "code",
   "execution_count": 297,
   "id": "82e150d5-c483-44f3-8310-f4365fd9f26f",
   "metadata": {},
   "outputs": [],
   "source": [
    "from sklearn.model_selection import RandomizedSearchCV\n",
    "\n",
    "# Ideally we should be performing the model comparison experiments again, \n",
    "# since the underlying data distribution has changed, \n",
    "# but results from RandomForests were pretty satisfactory and explainable , so we stick to RandomForests.\n",
    "\n",
    "train_x,test_x, train_y,test_y = train_test_split(x,y,stratify = y,random_state = 42)\n",
    "\n",
    "n_estimators = [100, 300, 500, 800, 1200]\n",
    "max_depth = [5, 8, 15, 25, 30]\n",
    "min_samples_split = [2, 5, 10, 15, 100]\n",
    "min_samples_leaf = [1, 2, 5, 10] \n",
    "\n",
    "hyperF = dict(n_estimators = n_estimators, max_depth = max_depth,  \n",
    "              min_samples_split = min_samples_split, \n",
    "             min_samples_leaf = min_samples_leaf)\n",
    "\n",
    "grid = RandomizedSearchCV(RandomForestClassifier(), hyperF, cv = 3, verbose = 1, scoring = 'recall',\n",
    "                      n_jobs = -1)"
   ]
  },
  {
   "cell_type": "code",
   "execution_count": 298,
   "id": "105c1882-67e6-4446-9cac-9e055b1b333c",
   "metadata": {},
   "outputs": [
    {
     "name": "stdout",
     "output_type": "stream",
     "text": [
      "Fitting 3 folds for each of 10 candidates, totalling 30 fits\n"
     ]
    },
    {
     "data": {
      "text/plain": [
       "RandomizedSearchCV(cv=3, estimator=RandomForestClassifier(), n_jobs=-1,\n",
       "                   param_distributions={'max_depth': [5, 8, 15, 25, 30],\n",
       "                                        'min_samples_leaf': [1, 2, 5, 10],\n",
       "                                        'min_samples_split': [2, 5, 10, 15,\n",
       "                                                              100],\n",
       "                                        'n_estimators': [100, 300, 500, 800,\n",
       "                                                         1200]},\n",
       "                   scoring='recall', verbose=1)"
      ]
     },
     "execution_count": 298,
     "metadata": {},
     "output_type": "execute_result"
    }
   ],
   "source": [
    "grid.fit(train_x,train_y)"
   ]
  },
  {
   "cell_type": "code",
   "execution_count": 299,
   "id": "3acca401-70e3-45dc-9454-434b9e6cc643",
   "metadata": {},
   "outputs": [
    {
     "data": {
      "text/plain": [
       "RandomForestClassifier(max_depth=25, min_samples_split=5, n_estimators=500)"
      ]
     },
     "execution_count": 299,
     "metadata": {},
     "output_type": "execute_result"
    }
   ],
   "source": [
    "grid.best_estimator_"
   ]
  },
  {
   "cell_type": "code",
   "execution_count": 300,
   "id": "2524d076-df8e-4409-863c-6e215f01f853",
   "metadata": {},
   "outputs": [
    {
     "data": {
      "text/plain": [
       "0.8686557377749785"
      ]
     },
     "execution_count": 300,
     "metadata": {},
     "output_type": "execute_result"
    }
   ],
   "source": [
    "grid.best_score_"
   ]
  },
  {
   "cell_type": "markdown",
   "id": "0521b3dc-30fe-42ae-9031-6d9e9155e6fc",
   "metadata": {},
   "source": [
    "#### This sampling strategy has interesetingly gotten us the best recall of 0.86"
   ]
  },
  {
   "cell_type": "markdown",
   "id": "03a64cbd-2c5d-47bb-9210-3b17f6d1337b",
   "metadata": {},
   "source": [
    "### Reporting Final K-fold stratified dataset scores for the best estimator..."
   ]
  },
  {
   "cell_type": "code",
   "execution_count": 301,
   "id": "7ddba107-45e3-4495-878f-ef88c7027227",
   "metadata": {},
   "outputs": [
    {
     "name": "stdout",
     "output_type": "stream",
     "text": [
      "Final Scores for model based on oversampling 0.93 0.96\n"
     ]
    }
   ],
   "source": [
    "from sklearn.model_selection import StratifiedKFold\n",
    "\n",
    "best_model = grid.best_estimator_\n",
    "\n",
    "average_fscore = []\n",
    "average_recall = []\n",
    "\n",
    "skf = StratifiedKFold(n_splits= 3) # We expect the data to maintain it's distribution in train and test.\n",
    "for (train_index,test_index) in skf.split(x,y):\n",
    "    best_model.fit(x[train_index],y[train_index])\n",
    "    preds = best_model.predict(x[test_index])\n",
    "    \n",
    "    average_fscore.append(f1_score(y[test_index],preds))\n",
    "    average_recall.append(recall_score(y[test_index],preds))\n",
    "    \n",
    "print('Final Scores for model based on oversampling %.2f %.2f'%(np.mean(average_fscore),np.mean(average_recall)))"
   ]
  },
  {
   "cell_type": "markdown",
   "id": "8f6acc98-86bd-4078-9601-9bcfa50b7e32",
   "metadata": {},
   "source": [
    "### Final Scores : F1-score - 0.93 Recall score 0.96"
   ]
  },
  {
   "cell_type": "markdown",
   "id": "e22c9701-049a-45a0-a626-89ff89daab34",
   "metadata": {},
   "source": [
    "This opens up possibility for assessing multiple classifiers, like SVM's / KNN's / Neural Networks that require some scaling. In the next step we will aim at evaluating different classifiers, before building a final ensemble."
   ]
  },
  {
   "cell_type": "code",
   "execution_count": 137,
   "id": "d279ad33-caa1-4b73-b009-db6045e8dcb1",
   "metadata": {},
   "outputs": [],
   "source": [
    "over = RandomOverSampler(sampling_strategy = 0.1)\n",
    "under = RandomUnderSampler(sampling_strategy = 0.3)"
   ]
  },
  {
   "cell_type": "code",
   "execution_count": 157,
   "id": "b61fc06d-567c-4665-978d-b4048b37f748",
   "metadata": {},
   "outputs": [],
   "source": [
    "classifiers = [RandomForestClassifier(),KNeighborsClassifier(),GradientBoostingClassifier(),SVC()]"
   ]
  },
  {
   "cell_type": "code",
   "execution_count": 158,
   "id": "ef60f1c5-ed7b-406f-bd3e-d125358a35f7",
   "metadata": {},
   "outputs": [
    {
     "name": "stdout",
     "output_type": "stream",
     "text": [
      "Time to evaluation 112.80\n",
      "Time to evaluation 644.47\n",
      "Time to evaluation 290.57\n",
      "Time to evaluation 36657.32\n"
     ]
    }
   ],
   "source": [
    "scores = [evaluate_classifier((X,Y),classifier) for classifier in classifiers]"
   ]
  },
  {
   "cell_type": "code",
   "execution_count": 159,
   "id": "85c31808-40ce-4622-90d7-c2c48f9f166c",
   "metadata": {},
   "outputs": [
    {
     "data": {
      "text/plain": [
       "[0.9997095590899482,\n",
       " 0.9696877286787469,\n",
       " 0.8454884288802387,\n",
       " 0.8523424490907141]"
      ]
     },
     "execution_count": 159,
     "metadata": {},
     "output_type": "execute_result"
    }
   ],
   "source": [
    "scores"
   ]
  },
  {
   "cell_type": "markdown",
   "id": "8fb20ad3-9641-4906-b2f4-21f663ecb139",
   "metadata": {},
   "source": [
    "Below we build a Final stacking classifier, Ideally we would have included SVC/Neural networks in this since they are exceptional in identifying non-linear patterns, but due to the training time that SVCs take we stick to bagging boosting and linear model ensembles"
   ]
  },
  {
   "cell_type": "code",
   "execution_count": 172,
   "id": "a98665d4-b999-47dd-94f4-a1ff783b4381",
   "metadata": {
    "collapsed": true,
    "jupyter": {
     "outputs_hidden": true
    },
    "tags": []
   },
   "outputs": [
    {
     "name": "stderr",
     "output_type": "stream",
     "text": [
      "Process LokyProcess-151:\n",
      "Process LokyProcess-152:\n",
      "Traceback (most recent call last):\n",
      "  File \"/home/akash/.pyenv/versions/3.9.10/lib/python3.9/multiprocessing/process.py\", line 315, in _bootstrap\n",
      "    self.run()\n",
      "  File \"/home/akash/.pyenv/versions/3.9.10/lib/python3.9/multiprocessing/process.py\", line 108, in run\n",
      "    self._target(*self._args, **self._kwargs)\n",
      "  File \"/home/akash/.pyenv/versions/3.9.10/lib/python3.9/site-packages/joblib/externals/loky/process_executor.py\", line 483, in _process_worker\n",
      "    gc.collect()\n",
      "KeyboardInterrupt\n",
      "Traceback (most recent call last):\n",
      "  File \"/home/akash/.pyenv/versions/3.9.10/lib/python3.9/multiprocessing/process.py\", line 315, in _bootstrap\n",
      "    self.run()\n",
      "  File \"/home/akash/.pyenv/versions/3.9.10/lib/python3.9/multiprocessing/process.py\", line 108, in run\n",
      "    self._target(*self._args, **self._kwargs)\n",
      "  File \"/home/akash/.pyenv/versions/3.9.10/lib/python3.9/site-packages/joblib/externals/loky/process_executor.py\", line 483, in _process_worker\n",
      "    gc.collect()\n",
      "KeyboardInterrupt\n"
     ]
    },
    {
     "ename": "KeyboardInterrupt",
     "evalue": "",
     "output_type": "error",
     "traceback": [
      "\u001b[0;31m---------------------------------------------------------------------------\u001b[0m",
      "\u001b[0;31mKeyboardInterrupt\u001b[0m                         Traceback (most recent call last)",
      "Input \u001b[0;32mIn [172]\u001b[0m, in \u001b[0;36m<module>\u001b[0;34m\u001b[0m\n\u001b[1;32m     12\u001b[0m fs \u001b[38;5;241m=\u001b[39m []\n\u001b[1;32m     14\u001b[0m \u001b[38;5;28;01mfor\u001b[39;00m t \u001b[38;5;129;01min\u001b[39;00m thresholds:\n\u001b[0;32m---> 15\u001b[0m     fs\u001b[38;5;241m.\u001b[39mappend(\u001b[43mfit_and_fetch\u001b[49m\u001b[43m(\u001b[49m\u001b[43mclf\u001b[49m\u001b[43m,\u001b[49m\u001b[43m(\u001b[49m\u001b[43mX\u001b[49m\u001b[43m,\u001b[49m\u001b[43mY\u001b[49m\u001b[43m)\u001b[49m\u001b[43m,\u001b[49m\u001b[38;5;241;43m3\u001b[39;49m\u001b[43m,\u001b[49m\u001b[43mt\u001b[49m\u001b[43m)\u001b[49m)\n\u001b[1;32m     17\u001b[0m plt\u001b[38;5;241m.\u001b[39mtitle(\u001b[38;5;124m'\u001b[39m\u001b[38;5;124mF-score vs thresholds\u001b[39m\u001b[38;5;124m'\u001b[39m)\n\u001b[1;32m     18\u001b[0m plt\u001b[38;5;241m.\u001b[39mplot(thresholds,fs)\n",
      "Input \u001b[0;32mIn [165]\u001b[0m, in \u001b[0;36mfit_and_fetch\u001b[0;34m(model, data, n_splits, threshold)\u001b[0m\n\u001b[1;32m     13\u001b[0m skf \u001b[38;5;241m=\u001b[39m StratifiedKFold(n_splits\u001b[38;5;241m=\u001b[39m n_splits) \u001b[38;5;66;03m# We expect the data to maintain it's distribution in train and test.\u001b[39;00m\n\u001b[1;32m     15\u001b[0m \u001b[38;5;28;01mfor\u001b[39;00m train, test \u001b[38;5;129;01min\u001b[39;00m skf\u001b[38;5;241m.\u001b[39msplit(x, y):\n\u001b[0;32m---> 16\u001b[0m     \u001b[43mmodel\u001b[49m\u001b[38;5;241;43m.\u001b[39;49m\u001b[43mfit\u001b[49m\u001b[43m(\u001b[49m\u001b[43mx\u001b[49m\u001b[43m[\u001b[49m\u001b[43mtrain\u001b[49m\u001b[43m]\u001b[49m\u001b[43m,\u001b[49m\u001b[43my\u001b[49m\u001b[43m[\u001b[49m\u001b[43mtrain\u001b[49m\u001b[43m]\u001b[49m\u001b[43m)\u001b[49m\n\u001b[1;32m     17\u001b[0m     probs \u001b[38;5;241m=\u001b[39m model\u001b[38;5;241m.\u001b[39mpredict_proba(x[test])\n\u001b[1;32m     18\u001b[0m     preds \u001b[38;5;241m=\u001b[39m (probs[:,\u001b[38;5;241m1\u001b[39m] \u001b[38;5;241m>\u001b[39m\u001b[38;5;241m=\u001b[39m threshold)\u001b[38;5;241m.\u001b[39mastype(\u001b[38;5;28mint\u001b[39m)\n",
      "File \u001b[0;32m~/.pyenv/versions/3.9.10/lib/python3.9/site-packages/sklearn/ensemble/_stacking.py:488\u001b[0m, in \u001b[0;36mStackingClassifier.fit\u001b[0;34m(self, X, y, sample_weight)\u001b[0m\n\u001b[1;32m    486\u001b[0m \u001b[38;5;28mself\u001b[39m\u001b[38;5;241m.\u001b[39m_le \u001b[38;5;241m=\u001b[39m LabelEncoder()\u001b[38;5;241m.\u001b[39mfit(y)\n\u001b[1;32m    487\u001b[0m \u001b[38;5;28mself\u001b[39m\u001b[38;5;241m.\u001b[39mclasses_ \u001b[38;5;241m=\u001b[39m \u001b[38;5;28mself\u001b[39m\u001b[38;5;241m.\u001b[39m_le\u001b[38;5;241m.\u001b[39mclasses_\n\u001b[0;32m--> 488\u001b[0m \u001b[38;5;28;01mreturn\u001b[39;00m \u001b[38;5;28;43msuper\u001b[39;49m\u001b[43m(\u001b[49m\u001b[43m)\u001b[49m\u001b[38;5;241;43m.\u001b[39;49m\u001b[43mfit\u001b[49m\u001b[43m(\u001b[49m\u001b[43mX\u001b[49m\u001b[43m,\u001b[49m\u001b[43m \u001b[49m\u001b[38;5;28;43mself\u001b[39;49m\u001b[38;5;241;43m.\u001b[39;49m\u001b[43m_le\u001b[49m\u001b[38;5;241;43m.\u001b[39;49m\u001b[43mtransform\u001b[49m\u001b[43m(\u001b[49m\u001b[43my\u001b[49m\u001b[43m)\u001b[49m\u001b[43m,\u001b[49m\u001b[43m \u001b[49m\u001b[43msample_weight\u001b[49m\u001b[43m)\u001b[49m\n",
      "File \u001b[0;32m~/.pyenv/versions/3.9.10/lib/python3.9/site-packages/sklearn/ensemble/_stacking.py:193\u001b[0m, in \u001b[0;36m_BaseStacking.fit\u001b[0;34m(self, X, y, sample_weight)\u001b[0m\n\u001b[1;32m    186\u001b[0m \u001b[38;5;28mself\u001b[39m\u001b[38;5;241m.\u001b[39mstack_method_ \u001b[38;5;241m=\u001b[39m [\n\u001b[1;32m    187\u001b[0m     \u001b[38;5;28mself\u001b[39m\u001b[38;5;241m.\u001b[39m_method_name(name, est, meth)\n\u001b[1;32m    188\u001b[0m     \u001b[38;5;28;01mfor\u001b[39;00m name, est, meth \u001b[38;5;129;01min\u001b[39;00m \u001b[38;5;28mzip\u001b[39m(names, all_estimators, stack_method)\n\u001b[1;32m    189\u001b[0m ]\n\u001b[1;32m    190\u001b[0m fit_params \u001b[38;5;241m=\u001b[39m (\n\u001b[1;32m    191\u001b[0m     {\u001b[38;5;124m\"\u001b[39m\u001b[38;5;124msample_weight\u001b[39m\u001b[38;5;124m\"\u001b[39m: sample_weight} \u001b[38;5;28;01mif\u001b[39;00m sample_weight \u001b[38;5;129;01mis\u001b[39;00m \u001b[38;5;129;01mnot\u001b[39;00m \u001b[38;5;28;01mNone\u001b[39;00m \u001b[38;5;28;01melse\u001b[39;00m \u001b[38;5;28;01mNone\u001b[39;00m\n\u001b[1;32m    192\u001b[0m )\n\u001b[0;32m--> 193\u001b[0m predictions \u001b[38;5;241m=\u001b[39m \u001b[43mParallel\u001b[49m\u001b[43m(\u001b[49m\u001b[43mn_jobs\u001b[49m\u001b[38;5;241;43m=\u001b[39;49m\u001b[38;5;28;43mself\u001b[39;49m\u001b[38;5;241;43m.\u001b[39;49m\u001b[43mn_jobs\u001b[49m\u001b[43m)\u001b[49m\u001b[43m(\u001b[49m\n\u001b[1;32m    194\u001b[0m \u001b[43m    \u001b[49m\u001b[43mdelayed\u001b[49m\u001b[43m(\u001b[49m\u001b[43mcross_val_predict\u001b[49m\u001b[43m)\u001b[49m\u001b[43m(\u001b[49m\n\u001b[1;32m    195\u001b[0m \u001b[43m        \u001b[49m\u001b[43mclone\u001b[49m\u001b[43m(\u001b[49m\u001b[43mest\u001b[49m\u001b[43m)\u001b[49m\u001b[43m,\u001b[49m\n\u001b[1;32m    196\u001b[0m \u001b[43m        \u001b[49m\u001b[43mX\u001b[49m\u001b[43m,\u001b[49m\n\u001b[1;32m    197\u001b[0m \u001b[43m        \u001b[49m\u001b[43my\u001b[49m\u001b[43m,\u001b[49m\n\u001b[1;32m    198\u001b[0m \u001b[43m        \u001b[49m\u001b[43mcv\u001b[49m\u001b[38;5;241;43m=\u001b[39;49m\u001b[43mdeepcopy\u001b[49m\u001b[43m(\u001b[49m\u001b[43mcv\u001b[49m\u001b[43m)\u001b[49m\u001b[43m,\u001b[49m\n\u001b[1;32m    199\u001b[0m \u001b[43m        \u001b[49m\u001b[43mmethod\u001b[49m\u001b[38;5;241;43m=\u001b[39;49m\u001b[43mmeth\u001b[49m\u001b[43m,\u001b[49m\n\u001b[1;32m    200\u001b[0m \u001b[43m        \u001b[49m\u001b[43mn_jobs\u001b[49m\u001b[38;5;241;43m=\u001b[39;49m\u001b[38;5;28;43mself\u001b[39;49m\u001b[38;5;241;43m.\u001b[39;49m\u001b[43mn_jobs\u001b[49m\u001b[43m,\u001b[49m\n\u001b[1;32m    201\u001b[0m \u001b[43m        \u001b[49m\u001b[43mfit_params\u001b[49m\u001b[38;5;241;43m=\u001b[39;49m\u001b[43mfit_params\u001b[49m\u001b[43m,\u001b[49m\n\u001b[1;32m    202\u001b[0m \u001b[43m        \u001b[49m\u001b[43mverbose\u001b[49m\u001b[38;5;241;43m=\u001b[39;49m\u001b[38;5;28;43mself\u001b[39;49m\u001b[38;5;241;43m.\u001b[39;49m\u001b[43mverbose\u001b[49m\u001b[43m,\u001b[49m\n\u001b[1;32m    203\u001b[0m \u001b[43m    \u001b[49m\u001b[43m)\u001b[49m\n\u001b[1;32m    204\u001b[0m \u001b[43m    \u001b[49m\u001b[38;5;28;43;01mfor\u001b[39;49;00m\u001b[43m \u001b[49m\u001b[43mest\u001b[49m\u001b[43m,\u001b[49m\u001b[43m \u001b[49m\u001b[43mmeth\u001b[49m\u001b[43m \u001b[49m\u001b[38;5;129;43;01min\u001b[39;49;00m\u001b[43m \u001b[49m\u001b[38;5;28;43mzip\u001b[39;49m\u001b[43m(\u001b[49m\u001b[43mall_estimators\u001b[49m\u001b[43m,\u001b[49m\u001b[43m \u001b[49m\u001b[38;5;28;43mself\u001b[39;49m\u001b[38;5;241;43m.\u001b[39;49m\u001b[43mstack_method_\u001b[49m\u001b[43m)\u001b[49m\n\u001b[1;32m    205\u001b[0m \u001b[43m    \u001b[49m\u001b[38;5;28;43;01mif\u001b[39;49;00m\u001b[43m \u001b[49m\u001b[43mest\u001b[49m\u001b[43m \u001b[49m\u001b[38;5;241;43m!=\u001b[39;49m\u001b[43m \u001b[49m\u001b[38;5;124;43m\"\u001b[39;49m\u001b[38;5;124;43mdrop\u001b[39;49m\u001b[38;5;124;43m\"\u001b[39;49m\n\u001b[1;32m    206\u001b[0m \u001b[43m\u001b[49m\u001b[43m)\u001b[49m\n\u001b[1;32m    208\u001b[0m \u001b[38;5;66;03m# Only not None or not 'drop' estimators will be used in transform.\u001b[39;00m\n\u001b[1;32m    209\u001b[0m \u001b[38;5;66;03m# Remove the None from the method as well.\u001b[39;00m\n\u001b[1;32m    210\u001b[0m \u001b[38;5;28mself\u001b[39m\u001b[38;5;241m.\u001b[39mstack_method_ \u001b[38;5;241m=\u001b[39m [\n\u001b[1;32m    211\u001b[0m     meth\n\u001b[1;32m    212\u001b[0m     \u001b[38;5;28;01mfor\u001b[39;00m (meth, est) \u001b[38;5;129;01min\u001b[39;00m \u001b[38;5;28mzip\u001b[39m(\u001b[38;5;28mself\u001b[39m\u001b[38;5;241m.\u001b[39mstack_method_, all_estimators)\n\u001b[1;32m    213\u001b[0m     \u001b[38;5;28;01mif\u001b[39;00m est \u001b[38;5;241m!=\u001b[39m \u001b[38;5;124m\"\u001b[39m\u001b[38;5;124mdrop\u001b[39m\u001b[38;5;124m\"\u001b[39m\n\u001b[1;32m    214\u001b[0m ]\n",
      "File \u001b[0;32m~/.pyenv/versions/3.9.10/lib/python3.9/site-packages/joblib/parallel.py:1056\u001b[0m, in \u001b[0;36mParallel.__call__\u001b[0;34m(self, iterable)\u001b[0m\n\u001b[1;32m   1053\u001b[0m     \u001b[38;5;28mself\u001b[39m\u001b[38;5;241m.\u001b[39m_iterating \u001b[38;5;241m=\u001b[39m \u001b[38;5;28;01mFalse\u001b[39;00m\n\u001b[1;32m   1055\u001b[0m \u001b[38;5;28;01mwith\u001b[39;00m \u001b[38;5;28mself\u001b[39m\u001b[38;5;241m.\u001b[39m_backend\u001b[38;5;241m.\u001b[39mretrieval_context():\n\u001b[0;32m-> 1056\u001b[0m     \u001b[38;5;28;43mself\u001b[39;49m\u001b[38;5;241;43m.\u001b[39;49m\u001b[43mretrieve\u001b[49m\u001b[43m(\u001b[49m\u001b[43m)\u001b[49m\n\u001b[1;32m   1057\u001b[0m \u001b[38;5;66;03m# Make sure that we get a last message telling us we are done\u001b[39;00m\n\u001b[1;32m   1058\u001b[0m elapsed_time \u001b[38;5;241m=\u001b[39m time\u001b[38;5;241m.\u001b[39mtime() \u001b[38;5;241m-\u001b[39m \u001b[38;5;28mself\u001b[39m\u001b[38;5;241m.\u001b[39m_start_time\n",
      "File \u001b[0;32m~/.pyenv/versions/3.9.10/lib/python3.9/site-packages/joblib/parallel.py:935\u001b[0m, in \u001b[0;36mParallel.retrieve\u001b[0;34m(self)\u001b[0m\n\u001b[1;32m    933\u001b[0m \u001b[38;5;28;01mtry\u001b[39;00m:\n\u001b[1;32m    934\u001b[0m     \u001b[38;5;28;01mif\u001b[39;00m \u001b[38;5;28mgetattr\u001b[39m(\u001b[38;5;28mself\u001b[39m\u001b[38;5;241m.\u001b[39m_backend, \u001b[38;5;124m'\u001b[39m\u001b[38;5;124msupports_timeout\u001b[39m\u001b[38;5;124m'\u001b[39m, \u001b[38;5;28;01mFalse\u001b[39;00m):\n\u001b[0;32m--> 935\u001b[0m         \u001b[38;5;28mself\u001b[39m\u001b[38;5;241m.\u001b[39m_output\u001b[38;5;241m.\u001b[39mextend(\u001b[43mjob\u001b[49m\u001b[38;5;241;43m.\u001b[39;49m\u001b[43mget\u001b[49m\u001b[43m(\u001b[49m\u001b[43mtimeout\u001b[49m\u001b[38;5;241;43m=\u001b[39;49m\u001b[38;5;28;43mself\u001b[39;49m\u001b[38;5;241;43m.\u001b[39;49m\u001b[43mtimeout\u001b[49m\u001b[43m)\u001b[49m)\n\u001b[1;32m    936\u001b[0m     \u001b[38;5;28;01melse\u001b[39;00m:\n\u001b[1;32m    937\u001b[0m         \u001b[38;5;28mself\u001b[39m\u001b[38;5;241m.\u001b[39m_output\u001b[38;5;241m.\u001b[39mextend(job\u001b[38;5;241m.\u001b[39mget())\n",
      "File \u001b[0;32m~/.pyenv/versions/3.9.10/lib/python3.9/site-packages/joblib/_parallel_backends.py:542\u001b[0m, in \u001b[0;36mLokyBackend.wrap_future_result\u001b[0;34m(future, timeout)\u001b[0m\n\u001b[1;32m    539\u001b[0m \u001b[38;5;124;03m\"\"\"Wrapper for Future.result to implement the same behaviour as\u001b[39;00m\n\u001b[1;32m    540\u001b[0m \u001b[38;5;124;03mAsyncResults.get from multiprocessing.\"\"\"\u001b[39;00m\n\u001b[1;32m    541\u001b[0m \u001b[38;5;28;01mtry\u001b[39;00m:\n\u001b[0;32m--> 542\u001b[0m     \u001b[38;5;28;01mreturn\u001b[39;00m \u001b[43mfuture\u001b[49m\u001b[38;5;241;43m.\u001b[39;49m\u001b[43mresult\u001b[49m\u001b[43m(\u001b[49m\u001b[43mtimeout\u001b[49m\u001b[38;5;241;43m=\u001b[39;49m\u001b[43mtimeout\u001b[49m\u001b[43m)\u001b[49m\n\u001b[1;32m    543\u001b[0m \u001b[38;5;28;01mexcept\u001b[39;00m CfTimeoutError \u001b[38;5;28;01mas\u001b[39;00m e:\n\u001b[1;32m    544\u001b[0m     \u001b[38;5;28;01mraise\u001b[39;00m \u001b[38;5;167;01mTimeoutError\u001b[39;00m \u001b[38;5;28;01mfrom\u001b[39;00m \u001b[38;5;21;01me\u001b[39;00m\n",
      "File \u001b[0;32m~/.pyenv/versions/3.9.10/lib/python3.9/concurrent/futures/_base.py:441\u001b[0m, in \u001b[0;36mFuture.result\u001b[0;34m(self, timeout)\u001b[0m\n\u001b[1;32m    438\u001b[0m \u001b[38;5;28;01melif\u001b[39;00m \u001b[38;5;28mself\u001b[39m\u001b[38;5;241m.\u001b[39m_state \u001b[38;5;241m==\u001b[39m FINISHED:\n\u001b[1;32m    439\u001b[0m     \u001b[38;5;28;01mreturn\u001b[39;00m \u001b[38;5;28mself\u001b[39m\u001b[38;5;241m.\u001b[39m__get_result()\n\u001b[0;32m--> 441\u001b[0m \u001b[38;5;28;43mself\u001b[39;49m\u001b[38;5;241;43m.\u001b[39;49m\u001b[43m_condition\u001b[49m\u001b[38;5;241;43m.\u001b[39;49m\u001b[43mwait\u001b[49m\u001b[43m(\u001b[49m\u001b[43mtimeout\u001b[49m\u001b[43m)\u001b[49m\n\u001b[1;32m    443\u001b[0m \u001b[38;5;28;01mif\u001b[39;00m \u001b[38;5;28mself\u001b[39m\u001b[38;5;241m.\u001b[39m_state \u001b[38;5;129;01min\u001b[39;00m [CANCELLED, CANCELLED_AND_NOTIFIED]:\n\u001b[1;32m    444\u001b[0m     \u001b[38;5;28;01mraise\u001b[39;00m CancelledError()\n",
      "File \u001b[0;32m~/.pyenv/versions/3.9.10/lib/python3.9/threading.py:312\u001b[0m, in \u001b[0;36mCondition.wait\u001b[0;34m(self, timeout)\u001b[0m\n\u001b[1;32m    310\u001b[0m \u001b[38;5;28;01mtry\u001b[39;00m:    \u001b[38;5;66;03m# restore state no matter what (e.g., KeyboardInterrupt)\u001b[39;00m\n\u001b[1;32m    311\u001b[0m     \u001b[38;5;28;01mif\u001b[39;00m timeout \u001b[38;5;129;01mis\u001b[39;00m \u001b[38;5;28;01mNone\u001b[39;00m:\n\u001b[0;32m--> 312\u001b[0m         \u001b[43mwaiter\u001b[49m\u001b[38;5;241;43m.\u001b[39;49m\u001b[43macquire\u001b[49m\u001b[43m(\u001b[49m\u001b[43m)\u001b[49m\n\u001b[1;32m    313\u001b[0m         gotit \u001b[38;5;241m=\u001b[39m \u001b[38;5;28;01mTrue\u001b[39;00m\n\u001b[1;32m    314\u001b[0m     \u001b[38;5;28;01melse\u001b[39;00m:\n",
      "\u001b[0;31mKeyboardInterrupt\u001b[0m: "
     ]
    }
   ],
   "source": [
    "estimators = [\n",
    "     ('rf', RandomForestClassifier(n_jobs = -1)),\n",
    "     ('gbf', GradientBoostingClassifier()),\n",
    "    ('knn', KNeighborsClassifier())\n",
    " ]\n",
    "\n",
    "clf = StackingClassifier(\n",
    "     estimators=estimators, final_estimator=LogisticRegression() , n_jobs = -1\n",
    " )\n",
    "\n",
    "thresholds = np.linspace(0,1,99)\n",
    "fs = []\n",
    "\n",
    "for t in thresholds:\n",
    "    fs.append(fit_and_fetch(clf,(X,Y),3,t))\n",
    "    \n",
    "plt.title('F-score vs thresholds')\n",
    "plt.plot(thresholds,fs)\n",
    "plt.ylabel('f-score')\n",
    "plt.xlabel('thresholds')\n",
    "plt.show()"
   ]
  },
  {
   "cell_type": "markdown",
   "id": "96093142-ff36-488e-833e-7b280e548d66",
   "metadata": {},
   "source": [
    "As we see the current oversampling technique might be an overfit,  even though we oversample to reach only 0.05% of the majority sample. 0.05 Thus, testing it on more datasets  that are <u> out of sample </u> could probably give us a better idea of which model should be selected, and A/B experimentation, automated training should all be part of our model building process.  "
   ]
  },
  {
   "cell_type": "markdown",
   "id": "623220e9-56c7-4fc4-9c2a-45349a2b8ec1",
   "metadata": {
    "tags": []
   },
   "source": [
    "### Things to be worked on with more time (and compute) \n",
    "\n",
    "1. Better sampling strategies, work on more explainable sampling strategies and not random.\n",
    "    - Unsupervised learning from transaction features and sampling data with both labels from each obtained cluster.  \n",
    "    - Build a test dataset for Out of Bag Evaluation (Keep some fraudulent transactions aside before sampling).\n",
    "    - Analysis of existing sampling techniques (Plot learning curves)\n",
    "    , the data changes with each sampling technique and each sampling ratio, and so does the model and it's peformance. Doing some kind of before and after analysis on the sampled datasets could help understand the distributions of the sample and thus, what might be missing.\n",
    "2. Formalize hyperparameter tuning using HyperOpt / Randomized search for hyperparameter tuning, for all models.  \n",
    "3. Feature Engineering \n",
    "    - How many of the transactions before this transaction were fraudulent? \n",
    "    - Time since last transaction?\n",
    "4. Recursive Feature Elimination\n",
    "5. Use categorical embeddings and neural network architechtures. "
   ]
  },
  {
   "cell_type": "code",
   "execution_count": null,
   "id": "41eae278-e0e0-4b03-95a8-d6222449661e",
   "metadata": {},
   "outputs": [],
   "source": []
  }
 ],
 "metadata": {
  "kernelspec": {
   "display_name": "Python 3 (ipykernel)",
   "language": "python",
   "name": "python3"
  },
  "language_info": {
   "codemirror_mode": {
    "name": "ipython",
    "version": 3
   },
   "file_extension": ".py",
   "mimetype": "text/x-python",
   "name": "python",
   "nbconvert_exporter": "python",
   "pygments_lexer": "ipython3",
   "version": "3.9.10"
  }
 },
 "nbformat": 4,
 "nbformat_minor": 5
}
