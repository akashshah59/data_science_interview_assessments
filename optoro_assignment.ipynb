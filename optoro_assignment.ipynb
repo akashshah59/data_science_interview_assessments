{
 "cells": [
  {
   "cell_type": "code",
   "execution_count": 1,
   "metadata": {},
   "outputs": [],
   "source": [
    "import os\n",
    "import pandas as pd\n",
    "import numpy as np\n",
    "import matplotlib.pyplot as plt\n",
    "import warnings\n",
    "\n",
    "warnings.filterwarnings('ignore')"
   ]
  },
  {
   "cell_type": "code",
   "execution_count": 2,
   "metadata": {},
   "outputs": [],
   "source": [
    "data = pd.read_csv('pricing_data.csv')"
   ]
  },
  {
   "cell_type": "code",
   "execution_count": 3,
   "metadata": {},
   "outputs": [
    {
     "data": {
      "text/plain": [
       "(50000, 11)"
      ]
     },
     "execution_count": 3,
     "metadata": {},
     "output_type": "execute_result"
    }
   ],
   "source": [
    "data.shape"
   ]
  },
  {
   "cell_type": "code",
   "execution_count": 4,
   "metadata": {},
   "outputs": [
    {
     "data": {
      "text/html": [
       "<div>\n",
       "<style scoped>\n",
       "    .dataframe tbody tr th:only-of-type {\n",
       "        vertical-align: middle;\n",
       "    }\n",
       "\n",
       "    .dataframe tbody tr th {\n",
       "        vertical-align: top;\n",
       "    }\n",
       "\n",
       "    .dataframe thead th {\n",
       "        text-align: right;\n",
       "    }\n",
       "</style>\n",
       "<table border=\"1\" class=\"dataframe\">\n",
       "  <thead>\n",
       "    <tr style=\"text-align: right;\">\n",
       "      <th></th>\n",
       "      <th>product_id</th>\n",
       "      <th>benchmark_price_1</th>\n",
       "      <th>benchmark_price_2</th>\n",
       "      <th>benchmark_price_3</th>\n",
       "      <th>benchmark_price_4</th>\n",
       "      <th>benchmark_price_5</th>\n",
       "      <th>benchmark_price_6</th>\n",
       "      <th>category</th>\n",
       "      <th>manufacturer_id</th>\n",
       "      <th>shipping_profile</th>\n",
       "      <th>target_price</th>\n",
       "    </tr>\n",
       "  </thead>\n",
       "  <tbody>\n",
       "    <tr>\n",
       "      <td>0</td>\n",
       "      <td>0</td>\n",
       "      <td>34.75</td>\n",
       "      <td>NaN</td>\n",
       "      <td>NaN</td>\n",
       "      <td>NaN</td>\n",
       "      <td>15.99</td>\n",
       "      <td>26.645</td>\n",
       "      <td>Electronics</td>\n",
       "      <td>8102</td>\n",
       "      <td>SP-9.99</td>\n",
       "      <td>21.99</td>\n",
       "    </tr>\n",
       "    <tr>\n",
       "      <td>1</td>\n",
       "      <td>1</td>\n",
       "      <td>785.65</td>\n",
       "      <td>453.99</td>\n",
       "      <td>409.28</td>\n",
       "      <td>NaN</td>\n",
       "      <td>NaN</td>\n",
       "      <td>NaN</td>\n",
       "      <td>Electronics</td>\n",
       "      <td>56</td>\n",
       "      <td>SP-9.99</td>\n",
       "      <td>469.99</td>\n",
       "    </tr>\n",
       "    <tr>\n",
       "      <td>2</td>\n",
       "      <td>2</td>\n",
       "      <td>699.99</td>\n",
       "      <td>NaN</td>\n",
       "      <td>NaN</td>\n",
       "      <td>NaN</td>\n",
       "      <td>NaN</td>\n",
       "      <td>NaN</td>\n",
       "      <td>Electronics</td>\n",
       "      <td>1</td>\n",
       "      <td>SP-11.99</td>\n",
       "      <td>655.99</td>\n",
       "    </tr>\n",
       "    <tr>\n",
       "      <td>3</td>\n",
       "      <td>3</td>\n",
       "      <td>NaN</td>\n",
       "      <td>NaN</td>\n",
       "      <td>NaN</td>\n",
       "      <td>NaN</td>\n",
       "      <td>NaN</td>\n",
       "      <td>81.990</td>\n",
       "      <td>Home &amp; Garden</td>\n",
       "      <td>2677</td>\n",
       "      <td>SP-19.99</td>\n",
       "      <td>67.49</td>\n",
       "    </tr>\n",
       "    <tr>\n",
       "      <td>4</td>\n",
       "      <td>4</td>\n",
       "      <td>19.42</td>\n",
       "      <td>NaN</td>\n",
       "      <td>9.63</td>\n",
       "      <td>NaN</td>\n",
       "      <td>NaN</td>\n",
       "      <td>NaN</td>\n",
       "      <td>Home &amp; Garden</td>\n",
       "      <td>3103</td>\n",
       "      <td>SP-9.99</td>\n",
       "      <td>24.99</td>\n",
       "    </tr>\n",
       "  </tbody>\n",
       "</table>\n",
       "</div>"
      ],
      "text/plain": [
       "   product_id  benchmark_price_1  benchmark_price_2  benchmark_price_3  \\\n",
       "0           0              34.75                NaN                NaN   \n",
       "1           1             785.65             453.99             409.28   \n",
       "2           2             699.99                NaN                NaN   \n",
       "3           3                NaN                NaN                NaN   \n",
       "4           4              19.42                NaN               9.63   \n",
       "\n",
       "   benchmark_price_4  benchmark_price_5  benchmark_price_6       category  \\\n",
       "0                NaN              15.99             26.645    Electronics   \n",
       "1                NaN                NaN                NaN    Electronics   \n",
       "2                NaN                NaN                NaN    Electronics   \n",
       "3                NaN                NaN             81.990  Home & Garden   \n",
       "4                NaN                NaN                NaN  Home & Garden   \n",
       "\n",
       "   manufacturer_id shipping_profile  target_price  \n",
       "0             8102          SP-9.99         21.99  \n",
       "1               56          SP-9.99        469.99  \n",
       "2                1         SP-11.99        655.99  \n",
       "3             2677         SP-19.99         67.49  \n",
       "4             3103          SP-9.99         24.99  "
      ]
     },
     "execution_count": 4,
     "metadata": {},
     "output_type": "execute_result"
    }
   ],
   "source": [
    "data.head()"
   ]
  },
  {
   "cell_type": "code",
   "execution_count": 5,
   "metadata": {
    "scrolled": true
   },
   "outputs": [
    {
     "data": {
      "text/html": [
       "<div>\n",
       "<style scoped>\n",
       "    .dataframe tbody tr th:only-of-type {\n",
       "        vertical-align: middle;\n",
       "    }\n",
       "\n",
       "    .dataframe tbody tr th {\n",
       "        vertical-align: top;\n",
       "    }\n",
       "\n",
       "    .dataframe thead th {\n",
       "        text-align: right;\n",
       "    }\n",
       "</style>\n",
       "<table border=\"1\" class=\"dataframe\">\n",
       "  <thead>\n",
       "    <tr style=\"text-align: right;\">\n",
       "      <th></th>\n",
       "      <th>product_id</th>\n",
       "      <th>benchmark_price_1</th>\n",
       "      <th>benchmark_price_2</th>\n",
       "      <th>benchmark_price_3</th>\n",
       "      <th>benchmark_price_4</th>\n",
       "      <th>benchmark_price_5</th>\n",
       "      <th>benchmark_price_6</th>\n",
       "      <th>manufacturer_id</th>\n",
       "      <th>target_price</th>\n",
       "    </tr>\n",
       "  </thead>\n",
       "  <tbody>\n",
       "    <tr>\n",
       "      <td>count</td>\n",
       "      <td>50000.000000</td>\n",
       "      <td>38495.000000</td>\n",
       "      <td>10296.000000</td>\n",
       "      <td>31734.000000</td>\n",
       "      <td>12952.000000</td>\n",
       "      <td>20154.000000</td>\n",
       "      <td>18578.000000</td>\n",
       "      <td>50000.000000</td>\n",
       "      <td>50000.000000</td>\n",
       "    </tr>\n",
       "    <tr>\n",
       "      <td>mean</td>\n",
       "      <td>24999.500000</td>\n",
       "      <td>142.716291</td>\n",
       "      <td>54.802792</td>\n",
       "      <td>64.753260</td>\n",
       "      <td>52.268570</td>\n",
       "      <td>75.355332</td>\n",
       "      <td>102.377382</td>\n",
       "      <td>49187.006880</td>\n",
       "      <td>75.338862</td>\n",
       "    </tr>\n",
       "    <tr>\n",
       "      <td>std</td>\n",
       "      <td>14433.901067</td>\n",
       "      <td>313.140358</td>\n",
       "      <td>153.981676</td>\n",
       "      <td>157.667167</td>\n",
       "      <td>105.175118</td>\n",
       "      <td>184.665383</td>\n",
       "      <td>250.813825</td>\n",
       "      <td>51039.182438</td>\n",
       "      <td>179.395264</td>\n",
       "    </tr>\n",
       "    <tr>\n",
       "      <td>min</td>\n",
       "      <td>0.000000</td>\n",
       "      <td>1.000000</td>\n",
       "      <td>0.530000</td>\n",
       "      <td>0.200000</td>\n",
       "      <td>0.490000</td>\n",
       "      <td>0.980000</td>\n",
       "      <td>0.990000</td>\n",
       "      <td>1.000000</td>\n",
       "      <td>2.090000</td>\n",
       "    </tr>\n",
       "    <tr>\n",
       "      <td>25%</td>\n",
       "      <td>12499.750000</td>\n",
       "      <td>30.005000</td>\n",
       "      <td>16.280000</td>\n",
       "      <td>20.000000</td>\n",
       "      <td>19.990000</td>\n",
       "      <td>20.590000</td>\n",
       "      <td>21.270000</td>\n",
       "      <td>4283.000000</td>\n",
       "      <td>18.990000</td>\n",
       "    </tr>\n",
       "    <tr>\n",
       "      <td>50%</td>\n",
       "      <td>24999.500000</td>\n",
       "      <td>59.990000</td>\n",
       "      <td>26.030000</td>\n",
       "      <td>31.990000</td>\n",
       "      <td>30.055000</td>\n",
       "      <td>35.000000</td>\n",
       "      <td>39.980000</td>\n",
       "      <td>27073.000000</td>\n",
       "      <td>29.990000</td>\n",
       "    </tr>\n",
       "    <tr>\n",
       "      <td>75%</td>\n",
       "      <td>37499.250000</td>\n",
       "      <td>129.000000</td>\n",
       "      <td>45.590000</td>\n",
       "      <td>55.900000</td>\n",
       "      <td>49.990000</td>\n",
       "      <td>65.000000</td>\n",
       "      <td>86.797500</td>\n",
       "      <td>87797.000000</td>\n",
       "      <td>56.990000</td>\n",
       "    </tr>\n",
       "    <tr>\n",
       "      <td>max</td>\n",
       "      <td>49999.000000</td>\n",
       "      <td>8905.000000</td>\n",
       "      <td>4899.990000</td>\n",
       "      <td>6899.990000</td>\n",
       "      <td>2599.990000</td>\n",
       "      <td>7997.000000</td>\n",
       "      <td>7997.000000</td>\n",
       "      <td>166413.000000</td>\n",
       "      <td>7994.990000</td>\n",
       "    </tr>\n",
       "  </tbody>\n",
       "</table>\n",
       "</div>"
      ],
      "text/plain": [
       "         product_id  benchmark_price_1  benchmark_price_2  benchmark_price_3  \\\n",
       "count  50000.000000       38495.000000       10296.000000       31734.000000   \n",
       "mean   24999.500000         142.716291          54.802792          64.753260   \n",
       "std    14433.901067         313.140358         153.981676         157.667167   \n",
       "min        0.000000           1.000000           0.530000           0.200000   \n",
       "25%    12499.750000          30.005000          16.280000          20.000000   \n",
       "50%    24999.500000          59.990000          26.030000          31.990000   \n",
       "75%    37499.250000         129.000000          45.590000          55.900000   \n",
       "max    49999.000000        8905.000000        4899.990000        6899.990000   \n",
       "\n",
       "       benchmark_price_4  benchmark_price_5  benchmark_price_6  \\\n",
       "count       12952.000000       20154.000000       18578.000000   \n",
       "mean           52.268570          75.355332         102.377382   \n",
       "std           105.175118         184.665383         250.813825   \n",
       "min             0.490000           0.980000           0.990000   \n",
       "25%            19.990000          20.590000          21.270000   \n",
       "50%            30.055000          35.000000          39.980000   \n",
       "75%            49.990000          65.000000          86.797500   \n",
       "max          2599.990000        7997.000000        7997.000000   \n",
       "\n",
       "       manufacturer_id  target_price  \n",
       "count     50000.000000  50000.000000  \n",
       "mean      49187.006880     75.338862  \n",
       "std       51039.182438    179.395264  \n",
       "min           1.000000      2.090000  \n",
       "25%        4283.000000     18.990000  \n",
       "50%       27073.000000     29.990000  \n",
       "75%       87797.000000     56.990000  \n",
       "max      166413.000000   7994.990000  "
      ]
     },
     "execution_count": 5,
     "metadata": {},
     "output_type": "execute_result"
    }
   ],
   "source": [
    "data.describe()"
   ]
  },
  {
   "cell_type": "markdown",
   "metadata": {},
   "source": [
    "This initial description tells us that benchmark_price2,4,5 and 6 have more than 50% missing values. A simple strategy like mean imputation may do more harm than good in this case , since it might change the data distribution."
   ]
  },
  {
   "cell_type": "markdown",
   "metadata": {},
   "source": [
    "### Analysing the distribution of category. Is One hot encoding possible or will it bloat the dimensionality?"
   ]
  },
  {
   "cell_type": "code",
   "execution_count": 6,
   "metadata": {},
   "outputs": [
    {
     "data": {
      "text/plain": [
       "6"
      ]
     },
     "execution_count": 6,
     "metadata": {},
     "output_type": "execute_result"
    }
   ],
   "source": [
    "len(data.category.unique())"
   ]
  },
  {
   "cell_type": "code",
   "execution_count": 7,
   "metadata": {},
   "outputs": [
    {
     "data": {
      "text/plain": [
       "Clothing & Accessories    15980\n",
       "Home & Garden             12428\n",
       "Electronics                7592\n",
       "Health & Fitness           7225\n",
       "More ...                   3677\n",
       "Toys & Baby                3098\n",
       "Name: category, dtype: int64"
      ]
     },
     "execution_count": 7,
     "metadata": {},
     "output_type": "execute_result"
    }
   ],
   "source": [
    "data.category.value_counts()"
   ]
  },
  {
   "cell_type": "code",
   "execution_count": 8,
   "metadata": {},
   "outputs": [
    {
     "data": {
      "text/plain": [
       "9"
      ]
     },
     "execution_count": 8,
     "metadata": {},
     "output_type": "execute_result"
    }
   ],
   "source": [
    "len(data.shipping_profile.unique())"
   ]
  },
  {
   "cell_type": "code",
   "execution_count": 9,
   "metadata": {},
   "outputs": [
    {
     "data": {
      "text/plain": [
       "SP-9.99      25009\n",
       "SP-6.99      11682\n",
       "SP-11.99      6332\n",
       "SP-7.99       3527\n",
       "SP-19.99      2079\n",
       "SP-14.99       760\n",
       "SP-24.99       423\n",
       "FR-149.99      185\n",
       "FR-199.99        3\n",
       "Name: shipping_profile, dtype: int64"
      ]
     },
     "execution_count": 9,
     "metadata": {},
     "output_type": "execute_result"
    }
   ],
   "source": [
    "data.shipping_profile.value_counts()"
   ]
  },
  {
   "cell_type": "markdown",
   "metadata": {},
   "source": [
    "It looks like a simple strategy like One Hot Encoding should work for category and shipping profile, since the number of variables does not increase drastically in this scenario. It is interesting to note how most of the values are dominated by SP-9.99"
   ]
  },
  {
   "cell_type": "markdown",
   "metadata": {},
   "source": [
    "### Analyzing the distribution of target price at different resolutions"
   ]
  },
  {
   "cell_type": "code",
   "execution_count": 10,
   "metadata": {},
   "outputs": [],
   "source": [
    "def analyzeDistribution(min,max,bins):\n",
    "    '''\n",
    "    This function takes in a range, and plots the distribution of target prices in it.\n",
    "    '''\n",
    "    plt.figure(figsize = (15,10))\n",
    "    data.target_price.hist(bins = 1000)\n",
    "    plt.xlabel('Target Price')\n",
    "    plt.ylabel('Count')\n",
    "    plt.show()"
   ]
  },
  {
   "cell_type": "code",
   "execution_count": 11,
   "metadata": {},
   "outputs": [
    {
     "data": {
      "image/png": "[encoded data removed]",
      "text/plain": [
       "<Figure size 864x360 with 1 Axes>"
      ]
     },
     "metadata": {
      "needs_background": "light"
     },
     "output_type": "display_data"
    }
   ],
   "source": [
    "plt.figure(figsize = (12,5))\n",
    "data.target_price.hist(bins = 1000)\n",
    "plt.xlabel('Target Price')\n",
    "plt.ylabel('Count')\n",
    "plt.title('Distribution of Target Prices')\n",
    "plt.show()"
   ]
  },
  {
   "cell_type": "code",
   "execution_count": 12,
   "metadata": {},
   "outputs": [
    {
     "data": {
      "text/plain": [
       "2.09"
      ]
     },
     "execution_count": 12,
     "metadata": {},
     "output_type": "execute_result"
    }
   ],
   "source": [
    "data.target_price.min()"
   ]
  },
  {
   "cell_type": "code",
   "execution_count": 13,
   "metadata": {
    "scrolled": true
   },
   "outputs": [
    {
     "data": {
      "text/plain": [
       "7994.99"
      ]
     },
     "execution_count": 13,
     "metadata": {},
     "output_type": "execute_result"
    }
   ],
   "source": [
    "data.target_price.max()"
   ]
  },
  {
   "cell_type": "markdown",
   "metadata": {},
   "source": [
    "Breaking down the distribution a little. This piece of code magnifies the earlier graph"
   ]
  },
  {
   "cell_type": "code",
   "execution_count": 14,
   "metadata": {},
   "outputs": [
    {
     "data": {
      "text/plain": [
       "(49950,)"
      ]
     },
     "execution_count": 14,
     "metadata": {},
     "output_type": "execute_result"
    }
   ],
   "source": [
    "data.target_price[(data.target_price < 2000)].shape"
   ]
  },
  {
   "cell_type": "markdown",
   "metadata": {},
   "source": [
    "Most of the prices lie between 2.09 to 2000. Only about 50 values from 50000 lie above that. "
   ]
  },
  {
   "cell_type": "code",
   "execution_count": 15,
   "metadata": {},
   "outputs": [
    {
     "data": {
      "text/plain": [
       "<matplotlib.axes._subplots.AxesSubplot at 0x2bde4627d08>"
      ]
     },
     "execution_count": 15,
     "metadata": {},
     "output_type": "execute_result"
    },
    {
     "data": {
      "image/png": "[encoded data removed]",
      "text/plain": [
       "<Figure size 432x288 with 1 Axes>"
      ]
     },
     "metadata": {
      "needs_background": "light"
     },
     "output_type": "display_data"
    }
   ],
   "source": [
    "# Call \n",
    "data.target_price[(data.target_price < 2000)].hist(bins = 2000)"
   ]
  },
  {
   "cell_type": "markdown",
   "metadata": {},
   "source": [
    "Most of the prices lie below 100"
   ]
  },
  {
   "cell_type": "markdown",
   "metadata": {},
   "source": [
    "### Are there rows where all benchmark prices are Missing?"
   ]
  },
  {
   "cell_type": "code",
   "execution_count": 16,
   "metadata": {},
   "outputs": [],
   "source": [
    "benchmarks = data[['benchmark_price_1','benchmark_price_2','benchmark_price_3','benchmark_price_4','benchmark_price_5','benchmark_price_6','target_price']]"
   ]
  },
  {
   "cell_type": "markdown",
   "metadata": {},
   "source": [
    "It looks like 861 rows,  have missing benchmarks in them. A decision must be made on whether to include this rows, or delete them"
   ]
  },
  {
   "cell_type": "code",
   "execution_count": 17,
   "metadata": {},
   "outputs": [
    {
     "data": {
      "text/plain": [
       "861"
      ]
     },
     "execution_count": 17,
     "metadata": {},
     "output_type": "execute_result"
    }
   ],
   "source": [
    "(benchmarks.isnull().sum(axis = 1) == 6).sum()"
   ]
  },
  {
   "cell_type": "markdown",
   "metadata": {},
   "source": [
    "### For all non null benchmarks, can we try to find the correlations between each of these benchmarks?"
   ]
  },
  {
   "cell_type": "code",
   "execution_count": 18,
   "metadata": {
    "scrolled": true
   },
   "outputs": [
    {
     "name": "stdout",
     "output_type": "stream",
     "text": [
      "(248, 7)\n"
     ]
    },
    {
     "data": {
      "text/html": [
       "<div>\n",
       "<style scoped>\n",
       "    .dataframe tbody tr th:only-of-type {\n",
       "        vertical-align: middle;\n",
       "    }\n",
       "\n",
       "    .dataframe tbody tr th {\n",
       "        vertical-align: top;\n",
       "    }\n",
       "\n",
       "    .dataframe thead th {\n",
       "        text-align: right;\n",
       "    }\n",
       "</style>\n",
       "<table border=\"1\" class=\"dataframe\">\n",
       "  <thead>\n",
       "    <tr style=\"text-align: right;\">\n",
       "      <th></th>\n",
       "      <th>benchmark_price_1</th>\n",
       "      <th>benchmark_price_2</th>\n",
       "      <th>benchmark_price_3</th>\n",
       "      <th>benchmark_price_4</th>\n",
       "      <th>benchmark_price_5</th>\n",
       "      <th>benchmark_price_6</th>\n",
       "      <th>target_price</th>\n",
       "    </tr>\n",
       "  </thead>\n",
       "  <tbody>\n",
       "    <tr>\n",
       "      <td>benchmark_price_1</td>\n",
       "      <td>1.000000</td>\n",
       "      <td>0.957322</td>\n",
       "      <td>0.839075</td>\n",
       "      <td>0.965857</td>\n",
       "      <td>0.977525</td>\n",
       "      <td>0.970921</td>\n",
       "      <td>0.975489</td>\n",
       "    </tr>\n",
       "    <tr>\n",
       "      <td>benchmark_price_2</td>\n",
       "      <td>0.957322</td>\n",
       "      <td>1.000000</td>\n",
       "      <td>0.842333</td>\n",
       "      <td>0.951699</td>\n",
       "      <td>0.961799</td>\n",
       "      <td>0.953557</td>\n",
       "      <td>0.970727</td>\n",
       "    </tr>\n",
       "    <tr>\n",
       "      <td>benchmark_price_3</td>\n",
       "      <td>0.839075</td>\n",
       "      <td>0.842333</td>\n",
       "      <td>1.000000</td>\n",
       "      <td>0.922940</td>\n",
       "      <td>0.875560</td>\n",
       "      <td>0.899535</td>\n",
       "      <td>0.870104</td>\n",
       "    </tr>\n",
       "    <tr>\n",
       "      <td>benchmark_price_4</td>\n",
       "      <td>0.965857</td>\n",
       "      <td>0.951699</td>\n",
       "      <td>0.922940</td>\n",
       "      <td>1.000000</td>\n",
       "      <td>0.978102</td>\n",
       "      <td>0.982921</td>\n",
       "      <td>0.977551</td>\n",
       "    </tr>\n",
       "    <tr>\n",
       "      <td>benchmark_price_5</td>\n",
       "      <td>0.977525</td>\n",
       "      <td>0.961799</td>\n",
       "      <td>0.875560</td>\n",
       "      <td>0.978102</td>\n",
       "      <td>1.000000</td>\n",
       "      <td>0.988227</td>\n",
       "      <td>0.992236</td>\n",
       "    </tr>\n",
       "    <tr>\n",
       "      <td>benchmark_price_6</td>\n",
       "      <td>0.970921</td>\n",
       "      <td>0.953557</td>\n",
       "      <td>0.899535</td>\n",
       "      <td>0.982921</td>\n",
       "      <td>0.988227</td>\n",
       "      <td>1.000000</td>\n",
       "      <td>0.988842</td>\n",
       "    </tr>\n",
       "    <tr>\n",
       "      <td>target_price</td>\n",
       "      <td>0.975489</td>\n",
       "      <td>0.970727</td>\n",
       "      <td>0.870104</td>\n",
       "      <td>0.977551</td>\n",
       "      <td>0.992236</td>\n",
       "      <td>0.988842</td>\n",
       "      <td>1.000000</td>\n",
       "    </tr>\n",
       "  </tbody>\n",
       "</table>\n",
       "</div>"
      ],
      "text/plain": [
       "                   benchmark_price_1  benchmark_price_2  benchmark_price_3  \\\n",
       "benchmark_price_1           1.000000           0.957322           0.839075   \n",
       "benchmark_price_2           0.957322           1.000000           0.842333   \n",
       "benchmark_price_3           0.839075           0.842333           1.000000   \n",
       "benchmark_price_4           0.965857           0.951699           0.922940   \n",
       "benchmark_price_5           0.977525           0.961799           0.875560   \n",
       "benchmark_price_6           0.970921           0.953557           0.899535   \n",
       "target_price                0.975489           0.970727           0.870104   \n",
       "\n",
       "                   benchmark_price_4  benchmark_price_5  benchmark_price_6  \\\n",
       "benchmark_price_1           0.965857           0.977525           0.970921   \n",
       "benchmark_price_2           0.951699           0.961799           0.953557   \n",
       "benchmark_price_3           0.922940           0.875560           0.899535   \n",
       "benchmark_price_4           1.000000           0.978102           0.982921   \n",
       "benchmark_price_5           0.978102           1.000000           0.988227   \n",
       "benchmark_price_6           0.982921           0.988227           1.000000   \n",
       "target_price                0.977551           0.992236           0.988842   \n",
       "\n",
       "                   target_price  \n",
       "benchmark_price_1      0.975489  \n",
       "benchmark_price_2      0.970727  \n",
       "benchmark_price_3      0.870104  \n",
       "benchmark_price_4      0.977551  \n",
       "benchmark_price_5      0.992236  \n",
       "benchmark_price_6      0.988842  \n",
       "target_price           1.000000  "
      ]
     },
     "execution_count": 18,
     "metadata": {},
     "output_type": "execute_result"
    }
   ],
   "source": [
    "print(benchmarks[(~benchmarks.isnull().sum(axis = 1) == -1)].shape)\n",
    "benchmarks[(~benchmarks.isnull().sum(axis = 1) == -1)].corr()"
   ]
  },
  {
   "cell_type": "markdown",
   "metadata": {},
   "source": [
    "It looks like there are only 248 rows that are completely full, or have a no missing value.\n",
    "Further, we can see huge positive correlations between benchmark 4,5 and 6. This helps us in identifying that there is some kind of linear relationship between the 2 variables. \n",
    "\n",
    "It is also interesting to see how strongly the target price correlates linearly to benchmark_5 (0.992) and benchmark_6 (0.988)\n",
    "\n",
    "However, it is difficult to generalize this to the entire dataset, because our sample size here is small."
   ]
  },
  {
   "cell_type": "markdown",
   "metadata": {},
   "source": [
    "Lets try to find patterns on our entire benchmark data, we exclude the categorical features amongst it. Further, pd.corr() will ignore missing values"
   ]
  },
  {
   "cell_type": "code",
   "execution_count": 19,
   "metadata": {},
   "outputs": [],
   "source": [
    "corr_matrix = data[['benchmark_price_1','benchmark_price_2','benchmark_price_3','benchmark_price_4','benchmark_price_5','benchmark_price_6','target_price']].corr()"
   ]
  },
  {
   "cell_type": "code",
   "execution_count": 20,
   "metadata": {},
   "outputs": [
    {
     "data": {
      "text/html": [
       "<div>\n",
       "<style scoped>\n",
       "    .dataframe tbody tr th:only-of-type {\n",
       "        vertical-align: middle;\n",
       "    }\n",
       "\n",
       "    .dataframe tbody tr th {\n",
       "        vertical-align: top;\n",
       "    }\n",
       "\n",
       "    .dataframe thead th {\n",
       "        text-align: right;\n",
       "    }\n",
       "</style>\n",
       "<table border=\"1\" class=\"dataframe\">\n",
       "  <thead>\n",
       "    <tr style=\"text-align: right;\">\n",
       "      <th></th>\n",
       "      <th>benchmark_price_1</th>\n",
       "      <th>benchmark_price_2</th>\n",
       "      <th>benchmark_price_3</th>\n",
       "      <th>benchmark_price_4</th>\n",
       "      <th>benchmark_price_5</th>\n",
       "      <th>benchmark_price_6</th>\n",
       "      <th>target_price</th>\n",
       "    </tr>\n",
       "  </thead>\n",
       "  <tbody>\n",
       "    <tr>\n",
       "      <td>benchmark_price_1</td>\n",
       "      <td>1.000000</td>\n",
       "      <td>0.839790</td>\n",
       "      <td>0.612506</td>\n",
       "      <td>0.647540</td>\n",
       "      <td>0.896281</td>\n",
       "      <td>0.888014</td>\n",
       "      <td>0.799424</td>\n",
       "    </tr>\n",
       "    <tr>\n",
       "      <td>benchmark_price_2</td>\n",
       "      <td>0.839790</td>\n",
       "      <td>1.000000</td>\n",
       "      <td>0.715006</td>\n",
       "      <td>0.919756</td>\n",
       "      <td>0.900067</td>\n",
       "      <td>0.943660</td>\n",
       "      <td>0.931652</td>\n",
       "    </tr>\n",
       "    <tr>\n",
       "      <td>benchmark_price_3</td>\n",
       "      <td>0.612506</td>\n",
       "      <td>0.715006</td>\n",
       "      <td>1.000000</td>\n",
       "      <td>0.921511</td>\n",
       "      <td>0.747113</td>\n",
       "      <td>0.790749</td>\n",
       "      <td>0.772949</td>\n",
       "    </tr>\n",
       "    <tr>\n",
       "      <td>benchmark_price_4</td>\n",
       "      <td>0.647540</td>\n",
       "      <td>0.919756</td>\n",
       "      <td>0.921511</td>\n",
       "      <td>1.000000</td>\n",
       "      <td>0.819853</td>\n",
       "      <td>0.862802</td>\n",
       "      <td>0.909431</td>\n",
       "    </tr>\n",
       "    <tr>\n",
       "      <td>benchmark_price_5</td>\n",
       "      <td>0.896281</td>\n",
       "      <td>0.900067</td>\n",
       "      <td>0.747113</td>\n",
       "      <td>0.819853</td>\n",
       "      <td>1.000000</td>\n",
       "      <td>0.951136</td>\n",
       "      <td>0.962138</td>\n",
       "    </tr>\n",
       "    <tr>\n",
       "      <td>benchmark_price_6</td>\n",
       "      <td>0.888014</td>\n",
       "      <td>0.943660</td>\n",
       "      <td>0.790749</td>\n",
       "      <td>0.862802</td>\n",
       "      <td>0.951136</td>\n",
       "      <td>1.000000</td>\n",
       "      <td>0.922491</td>\n",
       "    </tr>\n",
       "    <tr>\n",
       "      <td>target_price</td>\n",
       "      <td>0.799424</td>\n",
       "      <td>0.931652</td>\n",
       "      <td>0.772949</td>\n",
       "      <td>0.909431</td>\n",
       "      <td>0.962138</td>\n",
       "      <td>0.922491</td>\n",
       "      <td>1.000000</td>\n",
       "    </tr>\n",
       "  </tbody>\n",
       "</table>\n",
       "</div>"
      ],
      "text/plain": [
       "                   benchmark_price_1  benchmark_price_2  benchmark_price_3  \\\n",
       "benchmark_price_1           1.000000           0.839790           0.612506   \n",
       "benchmark_price_2           0.839790           1.000000           0.715006   \n",
       "benchmark_price_3           0.612506           0.715006           1.000000   \n",
       "benchmark_price_4           0.647540           0.919756           0.921511   \n",
       "benchmark_price_5           0.896281           0.900067           0.747113   \n",
       "benchmark_price_6           0.888014           0.943660           0.790749   \n",
       "target_price                0.799424           0.931652           0.772949   \n",
       "\n",
       "                   benchmark_price_4  benchmark_price_5  benchmark_price_6  \\\n",
       "benchmark_price_1           0.647540           0.896281           0.888014   \n",
       "benchmark_price_2           0.919756           0.900067           0.943660   \n",
       "benchmark_price_3           0.921511           0.747113           0.790749   \n",
       "benchmark_price_4           1.000000           0.819853           0.862802   \n",
       "benchmark_price_5           0.819853           1.000000           0.951136   \n",
       "benchmark_price_6           0.862802           0.951136           1.000000   \n",
       "target_price                0.909431           0.962138           0.922491   \n",
       "\n",
       "                   target_price  \n",
       "benchmark_price_1      0.799424  \n",
       "benchmark_price_2      0.931652  \n",
       "benchmark_price_3      0.772949  \n",
       "benchmark_price_4      0.909431  \n",
       "benchmark_price_5      0.962138  \n",
       "benchmark_price_6      0.922491  \n",
       "target_price           1.000000  "
      ]
     },
     "execution_count": 20,
     "metadata": {},
     "output_type": "execute_result"
    }
   ],
   "source": [
    "corr_matrix"
   ]
  },
  {
   "cell_type": "markdown",
   "metadata": {},
   "source": [
    "Thus we can see that the correlation values have gone down, when the entire dataset was considered. eg. Correlation between benchmark_5 and benchmark_6 is now 0.95, which is still a strong correlation coefficient. However some of the strong relationships we saw earlier are not as strong when the entire data is considered. eg. benchmark_price_4 vs benchmark_price_1. \n",
    "\n",
    "The target price is highly linearly correlated to benchmark_price_6\n",
    "\n",
    "Further, the correlation between the target price as well as the benchmark prices has fallen to smaller values as well."
   ]
  },
  {
   "cell_type": "markdown",
   "metadata": {},
   "source": [
    "### Analyze target prices as a function of product category \n",
    "\n",
    "This could help us impute missing values per category, rather than on the entire data"
   ]
  },
  {
   "cell_type": "code",
   "execution_count": 21,
   "metadata": {},
   "outputs": [
    {
     "data": {
      "image/png": "[encoded data removed]",
      "text/plain": [
       "<Figure size 1440x720 with 6 Axes>"
      ]
     },
     "metadata": {
      "needs_background": "light"
     },
     "output_type": "display_data"
    }
   ],
   "source": [
    "cats = data.category.unique()\n",
    "\n",
    "fig = plt.figure(figsize =(20,10))\n",
    "\n",
    "for i in range(len(cats)):\n",
    "    ax = fig.add_subplot(3,2,i+1)\n",
    "    ax.hist(data[data['category'] == cats[i]]['target_price'],bins = 100)\n",
    "    ax.set_xlabel(cats[i])\n",
    "\n",
    "fig.suptitle('Distribution of Target Prices according to Categories',size = 20)\n",
    "fig.show()"
   ]
  },
  {
   "cell_type": "markdown",
   "metadata": {},
   "source": [
    "Most of the categories follow a similar distribution to the entire dataset, we saw earlier how most of the prices were concentrated around 100. There are some obvious observations we can make, for example the category More is spread out compared to the others, and Electronics has the highest priced product. "
   ]
  },
  {
   "cell_type": "markdown",
   "metadata": {},
   "source": [
    "### Analyze target prices as a function of shipping category"
   ]
  },
  {
   "cell_type": "code",
   "execution_count": 22,
   "metadata": {},
   "outputs": [
    {
     "data": {
      "image/png": "[encoded data removed]",
      "text/plain": [
       "<Figure size 1440x720 with 9 Axes>"
      ]
     },
     "metadata": {
      "needs_background": "light"
     },
     "output_type": "display_data"
    }
   ],
   "source": [
    "cats = data.shipping_profile.unique()\n",
    "\n",
    "fig = plt.figure(figsize =(20,10))\n",
    "\n",
    "for i in range(len(cats)):\n",
    "    ax = fig.add_subplot(3,3,i+1)\n",
    "    ax.hist(data[data['shipping_profile'] == cats[i]]['target_price'],bins = 100)\n",
    "    ax.set_xlabel(cats[i])\n",
    "\n",
    "fig.suptitle('Distribution of Target Prices according to Shipping Profile',size = 20)\n",
    "fig.show()"
   ]
  },
  {
   "cell_type": "markdown",
   "metadata": {},
   "source": [
    "FR-199.99 has only 3 values and has a uniform distribution. Rest of the shipping profiles follow a similar long tailed distribution, with SP-9.99 being the most common."
   ]
  },
  {
   "cell_type": "markdown",
   "metadata": {},
   "source": [
    "### What does the distribution of Manufacturers look like? "
   ]
  },
  {
   "cell_type": "code",
   "execution_count": 23,
   "metadata": {},
   "outputs": [
    {
     "name": "stdout",
     "output_type": "stream",
     "text": [
      "Number of unique manufacturers - 15472\n",
      "Number of manufacturers that are seen only once - 9968\n"
     ]
    }
   ],
   "source": [
    "print('Number of unique manufacturers - %d'%len(data.manufacturer_id.unique()))\n",
    "print('Number of manufacturers that are seen only once - %d'%len(data.manufacturer_id.value_counts()[data.manufacturer_id.value_counts() == 1]))"
   ]
  },
  {
   "cell_type": "markdown",
   "metadata": {},
   "source": [
    "This shows how around 66% of the manufacturers are seen only once. We may have to find a way to encode this data for unseen values."
   ]
  },
  {
   "cell_type": "code",
   "execution_count": 24,
   "metadata": {
    "scrolled": true
   },
   "outputs": [
    {
     "data": {
      "image/png": "[encoded data removed]",
      "text/plain": [
       "<Figure size 432x288 with 1 Axes>"
      ]
     },
     "metadata": {
      "needs_background": "light"
     },
     "output_type": "display_data"
    }
   ],
   "source": [
    "plt.plot(data.manufacturer_id.value_counts().tolist())\n",
    "plt.title('Frequency of manufacturer_id appearance from high to low')\n",
    "plt.xlabel('Manufacturer')\n",
    "plt.ylabel('Frequency')\n",
    "plt.show()"
   ]
  },
  {
   "cell_type": "markdown",
   "metadata": {},
   "source": [
    "### Frequency encoding on  Manufacturer ID"
   ]
  },
  {
   "cell_type": "markdown",
   "metadata": {},
   "source": [
    "We use frequency encoding to fit our manufacturer data. Frequency encoding might help because our ML algorithms will take into account the frequency as a weight, and take decisions on the basis of that. It will also help us reduce dimensionality , as one-hot does will definitely bloat dimensionality."
   ]
  },
  {
   "cell_type": "code",
   "execution_count": 25,
   "metadata": {},
   "outputs": [],
   "source": [
    "data = data.set_index('manufacturer_id').join(data.manufacturer_id.value_counts()).reset_index().drop('index',inplace = False,axis = 1)"
   ]
  },
  {
   "cell_type": "markdown",
   "metadata": {},
   "source": [
    "Here we can see that manufacturer_id has been transformed to its frequency"
   ]
  },
  {
   "cell_type": "code",
   "execution_count": 26,
   "metadata": {},
   "outputs": [
    {
     "data": {
      "text/html": [
       "<div>\n",
       "<style scoped>\n",
       "    .dataframe tbody tr th:only-of-type {\n",
       "        vertical-align: middle;\n",
       "    }\n",
       "\n",
       "    .dataframe tbody tr th {\n",
       "        vertical-align: top;\n",
       "    }\n",
       "\n",
       "    .dataframe thead th {\n",
       "        text-align: right;\n",
       "    }\n",
       "</style>\n",
       "<table border=\"1\" class=\"dataframe\">\n",
       "  <thead>\n",
       "    <tr style=\"text-align: right;\">\n",
       "      <th></th>\n",
       "      <th>product_id</th>\n",
       "      <th>benchmark_price_1</th>\n",
       "      <th>benchmark_price_2</th>\n",
       "      <th>benchmark_price_3</th>\n",
       "      <th>benchmark_price_4</th>\n",
       "      <th>benchmark_price_5</th>\n",
       "      <th>benchmark_price_6</th>\n",
       "      <th>category</th>\n",
       "      <th>shipping_profile</th>\n",
       "      <th>target_price</th>\n",
       "      <th>manufacturer_id</th>\n",
       "    </tr>\n",
       "  </thead>\n",
       "  <tbody>\n",
       "    <tr>\n",
       "      <td>0</td>\n",
       "      <td>2</td>\n",
       "      <td>699.99</td>\n",
       "      <td>NaN</td>\n",
       "      <td>NaN</td>\n",
       "      <td>NaN</td>\n",
       "      <td>NaN</td>\n",
       "      <td>NaN</td>\n",
       "      <td>Electronics</td>\n",
       "      <td>SP-11.99</td>\n",
       "      <td>655.99</td>\n",
       "      <td>322</td>\n",
       "    </tr>\n",
       "    <tr>\n",
       "      <td>1</td>\n",
       "      <td>204</td>\n",
       "      <td>799.00</td>\n",
       "      <td>591.85</td>\n",
       "      <td>697.22</td>\n",
       "      <td>NaN</td>\n",
       "      <td>NaN</td>\n",
       "      <td>NaN</td>\n",
       "      <td>Electronics</td>\n",
       "      <td>SP-19.99</td>\n",
       "      <td>591.89</td>\n",
       "      <td>322</td>\n",
       "    </tr>\n",
       "    <tr>\n",
       "      <td>2</td>\n",
       "      <td>208</td>\n",
       "      <td>399.99</td>\n",
       "      <td>NaN</td>\n",
       "      <td>319.00</td>\n",
       "      <td>294.99</td>\n",
       "      <td>NaN</td>\n",
       "      <td>NaN</td>\n",
       "      <td>Electronics</td>\n",
       "      <td>SP-14.99</td>\n",
       "      <td>298.99</td>\n",
       "      <td>322</td>\n",
       "    </tr>\n",
       "    <tr>\n",
       "      <td>3</td>\n",
       "      <td>229</td>\n",
       "      <td>687.48</td>\n",
       "      <td>413.35</td>\n",
       "      <td>627.12</td>\n",
       "      <td>NaN</td>\n",
       "      <td>NaN</td>\n",
       "      <td>NaN</td>\n",
       "      <td>Electronics</td>\n",
       "      <td>SP-11.99</td>\n",
       "      <td>429.99</td>\n",
       "      <td>322</td>\n",
       "    </tr>\n",
       "    <tr>\n",
       "      <td>4</td>\n",
       "      <td>285</td>\n",
       "      <td>599.99</td>\n",
       "      <td>480.00</td>\n",
       "      <td>549.99</td>\n",
       "      <td>369.99</td>\n",
       "      <td>NaN</td>\n",
       "      <td>NaN</td>\n",
       "      <td>Electronics</td>\n",
       "      <td>SP-11.99</td>\n",
       "      <td>479.99</td>\n",
       "      <td>322</td>\n",
       "    </tr>\n",
       "  </tbody>\n",
       "</table>\n",
       "</div>"
      ],
      "text/plain": [
       "   product_id  benchmark_price_1  benchmark_price_2  benchmark_price_3  \\\n",
       "0           2             699.99                NaN                NaN   \n",
       "1         204             799.00             591.85             697.22   \n",
       "2         208             399.99                NaN             319.00   \n",
       "3         229             687.48             413.35             627.12   \n",
       "4         285             599.99             480.00             549.99   \n",
       "\n",
       "   benchmark_price_4  benchmark_price_5  benchmark_price_6     category  \\\n",
       "0                NaN                NaN                NaN  Electronics   \n",
       "1                NaN                NaN                NaN  Electronics   \n",
       "2             294.99                NaN                NaN  Electronics   \n",
       "3                NaN                NaN                NaN  Electronics   \n",
       "4             369.99                NaN                NaN  Electronics   \n",
       "\n",
       "  shipping_profile  target_price  manufacturer_id  \n",
       "0         SP-11.99        655.99              322  \n",
       "1         SP-19.99        591.89              322  \n",
       "2         SP-14.99        298.99              322  \n",
       "3         SP-11.99        429.99              322  \n",
       "4         SP-11.99        479.99              322  "
      ]
     },
     "execution_count": 26,
     "metadata": {},
     "output_type": "execute_result"
    }
   ],
   "source": [
    "data.head()"
   ]
  },
  {
   "cell_type": "markdown",
   "metadata": {},
   "source": [
    "### What does Benchmark 1 look like? "
   ]
  },
  {
   "cell_type": "markdown",
   "metadata": {},
   "source": [
    "We focus on benchmark one solely because benchmark one has around 40000/50000 values filled.  Thus, the goal is to impute benchmark 1 with a simple imputating strategy and impute other values from the relationships obtained from correlation analysis."
   ]
  },
  {
   "cell_type": "code",
   "execution_count": 27,
   "metadata": {
    "scrolled": true
   },
   "outputs": [
    {
     "data": {
      "image/png": "[encoded data removed]",
      "text/plain": [
       "<Figure size 1440x720 with 6 Axes>"
      ]
     },
     "metadata": {
      "needs_background": "light"
     },
     "output_type": "display_data"
    }
   ],
   "source": [
    "cats = data.category.unique()\n",
    "\n",
    "fig = plt.figure(figsize =(20,10))\n",
    "\n",
    "for i in range(len(cats)):\n",
    "    ax = fig.add_subplot(3,3,i+1)\n",
    "    ax.hist(data[data['category'] == cats[i]]['benchmark_price_1'],bins = 100)\n",
    "    ax.set_xlabel(cats[i])\n",
    "\n",
    "fig.suptitle('Distribution of Benchmark price 1 according to categories',size = 20)\n",
    "fig.show()"
   ]
  },
  {
   "cell_type": "markdown",
   "metadata": {},
   "source": [
    "### Drop the product column"
   ]
  },
  {
   "cell_type": "code",
   "execution_count": 28,
   "metadata": {},
   "outputs": [],
   "source": [
    "data.drop(labels = 'product_id', axis = 1, inplace = True)"
   ]
  },
  {
   "cell_type": "markdown",
   "metadata": {},
   "source": [
    "### Convert to One-Hot Encoding prior to fitting data"
   ]
  },
  {
   "cell_type": "code",
   "execution_count": 29,
   "metadata": {},
   "outputs": [],
   "source": [
    "entire_data = pd.get_dummies(columns=['shipping_profile','category'],data=data)\n",
    "\n",
    "entire_y = entire_data['target_price']\n",
    "entire_x = entire_data.drop('target_price',axis = 1)"
   ]
  },
  {
   "cell_type": "markdown",
   "metadata": {},
   "source": [
    "We cannot convert manufacturer_id via One Hot. This would bloat dimensionality unnecessarily. "
   ]
  },
  {
   "cell_type": "markdown",
   "metadata": {},
   "source": [
    "### Missing Data imputation"
   ]
  },
  {
   "cell_type": "markdown",
   "metadata": {},
   "source": [
    "Before imputing missing data, we split our data into train, val, test to simulate a production environment."
   ]
  },
  {
   "cell_type": "code",
   "execution_count": 30,
   "metadata": {},
   "outputs": [],
   "source": [
    "from sklearn.model_selection import train_test_split\n",
    "\n",
    "train_x,test_x,train_y,test_y = train_test_split(entire_x,entire_y,random_state = 20 ,test_size = 0.2)"
   ]
  },
  {
   "cell_type": "markdown",
   "metadata": {},
   "source": [
    "From our correlation analysis ,we can easily figure out that there are relationships between benchmark5 and benchmark6 and benchmark6 and benchmark2. Thus, we impute these 3 variables using a Linear Regressor estimator, and further impute the others using a non-linear KNN estimator approach."
   ]
  },
  {
   "cell_type": "code",
   "execution_count": 31,
   "metadata": {
    "scrolled": true
   },
   "outputs": [],
   "source": [
    "from sklearn.experimental import enable_iterative_imputer\n",
    "from sklearn.impute import IterativeImputer\n",
    "from sklearn.linear_model import LinearRegression\n",
    "from sklearn.impute import KNNImputer"
   ]
  },
  {
   "cell_type": "code",
   "execution_count": 32,
   "metadata": {},
   "outputs": [],
   "source": [
    "lr = LinearRegression()\n",
    "\n",
    "it_imp = IterativeImputer(estimator=lr)\n",
    "it_imp.fit(train_x[['benchmark_price_2','benchmark_price_5','benchmark_price_6']])\n",
    "train_x[['benchmark_price_2','benchmark_price_5','benchmark_price_6']] = it_imp.transform(train_x[['benchmark_price_2','benchmark_price_5','benchmark_price_6']])\n",
    "\n",
    "knn_imp = KNNImputer()\n",
    "train_imputed = knn_imp.fit_transform(train_x)"
   ]
  },
  {
   "cell_type": "code",
   "execution_count": 33,
   "metadata": {},
   "outputs": [],
   "source": [
    "test_x[['benchmark_price_2','benchmark_price_5','benchmark_price_6']] = it_imp.transform(test_x[['benchmark_price_2','benchmark_price_5','benchmark_price_6']])\n",
    "test_x = knn_imp.transform(test_x)"
   ]
  },
  {
   "cell_type": "markdown",
   "metadata": {},
   "source": [
    "### Initial modeling and evaluation"
   ]
  },
  {
   "cell_type": "code",
   "execution_count": 34,
   "metadata": {},
   "outputs": [],
   "source": [
    "from sklearn.metrics import mean_absolute_error\n",
    "\n",
    "def evaluateModel(model,test_x,test_y):\n",
    "    print('*'*50)\n",
    "    print('R squared %f'%model.score(test_x,test_y))\n",
    "    print('MAE score is %f'%(mean_absolute_error(model.predict(test_x),test_y)))\n",
    "    print('*'*50)"
   ]
  },
  {
   "cell_type": "code",
   "execution_count": 35,
   "metadata": {},
   "outputs": [
    {
     "name": "stdout",
     "output_type": "stream",
     "text": [
      "Evaluation for Linear Regressor with only benchmark features\n",
      "**************************************************\n",
      "R squared 0.759865\n",
      "MAE score is 31.381910\n",
      "**************************************************\n"
     ]
    }
   ],
   "source": [
    "### Initially let's try te simplest model - Linear Regressor, just on the benchmarks. \n",
    "# This model takes only the benchmark prices as training data (First 6)\n",
    "\n",
    "lrmodel = LinearRegression()\n",
    "lrmodel.fit(train_imputed[:,:6],train_y)\n",
    "print('Evaluation for Linear Regressor with only benchmark features')\n",
    "evaluateModel(lrmodel,test_x[:,:6],test_y)"
   ]
  },
  {
   "cell_type": "code",
   "execution_count": 36,
   "metadata": {},
   "outputs": [
    {
     "name": "stdout",
     "output_type": "stream",
     "text": [
      "Evaluation for Linear Regressor taking into account all features\n",
      "**************************************************\n",
      "R squared 0.775457\n",
      "MAE score is 33.421343\n",
      "**************************************************\n"
     ]
    }
   ],
   "source": [
    "### Linear model with all features used.\n",
    "\n",
    "lrmodel_all = LinearRegression()\n",
    "lrmodel_all.fit(train_imputed,train_y)\n",
    "print('Evaluation for Linear Regressor taking into account all features')\n",
    "evaluateModel(lrmodel_all,test_x,test_y)"
   ]
  },
  {
   "cell_type": "code",
   "execution_count": 37,
   "metadata": {},
   "outputs": [
    {
     "data": {
      "image/png": "[encoded data removed]",
      "text/plain": [
       "<Figure size 1440x720 with 6 Axes>"
      ]
     },
     "metadata": {
      "needs_background": "light"
     },
     "output_type": "display_data"
    }
   ],
   "source": [
    "### Linear model with each individual benchmark.\n",
    "\n",
    "# 6 is known to be the number of benchmark columns\n",
    "fig = plt.figure(figsize =(20,10))\n",
    "\n",
    "def linear_interpret(model,vals):\n",
    "    # Y = ax + b\n",
    "    return vals * model.coef_ + model.intercept_\n",
    "    \n",
    "for i in range(6):\n",
    "    ax = fig.add_subplot(3,2,i+1)\n",
    "    lrmodel_all = LinearRegression()\n",
    "    lrmodel_all.fit(train_imputed[:,i:i+1],train_y)\n",
    "    ax.scatter(test_x[:,i:i+1],test_y)\n",
    "    vals = np.arange(np.min(test_x[:,i:i+1]),np.max(test_x[:,i:i+1]))\n",
    "    ax.plot(linear_interpret(lrmodel_all,vals),linestyle = 'dashed',color = 'red')\n",
    "    ax.set_xlabel('Benchmark %d'%(i+1))\n",
    "    ax.set_ylabel('Target Price')\n",
    "    #evaluateModel(lrmodel_all,test_x[:,i:i+1],test_y)\n",
    "\n",
    "fig.suptitle('Fitting a linear regression to each benchmark price',size = 20)\n",
    "fig.show()"
   ]
  },
  {
   "cell_type": "markdown",
   "metadata": {},
   "source": [
    "Thus we see a slight improvement in r_squared score when we use the entire dataset, not only the benchmarks. But R2 does not give us an idea of what the average error looks like. We can see that the MAE increases when we take into account all features. We can infer that there is some feature reduction strategy we can apply if needed.\n",
    "\n",
    "Further, when we plot each benchmark price to the target, we realize that apart from Benchmark 1, there are obvious vertical patterns of repetition that are difficult to fit linearly."
   ]
  },
  {
   "cell_type": "markdown",
   "metadata": {},
   "source": [
    "Also, an MAE of 33 dollars is not very impressive, mostly because most of our target prices are below 100. Ideally we'd like a solution in which the MAE is ~2-5$.\n",
    "This sparks a need to use a model that does not over simplify. \n",
    "\n",
    "Below we attempt to fit regressors with models capable of capturing more variance. The goal is to use regressors from different sklearn classes , eg. one tree based method, one linear method, one optimization based method to get a good sense of what works well."
   ]
  },
  {
   "cell_type": "raw",
   "metadata": {
    "scrolled": true
   },
   "source": [
    "# Time complexity way too high\n",
    "\n",
    "from sklearn.svm import SVR\n",
    "from sklearn.pipeline import make_pipeline\n",
    "from sklearn.preprocessing import StandardScaler\n",
    "\n",
    "for k in ('poly','rbf'):\n",
    "    for c in (100.,10.,1.):\n",
    "        # Initial hyperparameter tuning moves from smaller margins to bigger ones\n",
    "        regr = make_pipeline(StandardScaler(), SVR(C=c,kernel = k,epsilon=0.2))\n",
    "        regr.fit(train_imputed,train_y)\n",
    "        print('\\nEvaluations for kernel %s and C value %d'%(k,c))\n",
    "        evaluateModel(lrmodel_all,test_x,test_y)"
   ]
  },
  {
   "cell_type": "code",
   "execution_count": 38,
   "metadata": {},
   "outputs": [
    {
     "name": "stdout",
     "output_type": "stream",
     "text": [
      "\n",
      "Evaluating Random Forest Regressor\n",
      "**************************************************\n",
      "R squared 0.860631\n",
      "MAE score is 18.369603\n",
      "**************************************************\n"
     ]
    }
   ],
   "source": [
    "from sklearn.ensemble import RandomForestRegressor\n",
    "\n",
    "print('\\nEvaluating Random Forest Regressor')\n",
    "rf = RandomForestRegressor(n_estimators = 200)\n",
    "rf.fit(train_imputed,train_y)\n",
    "evaluateModel(rf,test_x,test_y)"
   ]
  },
  {
   "cell_type": "code",
   "execution_count": 39,
   "metadata": {},
   "outputs": [
    {
     "data": {
      "text/plain": [
       "Text(0.5, 1.0, 'Importance of features (Ratio)')"
      ]
     },
     "execution_count": 39,
     "metadata": {},
     "output_type": "execute_result"
    },
    {
     "data": {
      "image/png": "[encoded data removed]",
      "text/plain": [
       "<Figure size 864x576 with 1 Axes>"
      ]
     },
     "metadata": {
      "needs_background": "light"
     },
     "output_type": "display_data"
    }
   ],
   "source": [
    "plt.figure(figsize = (12,8))\n",
    "plt.bar(x = range(len(rf.feature_importances_)),height = rf.feature_importances_)\n",
    "plt.xlabel('Features')\n",
    "plt.xticks(ticks = range(train_x.shape[1]),labels = train_x.columns,rotation = 'vertical')\n",
    "plt.title('Importance of features (Ratio)')"
   ]
  },
  {
   "cell_type": "markdown",
   "metadata": {},
   "source": [
    "This shows how important the first benchmark is in predicting the target value. One reason behind this can be because the benchmark_price_1 had the most complete values, and our imputing strategy may not be the most optimal"
   ]
  },
  {
   "cell_type": "markdown",
   "metadata": {},
   "source": [
    "Lastly, lets evaluate a model that is prone to overfit, and see if we can regularize from there. Also, a quantile loss function will allow us to generate a prediction interval, which will help measure uncertainty."
   ]
  },
  {
   "cell_type": "code",
   "execution_count": 40,
   "metadata": {},
   "outputs": [],
   "source": [
    "from sklearn.ensemble import GradientBoostingRegressor\n",
    "\n",
    "alp = 0.75\n",
    "gbm = GradientBoostingRegressor(n_estimators = 200,loss = 'quantile',alpha = alp)\n",
    "gbm.fit(train_imputed,train_y)\n",
    "y_upper = gbm.predict(test_x)\n",
    "\n",
    "gbm.set_params(alpha = 1 - 0.75)\n",
    "\n",
    "gbm.fit(train_imputed,train_y)\n",
    "y_lower = gbm.predict(test_x)\n",
    "\n",
    "gbm.set_params(loss = 'ls')\n",
    "gbm.fit(train_imputed,train_y)\n",
    "y_pred = gbm.predict(test_x)"
   ]
  },
  {
   "cell_type": "code",
   "execution_count": 41,
   "metadata": {},
   "outputs": [
    {
     "name": "stdout",
     "output_type": "stream",
     "text": [
      "**************************************************\n",
      "R squared 0.852585\n",
      "MAE score is 21.767605\n",
      "**************************************************\n"
     ]
    }
   ],
   "source": [
    "evaluateModel(gbm,test_x,test_y)"
   ]
  },
  {
   "cell_type": "markdown",
   "metadata": {},
   "source": [
    "#### Final Model Choice - RandomForestRegressor\n",
    "We thus observe from the MAE scores that the best performing model given the current data transformations and understanding does turn out to be RandomForestRegressor. Future implementation would definitely include breaking the data distribution such that different models are trained on different subsets of the data.  An ensemble of different methods can also help enhance predictions , but in interest of time, only one model is sufficient to work with"
   ]
  },
  {
   "cell_type": "markdown",
   "metadata": {},
   "source": [
    "In order to battle Overfitting, we refit our RandomForest method on a smaller subset, using hyperparameter tuning methods like Randomized search and K-fold cross validation "
   ]
  },
  {
   "cell_type": "raw",
   "metadata": {},
   "source": [
    "# Works well with more compute availability.\n",
    "\n",
    "from time import time\n",
    "\n",
    "start = time()\n",
    "\n",
    "from sklearn.model_selection import RandomizedSearchCV\n",
    "\n",
    "param_grid = {'n_estimators': [50, 100,200,250],\n",
    "              'criterion':['mae','mse'],\n",
    "              'max_depth':[2,4,6,8,16],\n",
    "              'min_samples_split':[2,4,10,50,100]\n",
    "}\n",
    "\n",
    "rf = RandomForestRegressor()\n",
    "search = RandomizedSearchCV(rf,param_grid,n_iter = 5,scoring = 'neg_mean_absolute_error')\n",
    "search.fit(train_imputed,train_y)\n",
    "\n",
    "end = time()\n",
    "\n",
    "print('Time taken by random search %f minutes'%(end-start)/60)"
   ]
  },
  {
   "cell_type": "code",
   "execution_count": 63,
   "metadata": {},
   "outputs": [],
   "source": [
    "import pickle\n",
    "\n",
    "mpath = os.path.join(os.path.curdir,'model_dumps')\n",
    "if not os.path.exists(mpath):\n",
    "    os.mkdir(mpath)\n",
    "\n",
    "pickle.dump(it_imp,open(os.path.join(mpath,'iterative_imp.pkl'),'wb'))\n",
    "pickle.dump(knn_imp,open(os.path.join(mpath,'knn_imp.pkl'),'wb'))\n",
    "pickle.dump(rf,open(os.path.join(mpath,'forest_model.pkl'),'wb'))"
   ]
  },
  {
   "cell_type": "markdown",
   "metadata": {},
   "source": [
    "### Model Deployment and productionizing"
   ]
  },
  {
   "cell_type": "code",
   "execution_count": 87,
   "metadata": {},
   "outputs": [],
   "source": [
    "'''\n",
    "This class serves to be an API for our price model. \n",
    "The only exposed method is the predict method, the rest is abstracted from the user. This file, along with the below requirements.txt would help other data analysts replicate this environment\n",
    "For more sophisticated dependency management, an example of how we could use docker containers and poetry can be seen below.\n",
    "\n",
    "This class can be packaged in a Docker along with the model (if not too huge), and be run as a containerized application , using the Docker file below.\n",
    "'''\n",
    "import pickle \n",
    "import os\n",
    "from sklearn.metrics import mean_absolute_error\n",
    "\n",
    "class priceModel:\n",
    "    def __init__(self,path,test,test_y):\n",
    "        assert isinstance(test,pd.DataFrame)\n",
    "        self.path = path\n",
    "        # Initialize imputers\n",
    "        self.it_imp = None\n",
    "        self.knn_imputer= None\n",
    "        \n",
    "        # Initialize data\n",
    "        self.test = test\n",
    "        self.test_y = test_y\n",
    "        \n",
    "        # Initialize model\n",
    "        self.rfmodel = None\n",
    "        \n",
    "        self._loadPriceModel()\n",
    "        self._transform()\n",
    " \n",
    "    \n",
    "    def _loadPriceModel(self):\n",
    "        '''\n",
    "        This method loads the latest pricing model from the model storage directory. This may include intermediate imputers as well.\n",
    "        '''\n",
    "        assert os.path.exists(os.path.join(self.path,'iterative_imp.pkl'))\n",
    "        assert os.path.exists(os.path.join(self.path,'knn_imp.pkl'))\n",
    "        assert os.path.exists(os.path.join(self.path,'forest_model.pkl'))\n",
    "        \n",
    "        self.it_imp = pickle.load(open(os.path.join(self.path,'iterative_imp.pkl'),'rb'))\n",
    "        self.knn_imputer = pickle.load(open(os.path.join(self.path,'knn_imp.pkl'),'rb'))\n",
    "        self.rfmodel = pickle.load(open(os.path.join(self.path,'forest_model.pkl'),'rb'))\n",
    "        \n",
    "        assert rf.n_features_ == self.test.shape[1]\n",
    "\n",
    "        \n",
    "    def _transform(self):\n",
    "        '''\n",
    "        This methods abstracts all the imputation and transformation activities needed.\n",
    "        '''\n",
    "        \n",
    "        self.test[['benchmark_price_2','benchmark_price_5','benchmark_price_6']] = self.it_imp.transform(self.test[['benchmark_price_2','benchmark_price_5','benchmark_price_6']])\n",
    "        self.test = self.knn_imputer.transform(self.test)\n",
    "        \n",
    "        # Test that the shape remains the same after transformation. \n",
    "        assert self.rfmodel.n_features_ == self.test.shape[1]\n",
    "        \n",
    "    \n",
    "    def predict(self):\n",
    "        '''\n",
    "        An inference function that takes in the data and returns an evaluation. \n",
    "        '''\n",
    "        return self.rfmodel.predict(self.test)\n",
    "    \n",
    "    def eval_and_predict(self,criterion):\n",
    "        '''\n",
    "        Given a criterion, evaluate and also return predictions. It is up to the users to capture the predictions or not.\n",
    "        '''\n",
    "        assert criterion in ['mae','r2']\n",
    "        \n",
    "        preds = self.rfmodel.predict(self.test)\n",
    "        \n",
    "        if criterion == 'mae':\n",
    "            print('MAE score is %f'%mean_absolute_error(preds,self.test_y))    \n",
    "        else:\n",
    "            print('R squared %f'%self.rfmodel.score(self.test,self.test_y))\n",
    "            \n",
    "        return preds"
   ]
  },
  {
   "cell_type": "markdown",
   "metadata": {},
   "source": [
    "How to use this API"
   ]
  },
  {
   "cell_type": "code",
   "execution_count": 90,
   "metadata": {},
   "outputs": [
    {
     "name": "stdout",
     "output_type": "stream",
     "text": [
      "MAE score is 4.508471\n"
     ]
    }
   ],
   "source": [
    "# Developer inputs path of model\n",
    "model_path = mpath\n",
    "# Data Source\n",
    "train_x,test_x,train_y,test_y = train_test_split(entire_x,entire_y,random_state = 20 ,test_size = 0.2)\n",
    "\n",
    "pm = priceModel(model_path,test_x.head(10),test_y.head(10))\n",
    "preds = pm.eval_and_predict(criterion = 'mae')"
   ]
  },
  {
   "cell_type": "markdown",
   "metadata": {},
   "source": [
    "## Dependency and project management workflow demonstration meant to be demonstrate a flow of activities."
   ]
  },
  {
   "cell_type": "markdown",
   "metadata": {},
   "source": [
    "### STEP 1 Data Scientist creates directory structure of the project, using poetry. \n",
    "\n",
    "poetry new price-model\n",
    "\n",
    "poetry add sklearn scipy numpy\n",
    "\n",
    "### STEP 2 This would create a directory structure that looks like this\n",
    "\n",
    "git add .\n",
    "\n",
    "git commit -m \"Adding price project\"\n",
    "\n",
    "git push origin master\n",
    "\n",
    "### STEP 3 Application developer\n",
    "\n",
    "git pull\n",
    "\n",
    "poetry install \n",
    "(Updates his environment to changes made)\n",
    "\n",
    "poetry run price_model.py\n",
    "\n",
    "(Developer makes a change to the project called changed_file.py)\n",
    "\n",
    "git add changed_file.py\n",
    "\n",
    "poetry add yaml (Adding other dependencies that the application developer needs)\n",
    "\n",
    "git push"
   ]
  },
  {
   "cell_type": "markdown",
   "metadata": {},
   "source": [
    "### A simpler version would just use the requirements.txt file along with git for version control."
   ]
  },
  {
   "cell_type": "markdown",
   "metadata": {},
   "source": [
    "## DOCKERFILE for kubernetes deployment\n",
    "\n",
    "<br>\n",
    "\n",
    "FROM python3\n",
    "\n",
    "MAINTAINER Akash Shah (akashshah59@gmail.com)\n",
    "\n",
    "MKDIR /model\n",
    "\n",
    "COPY model.pkl /model #copy from local to container\n",
    "\n",
    "RUN sudo apt-get install && \\\n",
    "    pip install requirements.txt\n",
    "\n",
    "ENTRYPOINT ['python3','price-model.py','test-data-path']"
   ]
  },
  {
   "cell_type": "markdown",
   "metadata": {},
   "source": [
    "# Commands to build and run this docker\n",
    "\n",
    "docker build -f /path/to/a/Dockerfile .\n",
    "\n",
    "(Test docker locally using <b>docker run</b>) <br>\n",
    "(Finally create a pod with docker specifications inside the .yaml)\n",
    "\n",
    "kubectl create pod price-model.yaml"
   ]
  },
  {
   "cell_type": "code",
   "execution_count": null,
   "metadata": {},
   "outputs": [],
   "source": []
  }
 ],
 "metadata": {
  "kernelspec": {
   "display_name": "Python 3",
   "language": "python",
   "name": "python3"
  },
  "language_info": {
   "codemirror_mode": {
    "name": "ipython",
    "version": 3
   },
   "file_extension": ".py",
   "mimetype": "text/x-python",
   "name": "python",
   "nbconvert_exporter": "python",
   "pygments_lexer": "ipython3",
   "version": "3.7.4"
  }
 },
 "nbformat": 4,
 "nbformat_minor": 2
}
